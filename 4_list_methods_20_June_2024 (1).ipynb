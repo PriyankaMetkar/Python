{
 "cells": [
  {
   "cell_type": "markdown",
   "id": "59cb4721",
   "metadata": {
    "jp-MarkdownHeadingCollapsed": true
   },
   "source": [
    "# Data Types in python"
   ]
  },
  {
   "cell_type": "code",
   "execution_count": 1,
   "id": "18342519",
   "metadata": {},
   "outputs": [],
   "source": [
    "#1 int  those numbers without decimal\n",
    "x=100\n",
    "y=-200\n",
    "z=0\n",
    "a=-20\n",
    "b=30"
   ]
  },
  {
   "cell_type": "code",
   "execution_count": 2,
   "id": "c8e01ce2",
   "metadata": {},
   "outputs": [],
   "source": [
    "# 2 float  those numbers with decimal\n",
    "p=3.142\n",
    "g=9.8\n",
    "q=-9.768\n",
    "t=0.0"
   ]
  },
  {
   "cell_type": "code",
   "execution_count": 3,
   "id": "1b18fc76",
   "metadata": {},
   "outputs": [],
   "source": [
    "# 3 str\n",
    "a='python'\n",
    "\n",
    "b=\"Anil Kokare\"\n",
    "\n",
    "c='''Aakaash Ballewar'''\n",
    "\n",
    "d=\"\"\"Jayesh Daswadkar\"\"\""
   ]
  },
  {
   "cell_type": "code",
   "execution_count": 4,
   "id": "c11e1612",
   "metadata": {},
   "outputs": [],
   "source": [
    "# 4 bool\n",
    "a=True\n",
    "b=False"
   ]
  },
  {
   "cell_type": "code",
   "execution_count": 5,
   "id": "5f78a1b2",
   "metadata": {},
   "outputs": [],
   "source": [
    "#5 complex\n",
    "z=2+4j"
   ]
  },
  {
   "cell_type": "code",
   "execution_count": 6,
   "id": "66d40c4c",
   "metadata": {},
   "outputs": [],
   "source": [
    "# 6 list"
   ]
  },
  {
   "cell_type": "code",
   "execution_count": 7,
   "id": "a757b962",
   "metadata": {},
   "outputs": [],
   "source": [
    "#comment"
   ]
  },
  {
   "cell_type": "code",
   "execution_count": 8,
   "id": "46b52a32",
   "metadata": {},
   "outputs": [],
   "source": [
    "# ()------>Parenthesis\n",
    "# []------>Bracket\n",
    "# {}------>Braces"
   ]
  },
  {
   "cell_type": "code",
   "execution_count": 9,
   "id": "090f66f6",
   "metadata": {},
   "outputs": [],
   "source": [
    "my_list=[101,202,303,404,505]"
   ]
  },
  {
   "cell_type": "code",
   "execution_count": 10,
   "id": "b9fbf245",
   "metadata": {},
   "outputs": [],
   "source": [
    "l=[101,102,103,104,105,106] # homogenius data of int"
   ]
  },
  {
   "cell_type": "code",
   "execution_count": 11,
   "id": "46d27ceb",
   "metadata": {},
   "outputs": [],
   "source": [
    "list_names=[\"Rohith\",\"Amir\",\"Sohail\",\"Anil\",\"Ulhas\",\"Manoj\",\"Saurabh\"]\n",
    "# homogenius data of str"
   ]
  },
  {
   "cell_type": "code",
   "execution_count": 12,
   "id": "8b39f087",
   "metadata": {},
   "outputs": [],
   "source": [
    "l_float=[3.142, 9.8, 6.58, 9.9, -1.9, -0.5, 0.8, 0.0]\n",
    "# homogenius data of float"
   ]
  },
  {
   "cell_type": "code",
   "execution_count": 13,
   "id": "e3032f9a",
   "metadata": {},
   "outputs": [],
   "source": [
    "l_het=[100,\"Python\",56894.50]\n",
    "#heterogenius data"
   ]
  },
  {
   "cell_type": "code",
   "execution_count": 14,
   "id": "65e1d360",
   "metadata": {},
   "outputs": [],
   "source": [
    "l_dup=[100,100,100,\"Saurav\",\"Sachin\",\"Sachin\",\"Jadeja\",\"Akash\"]\n",
    "# duplicate elements/objects are allowed in list"
   ]
  },
  {
   "cell_type": "code",
   "execution_count": 15,
   "id": "f8f8e65c",
   "metadata": {},
   "outputs": [
    {
     "name": "stdout",
     "output_type": "stream",
     "text": [
      "[100, 100, 100, 'Saurav', 'Sachin', 'Sachin', 'Jadeja', 'Akash']\n"
     ]
    }
   ],
   "source": [
    "print(l_dup)"
   ]
  },
  {
   "cell_type": "code",
   "execution_count": 16,
   "id": "2c177d62",
   "metadata": {},
   "outputs": [
    {
     "name": "stdout",
     "output_type": "stream",
     "text": [
      "['Rohith', 'Amir', 'Sohail', 'Anil', 'Ulhas', 'Manoj', 'Saurabh']\n"
     ]
    }
   ],
   "source": [
    "print(list_names)"
   ]
  },
  {
   "cell_type": "markdown",
   "id": "c939e871",
   "metadata": {},
   "source": [
    "# List Data Structure"
   ]
  },
  {
   "cell_type": "markdown",
   "id": "f495053b",
   "metadata": {},
   "source": [
    "If we want to represent a group of individual objects as a single entity where insertion \n",
    "order preserved and duplicates are allowed, then we should go for List.\n",
    "\n",
    "insertion order preserved.\n",
    "**Lists are used to store multiple items in a single variable.**\n",
    "\n",
    "**duplicate objects are allowed**\n",
    "\n",
    "**heterogeneous objects are allowed.**\n",
    "\n",
    "List is dynamic because based on our requirement we can increase the size and decrease the size.\n",
    "\n",
    "**In List the elements will be placed within square brackets and with comma seperator.**\n",
    "\n",
    "We can differentiate duplicate elements by using index and we can preserve insertion \n",
    "order by using index. Hence index will play very important role.\n",
    "\n",
    "Python supports both positive and negative indexes. +ve index means from left to right \n",
    "where as negative index means right to left\n",
    "\n"
   ]
  },
  {
   "cell_type": "code",
   "execution_count": 17,
   "id": "6d755ebd",
   "metadata": {},
   "outputs": [],
   "source": [
    "ml=[100,\"A\",\"B\",20.234, 30+40j,True,True,\"A\"] "
   ]
  },
  {
   "cell_type": "raw",
   "id": "e2516e5a",
   "metadata": {},
   "source": [
    "List objects are mutable.i.e we can change the content."
   ]
  },
  {
   "cell_type": "raw",
   "id": "759ab5d4",
   "metadata": {},
   "source": [
    "mutable----->changeble\n",
    "immutable---->we can't change"
   ]
  },
  {
   "cell_type": "markdown",
   "id": "fdb8c297",
   "metadata": {},
   "source": [
    "# Accessing elements of List:"
   ]
  },
  {
   "cell_type": "raw",
   "id": "2375e8e4",
   "metadata": {},
   "source": [
    "We can access elements of the list either by using index or by using slice operator(:)"
   ]
  },
  {
   "cell_type": "raw",
   "id": "b6860dda",
   "metadata": {},
   "source": [
    "1. By using index:\n",
    "List follows zero based index. ie index of first element is zero.\n",
    "List supports both +ve and -ve indexes. +ve index meant for Left to Right -ve index meant for Right to Left"
   ]
  },
  {
   "cell_type": "code",
   "execution_count": 1,
   "id": "a6044392",
   "metadata": {},
   "outputs": [],
   "source": [
    "l=[101,202,303,404,505,606]"
   ]
  },
  {
   "cell_type": "code",
   "execution_count": 2,
   "id": "3ba0cc8d",
   "metadata": {},
   "outputs": [
    {
     "data": {
      "text/plain": [
       "101"
      ]
     },
     "execution_count": 2,
     "metadata": {},
     "output_type": "execute_result"
    }
   ],
   "source": [
    "l[0]"
   ]
  },
  {
   "cell_type": "code",
   "execution_count": 6,
   "id": "c69779dc",
   "metadata": {},
   "outputs": [
    {
     "data": {
      "text/plain": [
       "202"
      ]
     },
     "execution_count": 6,
     "metadata": {},
     "output_type": "execute_result"
    }
   ],
   "source": [
    "l[1]"
   ]
  },
  {
   "cell_type": "code",
   "execution_count": 20,
   "id": "ce2e385c",
   "metadata": {},
   "outputs": [
    {
     "data": {
      "text/plain": [
       "404"
      ]
     },
     "execution_count": 20,
     "metadata": {},
     "output_type": "execute_result"
    }
   ],
   "source": [
    "l[-3]"
   ]
  },
  {
   "cell_type": "code",
   "execution_count": 21,
   "id": "96ebce37",
   "metadata": {},
   "outputs": [
    {
     "name": "stdout",
     "output_type": "stream",
     "text": [
      "606\n"
     ]
    }
   ],
   "source": [
    "print(l[5])"
   ]
  },
  {
   "cell_type": "code",
   "execution_count": 22,
   "id": "c593f578",
   "metadata": {},
   "outputs": [
    {
     "data": {
      "text/plain": [
       "[101, 202, 303, 404, 505, 606]"
      ]
     },
     "execution_count": 22,
     "metadata": {},
     "output_type": "execute_result"
    }
   ],
   "source": [
    "l"
   ]
  },
  {
   "cell_type": "code",
   "execution_count": 23,
   "id": "d33a1304",
   "metadata": {},
   "outputs": [
    {
     "name": "stdout",
     "output_type": "stream",
     "text": [
      "606\n"
     ]
    }
   ],
   "source": [
    "print(l[-1]) "
   ]
  },
  {
   "cell_type": "code",
   "execution_count": 24,
   "id": "ff48943d",
   "metadata": {},
   "outputs": [
    {
     "ename": "IndexError",
     "evalue": "list index out of range",
     "output_type": "error",
     "traceback": [
      "\u001b[1;31m---------------------------------------------------------------------------\u001b[0m",
      "\u001b[1;31mIndexError\u001b[0m                                Traceback (most recent call last)",
      "Cell \u001b[1;32mIn[24], line 1\u001b[0m\n\u001b[1;32m----> 1\u001b[0m \u001b[38;5;28mprint\u001b[39m(l[\u001b[38;5;241m10\u001b[39m])\n",
      "\u001b[1;31mIndexError\u001b[0m: list index out of range"
     ]
    }
   ],
   "source": [
    "print(l[10])"
   ]
  },
  {
   "cell_type": "raw",
   "id": "2d545660",
   "metadata": {},
   "source": [
    "2. By using slice operator:"
   ]
  },
  {
   "cell_type": "raw",
   "id": "85f0dd80",
   "metadata": {},
   "source": [
    "Syntax:\n",
    "list2= list1[start:stop:step]\n",
    "start ==>it indicates the index where slice has to start default value is 0\n",
    "stop ===>It indicates the index where slice has to end default value is max allowed index of list ie length of the list\n",
    "step ==>increment value default value is 1"
   ]
  },
  {
   "cell_type": "code",
   "execution_count": 1,
   "id": "74fa49db",
   "metadata": {},
   "outputs": [],
   "source": [
    "n=[10,11,22,33,44,55,66,77,88,99,100] "
   ]
  },
  {
   "cell_type": "code",
   "execution_count": 26,
   "id": "0ca0301e",
   "metadata": {},
   "outputs": [
    {
     "data": {
      "text/plain": [
       "[11, 22, 33, 44, 55, 66, 77]"
      ]
     },
     "execution_count": 26,
     "metadata": {},
     "output_type": "execute_result"
    }
   ],
   "source": [
    "n[1:8:1]"
   ]
  },
  {
   "cell_type": "code",
   "execution_count": 27,
   "id": "a25895ce",
   "metadata": {},
   "outputs": [
    {
     "data": {
      "text/plain": [
       "[11, 33, 55, 77]"
      ]
     },
     "execution_count": 27,
     "metadata": {},
     "output_type": "execute_result"
    }
   ],
   "source": [
    "n[1:8:2]"
   ]
  },
  {
   "cell_type": "code",
   "execution_count": 28,
   "id": "14950e08",
   "metadata": {},
   "outputs": [
    {
     "data": {
      "text/plain": [
       "[11, 44, 77]"
      ]
     },
     "execution_count": 28,
     "metadata": {},
     "output_type": "execute_result"
    }
   ],
   "source": [
    "n[1:8:3]"
   ]
  },
  {
   "cell_type": "code",
   "execution_count": 29,
   "id": "f7e937ff",
   "metadata": {},
   "outputs": [
    {
     "data": {
      "text/plain": [
       "[10, 11, 22, 33, 44, 55, 66, 77, 88, 99, 100]"
      ]
     },
     "execution_count": 29,
     "metadata": {},
     "output_type": "execute_result"
    }
   ],
   "source": [
    "n"
   ]
  },
  {
   "cell_type": "code",
   "execution_count": 30,
   "id": "a2be95a6",
   "metadata": {},
   "outputs": [
    {
     "name": "stdout",
     "output_type": "stream",
     "text": [
      "[22, 44, 66]\n"
     ]
    }
   ],
   "source": [
    "print(n[2:7:2]) "
   ]
  },
  {
   "cell_type": "code",
   "execution_count": 31,
   "id": "3eb7d6da",
   "metadata": {},
   "outputs": [
    {
     "data": {
      "text/plain": [
       "[10, 11, 22, 33, 44, 55, 66, 77, 88, 99, 100]"
      ]
     },
     "execution_count": 31,
     "metadata": {},
     "output_type": "execute_result"
    }
   ],
   "source": [
    "n"
   ]
  },
  {
   "cell_type": "code",
   "execution_count": 32,
   "id": "f2efb4a8",
   "metadata": {},
   "outputs": [
    {
     "data": {
      "text/plain": [
       "11"
      ]
     },
     "execution_count": 32,
     "metadata": {},
     "output_type": "execute_result"
    }
   ],
   "source": [
    "len(n)"
   ]
  },
  {
   "cell_type": "code",
   "execution_count": null,
   "id": "3c957ff7",
   "metadata": {},
   "outputs": [],
   "source": [
    "# [start:stop:step]"
   ]
  },
  {
   "cell_type": "code",
   "execution_count": 33,
   "id": "852258bb",
   "metadata": {},
   "outputs": [
    {
     "name": "stdout",
     "output_type": "stream",
     "text": [
      "[44, 66, 88, 100]\n"
     ]
    }
   ],
   "source": [
    "print(n[4::2]) "
   ]
  },
  {
   "cell_type": "code",
   "execution_count": 34,
   "id": "aa13a637",
   "metadata": {},
   "outputs": [
    {
     "name": "stdout",
     "output_type": "stream",
     "text": [
      "[44, 66, 88, 100]\n"
     ]
    }
   ],
   "source": [
    "print(n[4:11:2]) "
   ]
  },
  {
   "cell_type": "code",
   "execution_count": 35,
   "id": "7240534e",
   "metadata": {},
   "outputs": [
    {
     "name": "stdout",
     "output_type": "stream",
     "text": [
      "[33, 44, 55, 66]\n"
     ]
    }
   ],
   "source": [
    "print(n[3:7]) "
   ]
  },
  {
   "cell_type": "code",
   "execution_count": 36,
   "id": "1c7cb9e3",
   "metadata": {},
   "outputs": [
    {
     "name": "stdout",
     "output_type": "stream",
     "text": [
      "[33, 44, 55, 66]\n"
     ]
    }
   ],
   "source": [
    "print(n[3:7:1]) "
   ]
  },
  {
   "cell_type": "code",
   "execution_count": 37,
   "id": "e9713f48",
   "metadata": {},
   "outputs": [
    {
     "name": "stdout",
     "output_type": "stream",
     "text": [
      "[88, 66, 44]\n"
     ]
    }
   ],
   "source": [
    "print(n[8:2:-2]) "
   ]
  },
  {
   "cell_type": "code",
   "execution_count": 38,
   "id": "eef6889c",
   "metadata": {},
   "outputs": [
    {
     "name": "stdout",
     "output_type": "stream",
     "text": [
      "[]\n"
     ]
    }
   ],
   "source": [
    "print(n[8:2:2]) "
   ]
  },
  {
   "cell_type": "code",
   "execution_count": 39,
   "id": "79eea145",
   "metadata": {},
   "outputs": [
    {
     "name": "stdout",
     "output_type": "stream",
     "text": [
      "[44, 55, 66, 77, 88, 99, 100]\n"
     ]
    }
   ],
   "source": [
    "print(n[4:65])"
   ]
  },
  {
   "cell_type": "code",
   "execution_count": 40,
   "id": "2cbb4481",
   "metadata": {},
   "outputs": [
    {
     "data": {
      "text/plain": [
       "11"
      ]
     },
     "execution_count": 40,
     "metadata": {},
     "output_type": "execute_result"
    }
   ],
   "source": [
    "len(n)"
   ]
  },
  {
   "cell_type": "code",
   "execution_count": 41,
   "id": "af46296e",
   "metadata": {},
   "outputs": [],
   "source": [
    "# n[11]"
   ]
  },
  {
   "cell_type": "code",
   "execution_count": 42,
   "id": "f980f5fa",
   "metadata": {},
   "outputs": [
    {
     "data": {
      "text/plain": [
       "[10, 11, 22, 33, 44, 55, 66, 77, 88, 99, 100]"
      ]
     },
     "execution_count": 42,
     "metadata": {},
     "output_type": "execute_result"
    }
   ],
   "source": [
    "n"
   ]
  },
  {
   "cell_type": "code",
   "execution_count": 43,
   "id": "44b07525",
   "metadata": {},
   "outputs": [
    {
     "data": {
      "text/plain": [
       "[100, 99, 88, 77, 66, 55, 44, 33, 22, 11, 10]"
      ]
     },
     "execution_count": 43,
     "metadata": {},
     "output_type": "execute_result"
    }
   ],
   "source": [
    "n[::-1]"
   ]
  },
  {
   "cell_type": "code",
   "execution_count": 44,
   "id": "6907f5ed",
   "metadata": {},
   "outputs": [
    {
     "data": {
      "text/plain": [
       "[10, 11, 22, 33, 44, 55, 66, 77, 88, 99, 100]"
      ]
     },
     "execution_count": 44,
     "metadata": {},
     "output_type": "execute_result"
    }
   ],
   "source": [
    "n"
   ]
  },
  {
   "cell_type": "code",
   "execution_count": 45,
   "id": "12019e1c",
   "metadata": {},
   "outputs": [
    {
     "data": {
      "text/plain": [
       "[10, 11, 22, 33, 44, 55, 66, 77, 88, 99]"
      ]
     },
     "execution_count": 45,
     "metadata": {},
     "output_type": "execute_result"
    }
   ],
   "source": [
    "n[:-1:]"
   ]
  },
  {
   "cell_type": "code",
   "execution_count": 6,
   "id": "ae802661",
   "metadata": {},
   "outputs": [
    {
     "data": {
      "text/plain": [
       "[100]"
      ]
     },
     "execution_count": 6,
     "metadata": {},
     "output_type": "execute_result"
    }
   ],
   "source": [
    "n[:9:-1]"
   ]
  },
  {
   "cell_type": "code",
   "execution_count": 47,
   "id": "ad27cfe6",
   "metadata": {},
   "outputs": [
    {
     "data": {
      "text/plain": [
       "[100]"
      ]
     },
     "execution_count": 47,
     "metadata": {},
     "output_type": "execute_result"
    }
   ],
   "source": [
    "n[-1:-2:-1]"
   ]
  },
  {
   "cell_type": "markdown",
   "id": "a10c0e4d",
   "metadata": {},
   "source": [
    "# List vs mutability:"
   ]
  },
  {
   "cell_type": "code",
   "execution_count": 48,
   "id": "6dc8f300",
   "metadata": {},
   "outputs": [],
   "source": [
    "# mutable----->change\n",
    "# immutable---->cant change"
   ]
  },
  {
   "cell_type": "raw",
   "id": "63924a78",
   "metadata": {},
   "source": [
    "Once we creates a List object,we can modify its content. Hence List objects are mutable."
   ]
  },
  {
   "cell_type": "code",
   "execution_count": 49,
   "id": "2fb1c739",
   "metadata": {},
   "outputs": [],
   "source": [
    "n=[101,202,303,404]"
   ]
  },
  {
   "cell_type": "code",
   "execution_count": 50,
   "id": "a5f568e0",
   "metadata": {},
   "outputs": [],
   "source": [
    "n[0]=-99"
   ]
  },
  {
   "cell_type": "code",
   "execution_count": 51,
   "id": "564bd0b6",
   "metadata": {},
   "outputs": [
    {
     "data": {
      "text/plain": [
       "[-99, 202, 303, 404]"
      ]
     },
     "execution_count": 51,
     "metadata": {},
     "output_type": "execute_result"
    }
   ],
   "source": [
    "n"
   ]
  },
  {
   "cell_type": "code",
   "execution_count": 52,
   "id": "7db89ba3",
   "metadata": {},
   "outputs": [],
   "source": [
    "# print(n) \n",
    "n[1]=-111"
   ]
  },
  {
   "cell_type": "code",
   "execution_count": 53,
   "id": "b8137ed1",
   "metadata": {},
   "outputs": [
    {
     "name": "stdout",
     "output_type": "stream",
     "text": [
      "[-99, -111, 303, 404]\n"
     ]
    }
   ],
   "source": [
    "print(n)"
   ]
  },
  {
   "cell_type": "markdown",
   "id": "9797a62d",
   "metadata": {},
   "source": [
    "# Traversing the elements of List:"
   ]
  },
  {
   "cell_type": "raw",
   "id": "be49c11b",
   "metadata": {},
   "source": [
    "The sequential access of each element in the list is called traversal."
   ]
  },
  {
   "cell_type": "raw",
   "id": "e748c69e",
   "metadata": {},
   "source": [
    "1. By using while loop: "
   ]
  },
  {
   "cell_type": "code",
   "execution_count": 54,
   "id": "c5dfa512",
   "metadata": {},
   "outputs": [],
   "source": [
    "n=[10,11,12,13,14,15,16,17,18,19,20] "
   ]
  },
  {
   "cell_type": "code",
   "execution_count": 55,
   "id": "552fc9d7",
   "metadata": {},
   "outputs": [
    {
     "data": {
      "text/plain": [
       "[10, 11, 12, 13, 14, 15, 16, 17, 18, 19, 20]"
      ]
     },
     "execution_count": 55,
     "metadata": {},
     "output_type": "execute_result"
    }
   ],
   "source": [
    "n"
   ]
  },
  {
   "cell_type": "code",
   "execution_count": 56,
   "id": "1f08fc73",
   "metadata": {},
   "outputs": [
    {
     "name": "stdout",
     "output_type": "stream",
     "text": [
      "10\n",
      "11\n",
      "12\n",
      "13\n",
      "14\n",
      "15\n",
      "16\n",
      "17\n",
      "18\n",
      "19\n",
      "20\n"
     ]
    }
   ],
   "source": [
    "for i in n:\n",
    "    print(i)"
   ]
  },
  {
   "cell_type": "code",
   "execution_count": 57,
   "id": "f8c7544d",
   "metadata": {},
   "outputs": [
    {
     "name": "stdout",
     "output_type": "stream",
     "text": [
      "0\n",
      "1\n",
      "2\n",
      "3\n",
      "4\n",
      "5\n",
      "6\n",
      "7\n",
      "8\n",
      "9\n",
      "10\n"
     ]
    }
   ],
   "source": [
    "# for i in n:\n",
    "\n",
    "for i in [0, 1, 2, 3, 4, 5, 6, 7, 8, 9, 10]:\n",
    "    print(i)"
   ]
  },
  {
   "cell_type": "code",
   "execution_count": 58,
   "id": "63065e58",
   "metadata": {},
   "outputs": [
    {
     "data": {
      "text/plain": [
       "11"
      ]
     },
     "execution_count": 58,
     "metadata": {},
     "output_type": "execute_result"
    }
   ],
   "source": [
    "len(n)\n",
    "\n"
   ]
  },
  {
   "cell_type": "code",
   "execution_count": 59,
   "id": "5c7b8537",
   "metadata": {},
   "outputs": [
    {
     "name": "stdout",
     "output_type": "stream",
     "text": [
      "10\n",
      "11\n",
      "12\n",
      "13\n",
      "14\n",
      "15\n",
      "16\n",
      "17\n",
      "18\n",
      "19\n",
      "20\n"
     ]
    }
   ],
   "source": [
    "i=0             #[10, 11, 12, 13, 14, 15, 16, 17, 18, 19, 20]\n",
    "while i<len(n): \n",
    "    print(n[i]) \n",
    "    i=i+1"
   ]
  },
  {
   "cell_type": "code",
   "execution_count": 61,
   "id": "fae4d4bf",
   "metadata": {},
   "outputs": [
    {
     "name": "stdout",
     "output_type": "stream",
     "text": [
      "20\n",
      "19\n",
      "18\n",
      "17\n",
      "16\n",
      "15\n",
      "14\n",
      "13\n",
      "12\n",
      "11\n",
      "10\n"
     ]
    }
   ],
   "source": [
    "l=len(n)-1\n",
    "while l>=0:\n",
    "    print(n[l])    #[10, 11, 12, 13, 14, 15, 16, 17, 18, 19, 20]\n",
    "    l=l-1"
   ]
  },
  {
   "cell_type": "raw",
   "id": "6f3c29d4",
   "metadata": {},
   "source": [
    "2. By using for loop: "
   ]
  },
  {
   "cell_type": "code",
   "execution_count": 62,
   "id": "9bbab0f4",
   "metadata": {},
   "outputs": [],
   "source": [
    "n=[110,111,112,113,114,115,116,117,118,119,120] "
   ]
  },
  {
   "cell_type": "code",
   "execution_count": 63,
   "id": "ff1e50fd",
   "metadata": {},
   "outputs": [
    {
     "data": {
      "text/plain": [
       "11"
      ]
     },
     "execution_count": 63,
     "metadata": {},
     "output_type": "execute_result"
    }
   ],
   "source": [
    "len(n)"
   ]
  },
  {
   "cell_type": "code",
   "execution_count": 64,
   "id": "2809d6d0",
   "metadata": {},
   "outputs": [
    {
     "name": "stdout",
     "output_type": "stream",
     "text": [
      "110  Ka index----> 0\n",
      "111  Ka index----> 1\n",
      "112  Ka index----> 2\n",
      "113  Ka index----> 3\n",
      "114  Ka index----> 4\n",
      "115  Ka index----> 5\n",
      "116  Ka index----> 6\n",
      "117  Ka index----> 7\n",
      "118  Ka index----> 8\n",
      "119  Ka index----> 9\n",
      "120  Ka index----> 10\n"
     ]
    }
   ],
   "source": [
    "for i in n: \n",
    "    print(i,\" Ka index---->\",n.index(i))"
   ]
  },
  {
   "cell_type": "raw",
   "id": "10b20c09",
   "metadata": {},
   "source": [
    "3. To display only even numbers: "
   ]
  },
  {
   "cell_type": "code",
   "execution_count": 65,
   "id": "99f27085",
   "metadata": {},
   "outputs": [],
   "source": [
    "n=[10,11,12,13,14,15,16,17,18,19,20] "
   ]
  },
  {
   "cell_type": "code",
   "execution_count": 66,
   "id": "429fb021",
   "metadata": {},
   "outputs": [
    {
     "data": {
      "text/plain": [
       "-8"
      ]
     },
     "execution_count": 66,
     "metadata": {},
     "output_type": "execute_result"
    }
   ],
   "source": [
    "# 13 ka +ve index -  len(n)\n",
    "3-11"
   ]
  },
  {
   "cell_type": "code",
   "execution_count": 67,
   "id": "49364ace",
   "metadata": {},
   "outputs": [
    {
     "data": {
      "text/plain": [
       "13"
      ]
     },
     "execution_count": 67,
     "metadata": {},
     "output_type": "execute_result"
    }
   ],
   "source": [
    "n[-8]"
   ]
  },
  {
   "cell_type": "code",
   "execution_count": 68,
   "id": "222b4799",
   "metadata": {},
   "outputs": [
    {
     "data": {
      "text/plain": [
       "13"
      ]
     },
     "execution_count": 68,
     "metadata": {},
     "output_type": "execute_result"
    }
   ],
   "source": [
    "n[3]"
   ]
  },
  {
   "cell_type": "code",
   "execution_count": 69,
   "id": "4a6418fe",
   "metadata": {},
   "outputs": [
    {
     "name": "stdout",
     "output_type": "stream",
     "text": [
      "10\n",
      "12\n",
      "14\n",
      "16\n",
      "18\n",
      "20\n"
     ]
    }
   ],
   "source": [
    "for i in n: \n",
    "    if i%2==0: \n",
    "        print(i)"
   ]
  },
  {
   "cell_type": "raw",
   "id": "f4879d71",
   "metadata": {},
   "source": [
    "4. To display elements by index wise: "
   ]
  },
  {
   "cell_type": "code",
   "execution_count": 70,
   "id": "b96a25c7",
   "metadata": {},
   "outputs": [],
   "source": [
    "l=[\"A\",\"B\",\"C\",\"D\"] "
   ]
  },
  {
   "cell_type": "code",
   "execution_count": 71,
   "id": "52b675ae",
   "metadata": {},
   "outputs": [],
   "source": [
    "import string"
   ]
  },
  {
   "cell_type": "code",
   "execution_count": 72,
   "id": "b8dc49d3",
   "metadata": {},
   "outputs": [
    {
     "data": {
      "text/plain": [
       "'abcdefghijklmnopqrstuvwxyz'"
      ]
     },
     "execution_count": 72,
     "metadata": {},
     "output_type": "execute_result"
    }
   ],
   "source": [
    "string.ascii_lowercase"
   ]
  },
  {
   "cell_type": "markdown",
   "id": "d077e037",
   "metadata": {},
   "source": [
    "# type casting"
   ]
  },
  {
   "cell_type": "code",
   "execution_count": 73,
   "id": "aad4b495",
   "metadata": {},
   "outputs": [
    {
     "name": "stdout",
     "output_type": "stream",
     "text": [
      "['a', 'b', 'c', 'd', 'e', 'f', 'g', 'h', 'i', 'j', 'k', 'l', 'm', 'n', 'o', 'p', 'q', 'r', 's', 't', 'u', 'v', 'w', 'x', 'y', 'z']\n"
     ]
    }
   ],
   "source": [
    "print(list(string.ascii_lowercase))"
   ]
  },
  {
   "cell_type": "code",
   "execution_count": 74,
   "id": "90336621",
   "metadata": {},
   "outputs": [],
   "source": [
    "ls=string.ascii_letters"
   ]
  },
  {
   "cell_type": "code",
   "execution_count": 75,
   "id": "e62530ef",
   "metadata": {},
   "outputs": [
    {
     "name": "stdout",
     "output_type": "stream",
     "text": [
      "abcdefghijklmnopqrstuvwxyzABCDEFGHIJKLMNOPQRSTUVWXYZ\n"
     ]
    }
   ],
   "source": [
    "print(ls)"
   ]
  },
  {
   "cell_type": "code",
   "execution_count": 76,
   "id": "a133fe6a",
   "metadata": {},
   "outputs": [
    {
     "data": {
      "text/plain": [
       "'ABCDEFGHIJKLMNOPQRSTUVWXYZ'"
      ]
     },
     "execution_count": 76,
     "metadata": {},
     "output_type": "execute_result"
    }
   ],
   "source": [
    "string.ascii_uppercase"
   ]
  },
  {
   "cell_type": "code",
   "execution_count": 77,
   "id": "e818ec45",
   "metadata": {},
   "outputs": [
    {
     "name": "stdout",
     "output_type": "stream",
     "text": [
      "abcdefghijklmnopqrstuvwxyzABCDEFGHIJKLMNOPQRSTUVWXYZ\n"
     ]
    }
   ],
   "source": [
    "print(string.ascii_letters)"
   ]
  },
  {
   "cell_type": "code",
   "execution_count": 78,
   "id": "7d3cf623",
   "metadata": {},
   "outputs": [
    {
     "name": "stdout",
     "output_type": "stream",
     "text": [
      "abcdefghijklmnopqrstuvwxyz\n"
     ]
    }
   ],
   "source": [
    "print(string.ascii_lowercase)"
   ]
  },
  {
   "cell_type": "code",
   "execution_count": 79,
   "id": "abf9639a",
   "metadata": {},
   "outputs": [
    {
     "name": "stdout",
     "output_type": "stream",
     "text": [
      "ABCDEFGHIJKLMNOPQRSTUVWXYZ\n"
     ]
    }
   ],
   "source": [
    "print(string.ascii_uppercase)"
   ]
  },
  {
   "cell_type": "code",
   "execution_count": 80,
   "id": "8521026b",
   "metadata": {},
   "outputs": [
    {
     "name": "stdout",
     "output_type": "stream",
     "text": [
      "0123456789\n"
     ]
    }
   ],
   "source": [
    "print(string.digits)"
   ]
  },
  {
   "cell_type": "code",
   "execution_count": 81,
   "id": "aaa46c84",
   "metadata": {},
   "outputs": [
    {
     "data": {
      "text/plain": [
       "'!\"#$%&\\'()*+,-./:;<=>?@[\\\\]^_`{|}~'"
      ]
     },
     "execution_count": 81,
     "metadata": {},
     "output_type": "execute_result"
    }
   ],
   "source": [
    "string.punctuation"
   ]
  },
  {
   "cell_type": "code",
   "execution_count": 82,
   "id": "54b9e100",
   "metadata": {},
   "outputs": [],
   "source": [
    "# paasword=upper,lower,digit,special"
   ]
  },
  {
   "cell_type": "code",
   "execution_count": 83,
   "id": "a39d5548",
   "metadata": {},
   "outputs": [
    {
     "name": "stdout",
     "output_type": "stream",
     "text": [
      "ABCDEFGHIJKLMNOPQRSTUVWXYZ <class 'str'>\n"
     ]
    }
   ],
   "source": [
    "alpha=string.ascii_uppercase\n",
    "print(alpha,type(alpha))"
   ]
  },
  {
   "cell_type": "code",
   "execution_count": 84,
   "id": "e869d346",
   "metadata": {},
   "outputs": [
    {
     "data": {
      "text/plain": [
       "['A', 'B', 'C', 'D']"
      ]
     },
     "execution_count": 84,
     "metadata": {},
     "output_type": "execute_result"
    }
   ],
   "source": [
    "l"
   ]
  },
  {
   "cell_type": "code",
   "execution_count": 85,
   "id": "26984060",
   "metadata": {},
   "outputs": [
    {
     "data": {
      "text/plain": [
       "4"
      ]
     },
     "execution_count": 85,
     "metadata": {},
     "output_type": "execute_result"
    }
   ],
   "source": [
    "x=len(l) \n",
    "x"
   ]
  },
  {
   "cell_type": "code",
   "execution_count": 86,
   "id": "0170d1f4",
   "metadata": {},
   "outputs": [
    {
     "name": "stdout",
     "output_type": "stream",
     "text": [
      "A is available at positive index:  0 and at negative index:  -4\n",
      "B is available at positive index:  1 and at negative index:  -3\n",
      "C is available at positive index:  2 and at negative index:  -2\n",
      "D is available at positive index:  3 and at negative index:  -1\n"
     ]
    }
   ],
   "source": [
    "for i in range(x): \n",
    "    print(l[i],\"is available at positive index: \",i,\"and at negative index: \",i-x)"
   ]
  },
  {
   "cell_type": "markdown",
   "id": "c7ba282f",
   "metadata": {},
   "source": [
    "# Important functions/methods of List:\n",
    "I. To get information about list:"
   ]
  },
  {
   "cell_type": "raw",
   "id": "9c662684",
   "metadata": {},
   "source": [
    "1. len(): returns the number of elements present in the list"
   ]
  },
  {
   "cell_type": "code",
   "execution_count": 87,
   "id": "9229880c",
   "metadata": {},
   "outputs": [
    {
     "name": "stdout",
     "output_type": "stream",
     "text": [
      "4\n"
     ]
    }
   ],
   "source": [
    "n=[10,20,30,40] \n",
    "print(len(n))"
   ]
  },
  {
   "cell_type": "raw",
   "id": "ea5389ce",
   "metadata": {},
   "source": [
    "2. count(): It returns the number of occurrences of specified item in the list "
   ]
  },
  {
   "cell_type": "code",
   "execution_count": 88,
   "id": "5f9118f4",
   "metadata": {},
   "outputs": [],
   "source": [
    "n=[101,202,202,202,200,303,300] "
   ]
  },
  {
   "cell_type": "code",
   "execution_count": 89,
   "id": "79c55648",
   "metadata": {},
   "outputs": [
    {
     "data": {
      "text/plain": [
       "3"
      ]
     },
     "execution_count": 89,
     "metadata": {},
     "output_type": "execute_result"
    }
   ],
   "source": [
    "n.count(202)"
   ]
  },
  {
   "cell_type": "code",
   "execution_count": 90,
   "id": "c65a80ed",
   "metadata": {},
   "outputs": [
    {
     "data": {
      "text/plain": [
       "1"
      ]
     },
     "execution_count": 90,
     "metadata": {},
     "output_type": "execute_result"
    }
   ],
   "source": [
    "n.count(303)"
   ]
  },
  {
   "cell_type": "code",
   "execution_count": 91,
   "id": "e4e7081b-4035-4fb9-aa23-54583915cf53",
   "metadata": {},
   "outputs": [
    {
     "data": {
      "text/plain": [
       "0"
      ]
     },
     "execution_count": 91,
     "metadata": {},
     "output_type": "execute_result"
    }
   ],
   "source": [
    "n.count(-198)"
   ]
  },
  {
   "cell_type": "code",
   "execution_count": 92,
   "id": "e6d89db8",
   "metadata": {},
   "outputs": [],
   "source": [
    "sub=[\"python\",\"python\",\"maths\",\"maths\",\"maths\",\"maths\",\"C++\",\"Java\",\"Java\",\"C#\"]"
   ]
  },
  {
   "cell_type": "code",
   "execution_count": 93,
   "id": "2c1e963b",
   "metadata": {},
   "outputs": [],
   "source": [
    "# nameofthelist.methodname()"
   ]
  },
  {
   "cell_type": "code",
   "execution_count": 94,
   "id": "2fda6e29",
   "metadata": {},
   "outputs": [
    {
     "data": {
      "text/plain": [
       "4"
      ]
     },
     "execution_count": 94,
     "metadata": {},
     "output_type": "execute_result"
    }
   ],
   "source": [
    "sub.count(\"maths\")"
   ]
  },
  {
   "cell_type": "code",
   "execution_count": 95,
   "id": "54b843fe",
   "metadata": {},
   "outputs": [
    {
     "data": {
      "text/plain": [
       "0"
      ]
     },
     "execution_count": 95,
     "metadata": {},
     "output_type": "execute_result"
    }
   ],
   "source": [
    "sub.count(\"Python\")"
   ]
  },
  {
   "cell_type": "code",
   "execution_count": 96,
   "id": "969d6a2d",
   "metadata": {},
   "outputs": [
    {
     "data": {
      "text/plain": [
       "2"
      ]
     },
     "execution_count": 96,
     "metadata": {},
     "output_type": "execute_result"
    }
   ],
   "source": [
    "sub.count('python')"
   ]
  },
  {
   "cell_type": "code",
   "execution_count": 97,
   "id": "3e510f93",
   "metadata": {},
   "outputs": [
    {
     "data": {
      "text/plain": [
       "[101, 202, 202, 202, 200, 303, 300]"
      ]
     },
     "execution_count": 97,
     "metadata": {},
     "output_type": "execute_result"
    }
   ],
   "source": [
    "n"
   ]
  },
  {
   "cell_type": "code",
   "execution_count": 98,
   "id": "083b5f09",
   "metadata": {},
   "outputs": [],
   "source": [
    "# list.count(element)"
   ]
  },
  {
   "cell_type": "code",
   "execution_count": 99,
   "id": "11f6e021",
   "metadata": {},
   "outputs": [
    {
     "name": "stdout",
     "output_type": "stream",
     "text": [
      "1\n"
     ]
    }
   ],
   "source": [
    "print(n.count(101))"
   ]
  },
  {
   "cell_type": "code",
   "execution_count": 100,
   "id": "958dafef",
   "metadata": {},
   "outputs": [
    {
     "name": "stdout",
     "output_type": "stream",
     "text": [
      "3\n"
     ]
    }
   ],
   "source": [
    "print(n.count(202)) "
   ]
  },
  {
   "cell_type": "code",
   "execution_count": 101,
   "id": "897c8744",
   "metadata": {},
   "outputs": [
    {
     "name": "stdout",
     "output_type": "stream",
     "text": [
      "0\n"
     ]
    }
   ],
   "source": [
    "print(n.count(3)) "
   ]
  },
  {
   "cell_type": "code",
   "execution_count": 102,
   "id": "b734a1c6",
   "metadata": {},
   "outputs": [
    {
     "name": "stdout",
     "output_type": "stream",
     "text": [
      "0\n"
     ]
    }
   ],
   "source": [
    "print(n.count(4))"
   ]
  },
  {
   "cell_type": "markdown",
   "id": "f8cb8325-ce3a-43f4-8fd3-2929a52a999a",
   "metadata": {},
   "source": [
    "# 3. index() method:\n",
    "# returns the index of first occurrence of the specified item."
   ]
  },
  {
   "cell_type": "code",
   "execution_count": 103,
   "id": "7dccb040",
   "metadata": {},
   "outputs": [],
   "source": [
    "n=[101,202,202,222,222,33,33] "
   ]
  },
  {
   "cell_type": "code",
   "execution_count": 104,
   "id": "30f102cb",
   "metadata": {},
   "outputs": [],
   "source": [
    "# list.index(element)"
   ]
  },
  {
   "cell_type": "code",
   "execution_count": 105,
   "id": "a38f7236",
   "metadata": {},
   "outputs": [
    {
     "data": {
      "text/plain": [
       "1"
      ]
     },
     "execution_count": 105,
     "metadata": {},
     "output_type": "execute_result"
    }
   ],
   "source": [
    "n.index(202)"
   ]
  },
  {
   "cell_type": "code",
   "execution_count": 106,
   "id": "9067e82a",
   "metadata": {},
   "outputs": [],
   "source": [
    "n=[101,202,202,222,222,33,33] "
   ]
  },
  {
   "cell_type": "code",
   "execution_count": 107,
   "id": "05a8b476",
   "metadata": {},
   "outputs": [
    {
     "ename": "ValueError",
     "evalue": "1 is not in list",
     "output_type": "error",
     "traceback": [
      "\u001b[1;31m---------------------------------------------------------------------------\u001b[0m",
      "\u001b[1;31mValueError\u001b[0m                                Traceback (most recent call last)",
      "Cell \u001b[1;32mIn[107], line 1\u001b[0m\n\u001b[1;32m----> 1\u001b[0m \u001b[38;5;28mprint\u001b[39m(n\u001b[38;5;241m.\u001b[39mindex(\u001b[38;5;241m1\u001b[39m))\n",
      "\u001b[1;31mValueError\u001b[0m: 1 is not in list"
     ]
    }
   ],
   "source": [
    "print(n.index(1)) "
   ]
  },
  {
   "cell_type": "code",
   "execution_count": 108,
   "id": "f3b0318d",
   "metadata": {},
   "outputs": [
    {
     "ename": "ValueError",
     "evalue": "5500 is not in list",
     "output_type": "error",
     "traceback": [
      "\u001b[1;31m---------------------------------------------------------------------------\u001b[0m",
      "\u001b[1;31mValueError\u001b[0m                                Traceback (most recent call last)",
      "Cell \u001b[1;32mIn[108], line 1\u001b[0m\n\u001b[1;32m----> 1\u001b[0m n\u001b[38;5;241m.\u001b[39mindex(\u001b[38;5;241m5500\u001b[39m)\n",
      "\u001b[1;31mValueError\u001b[0m: 5500 is not in list"
     ]
    }
   ],
   "source": [
    "n.index(5500)"
   ]
  },
  {
   "cell_type": "code",
   "execution_count": 109,
   "id": "db49f858",
   "metadata": {},
   "outputs": [
    {
     "name": "stdout",
     "output_type": "stream",
     "text": [
      "3\n"
     ]
    }
   ],
   "source": [
    "print(n.index(222)) "
   ]
  },
  {
   "cell_type": "code",
   "execution_count": 25,
   "id": "6633bfda",
   "metadata": {},
   "outputs": [
    {
     "name": "stdout",
     "output_type": "stream",
     "text": [
      "5\n"
     ]
    }
   ],
   "source": [
    "print(n.index(33)) "
   ]
  },
  {
   "cell_type": "code",
   "execution_count": 26,
   "id": "d7de2bf4",
   "metadata": {},
   "outputs": [
    {
     "ename": "ValueError",
     "evalue": "4 is not in list",
     "output_type": "error",
     "traceback": [
      "\u001b[1;31m---------------------------------------------------------------------------\u001b[0m",
      "\u001b[1;31mValueError\u001b[0m                                Traceback (most recent call last)",
      "Cell \u001b[1;32mIn[26], line 1\u001b[0m\n\u001b[1;32m----> 1\u001b[0m \u001b[38;5;28mprint\u001b[39m(n\u001b[38;5;241m.\u001b[39mindex(\u001b[38;5;241m4\u001b[39m))\n",
      "\u001b[1;31mValueError\u001b[0m: 4 is not in list"
     ]
    }
   ],
   "source": [
    "print(n.index(4))"
   ]
  },
  {
   "cell_type": "markdown",
   "id": "0d1f3fa0",
   "metadata": {},
   "source": [
    "Note: If the specified element not present in the list then we will get ValueError.\n",
    "Hence before index() meth od we have to check whether item present in the list or not by using in operator."
   ]
  },
  {
   "cell_type": "code",
   "execution_count": 111,
   "id": "9fd0d6f8",
   "metadata": {},
   "outputs": [
    {
     "ename": "ValueError",
     "evalue": "substring not found",
     "output_type": "error",
     "traceback": [
      "\u001b[1;31m---------------------------------------------------------------------------\u001b[0m",
      "\u001b[1;31mValueError\u001b[0m                                Traceback (most recent call last)",
      "Cell \u001b[1;32mIn[111], line 2\u001b[0m\n\u001b[0;32m      1\u001b[0m s1\u001b[38;5;241m=\u001b[39m\u001b[38;5;124m'\u001b[39m\u001b[38;5;124mpython\u001b[39m\u001b[38;5;124m'\u001b[39m\n\u001b[1;32m----> 2\u001b[0m s1\u001b[38;5;241m.\u001b[39mindex(\u001b[38;5;124m'\u001b[39m\u001b[38;5;124mz\u001b[39m\u001b[38;5;124m'\u001b[39m)\n",
      "\u001b[1;31mValueError\u001b[0m: substring not found"
     ]
    }
   ],
   "source": [
    "s1='python'\n",
    "s1.index('z')"
   ]
  },
  {
   "cell_type": "code",
   "execution_count": null,
   "id": "0f5b3fa3",
   "metadata": {},
   "outputs": [],
   "source": [
    "# membership operator---->in notin\n",
    "# Identity operrator------>is is not"
   ]
  },
  {
   "cell_type": "code",
   "execution_count": 30,
   "id": "5b6ad480-f124-4915-89ba-6ca0e4d3cf74",
   "metadata": {},
   "outputs": [
    {
     "data": {
      "text/plain": [
       "[101, 202, 202, 222, 222, 33, 33]"
      ]
     },
     "execution_count": 30,
     "metadata": {},
     "output_type": "execute_result"
    }
   ],
   "source": [
    "n"
   ]
  },
  {
   "cell_type": "code",
   "execution_count": 32,
   "id": "78f8e407",
   "metadata": {},
   "outputs": [
    {
     "name": "stdout",
     "output_type": "stream",
     "text": [
      "False\n",
      "True\n"
     ]
    }
   ],
   "source": [
    "print( 4 in n)\n",
    "print(101 in n)"
   ]
  },
  {
   "cell_type": "markdown",
   "id": "12aa8390",
   "metadata": {},
   "source": [
    "# II. Manipulating elements of List:"
   ]
  },
  {
   "cell_type": "raw",
   "id": "c044fd8d",
   "metadata": {},
   "source": [
    "1. append() method:\n",
    "We can use append() method to add item at the end of the list."
   ]
  },
  {
   "cell_type": "code",
   "execution_count": 33,
   "id": "367afba3-d9dc-4e44-8378-5e9d127317eb",
   "metadata": {},
   "outputs": [
    {
     "data": {
      "text/plain": [
       "[]"
      ]
     },
     "execution_count": 33,
     "metadata": {},
     "output_type": "execute_result"
    }
   ],
   "source": [
    "list()"
   ]
  },
  {
   "cell_type": "code",
   "execution_count": 34,
   "id": "ae70264d",
   "metadata": {},
   "outputs": [],
   "source": [
    "list1=[] "
   ]
  },
  {
   "cell_type": "code",
   "execution_count": 35,
   "id": "aeb570d7",
   "metadata": {},
   "outputs": [],
   "source": [
    "list1.append(\"A\") "
   ]
  },
  {
   "cell_type": "code",
   "execution_count": 36,
   "id": "a7dbe385",
   "metadata": {},
   "outputs": [
    {
     "data": {
      "text/plain": [
       "['A']"
      ]
     },
     "execution_count": 36,
     "metadata": {},
     "output_type": "execute_result"
    }
   ],
   "source": [
    "list1"
   ]
  },
  {
   "cell_type": "code",
   "execution_count": 37,
   "id": "06788e44",
   "metadata": {},
   "outputs": [],
   "source": [
    "list1.append(\"B\") "
   ]
  },
  {
   "cell_type": "code",
   "execution_count": 38,
   "id": "08f627d5",
   "metadata": {},
   "outputs": [
    {
     "data": {
      "text/plain": [
       "['A', 'B']"
      ]
     },
     "execution_count": 38,
     "metadata": {},
     "output_type": "execute_result"
    }
   ],
   "source": [
    "list1"
   ]
  },
  {
   "cell_type": "code",
   "execution_count": 39,
   "id": "e3aec346",
   "metadata": {},
   "outputs": [],
   "source": [
    "list1.append(\"C\") "
   ]
  },
  {
   "cell_type": "code",
   "execution_count": 40,
   "id": "ed7980d1",
   "metadata": {},
   "outputs": [
    {
     "name": "stdout",
     "output_type": "stream",
     "text": [
      "['A', 'B', 'C']\n"
     ]
    }
   ],
   "source": [
    "print(list1)"
   ]
  },
  {
   "cell_type": "code",
   "execution_count": 41,
   "id": "d158a75a",
   "metadata": {},
   "outputs": [],
   "source": [
    "list1.append(\"Shrikanth\")"
   ]
  },
  {
   "cell_type": "code",
   "execution_count": 42,
   "id": "7bf42a14",
   "metadata": {},
   "outputs": [
    {
     "data": {
      "text/plain": [
       "['A', 'B', 'C', 'Shrikanth']"
      ]
     },
     "execution_count": 42,
     "metadata": {},
     "output_type": "execute_result"
    }
   ],
   "source": [
    "list1"
   ]
  },
  {
   "cell_type": "raw",
   "id": "7e38b362",
   "metadata": {},
   "source": [
    "To add all elements to list upto 100 which are divisible by 10 "
   ]
  },
  {
   "cell_type": "code",
   "execution_count": 44,
   "id": "bab28524",
   "metadata": {},
   "outputs": [],
   "source": [
    "list11=[] "
   ]
  },
  {
   "cell_type": "code",
   "execution_count": 47,
   "id": "bd7466d2-7fec-45f8-8aba-7285c860309e",
   "metadata": {},
   "outputs": [],
   "source": [
    "# list(range(1,100,2))"
   ]
  },
  {
   "cell_type": "code",
   "execution_count": null,
   "id": "8fe805dd",
   "metadata": {},
   "outputs": [],
   "source": [
    "# 10,20,30,40,50,60,70,80,90,100"
   ]
  },
  {
   "cell_type": "code",
   "execution_count": 48,
   "id": "786d35c2",
   "metadata": {},
   "outputs": [],
   "source": [
    "for i in range(0,101,10):\n",
    "    list11.append(i)    "
   ]
  },
  {
   "cell_type": "code",
   "execution_count": 49,
   "id": "3c2e5a46",
   "metadata": {},
   "outputs": [
    {
     "data": {
      "text/plain": [
       "[0, 10, 20, 30, 40, 50, 60, 70, 80, 90, 100]"
      ]
     },
     "execution_count": 49,
     "metadata": {},
     "output_type": "execute_result"
    }
   ],
   "source": [
    "list11"
   ]
  },
  {
   "cell_type": "raw",
   "id": "49fa7b62",
   "metadata": {},
   "source": [
    "2. insert() method:\n",
    "To insert item at specified index position "
   ]
  },
  {
   "cell_type": "code",
   "execution_count": 5,
   "id": "6825cdc2",
   "metadata": {},
   "outputs": [],
   "source": [
    "n=[101,202,303,404,505] "
   ]
  },
  {
   "cell_type": "code",
   "execution_count": 53,
   "id": "47774c7f",
   "metadata": {},
   "outputs": [],
   "source": [
    "# n.insert()\n",
    "# Signature: n.insert(index, object, /)"
   ]
  },
  {
   "cell_type": "code",
   "execution_count": 54,
   "id": "20f3649b",
   "metadata": {},
   "outputs": [],
   "source": [
    "n.insert(1,'999') "
   ]
  },
  {
   "cell_type": "code",
   "execution_count": 55,
   "id": "9fd70763",
   "metadata": {},
   "outputs": [
    {
     "name": "stdout",
     "output_type": "stream",
     "text": [
      "[101, '999', 202, 303, 404, 505]\n"
     ]
    }
   ],
   "source": [
    "print(n)"
   ]
  },
  {
   "cell_type": "code",
   "execution_count": 7,
   "id": "2de7fdff",
   "metadata": {},
   "outputs": [
    {
     "data": {
      "text/plain": [
       "[101, 202, 303, 404, 999, 999, 505]"
      ]
     },
     "execution_count": 7,
     "metadata": {},
     "output_type": "execute_result"
    }
   ],
   "source": [
    "n.insert(-1,999)\n",
    "n"
   ]
  },
  {
   "cell_type": "code",
   "execution_count": 56,
   "id": "ecd944ba-2013-4640-85b5-0ac8ad93f540",
   "metadata": {},
   "outputs": [],
   "source": [
    "n=[1,2,3,4,5] "
   ]
  },
  {
   "cell_type": "code",
   "execution_count": 57,
   "id": "aaa469e3-7885-4105-9601-58fe5eb6afed",
   "metadata": {},
   "outputs": [],
   "source": [
    "n.insert(10,\"777\") "
   ]
  },
  {
   "cell_type": "code",
   "execution_count": 59,
   "id": "36d64c8d",
   "metadata": {},
   "outputs": [
    {
     "name": "stdout",
     "output_type": "stream",
     "text": [
      "[1, 2, 3, 4, 5, '777']\n"
     ]
    }
   ],
   "source": [
    "print(n)"
   ]
  },
  {
   "cell_type": "code",
   "execution_count": 60,
   "id": "aa12c908",
   "metadata": {},
   "outputs": [
    {
     "data": {
      "text/plain": [
       "[1, 2, 3, 4, 5, '777']"
      ]
     },
     "execution_count": 60,
     "metadata": {},
     "output_type": "execute_result"
    }
   ],
   "source": [
    "n"
   ]
  },
  {
   "cell_type": "code",
   "execution_count": 61,
   "id": "e548b965",
   "metadata": {},
   "outputs": [
    {
     "name": "stdout",
     "output_type": "stream",
     "text": [
      "['999', 1, 2, 3, 4, 5, '777']\n"
     ]
    }
   ],
   "source": [
    "n.insert(-9,\"999\") \n",
    "print(n)"
   ]
  },
  {
   "cell_type": "code",
   "execution_count": 63,
   "id": "bdb9cb3d",
   "metadata": {},
   "outputs": [],
   "source": [
    "empty=[]"
   ]
  },
  {
   "cell_type": "code",
   "execution_count": 64,
   "id": "0810b664",
   "metadata": {},
   "outputs": [],
   "source": [
    "empty.insert(-1,\"fusion\")"
   ]
  },
  {
   "cell_type": "code",
   "execution_count": 65,
   "id": "a8cef8ae",
   "metadata": {},
   "outputs": [
    {
     "data": {
      "text/plain": [
       "['fusion']"
      ]
     },
     "execution_count": 65,
     "metadata": {},
     "output_type": "execute_result"
    }
   ],
   "source": [
    "empty"
   ]
  },
  {
   "cell_type": "markdown",
   "id": "29fbf83d",
   "metadata": {},
   "source": [
    "**Note: If the specified index is greater than max index then element will be inserted at last position.\n",
    "If the specified index is smaller than min index then element will be inserted at first position.**"
   ]
  },
  {
   "cell_type": "markdown",
   "id": "eaaee087",
   "metadata": {},
   "source": [
    "**Differences between append() and insert()\n",
    "  \n",
    "In List when we add any element it will come in last i.e. it will be last element. ------->append()\n",
    "In List we can insert any element in particular index number------------------------------>insert()**"
   ]
  },
  {
   "cell_type": "raw",
   "id": "e7ba9110",
   "metadata": {},
   "source": [
    "3. extend():"
   ]
  },
  {
   "cell_type": "markdown",
   "id": "ea3a4e23",
   "metadata": {},
   "source": [
    "**To add all items of one list to another list\n",
    "l1.extend(l2)\n",
    "all items present in l2 will be added to l1**"
   ]
  },
  {
   "cell_type": "code",
   "execution_count": 97,
   "id": "15de8b15",
   "metadata": {},
   "outputs": [],
   "source": [
    "order1=[\"Paneer Masala\",\"Daal Tadka\",\"Kaaju curry\",\"Daal Makhni\"] "
   ]
  },
  {
   "cell_type": "code",
   "execution_count": 98,
   "id": "46d1551b",
   "metadata": {},
   "outputs": [],
   "source": [
    "order2=[\"Royal Challenge water\",\"King Fisher water\",\"Budwiser water\"] "
   ]
  },
  {
   "cell_type": "code",
   "execution_count": 68,
   "id": "e5b2e9cb",
   "metadata": {},
   "outputs": [
    {
     "name": "stdout",
     "output_type": "stream",
     "text": [
      "['Paneer Masala', 'Daal Tadka', 'Kaaju curry', 'Daal Makhni', 'Royal Challenge water', 'King Fisher water', 'Budwiser water']\n"
     ]
    }
   ],
   "source": [
    "print(order1+order2)"
   ]
  },
  {
   "cell_type": "code",
   "execution_count": 69,
   "id": "d2eefa38",
   "metadata": {},
   "outputs": [
    {
     "data": {
      "text/plain": [
       "['Paneer Masala', 'Daal Tadka', 'Kaaju curry', 'Daal Makhni']"
      ]
     },
     "execution_count": 69,
     "metadata": {},
     "output_type": "execute_result"
    }
   ],
   "source": [
    "order1"
   ]
  },
  {
   "cell_type": "code",
   "execution_count": 70,
   "id": "76c5f980",
   "metadata": {},
   "outputs": [
    {
     "data": {
      "text/plain": [
       "['Royal Challenge water', 'King Fisher water', 'Budwiser water']"
      ]
     },
     "execution_count": 70,
     "metadata": {},
     "output_type": "execute_result"
    }
   ],
   "source": [
    "order2"
   ]
  },
  {
   "cell_type": "raw",
   "id": "f8515121",
   "metadata": {},
   "source": [
    "order1.extend()\n",
    "Signature: order1.extend(iterable, /)"
   ]
  },
  {
   "cell_type": "code",
   "execution_count": 99,
   "id": "201af18a",
   "metadata": {},
   "outputs": [],
   "source": [
    "order1.extend(order2)"
   ]
  },
  {
   "cell_type": "code",
   "execution_count": 100,
   "id": "c5421376",
   "metadata": {},
   "outputs": [
    {
     "name": "stdout",
     "output_type": "stream",
     "text": [
      "['Paneer Masala', 'Daal Tadka', 'Kaaju curry', 'Daal Makhni', 'Royal Challenge water', 'King Fisher water', 'Budwiser water']\n"
     ]
    }
   ],
   "source": [
    "print(order1)"
   ]
  },
  {
   "cell_type": "code",
   "execution_count": 101,
   "id": "37e938d6",
   "metadata": {},
   "outputs": [
    {
     "name": "stdout",
     "output_type": "stream",
     "text": [
      "['Royal Challenge water', 'King Fisher water', 'Budwiser water']\n"
     ]
    }
   ],
   "source": [
    "print(order2)"
   ]
  },
  {
   "cell_type": "code",
   "execution_count": 48,
   "id": "ba315dbf",
   "metadata": {},
   "outputs": [],
   "source": [
    "order=[\"Paav Bhaaji\",\"Misal Paav\",\"Manchurian\",\"Vada Paav\"] "
   ]
  },
  {
   "cell_type": "code",
   "execution_count": 49,
   "id": "d6532c82-ef47-4cbd-99a1-5599042b9809",
   "metadata": {},
   "outputs": [
    {
     "name": "stdout",
     "output_type": "stream",
     "text": [
      "['Paav Bhaaji', 'Misal Paav', 'Manchurian', 'Vada Paav', 'Maggie']\n"
     ]
    }
   ],
   "source": [
    "order.extend([\"Maggie\"])\n",
    "print(order)"
   ]
  },
  {
   "cell_type": "code",
   "execution_count": 46,
   "id": "2645f8cf",
   "metadata": {},
   "outputs": [],
   "source": [
    "order.extend(\"Maggie\")"
   ]
  },
  {
   "cell_type": "code",
   "execution_count": 90,
   "id": "591e8bf8",
   "metadata": {},
   "outputs": [
    {
     "name": "stdout",
     "output_type": "stream",
     "text": [
      "['Paav Bhaaji', 'Misal Paav', 'Manchurian', 'Vada Paav', 'M', 'a', 'g', 'g', 'i', 'e']\n"
     ]
    }
   ],
   "source": [
    "print(order)"
   ]
  },
  {
   "cell_type": "code",
   "execution_count": 91,
   "id": "b8dabdf1",
   "metadata": {},
   "outputs": [
    {
     "data": {
      "text/plain": [
       "['M', 'a', 'g', 'g', 'i', 'e']"
      ]
     },
     "execution_count": 91,
     "metadata": {},
     "output_type": "execute_result"
    }
   ],
   "source": [
    "list(\"Maggie\")"
   ]
  },
  {
   "cell_type": "code",
   "execution_count": 50,
   "id": "3a9cc13c",
   "metadata": {},
   "outputs": [],
   "source": [
    "t=[12,21]\n",
    "t.extend(\"pune\")"
   ]
  },
  {
   "cell_type": "code",
   "execution_count": 51,
   "id": "03ebccaf",
   "metadata": {},
   "outputs": [
    {
     "name": "stdout",
     "output_type": "stream",
     "text": [
      "[12, 21, 'p', 'u', 'n', 'e']\n"
     ]
    }
   ],
   "source": [
    "print(t)"
   ]
  },
  {
   "cell_type": "code",
   "execution_count": 94,
   "id": "cedd5ded",
   "metadata": {},
   "outputs": [],
   "source": [
    "t1=[\"pune\"]"
   ]
  },
  {
   "cell_type": "code",
   "execution_count": 95,
   "id": "c0815c33",
   "metadata": {},
   "outputs": [
    {
     "name": "stdout",
     "output_type": "stream",
     "text": [
      "[12, 21, 'p', 'u', 'n', 'e', 'pune']\n"
     ]
    }
   ],
   "source": [
    "t.extend(t1)\n",
    "print(t)"
   ]
  },
  {
   "cell_type": "code",
   "execution_count": 62,
   "id": "04ffdbdb",
   "metadata": {},
   "outputs": [],
   "source": [
    "t1=[1,2,3,4,5]"
   ]
  },
  {
   "cell_type": "code",
   "execution_count": 63,
   "id": "6643af6b",
   "metadata": {},
   "outputs": [
    {
     "name": "stdout",
     "output_type": "stream",
     "text": [
      "[1, 2, 3, 4, 5, 999]\n"
     ]
    }
   ],
   "source": [
    "t1.extend([999])\n",
    "print(t1)"
   ]
  },
  {
   "cell_type": "code",
   "execution_count": 64,
   "id": "a12a7355",
   "metadata": {},
   "outputs": [
    {
     "name": "stdout",
     "output_type": "stream",
     "text": [
      "[1, 2, 3, 4, 5, 999, '-', '3', '.', '1', '4', '2']\n"
     ]
    }
   ],
   "source": [
    "t1.extend(\"-3.142\")  #[-3.142] extend only at values which are convertible to list like string,tuple,set,dict\n",
    "print(t1)"
   ]
  },
  {
   "cell_type": "code",
   "execution_count": 65,
   "id": "09c5a110",
   "metadata": {},
   "outputs": [],
   "source": [
    "t1.extend(\"My Batch JUNE 2024\")"
   ]
  },
  {
   "cell_type": "code",
   "execution_count": 66,
   "id": "7d606f74",
   "metadata": {},
   "outputs": [
    {
     "name": "stdout",
     "output_type": "stream",
     "text": [
      "[1, 2, 3, 4, 5, 999, '-', '3', '.', '1', '4', '2', 'M', 'y', ' ', 'B', 'a', 't', 'c', 'h', ' ', 'J', 'U', 'N', 'E', ' ', '2', '0', '2', '4']\n"
     ]
    }
   ],
   "source": [
    "print(t1)"
   ]
  },
  {
   "cell_type": "code",
   "execution_count": 67,
   "id": "6bae09f7",
   "metadata": {},
   "outputs": [
    {
     "ename": "TypeError",
     "evalue": "'bool' object is not iterable",
     "output_type": "error",
     "traceback": [
      "\u001b[1;31m---------------------------------------------------------------------------\u001b[0m",
      "\u001b[1;31mTypeError\u001b[0m                                 Traceback (most recent call last)",
      "Cell \u001b[1;32mIn[67], line 1\u001b[0m\n\u001b[1;32m----> 1\u001b[0m t1\u001b[38;5;241m.\u001b[39mextend(\u001b[38;5;28;01mTrue\u001b[39;00m)\n",
      "\u001b[1;31mTypeError\u001b[0m: 'bool' object is not iterable"
     ]
    }
   ],
   "source": [
    "t1.extend(True)\n"
   ]
  },
  {
   "cell_type": "code",
   "execution_count": 68,
   "id": "f7f7b3ce",
   "metadata": {},
   "outputs": [
    {
     "ename": "TypeError",
     "evalue": "'complex' object is not iterable",
     "output_type": "error",
     "traceback": [
      "\u001b[1;31m---------------------------------------------------------------------------\u001b[0m",
      "\u001b[1;31mTypeError\u001b[0m                                 Traceback (most recent call last)",
      "Cell \u001b[1;32mIn[68], line 1\u001b[0m\n\u001b[1;32m----> 1\u001b[0m t1\u001b[38;5;241m.\u001b[39mextend(\u001b[38;5;241m3\u001b[39m\u001b[38;5;241m+\u001b[39m\u001b[38;5;241m4\u001b[39mj)\n",
      "\u001b[1;31mTypeError\u001b[0m: 'complex' object is not iterable"
     ]
    }
   ],
   "source": [
    "t1.extend(3+4j)"
   ]
  },
  {
   "cell_type": "code",
   "execution_count": 79,
   "id": "ba46ac30",
   "metadata": {},
   "outputs": [],
   "source": [
    "t=[101,202,303]"
   ]
  },
  {
   "cell_type": "code",
   "execution_count": 80,
   "id": "5b54b5fb",
   "metadata": {},
   "outputs": [],
   "source": [
    "t.extend([404,505])"
   ]
  },
  {
   "cell_type": "code",
   "execution_count": 81,
   "id": "e449ff8f",
   "metadata": {},
   "outputs": [
    {
     "data": {
      "text/plain": [
       "[101, 202, 303, 404, 505]"
      ]
     },
     "execution_count": 81,
     "metadata": {},
     "output_type": "execute_result"
    }
   ],
   "source": [
    "t"
   ]
  },
  {
   "cell_type": "code",
   "execution_count": 82,
   "id": "6e5b51ee",
   "metadata": {},
   "outputs": [],
   "source": [
    "t.extend((-1,-2))"
   ]
  },
  {
   "cell_type": "code",
   "execution_count": 83,
   "id": "638ae545",
   "metadata": {},
   "outputs": [
    {
     "data": {
      "text/plain": [
       "[101, 202, 303, 404, 505, -1, -2]"
      ]
     },
     "execution_count": 83,
     "metadata": {},
     "output_type": "execute_result"
    }
   ],
   "source": [
    "t"
   ]
  },
  {
   "cell_type": "code",
   "execution_count": 84,
   "id": "46ffd7e7",
   "metadata": {},
   "outputs": [],
   "source": [
    "t.extend({'a','b'})"
   ]
  },
  {
   "cell_type": "code",
   "execution_count": 85,
   "id": "ebf5c4bd",
   "metadata": {},
   "outputs": [
    {
     "data": {
      "text/plain": [
       "[101, 202, 303, 404, 505, -1, -2, 'b', 'a']"
      ]
     },
     "execution_count": 85,
     "metadata": {},
     "output_type": "execute_result"
    }
   ],
   "source": [
    "t"
   ]
  },
  {
   "cell_type": "code",
   "execution_count": 88,
   "id": "f2d12b4f",
   "metadata": {},
   "outputs": [],
   "source": [
    "t.extend({'aaa':1,'bbb':2}) #in case of dict only keys are inserted"
   ]
  },
  {
   "cell_type": "code",
   "execution_count": 89,
   "id": "afe8dbfe",
   "metadata": {},
   "outputs": [
    {
     "data": {
      "text/plain": [
       "[101, 202, 303, 404, 505, -1, -2, 'b', 'a', 'aaa', 'bbb', 'aaa', 'bbb']"
      ]
     },
     "execution_count": 89,
     "metadata": {},
     "output_type": "execute_result"
    }
   ],
   "source": [
    "t"
   ]
  },
  {
   "cell_type": "code",
   "execution_count": 119,
   "id": "a83134bf",
   "metadata": {},
   "outputs": [],
   "source": [
    "t.extend(range(5))"
   ]
  },
  {
   "cell_type": "code",
   "execution_count": 120,
   "id": "fe1f8c53",
   "metadata": {},
   "outputs": [
    {
     "data": {
      "text/plain": [
       "[101, 202, 303, 404, 505, -1, -2, 'b', 'a', 'aaa', 'bbb', 0, 1, 2, 3, 4]"
      ]
     },
     "execution_count": 120,
     "metadata": {},
     "output_type": "execute_result"
    }
   ],
   "source": [
    "t"
   ]
  },
  {
   "cell_type": "code",
   "execution_count": 121,
   "id": "457e83c8",
   "metadata": {
    "scrolled": true
   },
   "outputs": [
    {
     "ename": "TypeError",
     "evalue": "'NoneType' object is not iterable",
     "output_type": "error",
     "traceback": [
      "\u001b[1;31m---------------------------------------------------------------------------\u001b[0m",
      "\u001b[1;31mTypeError\u001b[0m                                 Traceback (most recent call last)",
      "Cell \u001b[1;32mIn[121], line 1\u001b[0m\n\u001b[1;32m----> 1\u001b[0m t\u001b[38;5;241m.\u001b[39mextend(\u001b[38;5;28;01mNone\u001b[39;00m)\n",
      "\u001b[1;31mTypeError\u001b[0m: 'NoneType' object is not iterable"
     ]
    }
   ],
   "source": [
    "t.extend(None)"
   ]
  },
  {
   "cell_type": "raw",
   "id": "cf86d0b2",
   "metadata": {},
   "source": [
    "4. remove() method:"
   ]
  },
  {
   "cell_type": "markdown",
   "id": "5072d8c2",
   "metadata": {},
   "source": [
    "**We can use this method to remove specified item from the list.\n",
    "If the item present multiple times then only first occurrence will be removed.**"
   ]
  },
  {
   "cell_type": "code",
   "execution_count": 32,
   "id": "4b2541f3",
   "metadata": {},
   "outputs": [],
   "source": [
    "n=[101,202,101,303]"
   ]
  },
  {
   "cell_type": "code",
   "execution_count": 33,
   "id": "e57f905c",
   "metadata": {},
   "outputs": [],
   "source": [
    "n.remove(101)"
   ]
  },
  {
   "cell_type": "code",
   "execution_count": 34,
   "id": "1eab3694",
   "metadata": {},
   "outputs": [
    {
     "name": "stdout",
     "output_type": "stream",
     "text": [
      "[202, 101, 303]\n"
     ]
    }
   ],
   "source": [
    "print(n)"
   ]
  },
  {
   "cell_type": "raw",
   "id": "0b508070",
   "metadata": {},
   "source": [
    "If the specified item not present in list then we will get ValueError"
   ]
  },
  {
   "cell_type": "code",
   "execution_count": 35,
   "id": "9110e0d2",
   "metadata": {},
   "outputs": [],
   "source": [
    "n=[10,20,10,30]"
   ]
  },
  {
   "cell_type": "code",
   "execution_count": 36,
   "id": "730b2c84",
   "metadata": {},
   "outputs": [
    {
     "ename": "ValueError",
     "evalue": "list.remove(x): x not in list",
     "output_type": "error",
     "traceback": [
      "\u001b[1;31m---------------------------------------------------------------------------\u001b[0m",
      "\u001b[1;31mValueError\u001b[0m                                Traceback (most recent call last)",
      "Cell \u001b[1;32mIn[36], line 1\u001b[0m\n\u001b[1;32m----> 1\u001b[0m n\u001b[38;5;241m.\u001b[39mremove(\u001b[38;5;241m40\u001b[39m)\n",
      "\u001b[1;31mValueError\u001b[0m: list.remove(x): x not in list"
     ]
    }
   ],
   "source": [
    "n.remove(40)"
   ]
  },
  {
   "cell_type": "code",
   "execution_count": 37,
   "id": "d222b802",
   "metadata": {},
   "outputs": [
    {
     "name": "stdout",
     "output_type": "stream",
     "text": [
      "[10, 20, 10, 30]\n"
     ]
    }
   ],
   "source": [
    "print(n)"
   ]
  },
  {
   "cell_type": "code",
   "execution_count": null,
   "id": "da239bd1",
   "metadata": {},
   "outputs": [],
   "source": []
  },
  {
   "cell_type": "raw",
   "id": "4e01fac4",
   "metadata": {},
   "source": [
    "Note: Hence before using remove() method first we have to check specified element\n",
    "present in the list or not by using in operator."
   ]
  },
  {
   "cell_type": "markdown",
   "id": "0339ab1a",
   "metadata": {},
   "source": [
    "5. **pop() method:\n",
    "It removes and returns the last element of the list. \n",
    "This is only method which manipulates list and returns some element.**\n"
   ]
  },
  {
   "cell_type": "code",
   "execution_count": 90,
   "id": "7c2c1461",
   "metadata": {},
   "outputs": [],
   "source": [
    "n=[101,202,303,404] "
   ]
  },
  {
   "cell_type": "code",
   "execution_count": 91,
   "id": "633b188e",
   "metadata": {},
   "outputs": [
    {
     "name": "stdout",
     "output_type": "stream",
     "text": [
      "404\n"
     ]
    }
   ],
   "source": [
    "print(n.pop()) "
   ]
  },
  {
   "cell_type": "code",
   "execution_count": 92,
   "id": "7274c36d",
   "metadata": {},
   "outputs": [
    {
     "data": {
      "text/plain": [
       "[101, 202, 303]"
      ]
     },
     "execution_count": 92,
     "metadata": {},
     "output_type": "execute_result"
    }
   ],
   "source": [
    "n"
   ]
  },
  {
   "cell_type": "code",
   "execution_count": 93,
   "id": "289f5d89",
   "metadata": {},
   "outputs": [
    {
     "name": "stdout",
     "output_type": "stream",
     "text": [
      "303\n"
     ]
    }
   ],
   "source": [
    "print(n.pop()) #shift+tab"
   ]
  },
  {
   "cell_type": "code",
   "execution_count": 94,
   "id": "eed7c52a",
   "metadata": {},
   "outputs": [
    {
     "name": "stdout",
     "output_type": "stream",
     "text": [
      "[101, 202]\n"
     ]
    }
   ],
   "source": [
    "print(n)"
   ]
  },
  {
   "cell_type": "raw",
   "id": "55fdf82d",
   "metadata": {},
   "source": [
    "If the list is empty then pop() function raises IndexError"
   ]
  },
  {
   "cell_type": "code",
   "execution_count": 95,
   "id": "e5f12248",
   "metadata": {},
   "outputs": [
    {
     "ename": "IndexError",
     "evalue": "pop from empty list",
     "output_type": "error",
     "traceback": [
      "\u001b[1;31m---------------------------------------------------------------------------\u001b[0m",
      "\u001b[1;31mIndexError\u001b[0m                                Traceback (most recent call last)",
      "Cell \u001b[1;32mIn[95], line 2\u001b[0m\n\u001b[0;32m      1\u001b[0m n\u001b[38;5;241m=\u001b[39m[]\n\u001b[1;32m----> 2\u001b[0m \u001b[38;5;28mprint\u001b[39m(n\u001b[38;5;241m.\u001b[39mpop())\n",
      "\u001b[1;31mIndexError\u001b[0m: pop from empty list"
     ]
    }
   ],
   "source": [
    "n=[]\n",
    "print(n.pop())"
   ]
  },
  {
   "cell_type": "raw",
   "id": "3dad7160",
   "metadata": {},
   "source": [
    "Note:\n",
    "1. pop() is the only function which manipulates the list and returns some value.\n",
    "2. In general we can use append() and pop() functions to implement stack datastructure by using list,which follows \n",
    "LIFO(Last In First Out) order."
   ]
  },
  {
   "cell_type": "markdown",
   "id": "5585319c",
   "metadata": {},
   "source": [
    "In general we can use pop() function to remove last element of the list. \n",
    "But we can use to remove elements based on index.\n",
    "**n.pop(index)===>To remove and return element present at specified index.\n",
    "n.pop()==>To remove and return last element of the list**"
   ]
  },
  {
   "cell_type": "code",
   "execution_count": 102,
   "id": "2b795c90",
   "metadata": {},
   "outputs": [
    {
     "name": "stdout",
     "output_type": "stream",
     "text": [
      "60\n"
     ]
    }
   ],
   "source": [
    "n=[10,20,30,40,50,60] \n",
    "print(n.pop()) #60 "
   ]
  },
  {
   "cell_type": "code",
   "execution_count": 103,
   "id": "cb1ab63f",
   "metadata": {},
   "outputs": [
    {
     "name": "stdout",
     "output_type": "stream",
     "text": [
      "30\n",
      "50\n"
     ]
    }
   ],
   "source": [
    "print(n.pop(2))\n",
    "print(n.pop(-1))\n",
    "\n",
    "#n.pop()\n",
    "#Signature: n.pop(index=-1, /)"
   ]
  },
  {
   "cell_type": "code",
   "execution_count": 104,
   "id": "8eae5b53",
   "metadata": {},
   "outputs": [
    {
     "data": {
      "text/plain": [
       "[10, 20, 40]"
      ]
     },
     "execution_count": 104,
     "metadata": {},
     "output_type": "execute_result"
    }
   ],
   "source": [
    "n"
   ]
  },
  {
   "cell_type": "code",
   "execution_count": 107,
   "id": "0ea3a738",
   "metadata": {},
   "outputs": [
    {
     "ename": "ValueError",
     "evalue": "list.remove(x): x not in list",
     "output_type": "error",
     "traceback": [
      "\u001b[1;31m---------------------------------------------------------------------------\u001b[0m",
      "\u001b[1;31mValueError\u001b[0m                                Traceback (most recent call last)",
      "Cell \u001b[1;32mIn[107], line 1\u001b[0m\n\u001b[1;32m----> 1\u001b[0m n\u001b[38;5;241m.\u001b[39mremove(\u001b[38;5;241m40\u001b[39m)\n",
      "\u001b[1;31mValueError\u001b[0m: list.remove(x): x not in list"
     ]
    }
   ],
   "source": [
    "n.remove(40)"
   ]
  },
  {
   "cell_type": "code",
   "execution_count": 108,
   "id": "b7524827",
   "metadata": {},
   "outputs": [
    {
     "data": {
      "text/plain": [
       "[10, 20]"
      ]
     },
     "execution_count": 108,
     "metadata": {},
     "output_type": "execute_result"
    }
   ],
   "source": [
    "n"
   ]
  },
  {
   "cell_type": "code",
   "execution_count": 111,
   "id": "fdbb990a",
   "metadata": {},
   "outputs": [
    {
     "ename": "IndexError",
     "evalue": "pop index out of range",
     "output_type": "error",
     "traceback": [
      "\u001b[1;31m---------------------------------------------------------------------------\u001b[0m",
      "\u001b[1;31mIndexError\u001b[0m                                Traceback (most recent call last)",
      "Cell \u001b[1;32mIn[111], line 1\u001b[0m\n\u001b[1;32m----> 1\u001b[0m n\u001b[38;5;241m.\u001b[39mpop(\u001b[38;5;241m3\u001b[39m)\n",
      "\u001b[1;31mIndexError\u001b[0m: pop index out of range"
     ]
    }
   ],
   "source": [
    "n.pop(3)"
   ]
  },
  {
   "cell_type": "code",
   "execution_count": 110,
   "id": "b2371436",
   "metadata": {},
   "outputs": [
    {
     "data": {
      "text/plain": [
       "[10]"
      ]
     },
     "execution_count": 110,
     "metadata": {},
     "output_type": "execute_result"
    }
   ],
   "source": [
    "n"
   ]
  },
  {
   "cell_type": "code",
   "execution_count": 27,
   "id": "e2496e04",
   "metadata": {},
   "outputs": [
    {
     "name": "stdout",
     "output_type": "stream",
     "text": [
      "30\n"
     ]
    }
   ],
   "source": [
    "print(n.pop(1)) "
   ]
  },
  {
   "cell_type": "code",
   "execution_count": 28,
   "id": "5ab48c0e",
   "metadata": {},
   "outputs": [
    {
     "data": {
      "text/plain": [
       "[10, 50]"
      ]
     },
     "execution_count": 28,
     "metadata": {},
     "output_type": "execute_result"
    }
   ],
   "source": [
    "n"
   ]
  },
  {
   "cell_type": "code",
   "execution_count": 29,
   "id": "7aaa4809",
   "metadata": {},
   "outputs": [
    {
     "data": {
      "text/plain": [
       "50"
      ]
     },
     "execution_count": 29,
     "metadata": {},
     "output_type": "execute_result"
    }
   ],
   "source": [
    "n.pop()"
   ]
  },
  {
   "cell_type": "code",
   "execution_count": 30,
   "id": "a6078e74",
   "metadata": {},
   "outputs": [
    {
     "data": {
      "text/plain": [
       "[10]"
      ]
     },
     "execution_count": 30,
     "metadata": {},
     "output_type": "execute_result"
    }
   ],
   "source": [
    "n"
   ]
  },
  {
   "cell_type": "code",
   "execution_count": 31,
   "id": "a3012113",
   "metadata": {
    "scrolled": true
   },
   "outputs": [
    {
     "ename": "IndexError",
     "evalue": "pop index out of range",
     "output_type": "error",
     "traceback": [
      "\u001b[1;31m---------------------------------------------------------------------------\u001b[0m",
      "\u001b[1;31mIndexError\u001b[0m                                Traceback (most recent call last)",
      "Cell \u001b[1;32mIn[31], line 1\u001b[0m\n\u001b[1;32m----> 1\u001b[0m \u001b[38;5;28mprint\u001b[39m(n\u001b[38;5;241m.\u001b[39mpop(\u001b[38;5;241m-\u001b[39m\u001b[38;5;241m2\u001b[39m))\n",
      "\u001b[1;31mIndexError\u001b[0m: pop index out of range"
     ]
    }
   ],
   "source": [
    "print(n.pop(-2))"
   ]
  },
  {
   "cell_type": "raw",
   "id": "bb217723",
   "metadata": {},
   "source": [
    "Differences between remove() and pop()"
   ]
  },
  {
   "cell_type": "raw",
   "id": "bc68d407",
   "metadata": {},
   "source": [
    "             \n",
    "             remove()                                                                     pop()                                                                                                                            \n",
    "1) We can use to remove special element from the List.              1) We can use to remove last element from the List.\n",
    "2) It can’t return any value.                                       2) It returned removed element.\n",
    "3) If special element not available then we get VALUE ERROR.        3) If List is empty then we get Error."
   ]
  },
  {
   "cell_type": "raw",
   "id": "35048480",
   "metadata": {},
   "source": [
    "Note:\n",
    "List objects are dynamic. i.e based on our requirement we can increase and decrease the size.\n",
    "append(),insert() ,extend() ===>for increasing the size/growable nature\n",
    "remove(), pop() ======>for decreasing the size /shrinking nature"
   ]
  },
  {
   "cell_type": "markdown",
   "id": "3de72343",
   "metadata": {},
   "source": [
    "# III. Ordering elements of List:"
   ]
  },
  {
   "cell_type": "markdown",
   "id": "47dc7525",
   "metadata": {},
   "source": [
    "**1. reverse():\n",
    "We can use to reverse() order of elements of list. **"
   ]
  },
  {
   "cell_type": "code",
   "execution_count": 112,
   "id": "df011012",
   "metadata": {},
   "outputs": [],
   "source": [
    "n=[101,202,303,404] "
   ]
  },
  {
   "cell_type": "code",
   "execution_count": 113,
   "id": "e7167f72",
   "metadata": {},
   "outputs": [],
   "source": [
    "n.reverse() "
   ]
  },
  {
   "cell_type": "code",
   "execution_count": 114,
   "id": "b72a2358",
   "metadata": {},
   "outputs": [
    {
     "name": "stdout",
     "output_type": "stream",
     "text": [
      "[404, 303, 202, 101]\n"
     ]
    }
   ],
   "source": [
    "print(n)"
   ]
  },
  {
   "cell_type": "code",
   "execution_count": 115,
   "id": "9ad899b6",
   "metadata": {},
   "outputs": [
    {
     "data": {
      "text/plain": [
       "(19850, 0)"
      ]
     },
     "execution_count": 115,
     "metadata": {},
     "output_type": "execute_result"
    }
   ],
   "source": [
    "divmod(1449050,73) #(division,reminder)"
   ]
  },
  {
   "cell_type": "code",
   "execution_count": 116,
   "id": "421a150e",
   "metadata": {},
   "outputs": [
    {
     "data": {
      "text/plain": [
       "(10, 1)"
      ]
     },
     "execution_count": 116,
     "metadata": {},
     "output_type": "execute_result"
    }
   ],
   "source": [
    "divmod(101,10)"
   ]
  },
  {
   "cell_type": "raw",
   "id": "8938bb57",
   "metadata": {},
   "source": [
    "2. sort() function:\n",
    "In list by default insertion order is preserved.\n",
    "If want to sort the elements of list according to default natural sorting order then we should go for sort() method.\n",
    "For numbers ==>default natural sorting order is Ascending Order\n",
    "For Strings ==> default natural sorting order is Alphabetical Order"
   ]
  },
  {
   "cell_type": "code",
   "execution_count": 117,
   "id": "d56ca824",
   "metadata": {},
   "outputs": [],
   "source": [
    "n=[202,51,151,100,0,-1] "
   ]
  },
  {
   "cell_type": "code",
   "execution_count": 118,
   "id": "7f17c432",
   "metadata": {},
   "outputs": [
    {
     "name": "stdout",
     "output_type": "stream",
     "text": [
      "[-1, 0, 51, 100, 151, 202]\n"
     ]
    }
   ],
   "source": [
    "n.sort() \n",
    "print(n) #[0,5,10,15,20] "
   ]
  },
  {
   "cell_type": "code",
   "execution_count": null,
   "id": "84f06a22",
   "metadata": {},
   "outputs": [],
   "source": [
    "n"
   ]
  },
  {
   "cell_type": "code",
   "execution_count": 119,
   "id": "924959bb",
   "metadata": {},
   "outputs": [],
   "source": [
    "s=[\"Dog\",\"Dom\",\"Banana\",\"Cat\",\"Apple\"] \n",
    "s.sort()"
   ]
  },
  {
   "cell_type": "code",
   "execution_count": 120,
   "id": "bbfb4465",
   "metadata": {},
   "outputs": [
    {
     "name": "stdout",
     "output_type": "stream",
     "text": [
      "['Apple', 'Banana', 'Cat', 'Dog', 'Dom']\n"
     ]
    }
   ],
   "source": [
    " \n",
    "print(s) #['Apple','Banana','Cat','Dog']"
   ]
  },
  {
   "cell_type": "markdown",
   "id": "cc73290e",
   "metadata": {},
   "source": [
    "**Note: To use sort() function, compulsory list should contain only homogeneous elements.\n",
    "    otherwise we will get TypeError**"
   ]
  },
  {
   "cell_type": "code",
   "execution_count": 121,
   "id": "a2cb350a",
   "metadata": {},
   "outputs": [],
   "source": [
    "n=[20,10,\"A\",\"B\"]"
   ]
  },
  {
   "cell_type": "code",
   "execution_count": 122,
   "id": "c8c30d24",
   "metadata": {},
   "outputs": [
    {
     "ename": "TypeError",
     "evalue": "'<' not supported between instances of 'str' and 'int'",
     "output_type": "error",
     "traceback": [
      "\u001b[1;31m---------------------------------------------------------------------------\u001b[0m",
      "\u001b[1;31mTypeError\u001b[0m                                 Traceback (most recent call last)",
      "Cell \u001b[1;32mIn[122], line 1\u001b[0m\n\u001b[1;32m----> 1\u001b[0m n\u001b[38;5;241m.\u001b[39msort()\n",
      "\u001b[1;31mTypeError\u001b[0m: '<' not supported between instances of 'str' and 'int'"
     ]
    }
   ],
   "source": [
    "n.sort()"
   ]
  },
  {
   "cell_type": "code",
   "execution_count": 123,
   "id": "f2487f06",
   "metadata": {},
   "outputs": [
    {
     "name": "stdout",
     "output_type": "stream",
     "text": [
      "[20, 10, 'A', 'B']\n"
     ]
    }
   ],
   "source": [
    "print(n)"
   ]
  },
  {
   "cell_type": "raw",
   "id": "9dc97304",
   "metadata": {},
   "source": [
    "To sort in reverse of default natural sorting order:\n",
    "We can sort according to reverse of default natural sorting order by using reverse=True argument."
   ]
  },
  {
   "cell_type": "code",
   "execution_count": 124,
   "id": "956934b0",
   "metadata": {},
   "outputs": [
    {
     "name": "stdout",
     "output_type": "stream",
     "text": [
      "[10, 20, 30, 40]\n"
     ]
    }
   ],
   "source": [
    "n=[40,10,30,20] \n",
    "n.sort()\n",
    "print(n)"
   ]
  },
  {
   "cell_type": "code",
   "execution_count": 128,
   "id": "57a82153",
   "metadata": {},
   "outputs": [
    {
     "name": "stdout",
     "output_type": "stream",
     "text": [
      "[40, 30, 20, 10]\n"
     ]
    }
   ],
   "source": [
    "n.sort(reverse=True) \n",
    "print(n)"
   ]
  },
  {
   "cell_type": "code",
   "execution_count": 131,
   "id": "1f24f509",
   "metadata": {},
   "outputs": [
    {
     "name": "stdout",
     "output_type": "stream",
     "text": [
      "[10, 20, 30, 40]\n"
     ]
    }
   ],
   "source": [
    "n.sort(reverse=False) \n",
    "print(n)"
   ]
  },
  {
   "cell_type": "markdown",
   "id": "8a1f1b39",
   "metadata": {},
   "source": [
    "# Aliasing and Cloning of List objects:\n",
    "The process of giving another reference variable to the existing list is called aliasing."
   ]
  },
  {
   "cell_type": "code",
   "execution_count": 1,
   "id": "c6ffcb38",
   "metadata": {},
   "outputs": [],
   "source": [
    "x=[10,20,30,40] \n",
    "#z = x   # here z is called alias of x as it's referrring same value as x\n",
    "#print(x,z)"
   ]
  },
  {
   "cell_type": "code",
   "execution_count": 2,
   "id": "7385fdd7",
   "metadata": {},
   "outputs": [
    {
     "name": "stdout",
     "output_type": "stream",
     "text": [
      "2256648933824\n"
     ]
    }
   ],
   "source": [
    "print(id(x)) "
   ]
  },
  {
   "cell_type": "code",
   "execution_count": 3,
   "id": "3cf63d4a",
   "metadata": {},
   "outputs": [],
   "source": [
    "y=x "
   ]
  },
  {
   "cell_type": "code",
   "execution_count": 4,
   "id": "59dbf55a",
   "metadata": {},
   "outputs": [
    {
     "name": "stdout",
     "output_type": "stream",
     "text": [
      "2256648933824\n"
     ]
    }
   ],
   "source": [
    "print(id(y))"
   ]
  },
  {
   "cell_type": "code",
   "execution_count": 136,
   "id": "778f5066",
   "metadata": {},
   "outputs": [
    {
     "data": {
      "text/plain": [
       "([10, 20, 30, 40], [10, 20, 30, 40])"
      ]
     },
     "execution_count": 136,
     "metadata": {},
     "output_type": "execute_result"
    }
   ],
   "source": [
    "x,y"
   ]
  },
  {
   "cell_type": "code",
   "execution_count": 137,
   "id": "861f3b18",
   "metadata": {},
   "outputs": [],
   "source": [
    "x[0]=-999"
   ]
  },
  {
   "cell_type": "code",
   "execution_count": 138,
   "id": "65c14d2a",
   "metadata": {},
   "outputs": [
    {
     "data": {
      "text/plain": [
       "([-999, 20, 30, 40], [-999, 20, 30, 40])"
      ]
     },
     "execution_count": 138,
     "metadata": {},
     "output_type": "execute_result"
    }
   ],
   "source": [
    "x,y"
   ]
  },
  {
   "cell_type": "code",
   "execution_count": null,
   "id": "1dba2d84",
   "metadata": {},
   "outputs": [],
   "source": []
  },
  {
   "cell_type": "raw",
   "id": "75eda51c",
   "metadata": {},
   "source": [
    "The problem in this approach is by using one reference variable \n",
    "if we are changing content,then those changes will be reflected to the other reference variable."
   ]
  },
  {
   "cell_type": "code",
   "execution_count": 139,
   "id": "dfb1ab7a",
   "metadata": {},
   "outputs": [],
   "source": [
    "x=[10,20,30,40] \n",
    "y=x "
   ]
  },
  {
   "cell_type": "code",
   "execution_count": 140,
   "id": "3eab52f4",
   "metadata": {},
   "outputs": [],
   "source": [
    "y[1]=777 "
   ]
  },
  {
   "cell_type": "code",
   "execution_count": 141,
   "id": "eb854c90",
   "metadata": {},
   "outputs": [
    {
     "name": "stdout",
     "output_type": "stream",
     "text": [
      "[10, 777, 30, 40] [10, 777, 30, 40]\n"
     ]
    }
   ],
   "source": [
    "print(x,y)"
   ]
  },
  {
   "cell_type": "markdown",
   "id": "cf83164e",
   "metadata": {},
   "source": [
    "**To overcome this problem we should go for cloning. \n",
    "The process of creating exactly duplicate independent object is called cloning.\n",
    "We can implement cloning by using slice operator or by using copy() function**"
   ]
  },
  {
   "cell_type": "raw",
   "id": "873a0795",
   "metadata": {},
   "source": [
    "1. By using slice operator: "
   ]
  },
  {
   "cell_type": "code",
   "execution_count": 142,
   "id": "14e2a5ed",
   "metadata": {},
   "outputs": [],
   "source": [
    "x=[10,20,30,40] "
   ]
  },
  {
   "cell_type": "code",
   "execution_count": 143,
   "id": "30c5dd87",
   "metadata": {},
   "outputs": [
    {
     "data": {
      "text/plain": [
       "[10, 20, 30, 40]"
      ]
     },
     "execution_count": 143,
     "metadata": {},
     "output_type": "execute_result"
    }
   ],
   "source": [
    "x[::]"
   ]
  },
  {
   "cell_type": "code",
   "execution_count": 144,
   "id": "6713a5c3",
   "metadata": {},
   "outputs": [],
   "source": [
    "y=x[::]"
   ]
  },
  {
   "cell_type": "code",
   "execution_count": 145,
   "id": "19295057",
   "metadata": {},
   "outputs": [],
   "source": [
    "y[1]=777 "
   ]
  },
  {
   "cell_type": "code",
   "execution_count": 146,
   "id": "0808408e",
   "metadata": {},
   "outputs": [
    {
     "data": {
      "text/plain": [
       "[10, 20, 30, 40]"
      ]
     },
     "execution_count": 146,
     "metadata": {},
     "output_type": "execute_result"
    }
   ],
   "source": [
    "x"
   ]
  },
  {
   "cell_type": "code",
   "execution_count": 147,
   "id": "8cbbe09b",
   "metadata": {},
   "outputs": [
    {
     "name": "stdout",
     "output_type": "stream",
     "text": [
      "[10, 20, 30, 40]\n",
      "[10, 777, 30, 40]\n"
     ]
    }
   ],
   "source": [
    "print(x)#[10,20,30,40] \n",
    "print(y)#[10,777,30,40]"
   ]
  },
  {
   "cell_type": "code",
   "execution_count": null,
   "id": "23145fd0",
   "metadata": {},
   "outputs": [],
   "source": [
    "id(x),id(y)"
   ]
  },
  {
   "cell_type": "code",
   "execution_count": null,
   "id": "1becc7f8",
   "metadata": {},
   "outputs": [],
   "source": []
  },
  {
   "cell_type": "raw",
   "id": "84d7a4fc",
   "metadata": {},
   "source": [
    "2. By using copy() function: "
   ]
  },
  {
   "cell_type": "code",
   "execution_count": 148,
   "id": "b95d065a",
   "metadata": {},
   "outputs": [],
   "source": [
    "x=[10,20,30,40] \n",
    "y=x.copy()"
   ]
  },
  {
   "cell_type": "code",
   "execution_count": 149,
   "id": "77aa4ecc",
   "metadata": {},
   "outputs": [],
   "source": [
    "y[1]=777 "
   ]
  },
  {
   "cell_type": "code",
   "execution_count": 150,
   "id": "b30ed041",
   "metadata": {},
   "outputs": [
    {
     "name": "stdout",
     "output_type": "stream",
     "text": [
      "[10, 20, 30, 40]\n",
      "[10, 777, 30, 40]\n"
     ]
    }
   ],
   "source": [
    "print(x) #[10,20,30,40] \n",
    "print(y) #[10,777,30,40]"
   ]
  },
  {
   "cell_type": "code",
   "execution_count": 155,
   "id": "16c7ff5d",
   "metadata": {},
   "outputs": [
    {
     "name": "stdout",
     "output_type": "stream",
     "text": [
      "[10, 20, 30, 40] [10, 20, 30, 40]\n",
      "[10, 20, 30, 40] [10, 20, 30, 40, 50]\n"
     ]
    }
   ],
   "source": [
    "# BY using for loop\n",
    "x=[10,20,30,40] \n",
    "y =[]\n",
    "for i in x:\n",
    "    y.append(i)\n",
    "    \n",
    "print(x,y)\n",
    "y.append(50)\n",
    "print(x,y)"
   ]
  },
  {
   "cell_type": "code",
   "execution_count": null,
   "id": "27e1649a",
   "metadata": {},
   "outputs": [],
   "source": []
  },
  {
   "cell_type": "raw",
   "id": "4b8ed3ed",
   "metadata": {},
   "source": [
    "Q. Difference between = operator and copy() function\n",
    "= operator meant for aliasing copy() function meant for cloning"
   ]
  },
  {
   "cell_type": "code",
   "execution_count": null,
   "id": "18e51bc2",
   "metadata": {},
   "outputs": [],
   "source": []
  },
  {
   "cell_type": "markdown",
   "id": "6f3859e8",
   "metadata": {},
   "source": [
    "# Using Mathematical operators for List Objects:"
   ]
  },
  {
   "cell_type": "code",
   "execution_count": 156,
   "id": "d7bb0940",
   "metadata": {},
   "outputs": [
    {
     "data": {
      "text/plain": [
       "5"
      ]
     },
     "execution_count": 156,
     "metadata": {},
     "output_type": "execute_result"
    }
   ],
   "source": [
    "2+3"
   ]
  },
  {
   "cell_type": "code",
   "execution_count": 157,
   "id": "39090d5f",
   "metadata": {},
   "outputs": [
    {
     "data": {
      "text/plain": [
       "6"
      ]
     },
     "execution_count": 157,
     "metadata": {},
     "output_type": "execute_result"
    }
   ],
   "source": [
    "2*3"
   ]
  },
  {
   "cell_type": "code",
   "execution_count": 158,
   "id": "f4bf9724",
   "metadata": {},
   "outputs": [
    {
     "data": {
      "text/plain": [
       "'PythonPyspark'"
      ]
     },
     "execution_count": 158,
     "metadata": {},
     "output_type": "execute_result"
    }
   ],
   "source": [
    "\"Python\" + \"Pyspark\""
   ]
  },
  {
   "cell_type": "code",
   "execution_count": 159,
   "id": "72a6f1ec",
   "metadata": {},
   "outputs": [
    {
     "data": {
      "text/plain": [
       "'Python Pyspark'"
      ]
     },
     "execution_count": 159,
     "metadata": {},
     "output_type": "execute_result"
    }
   ],
   "source": [
    "\"Python\"+\" \"+\"Pyspark\""
   ]
  },
  {
   "cell_type": "code",
   "execution_count": 160,
   "id": "6f1dab23",
   "metadata": {},
   "outputs": [
    {
     "data": {
      "text/plain": [
       "'PythonPythonPythonPythonPythonPythonPythonPythonPythonPython'"
      ]
     },
     "execution_count": 160,
     "metadata": {},
     "output_type": "execute_result"
    }
   ],
   "source": [
    "\"Python\" * 10"
   ]
  },
  {
   "cell_type": "raw",
   "id": "76a1ac49",
   "metadata": {},
   "source": [
    "We can use + and * operators for List objects."
   ]
  },
  {
   "cell_type": "raw",
   "id": "5744a783",
   "metadata": {},
   "source": [
    "1. Concatenation operator(+):"
   ]
  },
  {
   "cell_type": "code",
   "execution_count": null,
   "id": "8694a901",
   "metadata": {},
   "outputs": [],
   "source": [
    "We can use + to concatenate 2 lists into a single list "
   ]
  },
  {
   "cell_type": "code",
   "execution_count": 112,
   "id": "63d707b6",
   "metadata": {},
   "outputs": [],
   "source": [
    "a=[101,202,303] \n",
    "b=[404,505,606] "
   ]
  },
  {
   "cell_type": "code",
   "execution_count": 113,
   "id": "a2568576",
   "metadata": {},
   "outputs": [],
   "source": [
    "c=a+b "
   ]
  },
  {
   "cell_type": "code",
   "execution_count": 114,
   "id": "83f5adfb",
   "metadata": {},
   "outputs": [
    {
     "name": "stdout",
     "output_type": "stream",
     "text": [
      "[101, 202, 303, 404, 505, 606]\n"
     ]
    }
   ],
   "source": [
    "print(c)"
   ]
  },
  {
   "cell_type": "code",
   "execution_count": 115,
   "id": "2122882a",
   "metadata": {},
   "outputs": [
    {
     "ename": "TypeError",
     "evalue": "can only concatenate list (not \"str\") to list",
     "output_type": "error",
     "traceback": [
      "\u001b[1;31m---------------------------------------------------------------------------\u001b[0m",
      "\u001b[1;31mTypeError\u001b[0m                                 Traceback (most recent call last)",
      "Cell \u001b[1;32mIn[115], line 1\u001b[0m\n\u001b[1;32m----> 1\u001b[0m [\u001b[38;5;241m11\u001b[39m,\u001b[38;5;241m22\u001b[39m,\u001b[38;5;241m33\u001b[39m]\u001b[38;5;241m+\u001b[39m\u001b[38;5;124m\"\u001b[39m\u001b[38;5;124mpython\u001b[39m\u001b[38;5;124m\"\u001b[39m\n",
      "\u001b[1;31mTypeError\u001b[0m: can only concatenate list (not \"str\") to list"
     ]
    }
   ],
   "source": [
    "[11,22,33]+\"python\""
   ]
  },
  {
   "cell_type": "raw",
   "id": "657dcc96",
   "metadata": {},
   "source": [
    "Note: To use + operator compulsory both arguments should be list objects,otherwise we will get TypeError.\n",
    "Eg:\n",
    "c=a+40 ==>TypeError: can only concatenate list (not \"int\") to list \n",
    "c=a+[40] ==>valid"
   ]
  },
  {
   "cell_type": "raw",
   "id": "cfa13757",
   "metadata": {},
   "source": [
    "2. Repetition Operator(*):"
   ]
  },
  {
   "cell_type": "raw",
   "id": "c821f2fc",
   "metadata": {},
   "source": [
    "We can use repetition operator * to repeat elements of list specified number of times"
   ]
  },
  {
   "cell_type": "code",
   "execution_count": 7,
   "id": "6b87e980",
   "metadata": {},
   "outputs": [],
   "source": [
    "x=[1001,2002,3003] "
   ]
  },
  {
   "cell_type": "code",
   "execution_count": 8,
   "id": "4b05e360",
   "metadata": {},
   "outputs": [
    {
     "data": {
      "text/plain": [
       "[1001, 2002, 3003, 1001, 2002, 3003, 1001, 2002, 3003]"
      ]
     },
     "execution_count": 8,
     "metadata": {},
     "output_type": "execute_result"
    }
   ],
   "source": [
    "x*3"
   ]
  },
  {
   "cell_type": "code",
   "execution_count": 9,
   "id": "674581e5",
   "metadata": {},
   "outputs": [
    {
     "name": "stdout",
     "output_type": "stream",
     "text": [
      "[1001, 2002, 3003, 1001, 2002, 3003, 1001, 2002, 3003]\n"
     ]
    }
   ],
   "source": [
    "y=x*3 \n",
    "print(y)#[10,20,30,10,20,30,10,20,30]"
   ]
  },
  {
   "cell_type": "markdown",
   "id": "09fa21ca",
   "metadata": {},
   "source": [
    "# Comparing List objects"
   ]
  },
  {
   "cell_type": "raw",
   "id": "8433de79",
   "metadata": {},
   "source": [
    "We can use comparison operators for List objects."
   ]
  },
  {
   "cell_type": "code",
   "execution_count": 7,
   "id": "b928aa51-08fd-41ba-a5fa-bcc886b346b4",
   "metadata": {},
   "outputs": [],
   "source": [
    "x=[\"Python\",\"Data Science\",\"Data Engineer\"] \n",
    "y=[\"Python\",\"Data Science\",\"Data Engineer\"] \n",
    "z=['PYTHON', 'DATA SCIENCE', 'DATA ENGINEER']"
   ]
  },
  {
   "cell_type": "code",
   "execution_count": 8,
   "id": "72404657-42ec-4e13-bb8b-ef349542220e",
   "metadata": {},
   "outputs": [
    {
     "data": {
      "text/plain": [
       "1315600022784"
      ]
     },
     "execution_count": 8,
     "metadata": {},
     "output_type": "execute_result"
    }
   ],
   "source": [
    "id(x)"
   ]
  },
  {
   "cell_type": "code",
   "execution_count": 9,
   "id": "da2922d3-bf15-4059-860d-92d856ffe96f",
   "metadata": {},
   "outputs": [
    {
     "data": {
      "text/plain": [
       "1315599915584"
      ]
     },
     "execution_count": 9,
     "metadata": {},
     "output_type": "execute_result"
    }
   ],
   "source": [
    "id(y)"
   ]
  },
  {
   "cell_type": "markdown",
   "id": "38aa7f59",
   "metadata": {},
   "source": [
    "# diff betwn is and \"==\" operator"
   ]
  },
  {
   "cell_type": "raw",
   "id": "dea23e50",
   "metadata": {},
   "source": [
    "is ----->checks both content and id\n",
    "if both(content and id) are same then we will get True\n",
    "otherwise False"
   ]
  },
  {
   "cell_type": "raw",
   "id": "e1d5488b",
   "metadata": {},
   "source": [
    "\"==\"---->checks only content\n",
    "if content is same then we will get True\n",
    "otherwise False"
   ]
  },
  {
   "cell_type": "code",
   "execution_count": 10,
   "id": "c934cdcb",
   "metadata": {},
   "outputs": [
    {
     "data": {
      "text/plain": [
       "False"
      ]
     },
     "execution_count": 10,
     "metadata": {},
     "output_type": "execute_result"
    }
   ],
   "source": [
    "x is y"
   ]
  },
  {
   "cell_type": "code",
   "execution_count": 11,
   "id": "a4e25ad0",
   "metadata": {},
   "outputs": [
    {
     "name": "stdout",
     "output_type": "stream",
     "text": [
      "True\n"
     ]
    }
   ],
   "source": [
    "print(x==y)"
   ]
  },
  {
   "cell_type": "code",
   "execution_count": 12,
   "id": "ab34c0db",
   "metadata": {},
   "outputs": [
    {
     "name": "stdout",
     "output_type": "stream",
     "text": [
      "False\n"
     ]
    }
   ],
   "source": [
    "print(x==z) "
   ]
  },
  {
   "cell_type": "code",
   "execution_count": 13,
   "id": "825cfdd5",
   "metadata": {},
   "outputs": [
    {
     "name": "stdout",
     "output_type": "stream",
     "text": [
      "True\n"
     ]
    }
   ],
   "source": [
    "print(x != z)"
   ]
  },
  {
   "cell_type": "raw",
   "id": "85c2ed6a",
   "metadata": {},
   "source": [
    "Note:\n",
    "Whenever we are using comparison operators(==,!=) \n",
    "for List objects then the following should be considered \n",
    "1. The number of elements \n",
    "2. The order of elements \n",
    "3. The content of elements (case sensitive)\n",
    "Note: When ever we are using relatational operators(<,<=,>,>=) between List objects,\n",
    "only first element comparison will be performed."
   ]
  },
  {
   "cell_type": "code",
   "execution_count": 172,
   "id": "0d8245e7",
   "metadata": {},
   "outputs": [],
   "source": [
    "x=[50,20,30] \n",
    "y=[40,50,60,100,200] "
   ]
  },
  {
   "cell_type": "code",
   "execution_count": 173,
   "id": "f50e524a",
   "metadata": {},
   "outputs": [
    {
     "name": "stdout",
     "output_type": "stream",
     "text": [
      "True\n"
     ]
    }
   ],
   "source": [
    "print(x>y) #True "
   ]
  },
  {
   "cell_type": "code",
   "execution_count": 174,
   "id": "c16027a1",
   "metadata": {},
   "outputs": [
    {
     "name": "stdout",
     "output_type": "stream",
     "text": [
      "True\n"
     ]
    }
   ],
   "source": [
    "print(x>=y)# True "
   ]
  },
  {
   "cell_type": "code",
   "execution_count": 175,
   "id": "1c9bfad2",
   "metadata": {},
   "outputs": [
    {
     "name": "stdout",
     "output_type": "stream",
     "text": [
      "False\n"
     ]
    }
   ],
   "source": [
    "print(x<y) #False "
   ]
  },
  {
   "cell_type": "code",
   "execution_count": 176,
   "id": "3ac8ec91",
   "metadata": {},
   "outputs": [
    {
     "name": "stdout",
     "output_type": "stream",
     "text": [
      "False\n"
     ]
    }
   ],
   "source": [
    "print(x<=y)# False"
   ]
  },
  {
   "cell_type": "code",
   "execution_count": 177,
   "id": "c00f29a1-72ee-451b-8377-e51c36dca7ed",
   "metadata": {},
   "outputs": [
    {
     "data": {
      "text/plain": [
       "('A', 'Z')"
      ]
     },
     "execution_count": 177,
     "metadata": {},
     "output_type": "execute_result"
    }
   ],
   "source": [
    "chr(65),chr(90),"
   ]
  },
  {
   "cell_type": "code",
   "execution_count": 178,
   "id": "da9040a7",
   "metadata": {},
   "outputs": [
    {
     "data": {
      "text/plain": [
       "(65, 90, 97, 122)"
      ]
     },
     "execution_count": 178,
     "metadata": {},
     "output_type": "execute_result"
    }
   ],
   "source": [
    "ord(\"A\"),ord(\"Z\"),ord(\"a\"),ord(\"z\")"
   ]
  },
  {
   "cell_type": "code",
   "execution_count": 179,
   "id": "2398a5e0",
   "metadata": {},
   "outputs": [
    {
     "data": {
      "text/plain": [
       "False"
      ]
     },
     "execution_count": 179,
     "metadata": {},
     "output_type": "execute_result"
    }
   ],
   "source": [
    "\"A\">\"a\""
   ]
  },
  {
   "cell_type": "code",
   "execution_count": 180,
   "id": "09d9bf4b",
   "metadata": {},
   "outputs": [
    {
     "data": {
      "text/plain": [
       "False"
      ]
     },
     "execution_count": 180,
     "metadata": {},
     "output_type": "execute_result"
    }
   ],
   "source": [
    "\"Z\">\"z\""
   ]
  },
  {
   "cell_type": "code",
   "execution_count": 181,
   "id": "7941a572",
   "metadata": {},
   "outputs": [],
   "source": [
    "x=[\"Dog\",\"Cat\",\"Rat\"] \n",
    "y=[\"Rat\",\"Cat\",\"Dog\"] "
   ]
  },
  {
   "cell_type": "code",
   "execution_count": 182,
   "id": "d789abb8-a1aa-412c-972b-6ae53d058bbd",
   "metadata": {},
   "outputs": [
    {
     "name": "stdout",
     "output_type": "stream",
     "text": [
      "False\n"
     ]
    }
   ],
   "source": [
    "print(x>y) "
   ]
  },
  {
   "cell_type": "code",
   "execution_count": 27,
   "id": "fd5b4c7d-1ebf-46f8-a3e4-1fffba5b325b",
   "metadata": {},
   "outputs": [
    {
     "name": "stdout",
     "output_type": "stream",
     "text": [
      "False\n"
     ]
    }
   ],
   "source": [
    "print(x>=y)"
   ]
  },
  {
   "cell_type": "code",
   "execution_count": 28,
   "id": "343bad75-8d8c-45db-857c-06af068c6e3f",
   "metadata": {},
   "outputs": [
    {
     "name": "stdout",
     "output_type": "stream",
     "text": [
      "True\n"
     ]
    }
   ],
   "source": [
    "print(x<y) "
   ]
  },
  {
   "cell_type": "code",
   "execution_count": 29,
   "id": "484bccf7-cef9-4064-9f32-f1515d350616",
   "metadata": {},
   "outputs": [
    {
     "name": "stdout",
     "output_type": "stream",
     "text": [
      "True\n"
     ]
    }
   ],
   "source": [
    "print(x<=y)"
   ]
  },
  {
   "cell_type": "code",
   "execution_count": 30,
   "id": "acbbcac0",
   "metadata": {},
   "outputs": [],
   "source": [
    "x=[\"dog\",\"Cat\",\"Rat\"] \n",
    "y=[\"Rat\",\"Cat\",\"Dog\"] "
   ]
  },
  {
   "cell_type": "code",
   "execution_count": 31,
   "id": "1f07ae1f",
   "metadata": {},
   "outputs": [
    {
     "data": {
      "text/plain": [
       "False"
      ]
     },
     "execution_count": 31,
     "metadata": {},
     "output_type": "execute_result"
    }
   ],
   "source": [
    "x<y"
   ]
  },
  {
   "cell_type": "code",
   "execution_count": 32,
   "id": "d51abc6e-ada5-4fb0-bb30-af5a4b679ea2",
   "metadata": {},
   "outputs": [
    {
     "data": {
      "text/plain": [
       "True"
      ]
     },
     "execution_count": 32,
     "metadata": {},
     "output_type": "execute_result"
    }
   ],
   "source": [
    "x>y"
   ]
  },
  {
   "cell_type": "markdown",
   "id": "1fb31400",
   "metadata": {},
   "source": [
    "# Membership operators:"
   ]
  },
  {
   "cell_type": "raw",
   "id": "f773aef2",
   "metadata": {},
   "source": [
    "We can check whether element is a member of the list or not by using memebership operators.\n",
    "in operator not in operator"
   ]
  },
  {
   "cell_type": "code",
   "execution_count": 33,
   "id": "df219eb4",
   "metadata": {},
   "outputs": [],
   "source": [
    "n=[101,202,303,404] "
   ]
  },
  {
   "cell_type": "code",
   "execution_count": 34,
   "id": "e961e64c",
   "metadata": {},
   "outputs": [
    {
     "data": {
      "text/plain": [
       "True"
      ]
     },
     "execution_count": 34,
     "metadata": {},
     "output_type": "execute_result"
    }
   ],
   "source": [
    "101 in [101,202,303,404] "
   ]
  },
  {
   "cell_type": "code",
   "execution_count": 35,
   "id": "31a8b263",
   "metadata": {},
   "outputs": [
    {
     "data": {
      "text/plain": [
       "False"
      ]
     },
     "execution_count": 35,
     "metadata": {},
     "output_type": "execute_result"
    }
   ],
   "source": [
    "101 not in [101,202,303,404] "
   ]
  },
  {
   "cell_type": "code",
   "execution_count": 36,
   "id": "2b9dfdd6",
   "metadata": {},
   "outputs": [
    {
     "name": "stdout",
     "output_type": "stream",
     "text": [
      "True\n"
     ]
    }
   ],
   "source": [
    "print (303 in n)"
   ]
  },
  {
   "cell_type": "code",
   "execution_count": 37,
   "id": "40533d04",
   "metadata": {},
   "outputs": [
    {
     "name": "stdout",
     "output_type": "stream",
     "text": [
      "False\n"
     ]
    }
   ],
   "source": [
    "print (101 not in n) "
   ]
  },
  {
   "cell_type": "code",
   "execution_count": 38,
   "id": "b225b097",
   "metadata": {},
   "outputs": [
    {
     "name": "stdout",
     "output_type": "stream",
     "text": [
      "False\n"
     ]
    }
   ],
   "source": [
    "print (505 in n) "
   ]
  },
  {
   "cell_type": "code",
   "execution_count": 39,
   "id": "3c0b1804",
   "metadata": {},
   "outputs": [
    {
     "name": "stdout",
     "output_type": "stream",
     "text": [
      "True\n"
     ]
    }
   ],
   "source": [
    "print (505 not in n)"
   ]
  },
  {
   "cell_type": "markdown",
   "id": "4309b74d",
   "metadata": {},
   "source": [
    "# clear() method:"
   ]
  },
  {
   "cell_type": "raw",
   "id": "f44d4282",
   "metadata": {},
   "source": [
    "We can use clear() function to remove all elements of List."
   ]
  },
  {
   "cell_type": "code",
   "execution_count": 40,
   "id": "9ed3b0ac",
   "metadata": {},
   "outputs": [
    {
     "name": "stdout",
     "output_type": "stream",
     "text": [
      "[101, 202, 303, 404, 505]\n"
     ]
    }
   ],
   "source": [
    "n=[101,202,303,404,505] \n",
    "print(n) "
   ]
  },
  {
   "cell_type": "code",
   "execution_count": 41,
   "id": "7676628f",
   "metadata": {},
   "outputs": [],
   "source": [
    "# list.clear()\n",
    "n.clear()"
   ]
  },
  {
   "cell_type": "code",
   "execution_count": 42,
   "id": "9031ff2c",
   "metadata": {},
   "outputs": [
    {
     "name": "stdout",
     "output_type": "stream",
     "text": [
      "[]\n"
     ]
    }
   ],
   "source": [
    "print(n)"
   ]
  },
  {
   "cell_type": "code",
   "execution_count": 183,
   "id": "60c4d9d6-2850-4119-a666-2615055ee00b",
   "metadata": {},
   "outputs": [
    {
     "ename": "NameError",
     "evalue": "name 'n' is not defined",
     "output_type": "error",
     "traceback": [
      "\u001b[1;31m---------------------------------------------------------------------------\u001b[0m",
      "\u001b[1;31mNameError\u001b[0m                                 Traceback (most recent call last)",
      "Cell \u001b[1;32mIn[183], line 2\u001b[0m\n\u001b[0;32m      1\u001b[0m \u001b[38;5;28;01mdel\u001b[39;00m n\n\u001b[1;32m----> 2\u001b[0m \u001b[38;5;28mprint\u001b[39m(n)\n",
      "\u001b[1;31mNameError\u001b[0m: name 'n' is not defined"
     ]
    }
   ],
   "source": [
    "del n\n",
    "print(n)"
   ]
  },
  {
   "cell_type": "markdown",
   "id": "6cc91237",
   "metadata": {},
   "source": [
    "# Nested Lists:"
   ]
  },
  {
   "cell_type": "raw",
   "id": "7f51b69c",
   "metadata": {},
   "source": [
    "Sometimes we can take one list inside another list. Such type of lists are called nested lists."
   ]
  },
  {
   "cell_type": "code",
   "execution_count": 10,
   "id": "713ad121-cdb1-4f7e-863c-fc33beffdbf0",
   "metadata": {},
   "outputs": [],
   "source": [
    "my_list=['python','data analysis',['machine learning','SQL'],100,3.142]"
   ]
  },
  {
   "cell_type": "code",
   "execution_count": 48,
   "id": "5855af23-c050-4a55-8c5a-335a7c6eea50",
   "metadata": {},
   "outputs": [
    {
     "data": {
      "text/plain": [
       "['machine learning', 'SQL']"
      ]
     },
     "execution_count": 48,
     "metadata": {},
     "output_type": "execute_result"
    }
   ],
   "source": [
    "my_list[2]"
   ]
  },
  {
   "cell_type": "code",
   "execution_count": 49,
   "id": "158897f8",
   "metadata": {},
   "outputs": [],
   "source": [
    "l1=[1,2,3,[101,202,303]]"
   ]
  },
  {
   "cell_type": "code",
   "execution_count": 50,
   "id": "3ff1aa61",
   "metadata": {},
   "outputs": [
    {
     "data": {
      "text/plain": [
       "1"
      ]
     },
     "execution_count": 50,
     "metadata": {},
     "output_type": "execute_result"
    }
   ],
   "source": [
    "l1[0]"
   ]
  },
  {
   "cell_type": "code",
   "execution_count": 51,
   "id": "a0d06701",
   "metadata": {},
   "outputs": [
    {
     "data": {
      "text/plain": [
       "[101, 202, 303]"
      ]
     },
     "execution_count": 51,
     "metadata": {},
     "output_type": "execute_result"
    }
   ],
   "source": [
    "l1[3]"
   ]
  },
  {
   "cell_type": "code",
   "execution_count": 52,
   "id": "8aa19027-be51-4e65-81d2-58beb6d7bb7d",
   "metadata": {},
   "outputs": [
    {
     "data": {
      "text/plain": [
       "303"
      ]
     },
     "execution_count": 52,
     "metadata": {},
     "output_type": "execute_result"
    }
   ],
   "source": [
    "l1[3][2]"
   ]
  },
  {
   "cell_type": "code",
   "execution_count": 53,
   "id": "9074e6da",
   "metadata": {},
   "outputs": [
    {
     "data": {
      "text/plain": [
       "101"
      ]
     },
     "execution_count": 53,
     "metadata": {},
     "output_type": "execute_result"
    }
   ],
   "source": [
    "l1[3][0]"
   ]
  },
  {
   "cell_type": "code",
   "execution_count": 54,
   "id": "59bd986f",
   "metadata": {},
   "outputs": [
    {
     "data": {
      "text/plain": [
       "202"
      ]
     },
     "execution_count": 54,
     "metadata": {},
     "output_type": "execute_result"
    }
   ],
   "source": [
    "l1[3][1]"
   ]
  },
  {
   "cell_type": "code",
   "execution_count": 55,
   "id": "6d199d92",
   "metadata": {},
   "outputs": [
    {
     "data": {
      "text/plain": [
       "303"
      ]
     },
     "execution_count": 55,
     "metadata": {},
     "output_type": "execute_result"
    }
   ],
   "source": [
    "l1[3][2]"
   ]
  },
  {
   "cell_type": "code",
   "execution_count": 56,
   "id": "8cfe0a91-33aa-4f42-b5ff-cfea17a8e251",
   "metadata": {},
   "outputs": [],
   "source": [
    "n=[10,20,[30,40]] "
   ]
  },
  {
   "cell_type": "code",
   "execution_count": 57,
   "id": "7ee03e55-8f9f-4431-9fec-5014dfa7a8af",
   "metadata": {},
   "outputs": [
    {
     "name": "stdout",
     "output_type": "stream",
     "text": [
      "[10, 20, [30, 40]]\n"
     ]
    }
   ],
   "source": [
    "print(n) "
   ]
  },
  {
   "cell_type": "code",
   "execution_count": 58,
   "id": "ce11b12c-a182-4220-bbb7-ad1f932356b4",
   "metadata": {},
   "outputs": [
    {
     "name": "stdout",
     "output_type": "stream",
     "text": [
      "10\n"
     ]
    }
   ],
   "source": [
    "print(n[0]) "
   ]
  },
  {
   "cell_type": "code",
   "execution_count": 59,
   "id": "6f629833-8f37-4428-9bfe-ec3bb87d87cd",
   "metadata": {},
   "outputs": [
    {
     "name": "stdout",
     "output_type": "stream",
     "text": [
      "[30, 40]\n"
     ]
    }
   ],
   "source": [
    "print(n[2]) "
   ]
  },
  {
   "cell_type": "code",
   "execution_count": 60,
   "id": "83d06f19-09c5-48a6-be28-9cda090b9c95",
   "metadata": {},
   "outputs": [
    {
     "name": "stdout",
     "output_type": "stream",
     "text": [
      "30\n"
     ]
    }
   ],
   "source": [
    "print(n[2][0]) "
   ]
  },
  {
   "cell_type": "code",
   "execution_count": 61,
   "id": "819548e8-0ad9-4382-b42c-880b5ca2120c",
   "metadata": {},
   "outputs": [
    {
     "name": "stdout",
     "output_type": "stream",
     "text": [
      "40\n"
     ]
    }
   ],
   "source": [
    "print(n[2][1])"
   ]
  },
  {
   "cell_type": "raw",
   "id": "aef904e6",
   "metadata": {},
   "source": [
    "Note: We can access nested list elements by using index just like accessing multi dimensional array elements."
   ]
  },
  {
   "cell_type": "markdown",
   "id": "93fe9005",
   "metadata": {},
   "source": [
    "# List Comprehensions:"
   ]
  },
  {
   "cell_type": "raw",
   "id": "a57df244",
   "metadata": {},
   "source": [
    "It is very easy and compact way of creating list objects from any iterable objects(like list,tuple,dictionary,range etc) based on some condition.\n",
    "Syntax: list=[expression for item in list if condition]"
   ]
  },
  {
   "cell_type": "code",
   "execution_count": 62,
   "id": "3ed100c5",
   "metadata": {},
   "outputs": [
    {
     "name": "stdout",
     "output_type": "stream",
     "text": [
      "1\n",
      "2\n",
      "3\n",
      "4\n",
      "5\n",
      "6\n",
      "7\n",
      "8\n",
      "9\n",
      "10\n"
     ]
    }
   ],
   "source": [
    "for i in range(1,11):\n",
    "    print(i)"
   ]
  },
  {
   "cell_type": "code",
   "execution_count": 63,
   "id": "8f8034b1-4215-41b8-a75a-8e5956a0f1b3",
   "metadata": {},
   "outputs": [
    {
     "name": "stdout",
     "output_type": "stream",
     "text": [
      "2\n",
      "4\n",
      "6\n",
      "8\n",
      "10\n",
      "12\n",
      "14\n",
      "16\n",
      "18\n",
      "20\n"
     ]
    }
   ],
   "source": [
    "for i in range(2,21,2):\n",
    "    print(i)"
   ]
  },
  {
   "cell_type": "code",
   "execution_count": 64,
   "id": "27144f19-18d0-4b2f-ba6a-beab0b633241",
   "metadata": {},
   "outputs": [
    {
     "name": "stdout",
     "output_type": "stream",
     "text": [
      "7\n",
      "14\n",
      "21\n",
      "28\n",
      "35\n",
      "42\n",
      "49\n",
      "56\n",
      "63\n",
      "70\n"
     ]
    }
   ],
   "source": [
    "for i in range(7,71,7):\n",
    "    print(i)"
   ]
  },
  {
   "cell_type": "code",
   "execution_count": 65,
   "id": "796ab9de",
   "metadata": {},
   "outputs": [],
   "source": [
    "import string"
   ]
  },
  {
   "cell_type": "code",
   "execution_count": 66,
   "id": "b985f6e2-b85a-44e1-a7fa-c25f2781c7b8",
   "metadata": {},
   "outputs": [
    {
     "data": {
      "text/plain": [
       "'abcdefghijklmnopqrstuvwxyz'"
      ]
     },
     "execution_count": 66,
     "metadata": {},
     "output_type": "execute_result"
    }
   ],
   "source": [
    "string.ascii_lowercase"
   ]
  },
  {
   "cell_type": "code",
   "execution_count": 67,
   "id": "63c02202-1b37-4644-b976-fff7fcb1f8bb",
   "metadata": {},
   "outputs": [
    {
     "data": {
      "text/plain": [
       "'ABCDEFGHIJKLMNOPQRSTUVWXYZ'"
      ]
     },
     "execution_count": 67,
     "metadata": {},
     "output_type": "execute_result"
    }
   ],
   "source": [
    "string.ascii_uppercase"
   ]
  },
  {
   "cell_type": "code",
   "execution_count": 68,
   "id": "6bb411b8-9eb3-4b5b-a72e-5dcba14e2d2a",
   "metadata": {},
   "outputs": [
    {
     "data": {
      "text/plain": [
       "'abcdefghijklmnopqrstuvwxyzABCDEFGHIJKLMNOPQRSTUVWXYZ'"
      ]
     },
     "execution_count": 68,
     "metadata": {},
     "output_type": "execute_result"
    }
   ],
   "source": [
    "string.ascii_letters"
   ]
  },
  {
   "cell_type": "code",
   "execution_count": 70,
   "id": "314a2512-0a7d-4100-a88b-0a5fd2f5c5f3",
   "metadata": {},
   "outputs": [
    {
     "data": {
      "text/plain": [
       "'0123456789'"
      ]
     },
     "execution_count": 70,
     "metadata": {},
     "output_type": "execute_result"
    }
   ],
   "source": [
    "string.digits"
   ]
  },
  {
   "cell_type": "code",
   "execution_count": 71,
   "id": "cd7134db-cb6b-45e2-8b7d-5f9a441c0101",
   "metadata": {},
   "outputs": [
    {
     "data": {
      "text/plain": [
       "'!\"#$%&\\'()*+,-./:;<=>?@[\\\\]^_`{|}~'"
      ]
     },
     "execution_count": 71,
     "metadata": {},
     "output_type": "execute_result"
    }
   ],
   "source": [
    "string.punctuation"
   ]
  },
  {
   "cell_type": "code",
   "execution_count": 72,
   "id": "0f876f39-525b-4b3b-9077-c6f6465aec3d",
   "metadata": {},
   "outputs": [
    {
     "data": {
      "text/plain": [
       "32"
      ]
     },
     "execution_count": 72,
     "metadata": {},
     "output_type": "execute_result"
    }
   ],
   "source": [
    "len(string.punctuation)"
   ]
  },
  {
   "cell_type": "code",
   "execution_count": 73,
   "id": "2b2556fb-156a-432b-b2aa-1b0a57fff417",
   "metadata": {},
   "outputs": [
    {
     "data": {
      "text/plain": [
       "'0123456789abcdefghijklmnopqrstuvwxyzABCDEFGHIJKLMNOPQRSTUVWXYZ!\"#$%&\\'()*+,-./:;<=>?@[\\\\]^_`{|}~ \\t\\n\\r\\x0b\\x0c'"
      ]
     },
     "execution_count": 73,
     "metadata": {},
     "output_type": "execute_result"
    }
   ],
   "source": [
    "string.printable"
   ]
  },
  {
   "cell_type": "code",
   "execution_count": 75,
   "id": "0fc85f3b-27d5-4591-894a-99787c16a1b1",
   "metadata": {},
   "outputs": [
    {
     "name": "stdout",
     "output_type": "stream",
     "text": [
      "['0', '1', '2', '3', '4', '5', '6', '7', '8', '9', 'a', 'b', 'c', 'd', 'e', 'f', 'g', 'h', 'i', 'j', 'k', 'l', 'm', 'n', 'o', 'p', 'q', 'r', 's', 't', 'u', 'v', 'w', 'x', 'y', 'z', 'A', 'B', 'C', 'D', 'E', 'F', 'G', 'H', 'I', 'J', 'K', 'L', 'M', 'N', 'O', 'P', 'Q', 'R', 'S', 'T', 'U', 'V', 'W', 'X', 'Y', 'Z', '!', '\"', '#', '$', '%', '&', \"'\", '(', ')', '*', '+', ',', '-', '.', '/', ':', ';', '<', '=', '>', '?', '@', '[', '\\\\', ']', '^', '_', '`', '{', '|', '}', '~', ' ', '\\t', '\\n', '\\r', '\\x0b', '\\x0c']\n"
     ]
    }
   ],
   "source": [
    "print(list(string.printable))"
   ]
  },
  {
   "cell_type": "code",
   "execution_count": 76,
   "id": "4cbbae85",
   "metadata": {},
   "outputs": [
    {
     "name": "stdout",
     "output_type": "stream",
     "text": [
      "['A', 'B', 'C', 'D', 'E', 'F', 'G', 'H', 'I', 'J', 'K', 'L', 'M', 'N', 'O', 'P', 'Q', 'R', 'S', 'T', 'U', 'V', 'W', 'X', 'Y', 'Z'] 26\n"
     ]
    }
   ],
   "source": [
    "my_list=(list(string.ascii_uppercase))\n",
    "print(my_list,len(my_list))"
   ]
  },
  {
   "cell_type": "code",
   "execution_count": 78,
   "id": "31913e09-2a50-483b-9a69-f22325f36c47",
   "metadata": {},
   "outputs": [
    {
     "data": {
      "text/plain": [
       "'A'"
      ]
     },
     "execution_count": 78,
     "metadata": {},
     "output_type": "execute_result"
    }
   ],
   "source": [
    "my_list[0]"
   ]
  },
  {
   "cell_type": "code",
   "execution_count": 79,
   "id": "be7eed5c-8358-496f-b790-ec56b5c10cd7",
   "metadata": {},
   "outputs": [
    {
     "data": {
      "text/plain": [
       "'B'"
      ]
     },
     "execution_count": 79,
     "metadata": {},
     "output_type": "execute_result"
    }
   ],
   "source": [
    "my_list[1]"
   ]
  },
  {
   "cell_type": "code",
   "execution_count": 80,
   "id": "f18df909-7914-40e5-b67d-b19317b52a03",
   "metadata": {},
   "outputs": [
    {
     "data": {
      "text/plain": [
       "'C'"
      ]
     },
     "execution_count": 80,
     "metadata": {},
     "output_type": "execute_result"
    }
   ],
   "source": [
    "my_list[2]"
   ]
  },
  {
   "cell_type": "code",
   "execution_count": 81,
   "id": "26084242-48e1-4dfd-b7eb-25dd0b8a173d",
   "metadata": {},
   "outputs": [
    {
     "data": {
      "text/plain": [
       "'D'"
      ]
     },
     "execution_count": 81,
     "metadata": {},
     "output_type": "execute_result"
    }
   ],
   "source": [
    "my_list[3]"
   ]
  },
  {
   "cell_type": "code",
   "execution_count": 82,
   "id": "be9f3a2e",
   "metadata": {},
   "outputs": [
    {
     "name": "stdout",
     "output_type": "stream",
     "text": [
      "A\n",
      "B\n",
      "C\n",
      "D\n",
      "E\n",
      "F\n",
      "G\n",
      "H\n",
      "I\n",
      "J\n",
      "K\n",
      "L\n",
      "M\n",
      "N\n",
      "O\n",
      "P\n",
      "Q\n",
      "R\n",
      "S\n",
      "T\n",
      "U\n",
      "V\n",
      "W\n",
      "X\n",
      "Y\n",
      "Z\n"
     ]
    }
   ],
   "source": [
    "for i in range(0,26):\n",
    "    print(my_list[i])"
   ]
  },
  {
   "cell_type": "code",
   "execution_count": 83,
   "id": "58bf3346-a34d-4817-a36d-ab50bbb7035a",
   "metadata": {},
   "outputs": [],
   "source": [
    "list1=[]\n",
    "for i in range(1,11):\n",
    "    list1.append(i)"
   ]
  },
  {
   "cell_type": "code",
   "execution_count": 84,
   "id": "893c3741-8af6-469a-97ba-45ecc6106908",
   "metadata": {},
   "outputs": [
    {
     "data": {
      "text/plain": [
       "[1, 2, 3, 4, 5, 6, 7, 8, 9, 10]"
      ]
     },
     "execution_count": 84,
     "metadata": {},
     "output_type": "execute_result"
    }
   ],
   "source": [
    "list1"
   ]
  },
  {
   "cell_type": "markdown",
   "id": "0e8dce13-83a2-4fa3-8768-d91b107a7fcd",
   "metadata": {},
   "source": [
    "# List Comprehensions:"
   ]
  },
  {
   "cell_type": "code",
   "execution_count": 86,
   "id": "df240f9b-71ca-4e48-b306-4c75f661eb5e",
   "metadata": {},
   "outputs": [],
   "source": [
    "tejas_list=[i for i in range(1,11)]"
   ]
  },
  {
   "cell_type": "code",
   "execution_count": 87,
   "id": "530f8cd1-8ff7-45d8-804d-53522cb0cc19",
   "metadata": {},
   "outputs": [
    {
     "name": "stdout",
     "output_type": "stream",
     "text": [
      "[1, 2, 3, 4, 5, 6, 7, 8, 9, 10]\n"
     ]
    }
   ],
   "source": [
    "print(tejas_list)"
   ]
  },
  {
   "cell_type": "code",
   "execution_count": 88,
   "id": "ba58928c-e843-4368-8a1b-110b4957c8f6",
   "metadata": {},
   "outputs": [
    {
     "data": {
      "text/plain": [
       "[1, 4, 9, 16, 25, 36, 49, 64, 81, 100]"
      ]
     },
     "execution_count": 88,
     "metadata": {},
     "output_type": "execute_result"
    }
   ],
   "source": [
    "[i*i for i in range(1,11)]"
   ]
  },
  {
   "cell_type": "code",
   "execution_count": 89,
   "id": "9d94ab0d",
   "metadata": {},
   "outputs": [
    {
     "data": {
      "text/plain": [
       "[0, 1, 4, 9, 16]"
      ]
     },
     "execution_count": 89,
     "metadata": {},
     "output_type": "execute_result"
    }
   ],
   "source": [
    "x=[i*i for i in range(5)]\n",
    "x"
   ]
  },
  {
   "cell_type": "code",
   "execution_count": 90,
   "id": "90e4d7f5",
   "metadata": {},
   "outputs": [
    {
     "name": "stdout",
     "output_type": "stream",
     "text": [
      "[1, 4, 27, 256, 3125, 46656, 823543]\n"
     ]
    }
   ],
   "source": [
    "s=[ x**x for x in range(1,8)] \n",
    "print(s) "
   ]
  },
  {
   "cell_type": "code",
   "execution_count": 91,
   "id": "b0c28e81",
   "metadata": {},
   "outputs": [
    {
     "name": "stdout",
     "output_type": "stream",
     "text": [
      "[2, 4, 8, 16, 32]\n"
     ]
    }
   ],
   "source": [
    "v=[2**x for x in range(1,6)] \n",
    "print(v) "
   ]
  },
  {
   "cell_type": "code",
   "execution_count": 92,
   "id": "71e4ebcd",
   "metadata": {},
   "outputs": [
    {
     "data": {
      "text/plain": [
       "[1, 4, 27, 256, 3125, 46656, 823543]"
      ]
     },
     "execution_count": 92,
     "metadata": {},
     "output_type": "execute_result"
    }
   ],
   "source": [
    "s"
   ]
  },
  {
   "cell_type": "code",
   "execution_count": 93,
   "id": "0185f9e3",
   "metadata": {},
   "outputs": [
    {
     "name": "stdout",
     "output_type": "stream",
     "text": [
      "[4, 256, 46656]\n"
     ]
    }
   ],
   "source": [
    "m=[x for x in s if x%2==0] \n",
    "print(m)"
   ]
  },
  {
   "cell_type": "code",
   "execution_count": 189,
   "id": "28984246",
   "metadata": {},
   "outputs": [
    {
     "name": "stdout",
     "output_type": "stream",
     "text": [
      "['S.S', 'P V', 'S U']\n"
     ]
    }
   ],
   "source": [
    "words=[\"S.Somanath,Chairman,ISRO\",\"P Veeramuthuvel,Project Director\",\"S Unnikrishnan Nair,Director,Vikram Sarabhai Space Centre \"]\n",
    "l=[i[0:3:] for i in words] \n",
    "print(l)"
   ]
  },
  {
   "cell_type": "code",
   "execution_count": 191,
   "id": "9d502856",
   "metadata": {},
   "outputs": [],
   "source": [
    "num1=[10,20,30,40] \n",
    "num2=[30,40,50,60] 76"
   ]
  },
  {
   "cell_type": "code",
   "execution_count": 192,
   "id": "8b429a19",
   "metadata": {},
   "outputs": [],
   "source": [
    "num3=[ i for i in num1 if i not in num2] "
   ]
  },
  {
   "cell_type": "code",
   "execution_count": 193,
   "id": "34b669f2",
   "metadata": {},
   "outputs": [
    {
     "name": "stdout",
     "output_type": "stream",
     "text": [
      "[10, 20]\n"
     ]
    }
   ],
   "source": [
    "print(num3) #[10,20]"
   ]
  },
  {
   "cell_type": "code",
   "execution_count": 98,
   "id": "18479756",
   "metadata": {},
   "outputs": [
    {
     "name": "stdout",
     "output_type": "stream",
     "text": [
      "10\n",
      "20\n"
     ]
    }
   ],
   "source": [
    "for i in num1:\n",
    "    if i not in num2:\n",
    "        print(i)\n",
    "    "
   ]
  },
  {
   "cell_type": "raw",
   "id": "6506a711",
   "metadata": {},
   "source": [
    "common elements present in num1 and num2"
   ]
  },
  {
   "cell_type": "code",
   "execution_count": 99,
   "id": "b8ebcab5",
   "metadata": {},
   "outputs": [
    {
     "name": "stdout",
     "output_type": "stream",
     "text": [
      "[30, 40]\n"
     ]
    }
   ],
   "source": [
    "num4=[i for i in num1 if i in num2] \n",
    "print(num4)# [30, 40]"
   ]
  },
  {
   "cell_type": "code",
   "execution_count": 194,
   "id": "5125f027",
   "metadata": {},
   "outputs": [
    {
     "name": "stdout",
     "output_type": "stream",
     "text": [
      "['the', 'quick', 'brown', 'fox', 'jumps', 'over', 'the', 'lazy', 'dog']\n"
     ]
    }
   ],
   "source": [
    "words=\"the quick brown fox jumps over the lazy dog\".split() \n",
    "print(words) "
   ]
  },
  {
   "cell_type": "code",
   "execution_count": 195,
   "id": "3b596abb",
   "metadata": {},
   "outputs": [
    {
     "name": "stdout",
     "output_type": "stream",
     "text": [
      "[['THE', 3], ['QUICK', 5], ['BROWN', 5], ['FOX', 3], ['JUMPS', 5], ['OVER', 4], ['THE', 3], ['LAZY', 4], ['DOG', 3]]\n"
     ]
    }
   ],
   "source": [
    "l=[[w.upper(),len(w)] for w in words] \n",
    "print(l)"
   ]
  },
  {
   "cell_type": "code",
   "execution_count": 101,
   "id": "7bc2b600",
   "metadata": {},
   "outputs": [
    {
     "name": "stdout",
     "output_type": "stream",
     "text": [
      "['S.SOMANATH,CHAIRMAN,ISRO', 24] ['P VEERAMUTHUVEL,PROJECT DIRECTOR', 32] ['S UNNIKRISHNAN NAIR,DIRECTOR,VIKRAM SARABHAI SPACE CENTRE ', 58] "
     ]
    }
   ],
   "source": [
    "for i in words:\n",
    "    print([i.upper(),len(i)],end=\" \")"
   ]
  },
  {
   "cell_type": "code",
   "execution_count": 104,
   "id": "369971e5",
   "metadata": {},
   "outputs": [],
   "source": [
    "num1=[10,20,30,40] "
   ]
  },
  {
   "cell_type": "code",
   "execution_count": 105,
   "id": "759ede21",
   "metadata": {},
   "outputs": [
    {
     "data": {
      "text/plain": [
       "40"
      ]
     },
     "execution_count": 105,
     "metadata": {},
     "output_type": "execute_result"
    }
   ],
   "source": [
    "max(num1)"
   ]
  },
  {
   "cell_type": "code",
   "execution_count": 106,
   "id": "03f2f172",
   "metadata": {
    "scrolled": true
   },
   "outputs": [
    {
     "data": {
      "text/plain": [
       "10"
      ]
     },
     "execution_count": 106,
     "metadata": {},
     "output_type": "execute_result"
    }
   ],
   "source": [
    "min([10,20,30,40])"
   ]
  },
  {
   "cell_type": "code",
   "execution_count": 107,
   "id": "4319dcc5",
   "metadata": {},
   "outputs": [
    {
     "data": {
      "text/plain": [
       "100"
      ]
     },
     "execution_count": 107,
     "metadata": {},
     "output_type": "execute_result"
    }
   ],
   "source": [
    "sum([10,20,30,40])"
   ]
  },
  {
   "cell_type": "code",
   "execution_count": 108,
   "id": "984d3f03",
   "metadata": {},
   "outputs": [
    {
     "data": {
      "text/plain": [
       "4"
      ]
     },
     "execution_count": 108,
     "metadata": {},
     "output_type": "execute_result"
    }
   ],
   "source": [
    "len([10,20,30,40])"
   ]
  },
  {
   "cell_type": "code",
   "execution_count": 3,
   "id": "0da702ba",
   "metadata": {},
   "outputs": [
    {
     "name": "stdout",
     "output_type": "stream",
     "text": [
      "[0, 2, 4, 6, 8, 10, 12, 14, 16, 18]\n"
     ]
    },
    {
     "data": {
      "text/plain": [
       "list"
      ]
     },
     "execution_count": 3,
     "metadata": {},
     "output_type": "execute_result"
    }
   ],
   "source": [
    "# Is python these is no such thing as a tuple comprenshion\n",
    "my_list = [x * 2 for x in range(10)]\n",
    "print(my_list)\n",
    "type(my_list)"
   ]
  },
  {
   "cell_type": "code",
   "execution_count": 4,
   "id": "eea0cecc",
   "metadata": {},
   "outputs": [
    {
     "name": "stdout",
     "output_type": "stream",
     "text": [
      "(0, 2, 4, 6, 8, 10, 12, 14, 16, 18)\n"
     ]
    },
    {
     "data": {
      "text/plain": [
       "tuple"
      ]
     },
     "execution_count": 4,
     "metadata": {},
     "output_type": "execute_result"
    }
   ],
   "source": [
    "my_list = tuple([x * 2 for x in range(10)])\n",
    "print(my_list)\n",
    "type(my_list)"
   ]
  }
 ],
 "metadata": {
  "kernelspec": {
   "display_name": "Python 3 (ipykernel)",
   "language": "python",
   "name": "python3"
  },
  "language_info": {
   "codemirror_mode": {
    "name": "ipython",
    "version": 3
   },
   "file_extension": ".py",
   "mimetype": "text/x-python",
   "name": "python",
   "nbconvert_exporter": "python",
   "pygments_lexer": "ipython3",
   "version": "3.11.5"
  }
 },
 "nbformat": 4,
 "nbformat_minor": 5
}
