{
 "cells": [
  {
   "cell_type": "markdown",
   "id": "218339db",
   "metadata": {},
   "source": [
    "##### int     \n",
    "float  \n",
    "str  \n",
    "bool \n",
    "complex\n",
    "\n",
    "bytes\n",
    "bytearray\n",
    "\n",
    "list\n",
    "\n",
    "tuple\n",
    "\n",
    "set\n",
    "\n",
    "frozenset\n",
    "\n",
    "range\n",
    "\n",
    "None\n",
    "\n",
    "dict"
   ]
  },
  {
   "cell_type": "markdown",
   "id": "eca35a18",
   "metadata": {},
   "source": [
    "# Dictionary Data Structure"
   ]
  },
  {
   "cell_type": "markdown",
   "id": "3d09d7c7",
   "metadata": {},
   "source": [
    "We can use List,Tuple and Set to represent a group of individual objects as a single entity.\n",
    "\n",
    "If we want to represent a group of objects as key-value pairs then we should go for Dictionary.\n",
    "\n",
    "\n",
    "Eg: rollno 101 102\n",
    "      name  \"Saurabh\",\"Mukesh\n",
    "    \n",
    "     phone number--address\n",
    "    \n",
    "    ipaddress---domain name\n",
    "    \n",
    "    \n",
    "----->**Duplicate keys are not allowed but values can be duplicated.**\n",
    "\n",
    "-----> **Hetrogeneous objects are allowed for both key and values.**\n",
    "       \n",
    "----->insertion order is not preserved Dictionaries are mutable \n",
    "      Dictionaries are dynamic indexing and\n",
    "     slicing concepts are not applicable\n",
    "    \n",
    "    \n",
    "Note: In C++ and Java Dictionaries are known as \"Map\" where as in Perl and Ruby it is known as \"Hash\""
   ]
  },
  {
   "cell_type": "markdown",
   "id": "11fc89fb",
   "metadata": {},
   "source": [
    "# How to create Dictionary?"
   ]
  },
  {
   "cell_type": "code",
   "execution_count": 1,
   "id": "40fe65fa",
   "metadata": {},
   "outputs": [],
   "source": [
    "d1={}"
   ]
  },
  {
   "cell_type": "code",
   "execution_count": 2,
   "id": "835c42ab",
   "metadata": {},
   "outputs": [
    {
     "data": {
      "text/plain": [
       "dict"
      ]
     },
     "execution_count": 2,
     "metadata": {},
     "output_type": "execute_result"
    }
   ],
   "source": [
    "type(d1)"
   ]
  },
  {
   "cell_type": "code",
   "execution_count": 3,
   "id": "186b9ed1",
   "metadata": {},
   "outputs": [
    {
     "name": "stdout",
     "output_type": "stream",
     "text": [
      "{}\n",
      "<class 'dict'>\n"
     ]
    }
   ],
   "source": [
    "print(d1)\n",
    "print(type(d1))"
   ]
  },
  {
   "cell_type": "code",
   "execution_count": 4,
   "id": "f60a58cd",
   "metadata": {},
   "outputs": [],
   "source": [
    "d2=dict()"
   ]
  },
  {
   "cell_type": "code",
   "execution_count": 5,
   "id": "f2682ec8",
   "metadata": {},
   "outputs": [
    {
     "name": "stdout",
     "output_type": "stream",
     "text": [
      "{}\n",
      "<class 'dict'>\n"
     ]
    }
   ],
   "source": [
    "print(d2)\n",
    "print(type(d2))"
   ]
  },
  {
   "cell_type": "code",
   "execution_count": null,
   "id": "768ec78e",
   "metadata": {},
   "outputs": [],
   "source": []
  },
  {
   "cell_type": "code",
   "execution_count": 6,
   "id": "cf838dc3",
   "metadata": {},
   "outputs": [
    {
     "name": "stdout",
     "output_type": "stream",
     "text": [
      "{}\n",
      "<class 'dict'>\n"
     ]
    }
   ],
   "source": [
    "d1=dict()\n",
    "print(d1)\n",
    "print(type(d1))"
   ]
  },
  {
   "cell_type": "markdown",
   "id": "9d3ff390",
   "metadata": {},
   "source": [
    "# we are creating empty dictionary. We can add entries as follows"
   ]
  },
  {
   "cell_type": "code",
   "execution_count": 7,
   "id": "2683ba58",
   "metadata": {},
   "outputs": [],
   "source": [
    "md={'name':'sachin',\n",
    "    'age':45,\n",
    "    'salary':10000,\n",
    "    'add':'Mumbai'}"
   ]
  },
  {
   "cell_type": "code",
   "execution_count": 8,
   "id": "530fdd13",
   "metadata": {},
   "outputs": [
    {
     "name": "stdout",
     "output_type": "stream",
     "text": [
      "{'name': 'sachin', 'age': 45, 'salary': 10000, 'add': 'Mumbai'}\n"
     ]
    }
   ],
   "source": [
    "print(md)"
   ]
  },
  {
   "cell_type": "code",
   "execution_count": 9,
   "id": "138e58e5",
   "metadata": {},
   "outputs": [],
   "source": [
    "my_t20_team={\n",
    "    \n",
    "    'batsmen':['Rohith','Virat','SKY'],\n",
    "    'wicket keeper':['RP','Sanju'],\n",
    "    'All rounder':['Jaddu','Pandya','Bappu','Shivam'],\n",
    "    'Bowlers':['Bumrah','Arshadip','Siraj','Kuldeep']\n",
    "}"
   ]
  },
  {
   "cell_type": "code",
   "execution_count": 10,
   "id": "12c80f64",
   "metadata": {},
   "outputs": [
    {
     "data": {
      "text/plain": [
       "{'batsmen': ['Rohith', 'Virat', 'SKY'],\n",
       " 'wicket keeper': ['RP', 'Sanju'],\n",
       " 'All rounder': ['Jaddu', 'Pandya', 'Bappu', 'Shivam'],\n",
       " 'Bowlers': ['Bumrah', 'Arshadip', 'Siraj', 'Kuldeep']}"
      ]
     },
     "execution_count": 10,
     "metadata": {},
     "output_type": "execute_result"
    }
   ],
   "source": [
    "my_t20_team"
   ]
  },
  {
   "cell_type": "code",
   "execution_count": 12,
   "id": "d33d5d1b",
   "metadata": {},
   "outputs": [],
   "source": [
    "ipl_2024={\n",
    "          \"MI\":[\"Rohith\",\"SKY\",\"Ishan\",\"Bumrah\",\"Hardik\"],\n",
    "         \"CSK\":[\"Ruturaj\",\"MSD\",\"Jaddu\",\"Dube\",\"Chahar\"],\n",
    "         \"RCB\":[\"Kohli\",\"Glenn\",\"Faf\",\"Siraj\",\"Rajat\"]        \n",
    "}"
   ]
  },
  {
   "cell_type": "code",
   "execution_count": 13,
   "id": "849b0bca",
   "metadata": {},
   "outputs": [
    {
     "data": {
      "text/plain": [
       "{'MI': ['Rohith', 'SKY', 'Ishan', 'Bumrah', 'Hardik'],\n",
       " 'CSK': ['Ruturaj', 'MSD', 'Jaddu', 'Dube', 'Chahar'],\n",
       " 'RCB': ['Kohli', 'Glenn', 'Faf', 'Siraj', 'Rajat']}"
      ]
     },
     "execution_count": 13,
     "metadata": {},
     "output_type": "execute_result"
    }
   ],
   "source": [
    "ipl_2024"
   ]
  },
  {
   "cell_type": "code",
   "execution_count": 14,
   "id": "52215734",
   "metadata": {},
   "outputs": [],
   "source": [
    "d={\n",
    "    \"name\":\"Abhishek Sharma\",\n",
    "    \"Age\":24,\n",
    "    \"team\":\"SRH\",\n",
    "    \"mentor\":\"Yuvraj singh\"\n",
    "}"
   ]
  },
  {
   "cell_type": "code",
   "execution_count": 15,
   "id": "4d8b9d82",
   "metadata": {},
   "outputs": [],
   "source": [
    "d={\"name\":\"Abhishek Sharma\",\"Age\":24,\"team\":\"SRH\",\"mentor\":\"Yuvraj singh\"}"
   ]
  },
  {
   "cell_type": "code",
   "execution_count": 16,
   "id": "64ef9ad0",
   "metadata": {},
   "outputs": [
    {
     "data": {
      "text/plain": [
       "{'name': 'Abhishek Sharma', 'Age': 24, 'team': 'SRH', 'mentor': 'Yuvraj singh'}"
      ]
     },
     "execution_count": 16,
     "metadata": {},
     "output_type": "execute_result"
    }
   ],
   "source": [
    "d"
   ]
  },
  {
   "cell_type": "code",
   "execution_count": null,
   "id": "571b6144",
   "metadata": {},
   "outputs": [],
   "source": []
  },
  {
   "cell_type": "code",
   "execution_count": 17,
   "id": "278f33ad",
   "metadata": {},
   "outputs": [],
   "source": [
    "players={\n",
    "    \"name\":\"Sachin 10dulkar\",\n",
    "    \"centuries\":100,\n",
    "    \"team\":\"INDIA\",\n",
    "    \"Address\":\"mumbai\"\n",
    "}"
   ]
  },
  {
   "cell_type": "code",
   "execution_count": 18,
   "id": "8f74eb5a",
   "metadata": {},
   "outputs": [
    {
     "data": {
      "text/plain": [
       "{'name': 'Sachin 10dulkar',\n",
       " 'centuries': 100,\n",
       " 'team': 'INDIA',\n",
       " 'Address': 'mumbai'}"
      ]
     },
     "execution_count": 18,
     "metadata": {},
     "output_type": "execute_result"
    }
   ],
   "source": [
    "players"
   ]
  },
  {
   "cell_type": "code",
   "execution_count": 19,
   "id": "5364e16d",
   "metadata": {},
   "outputs": [
    {
     "data": {
      "text/plain": [
       "{'MI': ['Rohith', 'SKY', 'Ishan', 'Bumrah', 'Hardik'],\n",
       " 'CSK': ['Ruturaj', 'MSD', 'Jaddu', 'Dube', 'Chahar'],\n",
       " 'RCB': ['Kohli', 'Glenn', 'Faf', 'Siraj', 'Rajat']}"
      ]
     },
     "execution_count": 19,
     "metadata": {},
     "output_type": "execute_result"
    }
   ],
   "source": [
    "ipl_2024"
   ]
  },
  {
   "cell_type": "code",
   "execution_count": 20,
   "id": "db122b74",
   "metadata": {},
   "outputs": [
    {
     "data": {
      "text/plain": [
       "{'name': 'Sachin 10dulkar',\n",
       " 'centuries': 100,\n",
       " 'team': 'INDIA',\n",
       " 'Address': 'mumbai'}"
      ]
     },
     "execution_count": 20,
     "metadata": {},
     "output_type": "execute_result"
    }
   ],
   "source": [
    "players"
   ]
  },
  {
   "cell_type": "code",
   "execution_count": 21,
   "id": "d339b985",
   "metadata": {},
   "outputs": [],
   "source": [
    "# name_of_dict[\"new key\"]=\"new value\""
   ]
  },
  {
   "cell_type": "code",
   "execution_count": 22,
   "id": "1cc3227b",
   "metadata": {},
   "outputs": [],
   "source": [
    "players[\"Award\"]=\"BharatRatn\""
   ]
  },
  {
   "cell_type": "code",
   "execution_count": 23,
   "id": "d592b2df",
   "metadata": {},
   "outputs": [
    {
     "data": {
      "text/plain": [
       "{'name': 'Sachin 10dulkar',\n",
       " 'centuries': 100,\n",
       " 'team': 'INDIA',\n",
       " 'Address': 'mumbai',\n",
       " 'Award': 'BharatRatn'}"
      ]
     },
     "execution_count": 23,
     "metadata": {},
     "output_type": "execute_result"
    }
   ],
   "source": [
    "players"
   ]
  },
  {
   "cell_type": "code",
   "execution_count": 24,
   "id": "07c01afd",
   "metadata": {},
   "outputs": [],
   "source": [
    "players[\"IPL team\"]=\"Mumbai Indians\""
   ]
  },
  {
   "cell_type": "code",
   "execution_count": 25,
   "id": "7373783b",
   "metadata": {},
   "outputs": [
    {
     "name": "stdout",
     "output_type": "stream",
     "text": [
      "{'name': 'Sachin 10dulkar', 'centuries': 100, 'team': 'INDIA', 'Address': 'mumbai', 'Award': 'BharatRatn', 'IPL team': 'Mumbai Indians'}\n"
     ]
    }
   ],
   "source": [
    "print(players)"
   ]
  },
  {
   "cell_type": "raw",
   "id": "0db9df0e",
   "metadata": {},
   "source": [
    "If we know data in advance then we can create dictionary as follows"
   ]
  },
  {
   "cell_type": "code",
   "execution_count": 28,
   "id": "6226365d",
   "metadata": {},
   "outputs": [
    {
     "data": {
      "text/plain": [
       "{10: 'Sachin',\n",
       " 44: 'Sehwagh',\n",
       " 99: 'Ashwin',\n",
       " 7: 'MSD',\n",
       " 18: 'Virat',\n",
       " 93: 'Jasprit'}"
      ]
     },
     "execution_count": 28,
     "metadata": {},
     "output_type": "execute_result"
    }
   ],
   "source": [
    "d={10: 'Sachin', 44: 'Sehwagh', 99: 'Ashwin',7:'MSD',18:'Virat',93:'Jasprit'}\n",
    "d\n",
    "# d={key:value, key:value}"
   ]
  },
  {
   "cell_type": "code",
   "execution_count": 30,
   "id": "35f5901c",
   "metadata": {},
   "outputs": [],
   "source": [
    "player_d_century={\n",
    "                    \"Sachin Tendulkar\":200,\n",
    "                    \"Virendra Sehwagh\":219,\n",
    "                    \"Rohith Sharma\":[209,201,264],\n",
    "                    \"Shubhman Gill\":209,\n",
    "                    \"Ishan Kishan\":200\n",
    "                 }"
   ]
  },
  {
   "cell_type": "code",
   "execution_count": 31,
   "id": "e5c67e3a",
   "metadata": {},
   "outputs": [
    {
     "data": {
      "text/plain": [
       "{'Sachin Tendulkar': 200,\n",
       " 'Virendra Sehwagh': 219,\n",
       " 'Rohith Sharma': [209, 201, 264],\n",
       " 'Shubhman Gill': 209,\n",
       " 'Ishan Kishan': 200}"
      ]
     },
     "execution_count": 31,
     "metadata": {},
     "output_type": "execute_result"
    }
   ],
   "source": [
    "player_d_century"
   ]
  },
  {
   "cell_type": "code",
   "execution_count": 32,
   "id": "03c9ce64",
   "metadata": {},
   "outputs": [],
   "source": [
    "player_d_century[\"Martin Guptill\"]=237"
   ]
  },
  {
   "cell_type": "code",
   "execution_count": 33,
   "id": "684a5d6c",
   "metadata": {},
   "outputs": [
    {
     "data": {
      "text/plain": [
       "{'Sachin Tendulkar': 200,\n",
       " 'Virendra Sehwagh': 219,\n",
       " 'Rohith Sharma': [209, 201, 264],\n",
       " 'Shubhman Gill': 209,\n",
       " 'Ishan Kishan': 200,\n",
       " 'Martin Guptill': 237}"
      ]
     },
     "execution_count": 33,
     "metadata": {},
     "output_type": "execute_result"
    }
   ],
   "source": [
    "player_d_century"
   ]
  },
  {
   "cell_type": "code",
   "execution_count": 34,
   "id": "08e239aa",
   "metadata": {},
   "outputs": [],
   "source": [
    "player_d_century.clear()"
   ]
  },
  {
   "cell_type": "code",
   "execution_count": 35,
   "id": "06a8c94f",
   "metadata": {},
   "outputs": [
    {
     "data": {
      "text/plain": [
       "{}"
      ]
     },
     "execution_count": 35,
     "metadata": {},
     "output_type": "execute_result"
    }
   ],
   "source": [
    "player_d_century"
   ]
  },
  {
   "cell_type": "markdown",
   "id": "794dab82",
   "metadata": {},
   "source": [
    "# How to access data from the dictionary?"
   ]
  },
  {
   "cell_type": "code",
   "execution_count": null,
   "id": "99daac21",
   "metadata": {},
   "outputs": [],
   "source": [
    "# name_of_dict[\"Key\"]"
   ]
  },
  {
   "cell_type": "raw",
   "id": "bcedec4a",
   "metadata": {},
   "source": [
    "We can access data by using keys."
   ]
  },
  {
   "cell_type": "raw",
   "id": "797a179b",
   "metadata": {},
   "source": [
    "key:value"
   ]
  },
  {
   "cell_type": "code",
   "execution_count": 36,
   "id": "c7376e6d",
   "metadata": {},
   "outputs": [],
   "source": [
    "d={100: 'Sachin', 200: 'Sehwagh', 300: 'Saurav'}"
   ]
  },
  {
   "cell_type": "code",
   "execution_count": 37,
   "id": "38bc5102",
   "metadata": {},
   "outputs": [
    {
     "data": {
      "text/plain": [
       "'Sachin'"
      ]
     },
     "execution_count": 37,
     "metadata": {},
     "output_type": "execute_result"
    }
   ],
   "source": [
    "d[100]"
   ]
  },
  {
   "cell_type": "code",
   "execution_count": 38,
   "id": "f2dadf3f",
   "metadata": {},
   "outputs": [
    {
     "data": {
      "text/plain": [
       "'Sehwagh'"
      ]
     },
     "execution_count": 38,
     "metadata": {},
     "output_type": "execute_result"
    }
   ],
   "source": [
    "d[200]"
   ]
  },
  {
   "cell_type": "code",
   "execution_count": 39,
   "id": "9a918b23",
   "metadata": {},
   "outputs": [
    {
     "data": {
      "text/plain": [
       "'Saurav'"
      ]
     },
     "execution_count": 39,
     "metadata": {},
     "output_type": "execute_result"
    }
   ],
   "source": [
    "d[300]"
   ]
  },
  {
   "cell_type": "raw",
   "id": "bbdfb3f8",
   "metadata": {},
   "source": [
    "If the specified key is not available then we will get KeyError"
   ]
  },
  {
   "cell_type": "code",
   "execution_count": 40,
   "id": "a3f7d7b9",
   "metadata": {},
   "outputs": [
    {
     "ename": "KeyError",
     "evalue": "400",
     "output_type": "error",
     "traceback": [
      "\u001b[1;31m---------------------------------------------------------------------------\u001b[0m",
      "\u001b[1;31mKeyError\u001b[0m                                  Traceback (most recent call last)",
      "Cell \u001b[1;32mIn[40], line 1\u001b[0m\n\u001b[1;32m----> 1\u001b[0m d[\u001b[38;5;241m400\u001b[39m]\n",
      "\u001b[1;31mKeyError\u001b[0m: 400"
     ]
    }
   ],
   "source": [
    "d[400]"
   ]
  },
  {
   "cell_type": "code",
   "execution_count": null,
   "id": "973eaa25",
   "metadata": {},
   "outputs": [],
   "source": []
  },
  {
   "cell_type": "code",
   "execution_count": 41,
   "id": "debcf858",
   "metadata": {},
   "outputs": [
    {
     "ename": "KeyError",
     "evalue": "600",
     "output_type": "error",
     "traceback": [
      "\u001b[1;31m---------------------------------------------------------------------------\u001b[0m",
      "\u001b[1;31mKeyError\u001b[0m                                  Traceback (most recent call last)",
      "Cell \u001b[1;32mIn[41], line 1\u001b[0m\n\u001b[1;32m----> 1\u001b[0m \u001b[38;5;28mprint\u001b[39m(d[\u001b[38;5;241m600\u001b[39m])\n",
      "\u001b[1;31mKeyError\u001b[0m: 600"
     ]
    }
   ],
   "source": [
    "print(d[600]) # KeyError: 400"
   ]
  },
  {
   "cell_type": "raw",
   "id": "21a12316",
   "metadata": {},
   "source": [
    "We can prevent this by checking whether key is already available or not by using has_key() function or by using in operator.\n",
    "d.has_key(400) ==> returns 1 if key is available otherwise returns 0\n",
    "But has_key() function is available only in Python 2 but not in Python 3.\n",
    "Hence compulsory we have to use in operator."
   ]
  },
  {
   "cell_type": "code",
   "execution_count": 43,
   "id": "2cbe2a6a",
   "metadata": {},
   "outputs": [
    {
     "data": {
      "text/plain": [
       "dict_keys([100, 200, 300])"
      ]
     },
     "execution_count": 43,
     "metadata": {},
     "output_type": "execute_result"
    }
   ],
   "source": [
    "d.keys()"
   ]
  },
  {
   "cell_type": "code",
   "execution_count": 44,
   "id": "763afc93",
   "metadata": {},
   "outputs": [],
   "source": [
    "player_d_century={'Sachin Tendulkar': 200,\n",
    " 'Virendra Sehwagh': 219,\n",
    " 'Rohith Sharma': [209, 208, 264],\n",
    " 'Shubhman Gill': 209,\n",
    " 'Ishan Kishan': 200,\n",
    " 'Martin Guptill': 237}"
   ]
  },
  {
   "cell_type": "code",
   "execution_count": 45,
   "id": "4ea66a9f",
   "metadata": {},
   "outputs": [
    {
     "data": {
      "text/plain": [
       "dict_keys(['Sachin Tendulkar', 'Virendra Sehwagh', 'Rohith Sharma', 'Shubhman Gill', 'Ishan Kishan', 'Martin Guptill'])"
      ]
     },
     "execution_count": 45,
     "metadata": {},
     "output_type": "execute_result"
    }
   ],
   "source": [
    "player_d_century.keys()"
   ]
  },
  {
   "cell_type": "code",
   "execution_count": 46,
   "id": "7e345977",
   "metadata": {},
   "outputs": [
    {
     "data": {
      "text/plain": [
       "dict_values([200, 219, [209, 208, 264], 209, 200, 237])"
      ]
     },
     "execution_count": 46,
     "metadata": {},
     "output_type": "execute_result"
    }
   ],
   "source": [
    "player_d_century.values()"
   ]
  },
  {
   "cell_type": "code",
   "execution_count": 47,
   "id": "212e716f",
   "metadata": {},
   "outputs": [
    {
     "data": {
      "text/plain": [
       "dict_items([('Sachin Tendulkar', 200), ('Virendra Sehwagh', 219), ('Rohith Sharma', [209, 208, 264]), ('Shubhman Gill', 209), ('Ishan Kishan', 200), ('Martin Guptill', 237)])"
      ]
     },
     "execution_count": 47,
     "metadata": {},
     "output_type": "execute_result"
    }
   ],
   "source": [
    "player_d_century.items()"
   ]
  },
  {
   "cell_type": "code",
   "execution_count": 2,
   "id": "302a6d73",
   "metadata": {},
   "outputs": [
    {
     "data": {
      "text/plain": [
       "{10: 'Sachin',\n",
       " 44: 'Sehwagh',\n",
       " 99: 'Ashwin',\n",
       " 7: 'MSD',\n",
       " 18: 'Virat',\n",
       " 93: 'Jasprit'}"
      ]
     },
     "execution_count": 2,
     "metadata": {},
     "output_type": "execute_result"
    }
   ],
   "source": [
    "d={10: 'Sachin', 44: 'Sehwagh', 99: 'Ashwin',7:'MSD',18:'Virat',93:'Jasprit'}\n",
    "d\n",
    "# d={key:value, key:value}"
   ]
  },
  {
   "cell_type": "code",
   "execution_count": 49,
   "id": "3b51a6f5",
   "metadata": {},
   "outputs": [
    {
     "data": {
      "text/plain": [
       "dict_keys([10, 44, 99, 7, 18, 93])"
      ]
     },
     "execution_count": 49,
     "metadata": {},
     "output_type": "execute_result"
    }
   ],
   "source": [
    "d.keys()"
   ]
  },
  {
   "cell_type": "code",
   "execution_count": 50,
   "id": "b857f967",
   "metadata": {},
   "outputs": [
    {
     "data": {
      "text/plain": [
       "dict_values(['Sachin', 'Sehwagh', 'Ashwin', 'MSD', 'Virat', 'Jasprit'])"
      ]
     },
     "execution_count": 50,
     "metadata": {},
     "output_type": "execute_result"
    }
   ],
   "source": [
    "d.values()"
   ]
  },
  {
   "cell_type": "code",
   "execution_count": 51,
   "id": "46ba865f",
   "metadata": {},
   "outputs": [
    {
     "data": {
      "text/plain": [
       "dict_items([(10, 'Sachin'), (44, 'Sehwagh'), (99, 'Ashwin'), (7, 'MSD'), (18, 'Virat'), (93, 'Jasprit')])"
      ]
     },
     "execution_count": 51,
     "metadata": {},
     "output_type": "execute_result"
    }
   ],
   "source": [
    "d.items()"
   ]
  },
  {
   "cell_type": "code",
   "execution_count": 52,
   "id": "574bec36",
   "metadata": {},
   "outputs": [
    {
     "data": {
      "text/plain": [
       "{'Sachin Tendulkar': 200,\n",
       " 'Virendra Sehwagh': 219,\n",
       " 'Rohith Sharma': [209, 208, 264],\n",
       " 'Shubhman Gill': 209,\n",
       " 'Ishan Kishan': 200,\n",
       " 'Martin Guptill': 237}"
      ]
     },
     "execution_count": 52,
     "metadata": {},
     "output_type": "execute_result"
    }
   ],
   "source": [
    "player_d_century"
   ]
  },
  {
   "cell_type": "code",
   "execution_count": 53,
   "id": "a016b7e5",
   "metadata": {},
   "outputs": [
    {
     "data": {
      "text/plain": [
       "[10, 12, 14, 16, 18, 20]"
      ]
     },
     "execution_count": 53,
     "metadata": {},
     "output_type": "execute_result"
    }
   ],
   "source": [
    "lstt=[i for i in range(10,21,2)]\n",
    "lstt"
   ]
  },
  {
   "cell_type": "code",
   "execution_count": 54,
   "id": "0566d243",
   "metadata": {},
   "outputs": [
    {
     "data": {
      "text/plain": [
       "True"
      ]
     },
     "execution_count": 54,
     "metadata": {},
     "output_type": "execute_result"
    }
   ],
   "source": [
    "10 in lstt"
   ]
  },
  {
   "cell_type": "code",
   "execution_count": 55,
   "id": "b3328803",
   "metadata": {},
   "outputs": [
    {
     "data": {
      "text/plain": [
       "False"
      ]
     },
     "execution_count": 55,
     "metadata": {},
     "output_type": "execute_result"
    }
   ],
   "source": [
    "55 in lstt"
   ]
  },
  {
   "cell_type": "code",
   "execution_count": 56,
   "id": "bd4266d4",
   "metadata": {},
   "outputs": [
    {
     "ename": "TypeError",
     "evalue": "argument of type 'int' is not iterable",
     "output_type": "error",
     "traceback": [
      "\u001b[1;31m---------------------------------------------------------------------------\u001b[0m",
      "\u001b[1;31mTypeError\u001b[0m                                 Traceback (most recent call last)",
      "Cell \u001b[1;32mIn[56], line 1\u001b[0m\n\u001b[1;32m----> 1\u001b[0m lstt \u001b[38;5;129;01min\u001b[39;00m \u001b[38;5;241m12\u001b[39m\n",
      "\u001b[1;31mTypeError\u001b[0m: argument of type 'int' is not iterable"
     ]
    }
   ],
   "source": [
    "lstt in 12"
   ]
  },
  {
   "cell_type": "code",
   "execution_count": 57,
   "id": "344100de",
   "metadata": {
    "scrolled": true
   },
   "outputs": [
    {
     "data": {
      "text/plain": [
       "True"
      ]
     },
     "execution_count": 57,
     "metadata": {},
     "output_type": "execute_result"
    }
   ],
   "source": [
    "12 in lstt"
   ]
  },
  {
   "cell_type": "code",
   "execution_count": 58,
   "id": "e2ce1c32",
   "metadata": {},
   "outputs": [
    {
     "data": {
      "text/plain": [
       "False"
      ]
     },
     "execution_count": 58,
     "metadata": {},
     "output_type": "execute_result"
    }
   ],
   "source": [
    "50 in lstt"
   ]
  },
  {
   "cell_type": "code",
   "execution_count": 59,
   "id": "94c83980",
   "metadata": {},
   "outputs": [
    {
     "data": {
      "text/plain": [
       "{'Sachin Tendulkar': 200,\n",
       " 'Virendra Sehwagh': 219,\n",
       " 'Rohith Sharma': [209, 208, 264],\n",
       " 'Shubhman Gill': 209,\n",
       " 'Ishan Kishan': 200,\n",
       " 'Martin Guptill': 237}"
      ]
     },
     "execution_count": 59,
     "metadata": {},
     "output_type": "execute_result"
    }
   ],
   "source": [
    "player_d_century"
   ]
  },
  {
   "cell_type": "code",
   "execution_count": 60,
   "id": "9f8eff22",
   "metadata": {},
   "outputs": [
    {
     "data": {
      "text/plain": [
       "True"
      ]
     },
     "execution_count": 60,
     "metadata": {},
     "output_type": "execute_result"
    }
   ],
   "source": [
    "\"Rohith Sharma\" in player_d_century"
   ]
  },
  {
   "cell_type": "code",
   "execution_count": 61,
   "id": "64231294",
   "metadata": {},
   "outputs": [
    {
     "data": {
      "text/plain": [
       "False"
      ]
     },
     "execution_count": 61,
     "metadata": {},
     "output_type": "execute_result"
    }
   ],
   "source": [
    "\"Rohith Sharma\" not in player_d_century"
   ]
  },
  {
   "cell_type": "code",
   "execution_count": 62,
   "id": "3fc16b89",
   "metadata": {},
   "outputs": [
    {
     "data": {
      "text/plain": [
       "False"
      ]
     },
     "execution_count": 62,
     "metadata": {},
     "output_type": "execute_result"
    }
   ],
   "source": [
    "219 in player_d_century"
   ]
  },
  {
   "cell_type": "code",
   "execution_count": 63,
   "id": "c2ae9445",
   "metadata": {},
   "outputs": [
    {
     "data": {
      "text/plain": [
       "True"
      ]
     },
     "execution_count": 63,
     "metadata": {},
     "output_type": "execute_result"
    }
   ],
   "source": [
    "200 in player_d_century.values()"
   ]
  },
  {
   "cell_type": "code",
   "execution_count": 67,
   "id": "eff48dda",
   "metadata": {},
   "outputs": [
    {
     "data": {
      "text/plain": [
       "{10: 'Sachin',\n",
       " 44: 'Sehwagh',\n",
       " 99: 'Ashwin',\n",
       " 7: 'MSD',\n",
       " 18: 'Virat',\n",
       " 93: 'Jasprit'}"
      ]
     },
     "execution_count": 67,
     "metadata": {},
     "output_type": "execute_result"
    }
   ],
   "source": [
    "d"
   ]
  },
  {
   "cell_type": "code",
   "execution_count": 69,
   "id": "3cef5da0",
   "metadata": {},
   "outputs": [
    {
     "name": "stdout",
     "output_type": "stream",
     "text": [
      "Sachin\n"
     ]
    }
   ],
   "source": [
    "if 10 in d: \n",
    "    print(d[10])"
   ]
  },
  {
   "cell_type": "code",
   "execution_count": 3,
   "id": "e287fb31",
   "metadata": {},
   "outputs": [],
   "source": [
    "if 200 in d: \n",
    "    print(d[200])"
   ]
  },
  {
   "cell_type": "code",
   "execution_count": 4,
   "id": "2b6af0ab",
   "metadata": {},
   "outputs": [],
   "source": [
    "if 400 in d: \n",
    "    print(d[400])"
   ]
  },
  {
   "cell_type": "markdown",
   "id": "38e7c649",
   "metadata": {},
   "source": [
    "# Q. Write a program to enter name and percentage marks in a dictionary and display information on the screen"
   ]
  },
  {
   "cell_type": "code",
   "execution_count": 1,
   "id": "cfd391de",
   "metadata": {},
   "outputs": [
    {
     "name": "stdout",
     "output_type": "stream",
     "text": [
      "Enter number of students: 2\n"
     ]
    }
   ],
   "source": [
    "rec={} \n",
    "n=int(input(\"Enter number of students: \")) \n",
    "i=1 "
   ]
  },
  {
   "cell_type": "code",
   "execution_count": 2,
   "id": "125eeb9f",
   "metadata": {},
   "outputs": [
    {
     "name": "stdout",
     "output_type": "stream",
     "text": [
      "Enter Student Name: 'Vijesh'\n",
      "Enter % of Marks of Student: 93\n",
      "Enter Student Name: 'Priyanka'\n",
      "Enter % of Marks of Student: 90\n",
      "Name of Student \t % of marks\n",
      "\t 'Vijesh' \t\t 93\n",
      "\t 'Priyanka' \t\t 90\n"
     ]
    }
   ],
   "source": [
    "while i <=n: \n",
    "    name=input(\"Enter Student Name: \") \n",
    "    marks=input(\"Enter % of Marks of Student: \") \n",
    "    rec[name]=marks \n",
    "    i=i+1 \n",
    "print(\"Name of Student\",\"\\t\",\"% of marks\") \n",
    "for x in rec: \n",
    "    print(\"\\t\",x,\"\\t\\t\",rec[x])"
   ]
  },
  {
   "cell_type": "markdown",
   "id": "46bcebfb",
   "metadata": {},
   "source": [
    "# How to update dictionaries?"
   ]
  },
  {
   "cell_type": "markdown",
   "id": "559f8d26",
   "metadata": {},
   "source": [
    "**d[key]=value\n",
    "\n",
    "**If the key is not available then a new entry will be added to the dictionary with the specified key-value pair\n",
    "\n",
    "**If the key is already available then old value will be replaced with new value.**"
   ]
  },
  {
   "cell_type": "code",
   "execution_count": 72,
   "id": "72512f50",
   "metadata": {},
   "outputs": [
    {
     "name": "stdout",
     "output_type": "stream",
     "text": [
      "{100: 'Sachin', 200: 'Sehwagh', 300: 'Saurav'}\n"
     ]
    }
   ],
   "source": [
    "d={100: 'Sachin', 200: 'Sehwagh', 300: 'Saurav'} \n",
    "print(d) "
   ]
  },
  {
   "cell_type": "code",
   "execution_count": 73,
   "id": "e4ca6b09",
   "metadata": {},
   "outputs": [
    {
     "name": "stdout",
     "output_type": "stream",
     "text": [
      "{100: 'Sachin', 200: 'Sehwagh', 300: 'Saurav', 400: 'MSD'}\n"
     ]
    }
   ],
   "source": [
    "d[400]=\"MSD\" \n",
    "print(d) "
   ]
  },
  {
   "cell_type": "code",
   "execution_count": 74,
   "id": "5aed51fc",
   "metadata": {},
   "outputs": [
    {
     "name": "stdout",
     "output_type": "stream",
     "text": [
      "{100: 'Virat', 200: 'Sehwagh', 300: 'Saurav', 400: 'MSD'}\n"
     ]
    }
   ],
   "source": [
    "d[100]=\"Virat\" \n",
    "print(d)"
   ]
  },
  {
   "cell_type": "markdown",
   "id": "8baf9a08",
   "metadata": {},
   "source": [
    "# How to delete elements from dictionary?"
   ]
  },
  {
   "cell_type": "code",
   "execution_count": 75,
   "id": "199c0d20",
   "metadata": {},
   "outputs": [
    {
     "name": "stdout",
     "output_type": "stream",
     "text": [
      "['False', 'None', 'True', 'and', 'as', 'assert', 'async', 'await', 'break', 'class', 'continue', 'def', 'del', 'elif', 'else', 'except', 'finally', 'for', 'from', 'global', 'if', 'import', 'in', 'is', 'lambda', 'nonlocal', 'not', 'or', 'pass', 'raise', 'return', 'try', 'while', 'with', 'yield']\n"
     ]
    }
   ],
   "source": [
    "import keyword\n",
    "print(keyword.kwlist)"
   ]
  },
  {
   "cell_type": "code",
   "execution_count": 76,
   "id": "80f573ed",
   "metadata": {},
   "outputs": [
    {
     "data": {
      "text/plain": [
       "35"
      ]
     },
     "execution_count": 76,
     "metadata": {},
     "output_type": "execute_result"
    }
   ],
   "source": [
    "len(keyword.kwlist)"
   ]
  },
  {
   "cell_type": "code",
   "execution_count": 77,
   "id": "5500e316",
   "metadata": {},
   "outputs": [
    {
     "ename": "SyntaxError",
     "evalue": "invalid syntax (2701005479.py, line 1)",
     "output_type": "error",
     "traceback": [
      "\u001b[1;36m  Cell \u001b[1;32mIn[77], line 1\u001b[1;36m\u001b[0m\n\u001b[1;33m    continue=\"Ajith\"\u001b[0m\n\u001b[1;37m            ^\u001b[0m\n\u001b[1;31mSyntaxError\u001b[0m\u001b[1;31m:\u001b[0m invalid syntax\n"
     ]
    }
   ],
   "source": [
    "continue=\"Ajith\""
   ]
  },
  {
   "cell_type": "code",
   "execution_count": 78,
   "id": "c187fd67",
   "metadata": {},
   "outputs": [
    {
     "ename": "SyntaxError",
     "evalue": "cannot assign to False (3053991953.py, line 1)",
     "output_type": "error",
     "traceback": [
      "\u001b[1;36m  Cell \u001b[1;32mIn[78], line 1\u001b[1;36m\u001b[0m\n\u001b[1;33m    False=99\u001b[0m\n\u001b[1;37m    ^\u001b[0m\n\u001b[1;31mSyntaxError\u001b[0m\u001b[1;31m:\u001b[0m cannot assign to False\n"
     ]
    }
   ],
   "source": [
    "False=99"
   ]
  },
  {
   "cell_type": "code",
   "execution_count": 79,
   "id": "0c730bbc",
   "metadata": {},
   "outputs": [],
   "source": [
    "x=100"
   ]
  },
  {
   "cell_type": "code",
   "execution_count": 80,
   "id": "1f225e57",
   "metadata": {},
   "outputs": [
    {
     "name": "stdout",
     "output_type": "stream",
     "text": [
      "100\n"
     ]
    }
   ],
   "source": [
    "print(x)"
   ]
  },
  {
   "cell_type": "code",
   "execution_count": 81,
   "id": "a97a3313",
   "metadata": {},
   "outputs": [
    {
     "name": "stdout",
     "output_type": "stream",
     "text": [
      "140736676863880\n"
     ]
    }
   ],
   "source": [
    "print(id(x))"
   ]
  },
  {
   "cell_type": "code",
   "execution_count": 82,
   "id": "dc459ca3",
   "metadata": {},
   "outputs": [],
   "source": [
    "del x"
   ]
  },
  {
   "cell_type": "code",
   "execution_count": 83,
   "id": "d65d4bbc",
   "metadata": {},
   "outputs": [
    {
     "ename": "NameError",
     "evalue": "name 'x' is not defined",
     "output_type": "error",
     "traceback": [
      "\u001b[1;31m---------------------------------------------------------------------------\u001b[0m",
      "\u001b[1;31mNameError\u001b[0m                                 Traceback (most recent call last)",
      "Cell \u001b[1;32mIn[83], line 1\u001b[0m\n\u001b[1;32m----> 1\u001b[0m \u001b[38;5;28mprint\u001b[39m(x)\n",
      "\u001b[1;31mNameError\u001b[0m: name 'x' is not defined"
     ]
    }
   ],
   "source": [
    "print(x)"
   ]
  },
  {
   "cell_type": "raw",
   "id": "f3311322",
   "metadata": {},
   "source": [
    "del d[key]\n",
    "\n",
    "It deletes entry associated with the specified key. If the key is not available then we will get KeyError"
   ]
  },
  {
   "cell_type": "code",
   "execution_count": 84,
   "id": "81931cff",
   "metadata": {},
   "outputs": [
    {
     "name": "stdout",
     "output_type": "stream",
     "text": [
      "{100: 'Sachin', 200: 'Sehwagh', 300: 'Saurav', 400: 'Zaheer'}\n"
     ]
    }
   ],
   "source": [
    "d={100: 'Sachin', 200: 'Sehwagh', 300: 'Saurav', 400: 'Zaheer'}\n",
    "print(d)"
   ]
  },
  {
   "cell_type": "code",
   "execution_count": 85,
   "id": "e42e537d",
   "metadata": {},
   "outputs": [],
   "source": [
    "del d[200]"
   ]
  },
  {
   "cell_type": "code",
   "execution_count": 86,
   "id": "dafa12f1",
   "metadata": {},
   "outputs": [
    {
     "data": {
      "text/plain": [
       "{100: 'Sachin', 300: 'Saurav', 400: 'Zaheer'}"
      ]
     },
     "execution_count": 86,
     "metadata": {},
     "output_type": "execute_result"
    }
   ],
   "source": [
    "d"
   ]
  },
  {
   "cell_type": "code",
   "execution_count": 87,
   "id": "a1a797bf",
   "metadata": {},
   "outputs": [
    {
     "ename": "KeyError",
     "evalue": "200",
     "output_type": "error",
     "traceback": [
      "\u001b[1;31m---------------------------------------------------------------------------\u001b[0m",
      "\u001b[1;31mKeyError\u001b[0m                                  Traceback (most recent call last)",
      "Cell \u001b[1;32mIn[87], line 1\u001b[0m\n\u001b[1;32m----> 1\u001b[0m \u001b[38;5;28;01mdel\u001b[39;00m d[\u001b[38;5;241m200\u001b[39m]\n",
      "\u001b[1;31mKeyError\u001b[0m: 200"
     ]
    }
   ],
   "source": [
    "del d[200]"
   ]
  },
  {
   "cell_type": "code",
   "execution_count": 88,
   "id": "55040b44",
   "metadata": {},
   "outputs": [
    {
     "data": {
      "text/plain": [
       "{100: 'Sachin', 300: 'Saurav', 400: 'Zaheer'}"
      ]
     },
     "execution_count": 88,
     "metadata": {},
     "output_type": "execute_result"
    }
   ],
   "source": [
    "d"
   ]
  },
  {
   "cell_type": "code",
   "execution_count": 89,
   "id": "819afcde",
   "metadata": {},
   "outputs": [],
   "source": [
    "del d[100]"
   ]
  },
  {
   "cell_type": "code",
   "execution_count": 90,
   "id": "13a8273b",
   "metadata": {},
   "outputs": [
    {
     "name": "stdout",
     "output_type": "stream",
     "text": [
      "{300: 'Saurav', 400: 'Zaheer'}\n"
     ]
    }
   ],
   "source": [
    "print(d)"
   ]
  },
  {
   "cell_type": "code",
   "execution_count": 91,
   "id": "75130157",
   "metadata": {},
   "outputs": [
    {
     "name": "stdout",
     "output_type": "stream",
     "text": [
      "{300: 'Saurav'}\n"
     ]
    }
   ],
   "source": [
    "del d[400]\n",
    "print(d)"
   ]
  },
  {
   "cell_type": "code",
   "execution_count": 92,
   "id": "e6edc444",
   "metadata": {},
   "outputs": [],
   "source": [
    "del d[300]"
   ]
  },
  {
   "cell_type": "code",
   "execution_count": 93,
   "id": "9c7f5ff1",
   "metadata": {},
   "outputs": [
    {
     "data": {
      "text/plain": [
       "{}"
      ]
     },
     "execution_count": 93,
     "metadata": {},
     "output_type": "execute_result"
    }
   ],
   "source": [
    "d"
   ]
  },
  {
   "cell_type": "code",
   "execution_count": 94,
   "id": "16c29910",
   "metadata": {},
   "outputs": [],
   "source": [
    "del d"
   ]
  },
  {
   "cell_type": "markdown",
   "id": "35464c23",
   "metadata": {},
   "source": [
    "# d.clear()"
   ]
  },
  {
   "cell_type": "raw",
   "id": "6a89b0ac",
   "metadata": {},
   "source": [
    "To remove all entries from the dictionary"
   ]
  },
  {
   "cell_type": "code",
   "execution_count": 95,
   "id": "af5f4869",
   "metadata": {},
   "outputs": [],
   "source": [
    "d={100: 'Sachin', 200: 'Sehwagh', 300: 'Saurav', 400: 'Zaheer'}"
   ]
  },
  {
   "cell_type": "code",
   "execution_count": 96,
   "id": "84c977e4",
   "metadata": {},
   "outputs": [
    {
     "name": "stdout",
     "output_type": "stream",
     "text": [
      "{100: 'Sachin', 200: 'Sehwagh', 300: 'Saurav', 400: 'Zaheer'}\n"
     ]
    }
   ],
   "source": [
    "print(d)"
   ]
  },
  {
   "cell_type": "code",
   "execution_count": 97,
   "id": "7b8432aa",
   "metadata": {},
   "outputs": [],
   "source": [
    "d.clear()"
   ]
  },
  {
   "cell_type": "code",
   "execution_count": 98,
   "id": "c47e9b73",
   "metadata": {},
   "outputs": [
    {
     "name": "stdout",
     "output_type": "stream",
     "text": [
      "{}\n"
     ]
    }
   ],
   "source": [
    "print(d)"
   ]
  },
  {
   "cell_type": "markdown",
   "id": "0d198157",
   "metadata": {},
   "source": [
    "# del d"
   ]
  },
  {
   "cell_type": "raw",
   "id": "0a5cb2a5",
   "metadata": {},
   "source": [
    "To delete total dictionary.Now we cannot access d"
   ]
  },
  {
   "cell_type": "code",
   "execution_count": 99,
   "id": "0817ced7",
   "metadata": {},
   "outputs": [],
   "source": [
    "d={100: 'Sachin', 200: 'Sehwagh', 300: 'Saurav', 400: 'Zaheer'}"
   ]
  },
  {
   "cell_type": "code",
   "execution_count": 100,
   "id": "b8a6ca8c",
   "metadata": {},
   "outputs": [
    {
     "name": "stdout",
     "output_type": "stream",
     "text": [
      "{100: 'Sachin', 200: 'Sehwagh', 300: 'Saurav', 400: 'Zaheer'}\n"
     ]
    }
   ],
   "source": [
    "print(d)"
   ]
  },
  {
   "cell_type": "code",
   "execution_count": 101,
   "id": "9ca4b22c",
   "metadata": {},
   "outputs": [],
   "source": [
    "del d"
   ]
  },
  {
   "cell_type": "code",
   "execution_count": 102,
   "id": "31e6b6f3",
   "metadata": {},
   "outputs": [
    {
     "ename": "NameError",
     "evalue": "name 'd' is not defined",
     "output_type": "error",
     "traceback": [
      "\u001b[1;31m---------------------------------------------------------------------------\u001b[0m",
      "\u001b[1;31mNameError\u001b[0m                                 Traceback (most recent call last)",
      "Cell \u001b[1;32mIn[102], line 1\u001b[0m\n\u001b[1;32m----> 1\u001b[0m \u001b[38;5;28mprint\u001b[39m(d)\n",
      "\u001b[1;31mNameError\u001b[0m: name 'd' is not defined"
     ]
    }
   ],
   "source": [
    "print(d)"
   ]
  },
  {
   "cell_type": "markdown",
   "id": "2d10e2b6",
   "metadata": {},
   "source": [
    "# Important methods of dictionary:"
   ]
  },
  {
   "cell_type": "markdown",
   "id": "100ef2aa",
   "metadata": {},
   "source": [
    "# 1. dict():"
   ]
  },
  {
   "cell_type": "raw",
   "id": "832ad6cf",
   "metadata": {},
   "source": [
    "To create a dictionary\n",
    "d=dict() ===>It creates empty dictionary "
   ]
  },
  {
   "cell_type": "code",
   "execution_count": 103,
   "id": "7ddad20e",
   "metadata": {},
   "outputs": [
    {
     "data": {
      "text/plain": [
       "{1: 'one', 2: 'Two', 3: 'Three'}"
      ]
     },
     "execution_count": 103,
     "metadata": {},
     "output_type": "execute_result"
    }
   ],
   "source": [
    "dict({1:\"one\",\n",
    "      2:\"Two\",\n",
    "     3:\"Three\"})"
   ]
  },
  {
   "cell_type": "code",
   "execution_count": 104,
   "id": "64ec4e6f",
   "metadata": {},
   "outputs": [
    {
     "name": "stdout",
     "output_type": "stream",
     "text": [
      "{100: 'MS Dhoni', 200: 'Virat Kohli'}\n"
     ]
    }
   ],
   "source": [
    "d=dict({100:\"MS Dhoni\",200:\"Virat Kohli\"}) #==>It creates dictionary with specified elements \n",
    "print(d)"
   ]
  },
  {
   "cell_type": "code",
   "execution_count": 105,
   "id": "77861a88",
   "metadata": {},
   "outputs": [
    {
     "name": "stdout",
     "output_type": "stream",
     "text": [
      "{100: 'KL Rahul', 200: 'Shubhmann Gill', 300: 'Suryakumar'}\n"
     ]
    }
   ],
   "source": [
    "d=dict([(100,\"KL Rahul\"),(200,\"Shubhmann Gill\"),(300,\"Suryakumar\")])#==>It creates dictionary with the given list of tuple elements\n",
    "print(d)"
   ]
  },
  {
   "cell_type": "markdown",
   "id": "ff32b45f",
   "metadata": {},
   "source": [
    "# 2. len()"
   ]
  },
  {
   "cell_type": "code",
   "execution_count": 106,
   "id": "bf80e305",
   "metadata": {},
   "outputs": [
    {
     "data": {
      "text/plain": [
       "3"
      ]
     },
     "execution_count": 106,
     "metadata": {},
     "output_type": "execute_result"
    }
   ],
   "source": [
    "len(d)"
   ]
  },
  {
   "cell_type": "raw",
   "id": "4a25b1ba",
   "metadata": {},
   "source": [
    "Returns the number of items in the dictionary"
   ]
  },
  {
   "cell_type": "markdown",
   "id": "d6da0a14",
   "metadata": {},
   "source": [
    "# 3. clear():"
   ]
  },
  {
   "cell_type": "raw",
   "id": "3b77d052",
   "metadata": {},
   "source": [
    "To remove all elements from the dictionary"
   ]
  },
  {
   "cell_type": "markdown",
   "id": "608b101e",
   "metadata": {},
   "source": [
    "# 4. get():"
   ]
  },
  {
   "cell_type": "raw",
   "id": "f1b81b04",
   "metadata": {},
   "source": [
    "To get the value associated with the key\n",
    "d.get(key) If the key is available then returns the corresponding value otherwise returns None.It wont raise any error."
   ]
  },
  {
   "cell_type": "raw",
   "id": "89a3abc5",
   "metadata": {},
   "source": [
    "d.get(key,defaultvalue) If the key is available then returns the corresponding value otherwise returns default value."
   ]
  },
  {
   "cell_type": "code",
   "execution_count": 107,
   "id": "15ae45ce",
   "metadata": {},
   "outputs": [],
   "source": [
    "d={100: 'KL Rahul', 200: 'Shubhmann Gill', 300: 'Suryakumar'}"
   ]
  },
  {
   "cell_type": "code",
   "execution_count": 108,
   "id": "604b5102",
   "metadata": {},
   "outputs": [
    {
     "data": {
      "text/plain": [
       "'KL Rahul'"
      ]
     },
     "execution_count": 108,
     "metadata": {},
     "output_type": "execute_result"
    }
   ],
   "source": [
    "d[100]"
   ]
  },
  {
   "cell_type": "code",
   "execution_count": 109,
   "id": "84ba0a18",
   "metadata": {},
   "outputs": [
    {
     "data": {
      "text/plain": [
       "'KL Rahul'"
      ]
     },
     "execution_count": 109,
     "metadata": {},
     "output_type": "execute_result"
    }
   ],
   "source": [
    "d.get(100)"
   ]
  },
  {
   "cell_type": "code",
   "execution_count": 110,
   "id": "b0b57aac",
   "metadata": {},
   "outputs": [
    {
     "ename": "KeyError",
     "evalue": "400",
     "output_type": "error",
     "traceback": [
      "\u001b[1;31m---------------------------------------------------------------------------\u001b[0m",
      "\u001b[1;31mKeyError\u001b[0m                                  Traceback (most recent call last)",
      "Cell \u001b[1;32mIn[110], line 1\u001b[0m\n\u001b[1;32m----> 1\u001b[0m d[\u001b[38;5;241m400\u001b[39m]\n",
      "\u001b[1;31mKeyError\u001b[0m: 400"
     ]
    }
   ],
   "source": [
    "d[400]"
   ]
  },
  {
   "cell_type": "code",
   "execution_count": 111,
   "id": "6015f6f2",
   "metadata": {},
   "outputs": [
    {
     "name": "stdout",
     "output_type": "stream",
     "text": [
      "Suryakumar\n"
     ]
    }
   ],
   "source": [
    "print(d[300])"
   ]
  },
  {
   "cell_type": "code",
   "execution_count": 112,
   "id": "2687ae79",
   "metadata": {},
   "outputs": [
    {
     "data": {
      "text/plain": [
       "{100: 'KL Rahul', 200: 'Shubhmann Gill', 300: 'Suryakumar'}"
      ]
     },
     "execution_count": 112,
     "metadata": {},
     "output_type": "execute_result"
    }
   ],
   "source": [
    "d"
   ]
  },
  {
   "cell_type": "code",
   "execution_count": 113,
   "id": "7b15df85",
   "metadata": {},
   "outputs": [
    {
     "name": "stdout",
     "output_type": "stream",
     "text": [
      "KL Rahul\n",
      "KL Rahul\n"
     ]
    }
   ],
   "source": [
    "print(d.get(100))\n",
    "print(d[100])"
   ]
  },
  {
   "cell_type": "code",
   "execution_count": 114,
   "id": "6614bc09",
   "metadata": {},
   "outputs": [
    {
     "name": "stdout",
     "output_type": "stream",
     "text": [
      "None\n"
     ]
    }
   ],
   "source": [
    "print(d.get(400)) "
   ]
  },
  {
   "cell_type": "code",
   "execution_count": 115,
   "id": "f95f25a7",
   "metadata": {},
   "outputs": [
    {
     "data": {
      "text/plain": [
       "{100: 'KL Rahul', 200: 'Shubhmann Gill', 300: 'Suryakumar'}"
      ]
     },
     "execution_count": 115,
     "metadata": {},
     "output_type": "execute_result"
    }
   ],
   "source": [
    "d"
   ]
  },
  {
   "cell_type": "code",
   "execution_count": 116,
   "id": "6e745bec",
   "metadata": {},
   "outputs": [
    {
     "data": {
      "text/plain": [
       "'Suryakumar'"
      ]
     },
     "execution_count": 116,
     "metadata": {},
     "output_type": "execute_result"
    }
   ],
   "source": [
    "d.get(300,\"Python\")"
   ]
  },
  {
   "cell_type": "code",
   "execution_count": 118,
   "id": "0d6531d3",
   "metadata": {},
   "outputs": [
    {
     "name": "stdout",
     "output_type": "stream",
     "text": [
      "None\n"
     ]
    }
   ],
   "source": [
    "print(d.get(1000))"
   ]
  },
  {
   "cell_type": "code",
   "execution_count": 119,
   "id": "96b7ceea",
   "metadata": {},
   "outputs": [
    {
     "data": {
      "text/plain": [
       "'MSD'"
      ]
     },
     "execution_count": 119,
     "metadata": {},
     "output_type": "execute_result"
    }
   ],
   "source": [
    "d.get(1000,\"MSD\")"
   ]
  },
  {
   "cell_type": "code",
   "execution_count": 120,
   "id": "86cddf9b",
   "metadata": {
    "scrolled": true
   },
   "outputs": [
    {
     "name": "stdout",
     "output_type": "stream",
     "text": [
      "Guest\n"
     ]
    }
   ],
   "source": [
    "print(d.get(500,\"Guest\")) "
   ]
  },
  {
   "cell_type": "code",
   "execution_count": 121,
   "id": "a5ed9f94",
   "metadata": {},
   "outputs": [
    {
     "name": "stdout",
     "output_type": "stream",
     "text": [
      "NeW Guest\n"
     ]
    }
   ],
   "source": [
    "print(d.get(400,\"NeW Guest\"))"
   ]
  },
  {
   "cell_type": "code",
   "execution_count": 122,
   "id": "9c2e5396",
   "metadata": {},
   "outputs": [
    {
     "data": {
      "text/plain": [
       "{100: 'KL Rahul', 200: 'Shubhmann Gill', 300: 'Suryakumar'}"
      ]
     },
     "execution_count": 122,
     "metadata": {},
     "output_type": "execute_result"
    }
   ],
   "source": [
    "d"
   ]
  },
  {
   "cell_type": "markdown",
   "id": "e98d162f",
   "metadata": {},
   "source": [
    "# 3. pop():"
   ]
  },
  {
   "cell_type": "raw",
   "id": "9c7ccbdc",
   "metadata": {},
   "source": [
    "d.pop(key)"
   ]
  },
  {
   "cell_type": "raw",
   "id": "3e384af6",
   "metadata": {},
   "source": [
    "It removes the entry associated with the specified key and returns the corresponding value\n",
    "If the specified key is not available then we will get KeyError"
   ]
  },
  {
   "cell_type": "code",
   "execution_count": 129,
   "id": "413b6767",
   "metadata": {},
   "outputs": [],
   "source": [
    "d={100: 'Sachin', 200: 'Sehwagh', 300: 'Saurav', 400: 'Zaheer'}"
   ]
  },
  {
   "cell_type": "code",
   "execution_count": 144,
   "id": "02e7f207",
   "metadata": {},
   "outputs": [],
   "source": [
    "p_list=[101,202,True,'Netrawalkar',\"python\"]"
   ]
  },
  {
   "cell_type": "code",
   "execution_count": 145,
   "id": "0a716232",
   "metadata": {},
   "outputs": [],
   "source": [
    "p_set=set(pop_list)"
   ]
  },
  {
   "cell_type": "code",
   "execution_count": 146,
   "id": "927e8915",
   "metadata": {},
   "outputs": [],
   "source": [
    "p_dict={100: 'Sachin', 200: 'Sehwagh', 300: 'Saurav', 400: 'Zaheer'}"
   ]
  },
  {
   "cell_type": "code",
   "execution_count": 147,
   "id": "0a8fc4f4",
   "metadata": {},
   "outputs": [
    {
     "data": {
      "text/plain": [
       "[101, 202, True, 'Netrawalkar', 'python']"
      ]
     },
     "execution_count": 147,
     "metadata": {},
     "output_type": "execute_result"
    }
   ],
   "source": [
    "p_list"
   ]
  },
  {
   "cell_type": "code",
   "execution_count": 148,
   "id": "11b74857",
   "metadata": {},
   "outputs": [
    {
     "data": {
      "text/plain": [
       "{101, 202, False, True, 'python'}"
      ]
     },
     "execution_count": 148,
     "metadata": {},
     "output_type": "execute_result"
    }
   ],
   "source": [
    "p_set"
   ]
  },
  {
   "cell_type": "code",
   "execution_count": 149,
   "id": "a39648ab",
   "metadata": {},
   "outputs": [
    {
     "data": {
      "text/plain": [
       "{100: 'Sachin', 200: 'Sehwagh', 300: 'Saurav', 400: 'Zaheer'}"
      ]
     },
     "execution_count": 149,
     "metadata": {},
     "output_type": "execute_result"
    }
   ],
   "source": [
    "p_dict"
   ]
  },
  {
   "cell_type": "code",
   "execution_count": 143,
   "id": "95e58c90",
   "metadata": {},
   "outputs": [],
   "source": [
    "# print(pop_set)"
   ]
  },
  {
   "cell_type": "code",
   "execution_count": 150,
   "id": "a0a6fce3",
   "metadata": {},
   "outputs": [
    {
     "data": {
      "text/plain": [
       "202"
      ]
     },
     "execution_count": 150,
     "metadata": {},
     "output_type": "execute_result"
    }
   ],
   "source": [
    "p_list.pop(1)"
   ]
  },
  {
   "cell_type": "code",
   "execution_count": 151,
   "id": "5b3531c5",
   "metadata": {},
   "outputs": [
    {
     "data": {
      "text/plain": [
       "False"
      ]
     },
     "execution_count": 151,
     "metadata": {},
     "output_type": "execute_result"
    }
   ],
   "source": [
    "p_set.pop()"
   ]
  },
  {
   "cell_type": "code",
   "execution_count": 152,
   "id": "762b4ce1",
   "metadata": {},
   "outputs": [
    {
     "data": {
      "text/plain": [
       "'Sehwagh'"
      ]
     },
     "execution_count": 152,
     "metadata": {},
     "output_type": "execute_result"
    }
   ],
   "source": [
    "p_dict.pop(200)"
   ]
  },
  {
   "cell_type": "code",
   "execution_count": 154,
   "id": "2d3b9fed",
   "metadata": {},
   "outputs": [
    {
     "name": "stdout",
     "output_type": "stream",
     "text": [
      "{100: 'Sachin', 300: 'Saurav', 400: 'Zaheer'}\n"
     ]
    }
   ],
   "source": [
    "print(p_dict)"
   ]
  },
  {
   "cell_type": "code",
   "execution_count": 155,
   "id": "07ac419b",
   "metadata": {},
   "outputs": [
    {
     "name": "stdout",
     "output_type": "stream",
     "text": [
      "Sachin\n"
     ]
    }
   ],
   "source": [
    "print(p_dict.pop(100))"
   ]
  },
  {
   "cell_type": "code",
   "execution_count": 156,
   "id": "3f3ad12c",
   "metadata": {},
   "outputs": [
    {
     "name": "stdout",
     "output_type": "stream",
     "text": [
      "Zaheer\n"
     ]
    }
   ],
   "source": [
    "print(p_dict.pop(400))"
   ]
  },
  {
   "cell_type": "code",
   "execution_count": 157,
   "id": "739c2307",
   "metadata": {},
   "outputs": [
    {
     "name": "stdout",
     "output_type": "stream",
     "text": [
      "{100: 'Sachin', 200: 'Sehwagh', 300: 'Saurav', 400: 'Zaheer'}\n"
     ]
    }
   ],
   "source": [
    "print(pop_dict)"
   ]
  },
  {
   "cell_type": "code",
   "execution_count": 158,
   "id": "b668ff5a",
   "metadata": {},
   "outputs": [
    {
     "ename": "TypeError",
     "evalue": "pop expected at least 1 argument, got 0",
     "output_type": "error",
     "traceback": [
      "\u001b[1;31m---------------------------------------------------------------------------\u001b[0m",
      "\u001b[1;31mTypeError\u001b[0m                                 Traceback (most recent call last)",
      "Cell \u001b[1;32mIn[158], line 1\u001b[0m\n\u001b[1;32m----> 1\u001b[0m pop_dict\u001b[38;5;241m.\u001b[39mpop()\n",
      "\u001b[1;31mTypeError\u001b[0m: pop expected at least 1 argument, got 0"
     ]
    }
   ],
   "source": [
    "pop_dict.pop()"
   ]
  },
  {
   "cell_type": "markdown",
   "id": "cb8bb26c",
   "metadata": {},
   "source": [
    "# 4. popitem():"
   ]
  },
  {
   "cell_type": "raw",
   "id": "46389acb",
   "metadata": {},
   "source": [
    "It removes an arbitrary item(key-value) from the dictionaty and returns it."
   ]
  },
  {
   "cell_type": "code",
   "execution_count": 165,
   "id": "3a601915",
   "metadata": {},
   "outputs": [
    {
     "name": "stdout",
     "output_type": "stream",
     "text": [
      "{200: 'Sehwagh', 300: 'Saurav', 400: 'Zaheer'}\n"
     ]
    }
   ],
   "source": [
    "d={200: 'Sehwagh', 300: 'Saurav', 400: 'Zaheer'}\n",
    "print(d) "
   ]
  },
  {
   "cell_type": "code",
   "execution_count": 166,
   "id": "39968208",
   "metadata": {},
   "outputs": [
    {
     "name": "stdout",
     "output_type": "stream",
     "text": [
      "(400, 'Zaheer')\n"
     ]
    }
   ],
   "source": [
    "print(d.popitem()) "
   ]
  },
  {
   "cell_type": "code",
   "execution_count": 167,
   "id": "912e06f9",
   "metadata": {},
   "outputs": [
    {
     "name": "stdout",
     "output_type": "stream",
     "text": [
      "{200: 'Sehwagh', 300: 'Saurav'}\n"
     ]
    }
   ],
   "source": [
    "print(d)"
   ]
  },
  {
   "cell_type": "code",
   "execution_count": 168,
   "id": "654133f4",
   "metadata": {},
   "outputs": [
    {
     "name": "stdout",
     "output_type": "stream",
     "text": [
      "(300, 'Saurav')\n"
     ]
    }
   ],
   "source": [
    "print(d.popitem()) "
   ]
  },
  {
   "cell_type": "code",
   "execution_count": 169,
   "id": "e471b53c",
   "metadata": {},
   "outputs": [
    {
     "data": {
      "text/plain": [
       "{200: 'Sehwagh'}"
      ]
     },
     "execution_count": 169,
     "metadata": {},
     "output_type": "execute_result"
    }
   ],
   "source": [
    "d"
   ]
  },
  {
   "cell_type": "code",
   "execution_count": 170,
   "id": "47854a74",
   "metadata": {},
   "outputs": [
    {
     "name": "stdout",
     "output_type": "stream",
     "text": [
      "(200, 'Sehwagh')\n"
     ]
    }
   ],
   "source": [
    "print(d.popitem()) "
   ]
  },
  {
   "cell_type": "code",
   "execution_count": 171,
   "id": "539f4a74",
   "metadata": {},
   "outputs": [
    {
     "data": {
      "text/plain": [
       "{}"
      ]
     },
     "execution_count": 171,
     "metadata": {},
     "output_type": "execute_result"
    }
   ],
   "source": [
    "d"
   ]
  },
  {
   "cell_type": "code",
   "execution_count": 172,
   "id": "b64e4709",
   "metadata": {},
   "outputs": [
    {
     "ename": "KeyError",
     "evalue": "'popitem(): dictionary is empty'",
     "output_type": "error",
     "traceback": [
      "\u001b[1;31m---------------------------------------------------------------------------\u001b[0m",
      "\u001b[1;31mKeyError\u001b[0m                                  Traceback (most recent call last)",
      "Cell \u001b[1;32mIn[172], line 1\u001b[0m\n\u001b[1;32m----> 1\u001b[0m \u001b[38;5;28mprint\u001b[39m(d\u001b[38;5;241m.\u001b[39mpopitem())\n",
      "\u001b[1;31mKeyError\u001b[0m: 'popitem(): dictionary is empty'"
     ]
    }
   ],
   "source": [
    "print(d.popitem()) "
   ]
  },
  {
   "cell_type": "code",
   "execution_count": 173,
   "id": "53d57258",
   "metadata": {},
   "outputs": [],
   "source": [
    "list1=[\"C++\",\"M1\",\"M3\",\"TOC\"]"
   ]
  },
  {
   "cell_type": "code",
   "execution_count": 174,
   "id": "36a7cdc8",
   "metadata": {},
   "outputs": [
    {
     "data": {
      "text/plain": [
       "'C++'"
      ]
     },
     "execution_count": 174,
     "metadata": {},
     "output_type": "execute_result"
    }
   ],
   "source": [
    "list1.pop(0)"
   ]
  },
  {
   "cell_type": "code",
   "execution_count": 175,
   "id": "c2531f36",
   "metadata": {},
   "outputs": [
    {
     "data": {
      "text/plain": [
       "'TOC'"
      ]
     },
     "execution_count": 175,
     "metadata": {},
     "output_type": "execute_result"
    }
   ],
   "source": [
    "list1.pop()"
   ]
  },
  {
   "cell_type": "raw",
   "id": "4b1b44e0",
   "metadata": {},
   "source": [
    "in list pop method has index as parameter\n",
    "if not then default parameter will -1"
   ]
  },
  {
   "cell_type": "code",
   "execution_count": 176,
   "id": "ca6cc843",
   "metadata": {},
   "outputs": [],
   "source": [
    "set1={\"C++\",\"M1\",\"M3\",\"TOC\"}"
   ]
  },
  {
   "cell_type": "code",
   "execution_count": 177,
   "id": "7e750d9f",
   "metadata": {},
   "outputs": [
    {
     "data": {
      "text/plain": [
       "'M3'"
      ]
     },
     "execution_count": 177,
     "metadata": {},
     "output_type": "execute_result"
    }
   ],
   "source": [
    "set1.pop()"
   ]
  },
  {
   "cell_type": "code",
   "execution_count": 178,
   "id": "7f8bd529",
   "metadata": {},
   "outputs": [
    {
     "data": {
      "text/plain": [
       "'C++'"
      ]
     },
     "execution_count": 178,
     "metadata": {},
     "output_type": "execute_result"
    }
   ],
   "source": [
    "set1.pop()"
   ]
  },
  {
   "cell_type": "code",
   "execution_count": 179,
   "id": "bb4f2644",
   "metadata": {},
   "outputs": [
    {
     "data": {
      "text/plain": [
       "'M1'"
      ]
     },
     "execution_count": 179,
     "metadata": {},
     "output_type": "execute_result"
    }
   ],
   "source": [
    "set1.pop()"
   ]
  },
  {
   "cell_type": "code",
   "execution_count": 180,
   "id": "83f29e8e",
   "metadata": {},
   "outputs": [
    {
     "data": {
      "text/plain": [
       "'TOC'"
      ]
     },
     "execution_count": 180,
     "metadata": {},
     "output_type": "execute_result"
    }
   ],
   "source": [
    "set1.pop()"
   ]
  },
  {
   "cell_type": "code",
   "execution_count": 181,
   "id": "0acd366a",
   "metadata": {},
   "outputs": [
    {
     "ename": "KeyError",
     "evalue": "'pop from an empty set'",
     "output_type": "error",
     "traceback": [
      "\u001b[1;31m---------------------------------------------------------------------------\u001b[0m",
      "\u001b[1;31mKeyError\u001b[0m                                  Traceback (most recent call last)",
      "Cell \u001b[1;32mIn[181], line 1\u001b[0m\n\u001b[1;32m----> 1\u001b[0m set1\u001b[38;5;241m.\u001b[39mpop()\n",
      "\u001b[1;31mKeyError\u001b[0m: 'pop from an empty set'"
     ]
    }
   ],
   "source": [
    "set1.pop()"
   ]
  },
  {
   "cell_type": "markdown",
   "id": "17d36939",
   "metadata": {},
   "source": [
    "# If the dictionary is empty then we will get KeyError"
   ]
  },
  {
   "cell_type": "code",
   "execution_count": null,
   "id": "0f56b6c2",
   "metadata": {},
   "outputs": [],
   "source": [
    "d={}\n",
    "print(d.popitem())# ==>KeyError: 'popitem(): dictionary is empty'"
   ]
  },
  {
   "cell_type": "markdown",
   "id": "dbdaeaf4",
   "metadata": {},
   "source": [
    "# 5. keys():"
   ]
  },
  {
   "cell_type": "raw",
   "id": "839d8a46",
   "metadata": {},
   "source": [
    "It returns all keys associated eith dictionary"
   ]
  },
  {
   "cell_type": "code",
   "execution_count": 182,
   "id": "344dd72c",
   "metadata": {},
   "outputs": [],
   "source": [
    "d={200: 'Sehwagh', 300: 'Saurav', 400: 'Zaheer'}"
   ]
  },
  {
   "cell_type": "code",
   "execution_count": 183,
   "id": "58385c18",
   "metadata": {},
   "outputs": [
    {
     "data": {
      "text/plain": [
       "dict_keys([200, 300, 400])"
      ]
     },
     "execution_count": 183,
     "metadata": {},
     "output_type": "execute_result"
    }
   ],
   "source": [
    "d.keys()"
   ]
  },
  {
   "cell_type": "code",
   "execution_count": 184,
   "id": "032bf2ff",
   "metadata": {},
   "outputs": [
    {
     "name": "stdout",
     "output_type": "stream",
     "text": [
      "dict_keys([200, 300, 400])\n"
     ]
    }
   ],
   "source": [
    "print(d.keys()) "
   ]
  },
  {
   "cell_type": "code",
   "execution_count": 185,
   "id": "f1a98d58",
   "metadata": {},
   "outputs": [
    {
     "data": {
      "text/plain": [
       "{200: 'Sehwagh', 300: 'Saurav', 400: 'Zaheer'}"
      ]
     },
     "execution_count": 185,
     "metadata": {},
     "output_type": "execute_result"
    }
   ],
   "source": [
    "d"
   ]
  },
  {
   "cell_type": "code",
   "execution_count": 186,
   "id": "a6786e7d",
   "metadata": {},
   "outputs": [],
   "source": [
    "list1=[\"C++\",\"M1\",\"M3\",\"TOC\"]"
   ]
  },
  {
   "cell_type": "code",
   "execution_count": 187,
   "id": "44f7aadd",
   "metadata": {},
   "outputs": [
    {
     "name": "stdout",
     "output_type": "stream",
     "text": [
      "C++\n",
      "M1\n",
      "M3\n",
      "TOC\n"
     ]
    }
   ],
   "source": [
    "for i in list1:\n",
    "    print(i)"
   ]
  },
  {
   "cell_type": "code",
   "execution_count": 188,
   "id": "b3116638",
   "metadata": {},
   "outputs": [
    {
     "data": {
      "text/plain": [
       "dict_keys([200, 300, 400])"
      ]
     },
     "execution_count": 188,
     "metadata": {},
     "output_type": "execute_result"
    }
   ],
   "source": [
    "d.keys()"
   ]
  },
  {
   "cell_type": "code",
   "execution_count": 189,
   "id": "be4524f6",
   "metadata": {},
   "outputs": [
    {
     "name": "stdout",
     "output_type": "stream",
     "text": [
      "200\n",
      "300\n",
      "400\n"
     ]
    }
   ],
   "source": [
    "for i in d.keys():\n",
    "    print(i)"
   ]
  },
  {
   "cell_type": "code",
   "execution_count": 190,
   "id": "f2fb2161",
   "metadata": {},
   "outputs": [
    {
     "data": {
      "text/plain": [
       "{200: 'Sehwagh', 300: 'Saurav', 400: 'Zaheer'}"
      ]
     },
     "execution_count": 190,
     "metadata": {},
     "output_type": "execute_result"
    }
   ],
   "source": [
    "d"
   ]
  },
  {
   "cell_type": "code",
   "execution_count": 191,
   "id": "bdf1d654",
   "metadata": {},
   "outputs": [
    {
     "name": "stdout",
     "output_type": "stream",
     "text": [
      "Sehwagh\n",
      "Saurav\n",
      "Zaheer\n"
     ]
    }
   ],
   "source": [
    "for i in d.values():\n",
    "    print(i)"
   ]
  },
  {
   "cell_type": "code",
   "execution_count": 192,
   "id": "c18830b4",
   "metadata": {},
   "outputs": [
    {
     "name": "stdout",
     "output_type": "stream",
     "text": [
      "dict_items([(200, 'Sehwagh'), (300, 'Saurav'), (400, 'Zaheer')])\n"
     ]
    }
   ],
   "source": [
    "print(d.items())"
   ]
  },
  {
   "cell_type": "code",
   "execution_count": 193,
   "id": "5ccd7c15",
   "metadata": {},
   "outputs": [
    {
     "name": "stdout",
     "output_type": "stream",
     "text": [
      "(200, 'Sehwagh')\n",
      "(300, 'Saurav')\n",
      "(400, 'Zaheer')\n"
     ]
    }
   ],
   "source": [
    "for i in d.items():\n",
    "    print(i)"
   ]
  },
  {
   "cell_type": "code",
   "execution_count": 194,
   "id": "e2211834",
   "metadata": {},
   "outputs": [
    {
     "name": "stdout",
     "output_type": "stream",
     "text": [
      "200 Sehwagh\n",
      "300 Saurav\n",
      "400 Zaheer\n"
     ]
    }
   ],
   "source": [
    "for k,v in d.items():\n",
    "    print(k,v)"
   ]
  },
  {
   "cell_type": "code",
   "execution_count": 195,
   "id": "fc31d25f",
   "metadata": {},
   "outputs": [
    {
     "name": "stdout",
     "output_type": "stream",
     "text": [
      "1201\n",
      "1301\n",
      "1401\n"
     ]
    }
   ],
   "source": [
    "for i in d.keys():\n",
    "    print(i+1001)"
   ]
  },
  {
   "cell_type": "code",
   "execution_count": 196,
   "id": "6f21fec5",
   "metadata": {},
   "outputs": [
    {
     "data": {
      "text/plain": [
       "{200: 'Sehwagh', 300: 'Saurav', 400: 'Zaheer'}"
      ]
     },
     "execution_count": 196,
     "metadata": {},
     "output_type": "execute_result"
    }
   ],
   "source": [
    "d"
   ]
  },
  {
   "cell_type": "code",
   "execution_count": 197,
   "id": "a023e6e0",
   "metadata": {},
   "outputs": [
    {
     "name": "stdout",
     "output_type": "stream",
     "text": [
      "SEHWAGH\n",
      "SAURAV\n",
      "ZAHEER\n"
     ]
    }
   ],
   "source": [
    "for i in d.values():\n",
    "    print(i.upper())   "
   ]
  },
  {
   "cell_type": "code",
   "execution_count": 198,
   "id": "508f9901",
   "metadata": {},
   "outputs": [
    {
     "name": "stdout",
     "output_type": "stream",
     "text": [
      "200\n",
      "300\n",
      "400\n"
     ]
    }
   ],
   "source": [
    "for i in d.keys():\n",
    "    print(i)"
   ]
  },
  {
   "cell_type": "markdown",
   "id": "4a1f295c",
   "metadata": {},
   "source": [
    "# 6. values():"
   ]
  },
  {
   "cell_type": "raw",
   "id": "e970af62",
   "metadata": {},
   "source": [
    "It returns all values associated with the dictionary"
   ]
  },
  {
   "cell_type": "code",
   "execution_count": 199,
   "id": "eb8f87e9",
   "metadata": {},
   "outputs": [],
   "source": [
    "d={200: 'Sehwagh', 300: 'Saurav', 400: 'Zaheer'}"
   ]
  },
  {
   "cell_type": "code",
   "execution_count": 200,
   "id": "bb4a174a",
   "metadata": {},
   "outputs": [
    {
     "data": {
      "text/plain": [
       "dict_values(['Sehwagh', 'Saurav', 'Zaheer'])"
      ]
     },
     "execution_count": 200,
     "metadata": {},
     "output_type": "execute_result"
    }
   ],
   "source": [
    "d.values()"
   ]
  },
  {
   "cell_type": "code",
   "execution_count": 201,
   "id": "708d6f5e",
   "metadata": {},
   "outputs": [
    {
     "name": "stdout",
     "output_type": "stream",
     "text": [
      "dict_values(['Sehwagh', 'Saurav', 'Zaheer'])\n"
     ]
    }
   ],
   "source": [
    "print(d.values())"
   ]
  },
  {
   "cell_type": "code",
   "execution_count": 202,
   "id": "e5ec0a5d",
   "metadata": {},
   "outputs": [
    {
     "name": "stdout",
     "output_type": "stream",
     "text": [
      "Sehw\n",
      "Saur\n",
      "Zahe\n"
     ]
    }
   ],
   "source": [
    "for i in d.values():\n",
    "    print(i[0:4])"
   ]
  },
  {
   "cell_type": "markdown",
   "id": "907bfd00",
   "metadata": {},
   "source": [
    "# 7. items():"
   ]
  },
  {
   "cell_type": "raw",
   "id": "459a28ab",
   "metadata": {},
   "source": [
    "It returns list of tuples representing key-value pairs.\n",
    "[(k,v),(k,v),(k,v)]"
   ]
  },
  {
   "cell_type": "code",
   "execution_count": 203,
   "id": "2500bf42",
   "metadata": {},
   "outputs": [
    {
     "data": {
      "text/plain": [
       "{200: 'Sehwagh', 300: 'Saurav', 400: 'Zaheer'}"
      ]
     },
     "execution_count": 203,
     "metadata": {},
     "output_type": "execute_result"
    }
   ],
   "source": [
    "d"
   ]
  },
  {
   "cell_type": "code",
   "execution_count": 204,
   "id": "3c546759",
   "metadata": {},
   "outputs": [
    {
     "name": "stdout",
     "output_type": "stream",
     "text": [
      "dict_items([(200, 'Sehwagh'), (300, 'Saurav'), (400, 'Zaheer')])\n"
     ]
    }
   ],
   "source": [
    "print(d.items())"
   ]
  },
  {
   "cell_type": "code",
   "execution_count": 205,
   "id": "c23240c4",
   "metadata": {},
   "outputs": [
    {
     "name": "stdout",
     "output_type": "stream",
     "text": [
      "200 Sehwagh\n",
      "300 Saurav\n",
      "400 Zaheer\n"
     ]
    }
   ],
   "source": [
    "for k,v in d.items():\n",
    "    print(k,v)"
   ]
  },
  {
   "cell_type": "code",
   "execution_count": 206,
   "id": "1fe9b941",
   "metadata": {},
   "outputs": [
    {
     "name": "stdout",
     "output_type": "stream",
     "text": [
      "200 Sehwagh\n",
      "300 Saurav\n",
      "400 Zaheer\n"
     ]
    }
   ],
   "source": [
    "for i,j in d.items():\n",
    "    print(i,j)"
   ]
  },
  {
   "cell_type": "code",
   "execution_count": 207,
   "id": "42f80d99",
   "metadata": {},
   "outputs": [
    {
     "name": "stdout",
     "output_type": "stream",
     "text": [
      "200 ----> 140736676867080\n",
      "Sehwagh ----> 1939719959536\n",
      "300 ----> 1939739607920\n",
      "Saurav ----> 1939720040688\n",
      "400 ----> 1939739607984\n",
      "Zaheer ----> 1939735534000\n"
     ]
    }
   ],
   "source": [
    "for key,value in d.items():\n",
    "    print(key,\"---->\",id(key))\n",
    "    print(value,\"---->\",id(value))   "
   ]
  },
  {
   "cell_type": "code",
   "execution_count": 208,
   "id": "538c6bad",
   "metadata": {},
   "outputs": [
    {
     "name": "stdout",
     "output_type": "stream",
     "text": [
      "400 Zaheer\n",
      "400 ----> 1939739607984\n",
      "Zaheer ----> 1939735534000\n"
     ]
    }
   ],
   "source": [
    "print(key,value)\n",
    "print(key,\"---->\",id(key))\n",
    "print(value,\"---->\",id(value))\n",
    "    "
   ]
  },
  {
   "cell_type": "code",
   "execution_count": 209,
   "id": "fbea202b",
   "metadata": {},
   "outputs": [
    {
     "data": {
      "text/plain": [
       "dict_items([(200, 'Sehwagh'), (300, 'Saurav'), (400, 'Zaheer')])"
      ]
     },
     "execution_count": 209,
     "metadata": {},
     "output_type": "execute_result"
    }
   ],
   "source": [
    "d.items()"
   ]
  },
  {
   "cell_type": "code",
   "execution_count": 210,
   "id": "d2a704c4",
   "metadata": {},
   "outputs": [
    {
     "name": "stdout",
     "output_type": "stream",
     "text": [
      "200 Sehwagh\n",
      "300 Saurav\n",
      "400 Zaheer\n"
     ]
    }
   ],
   "source": [
    "for k,v in d.items():\n",
    "    print(k,v)"
   ]
  },
  {
   "cell_type": "code",
   "execution_count": 212,
   "id": "9e594924",
   "metadata": {},
   "outputs": [
    {
     "name": "stdout",
     "output_type": "stream",
     "text": [
      "200 Sehwagh\n",
      "300 Saurav\n",
      "400 Zaheer\n"
     ]
    }
   ],
   "source": [
    "for u,m in d.items(): \n",
    "    print(u,m)"
   ]
  },
  {
   "cell_type": "code",
   "execution_count": 213,
   "id": "b153f31b",
   "metadata": {},
   "outputs": [
    {
     "name": "stdout",
     "output_type": "stream",
     "text": [
      "200 Sehwagh\n",
      "300 Saurav\n",
      "400 Zaheer\n"
     ]
    }
   ],
   "source": [
    "for key,value in d.items(): \n",
    "    print(key,value)"
   ]
  },
  {
   "cell_type": "code",
   "execution_count": 214,
   "id": "635e38f2",
   "metadata": {},
   "outputs": [
    {
     "name": "stdout",
     "output_type": "stream",
     "text": [
      "(200, 'Sehwagh')\n",
      "(300, 'Saurav')\n",
      "(400, 'Zaheer')\n"
     ]
    }
   ],
   "source": [
    "for mohini in d.items(): \n",
    "    print(mohini)"
   ]
  },
  {
   "cell_type": "markdown",
   "id": "30ea4779",
   "metadata": {},
   "source": [
    "# 8. copy():"
   ]
  },
  {
   "cell_type": "raw",
   "id": "9ef81f03",
   "metadata": {},
   "source": [
    "# To create exactly duplicate dictionary(cloned copy)"
   ]
  },
  {
   "cell_type": "code",
   "execution_count": 215,
   "id": "d47303e4",
   "metadata": {},
   "outputs": [],
   "source": [
    "d={200: 'Sehwagh', 300: 'Saurav', 400: 'Zaheer'}"
   ]
  },
  {
   "cell_type": "code",
   "execution_count": 216,
   "id": "ba10e0f1",
   "metadata": {},
   "outputs": [],
   "source": [
    "d1=d.copy()"
   ]
  },
  {
   "cell_type": "code",
   "execution_count": 217,
   "id": "4876a42b",
   "metadata": {},
   "outputs": [
    {
     "name": "stdout",
     "output_type": "stream",
     "text": [
      "{200: 'Sehwagh', 300: 'Saurav', 400: 'Zaheer'} {200: 'Sehwagh', 300: 'Saurav', 400: 'Zaheer'}\n"
     ]
    }
   ],
   "source": [
    "print(d1,d)"
   ]
  },
  {
   "cell_type": "code",
   "execution_count": 218,
   "id": "23c2ed2e",
   "metadata": {},
   "outputs": [
    {
     "data": {
      "text/plain": [
       "1939739108672"
      ]
     },
     "execution_count": 218,
     "metadata": {},
     "output_type": "execute_result"
    }
   ],
   "source": [
    "id(d)"
   ]
  },
  {
   "cell_type": "code",
   "execution_count": 219,
   "id": "f1b1a6f6",
   "metadata": {},
   "outputs": [
    {
     "data": {
      "text/plain": [
       "1939739108800"
      ]
     },
     "execution_count": 219,
     "metadata": {},
     "output_type": "execute_result"
    }
   ],
   "source": [
    "id(d1)"
   ]
  },
  {
   "cell_type": "code",
   "execution_count": 220,
   "id": "6e4d6c96",
   "metadata": {},
   "outputs": [],
   "source": [
    "x=100\n",
    "y=100"
   ]
  },
  {
   "cell_type": "code",
   "execution_count": 221,
   "id": "a747a9a1",
   "metadata": {},
   "outputs": [
    {
     "name": "stdout",
     "output_type": "stream",
     "text": [
      "140736676863880 140736676863880\n",
      "100 100\n"
     ]
    }
   ],
   "source": [
    "print(id(x),id(y))\n",
    "print(x,y)"
   ]
  },
  {
   "cell_type": "code",
   "execution_count": 222,
   "id": "d75c829f",
   "metadata": {},
   "outputs": [],
   "source": [
    "a1=255\n",
    "b1=255\n",
    "c1=255"
   ]
  },
  {
   "cell_type": "code",
   "execution_count": 223,
   "id": "548230ad",
   "metadata": {},
   "outputs": [
    {
     "data": {
      "text/plain": [
       "(140736676868840, 140736676868840, 140736676868840)"
      ]
     },
     "execution_count": 223,
     "metadata": {},
     "output_type": "execute_result"
    }
   ],
   "source": [
    "id(a1),id(b1),id(c1)"
   ]
  },
  {
   "cell_type": "code",
   "execution_count": 224,
   "id": "cfcb4017",
   "metadata": {},
   "outputs": [],
   "source": [
    "a1=256\n",
    "b1=256\n",
    "c1=256"
   ]
  },
  {
   "cell_type": "code",
   "execution_count": 225,
   "id": "ac309a88",
   "metadata": {},
   "outputs": [
    {
     "data": {
      "text/plain": [
       "(140736676868872, 140736676868872, 140736676868872)"
      ]
     },
     "execution_count": 225,
     "metadata": {},
     "output_type": "execute_result"
    }
   ],
   "source": [
    "id(a1),id(b1),id(c1)"
   ]
  },
  {
   "cell_type": "code",
   "execution_count": 226,
   "id": "2168521d",
   "metadata": {},
   "outputs": [],
   "source": [
    "a1=257\n",
    "b1=257\n",
    "c1=257"
   ]
  },
  {
   "cell_type": "code",
   "execution_count": 227,
   "id": "184b8e66",
   "metadata": {},
   "outputs": [
    {
     "data": {
      "text/plain": [
       "(1939739611088, 1939739611408, 1939739611056)"
      ]
     },
     "execution_count": 227,
     "metadata": {},
     "output_type": "execute_result"
    }
   ],
   "source": [
    "id(a1),id(b1),id(c1)"
   ]
  },
  {
   "cell_type": "code",
   "execution_count": 228,
   "id": "bb5aa0aa",
   "metadata": {},
   "outputs": [
    {
     "data": {
      "text/plain": [
       "True"
      ]
     },
     "execution_count": 228,
     "metadata": {},
     "output_type": "execute_result"
    }
   ],
   "source": [
    "x is y"
   ]
  },
  {
   "cell_type": "code",
   "execution_count": 229,
   "id": "bb895360",
   "metadata": {},
   "outputs": [
    {
     "data": {
      "text/plain": [
       "True"
      ]
     },
     "execution_count": 229,
     "metadata": {},
     "output_type": "execute_result"
    }
   ],
   "source": [
    "x==y"
   ]
  },
  {
   "cell_type": "code",
   "execution_count": 230,
   "id": "4607062f",
   "metadata": {},
   "outputs": [
    {
     "data": {
      "text/plain": [
       "False"
      ]
     },
     "execution_count": 230,
     "metadata": {},
     "output_type": "execute_result"
    }
   ],
   "source": [
    "d is d1"
   ]
  },
  {
   "cell_type": "code",
   "execution_count": 231,
   "id": "7c0e9ac1",
   "metadata": {},
   "outputs": [
    {
     "data": {
      "text/plain": [
       "True"
      ]
     },
     "execution_count": 231,
     "metadata": {},
     "output_type": "execute_result"
    }
   ],
   "source": [
    "d==d1"
   ]
  },
  {
   "cell_type": "code",
   "execution_count": 232,
   "id": "ad768989",
   "metadata": {},
   "outputs": [],
   "source": [
    "d2=d"
   ]
  },
  {
   "cell_type": "code",
   "execution_count": 233,
   "id": "47a92330",
   "metadata": {},
   "outputs": [
    {
     "name": "stdout",
     "output_type": "stream",
     "text": [
      "{200: 'Sehwagh', 300: 'Saurav', 400: 'Zaheer'} {200: 'Sehwagh', 300: 'Saurav', 400: 'Zaheer'}\n"
     ]
    }
   ],
   "source": [
    "print(d,d2)"
   ]
  },
  {
   "cell_type": "code",
   "execution_count": 234,
   "id": "9bd42204",
   "metadata": {
    "scrolled": true
   },
   "outputs": [
    {
     "name": "stdout",
     "output_type": "stream",
     "text": [
      "1939739108672 1939739108672\n"
     ]
    }
   ],
   "source": [
    "print(id(d2),id(d))"
   ]
  },
  {
   "cell_type": "code",
   "execution_count": 235,
   "id": "e4986100",
   "metadata": {},
   "outputs": [
    {
     "data": {
      "text/plain": [
       "True"
      ]
     },
     "execution_count": 235,
     "metadata": {},
     "output_type": "execute_result"
    }
   ],
   "source": [
    "d2 is d"
   ]
  },
  {
   "cell_type": "code",
   "execution_count": 236,
   "id": "dd7633ad",
   "metadata": {},
   "outputs": [
    {
     "data": {
      "text/plain": [
       "True"
      ]
     },
     "execution_count": 236,
     "metadata": {},
     "output_type": "execute_result"
    }
   ],
   "source": [
    "d2==d"
   ]
  },
  {
   "cell_type": "markdown",
   "id": "547b29e4",
   "metadata": {},
   "source": [
    "# 9. setdefault():\n",
    "\n",
    "d.setdefault(k,v) If the key is already available then this function returns the corresponding value. \n",
    "\n",
    "If the key is not available then the specified key-value will be added as new item to the dictionary."
   ]
  },
  {
   "cell_type": "code",
   "execution_count": 238,
   "id": "14ad6c3c",
   "metadata": {},
   "outputs": [],
   "source": [
    "d={100: 'Sachin', 200: 'Sehwagh', 300: 'Saurav', 400: 'Zaheer'}"
   ]
  },
  {
   "cell_type": "code",
   "execution_count": 239,
   "id": "dad920f5",
   "metadata": {},
   "outputs": [
    {
     "data": {
      "text/plain": [
       "{100: 'Sachin', 200: 'Sehwagh', 300: 'Saurav', 400: 'Zaheer'}"
      ]
     },
     "execution_count": 239,
     "metadata": {},
     "output_type": "execute_result"
    }
   ],
   "source": [
    "d"
   ]
  },
  {
   "cell_type": "code",
   "execution_count": 240,
   "id": "6f865ea3",
   "metadata": {},
   "outputs": [
    {
     "name": "stdout",
     "output_type": "stream",
     "text": [
      "Bhajjy\n"
     ]
    }
   ],
   "source": [
    "print(d.setdefault(500,\"Bhajjy\")) "
   ]
  },
  {
   "cell_type": "code",
   "execution_count": 241,
   "id": "4fd449b4",
   "metadata": {},
   "outputs": [
    {
     "name": "stdout",
     "output_type": "stream",
     "text": [
      "{100: 'Sachin', 200: 'Sehwagh', 300: 'Saurav', 400: 'Zaheer', 500: 'Bhajjy'}\n"
     ]
    }
   ],
   "source": [
    "print(d) "
   ]
  },
  {
   "cell_type": "code",
   "execution_count": 242,
   "id": "ceed49d3",
   "metadata": {},
   "outputs": [
    {
     "name": "stdout",
     "output_type": "stream",
     "text": [
      "Sachin\n"
     ]
    }
   ],
   "source": [
    "print(d.setdefault(100,\"Kumble\")) "
   ]
  },
  {
   "cell_type": "code",
   "execution_count": 243,
   "id": "957e4d51",
   "metadata": {},
   "outputs": [
    {
     "name": "stdout",
     "output_type": "stream",
     "text": [
      "{100: 'Sachin', 200: 'Sehwagh', 300: 'Saurav', 400: 'Zaheer', 500: 'Bhajjy'}\n"
     ]
    }
   ],
   "source": [
    "print(d)"
   ]
  },
  {
   "cell_type": "code",
   "execution_count": 245,
   "id": "07bc8143",
   "metadata": {},
   "outputs": [
    {
     "data": {
      "text/plain": [
       "'Jasprit'"
      ]
     },
     "execution_count": 245,
     "metadata": {},
     "output_type": "execute_result"
    }
   ],
   "source": [
    "d.setdefault(93,'Jasprit')"
   ]
  },
  {
   "cell_type": "code",
   "execution_count": 246,
   "id": "f33213cf",
   "metadata": {},
   "outputs": [
    {
     "data": {
      "text/plain": [
       "{100: 'Sachin',\n",
       " 200: 'Sehwagh',\n",
       " 300: 'Saurav',\n",
       " 400: 'Zaheer',\n",
       " 500: 'Bhajjy',\n",
       " 93: 'Jasprit'}"
      ]
     },
     "execution_count": 246,
     "metadata": {},
     "output_type": "execute_result"
    }
   ],
   "source": [
    "d"
   ]
  },
  {
   "cell_type": "code",
   "execution_count": 247,
   "id": "9d5ea165",
   "metadata": {},
   "outputs": [
    {
     "data": {
      "text/plain": [
       "'Jasprit'"
      ]
     },
     "execution_count": 247,
     "metadata": {},
     "output_type": "execute_result"
    }
   ],
   "source": [
    "d.setdefault(93,'RP')"
   ]
  },
  {
   "cell_type": "code",
   "execution_count": 248,
   "id": "469bc0f8",
   "metadata": {},
   "outputs": [
    {
     "data": {
      "text/plain": [
       "'Sehwagh'"
      ]
     },
     "execution_count": 248,
     "metadata": {},
     "output_type": "execute_result"
    }
   ],
   "source": [
    "d.setdefault(200,'MSD')"
   ]
  },
  {
   "cell_type": "code",
   "execution_count": 249,
   "id": "bd935769",
   "metadata": {},
   "outputs": [
    {
     "data": {
      "text/plain": [
       "'M Choudhary'"
      ]
     },
     "execution_count": 249,
     "metadata": {},
     "output_type": "execute_result"
    }
   ],
   "source": [
    "d.setdefault(24,'M Choudhary')"
   ]
  },
  {
   "cell_type": "code",
   "execution_count": 250,
   "id": "7bb3c99d",
   "metadata": {},
   "outputs": [
    {
     "data": {
      "text/plain": [
       "{100: 'Sachin',\n",
       " 200: 'Sehwagh',\n",
       " 300: 'Saurav',\n",
       " 400: 'Zaheer',\n",
       " 500: 'Bhajjy',\n",
       " 93: 'Jasprit',\n",
       " 24: 'M Choudhary'}"
      ]
     },
     "execution_count": 250,
     "metadata": {},
     "output_type": "execute_result"
    }
   ],
   "source": [
    "d"
   ]
  },
  {
   "cell_type": "markdown",
   "id": "e9e32c39",
   "metadata": {},
   "source": [
    "# 10. update():"
   ]
  },
  {
   "cell_type": "raw",
   "id": "d3641a21",
   "metadata": {},
   "source": [
    "d.update(x) All items present in the dictionary x will be added to dictionary d"
   ]
  },
  {
   "cell_type": "code",
   "execution_count": 251,
   "id": "f33e8c3f",
   "metadata": {},
   "outputs": [
    {
     "data": {
      "text/plain": [
       "{100: 'Sachin',\n",
       " 200: 'Sehwagh',\n",
       " 300: 'Saurav',\n",
       " 400: 'Zaheer',\n",
       " 500: 'Bhajjy',\n",
       " 93: 'Jasprit',\n",
       " 24: 'M Choudhary'}"
      ]
     },
     "execution_count": 251,
     "metadata": {},
     "output_type": "execute_result"
    }
   ],
   "source": [
    "d"
   ]
  },
  {
   "cell_type": "code",
   "execution_count": 252,
   "id": "915c83f0",
   "metadata": {},
   "outputs": [],
   "source": [
    "d.update({\"D\":400})"
   ]
  },
  {
   "cell_type": "code",
   "execution_count": 253,
   "id": "118a16da",
   "metadata": {},
   "outputs": [
    {
     "data": {
      "text/plain": [
       "{100: 'Sachin',\n",
       " 200: 'Sehwagh',\n",
       " 300: 'Saurav',\n",
       " 400: 'Zaheer',\n",
       " 500: 'Bhajjy',\n",
       " 93: 'Jasprit',\n",
       " 24: 'M Choudhary',\n",
       " 'D': 400}"
      ]
     },
     "execution_count": 253,
     "metadata": {},
     "output_type": "execute_result"
    }
   ],
   "source": [
    "d"
   ]
  },
  {
   "cell_type": "code",
   "execution_count": 254,
   "id": "1da5bd08",
   "metadata": {},
   "outputs": [],
   "source": [
    "d.update({\"Don\":\"Amitabhachan\"})"
   ]
  },
  {
   "cell_type": "code",
   "execution_count": 255,
   "id": "1ce28b74",
   "metadata": {},
   "outputs": [
    {
     "data": {
      "text/plain": [
       "{100: 'Sachin',\n",
       " 200: 'Sehwagh',\n",
       " 300: 'Saurav',\n",
       " 400: 'Zaheer',\n",
       " 500: 'Bhajjy',\n",
       " 93: 'Jasprit',\n",
       " 24: 'M Choudhary',\n",
       " 'D': 400,\n",
       " 'Don': 'Amitabhachan'}"
      ]
     },
     "execution_count": 255,
     "metadata": {},
     "output_type": "execute_result"
    }
   ],
   "source": [
    "d"
   ]
  },
  {
   "cell_type": "code",
   "execution_count": 258,
   "id": "b05a4349",
   "metadata": {},
   "outputs": [],
   "source": [
    "d.update([(1,2)])"
   ]
  },
  {
   "cell_type": "code",
   "execution_count": 260,
   "id": "ab5d4a09",
   "metadata": {},
   "outputs": [],
   "source": [
    "d.update([(1,'Abhishek'),(2,'Aditya')])"
   ]
  },
  {
   "cell_type": "code",
   "execution_count": 261,
   "id": "9fa11f22",
   "metadata": {
    "scrolled": true
   },
   "outputs": [
    {
     "data": {
      "text/plain": [
       "{100: 'Sachin',\n",
       " 200: 'Sehwagh',\n",
       " 300: 'Saurav',\n",
       " 400: 'Zaheer',\n",
       " 500: 'Bhajjy',\n",
       " 93: 'Jasprit',\n",
       " 24: 'M Choudhary',\n",
       " 'D': 400,\n",
       " 'Don': 'Amitabhachan',\n",
       " 1: 'Abhishek',\n",
       " 2: 'Aditya'}"
      ]
     },
     "execution_count": 261,
     "metadata": {},
     "output_type": "execute_result"
    }
   ],
   "source": [
    "d"
   ]
  },
  {
   "cell_type": "markdown",
   "id": "326db3c2",
   "metadata": {},
   "source": [
    "# Q. Write a program to take dictionary from the keyboard and print the sum of values? "
   ]
  },
  {
   "cell_type": "code",
   "execution_count": 262,
   "id": "b152d799",
   "metadata": {},
   "outputs": [
    {
     "name": "stdout",
     "output_type": "stream",
     "text": [
      "enter a  number100\n"
     ]
    }
   ],
   "source": [
    "x=input(\"enter a  number\")"
   ]
  },
  {
   "cell_type": "code",
   "execution_count": 263,
   "id": "030931e1",
   "metadata": {},
   "outputs": [
    {
     "data": {
      "text/plain": [
       "'100'"
      ]
     },
     "execution_count": 263,
     "metadata": {},
     "output_type": "execute_result"
    }
   ],
   "source": [
    "x"
   ]
  },
  {
   "cell_type": "code",
   "execution_count": 264,
   "id": "b5c29e97",
   "metadata": {},
   "outputs": [
    {
     "name": "stdout",
     "output_type": "stream",
     "text": [
      "enter a number101\n"
     ]
    }
   ],
   "source": [
    "y=int(input('enter a number'))"
   ]
  },
  {
   "cell_type": "code",
   "execution_count": 265,
   "id": "254b395c",
   "metadata": {},
   "outputs": [
    {
     "data": {
      "text/plain": [
       "(101, int)"
      ]
     },
     "execution_count": 265,
     "metadata": {},
     "output_type": "execute_result"
    }
   ],
   "source": [
    "y,type(y)"
   ]
  },
  {
   "cell_type": "code",
   "execution_count": 266,
   "id": "7a38d398",
   "metadata": {},
   "outputs": [
    {
     "name": "stdout",
     "output_type": "stream",
     "text": [
      "enter a number9.8\n"
     ]
    }
   ],
   "source": [
    "f=float(input('enter a number'))"
   ]
  },
  {
   "cell_type": "code",
   "execution_count": 267,
   "id": "b03009aa",
   "metadata": {},
   "outputs": [
    {
     "data": {
      "text/plain": [
       "(9.8, float)"
      ]
     },
     "execution_count": 267,
     "metadata": {},
     "output_type": "execute_result"
    }
   ],
   "source": [
    "f,type(f)"
   ]
  },
  {
   "cell_type": "code",
   "execution_count": 268,
   "id": "5a906c25",
   "metadata": {},
   "outputs": [
    {
     "name": "stdout",
     "output_type": "stream",
     "text": [
      "enter a number10\n"
     ]
    }
   ],
   "source": [
    "# tpye casting to int\n",
    "num=int(input(\"enter a number\"))"
   ]
  },
  {
   "cell_type": "code",
   "execution_count": 269,
   "id": "59410091",
   "metadata": {},
   "outputs": [
    {
     "data": {
      "text/plain": [
       "int"
      ]
     },
     "execution_count": 269,
     "metadata": {},
     "output_type": "execute_result"
    }
   ],
   "source": [
    "type(num)"
   ]
  },
  {
   "cell_type": "code",
   "execution_count": 270,
   "id": "18e57d45",
   "metadata": {},
   "outputs": [
    {
     "name": "stdout",
     "output_type": "stream",
     "text": [
      "enter a number3.142\n"
     ]
    }
   ],
   "source": [
    "# tpye casting to float\n",
    "numf=float(input(\"enter a number\"))"
   ]
  },
  {
   "cell_type": "code",
   "execution_count": 271,
   "id": "d1d6e6dc",
   "metadata": {},
   "outputs": [
    {
     "data": {
      "text/plain": [
       "float"
      ]
     },
     "execution_count": 271,
     "metadata": {},
     "output_type": "execute_result"
    }
   ],
   "source": [
    "type(numf)"
   ]
  },
  {
   "cell_type": "code",
   "execution_count": 272,
   "id": "5ca705ba",
   "metadata": {},
   "outputs": [
    {
     "name": "stdout",
     "output_type": "stream",
     "text": [
      "enter a number202\n"
     ]
    }
   ],
   "source": [
    "# tpye casting to bool\n",
    "b=bool(input(\"enter a number\"))"
   ]
  },
  {
   "cell_type": "code",
   "execution_count": 273,
   "id": "87636149",
   "metadata": {},
   "outputs": [
    {
     "data": {
      "text/plain": [
       "(True, bool)"
      ]
     },
     "execution_count": 273,
     "metadata": {},
     "output_type": "execute_result"
    }
   ],
   "source": [
    "b,type(b)"
   ]
  },
  {
   "cell_type": "code",
   "execution_count": 274,
   "id": "e180dd34",
   "metadata": {},
   "outputs": [
    {
     "name": "stdout",
     "output_type": "stream",
     "text": [
      "enter a number1+4j\n"
     ]
    }
   ],
   "source": [
    "# tpye casting to complex\n",
    "c1=complex(input(\"enter a number\"))"
   ]
  },
  {
   "cell_type": "code",
   "execution_count": 275,
   "id": "4dacf28b",
   "metadata": {},
   "outputs": [
    {
     "data": {
      "text/plain": [
       "((1+4j), complex)"
      ]
     },
     "execution_count": 275,
     "metadata": {},
     "output_type": "execute_result"
    }
   ],
   "source": [
    "c1,type(c1)"
   ]
  },
  {
   "cell_type": "code",
   "execution_count": 276,
   "id": "187d9518",
   "metadata": {},
   "outputs": [
    {
     "name": "stdout",
     "output_type": "stream",
     "text": [
      "enter a number(3+4*10/2-3**2)\n"
     ]
    }
   ],
   "source": [
    "evlst=eval(input(\"enter a number\"))\n"
   ]
  },
  {
   "cell_type": "code",
   "execution_count": 277,
   "id": "9f57dae0",
   "metadata": {},
   "outputs": [
    {
     "data": {
      "text/plain": [
       "14.0"
      ]
     },
     "execution_count": 277,
     "metadata": {},
     "output_type": "execute_result"
    }
   ],
   "source": [
    "evlst"
   ]
  },
  {
   "cell_type": "code",
   "execution_count": 278,
   "id": "a7853db0",
   "metadata": {},
   "outputs": [
    {
     "name": "stdout",
     "output_type": "stream",
     "text": [
      "enter a number{1,2,3,4,5}\n"
     ]
    }
   ],
   "source": [
    "set1=eval(input(\"enter a number\"))\n"
   ]
  },
  {
   "cell_type": "code",
   "execution_count": 279,
   "id": "6109fc76",
   "metadata": {},
   "outputs": [
    {
     "data": {
      "text/plain": [
       "{1, 2, 3, 4, 5}"
      ]
     },
     "execution_count": 279,
     "metadata": {},
     "output_type": "execute_result"
    }
   ],
   "source": [
    "set1"
   ]
  },
  {
   "cell_type": "code",
   "execution_count": 280,
   "id": "41d8e2d1",
   "metadata": {},
   "outputs": [
    {
     "name": "stdout",
     "output_type": "stream",
     "text": [
      "enter a number{1:2,2:4,3:9}\n"
     ]
    }
   ],
   "source": [
    "obj=eval(input(\"enter a number\"))"
   ]
  },
  {
   "cell_type": "code",
   "execution_count": 281,
   "id": "956e6b0d",
   "metadata": {},
   "outputs": [
    {
     "data": {
      "text/plain": [
       "{1: 2, 2: 4, 3: 9}"
      ]
     },
     "execution_count": 281,
     "metadata": {},
     "output_type": "execute_result"
    }
   ],
   "source": [
    "obj"
   ]
  },
  {
   "cell_type": "code",
   "execution_count": 282,
   "id": "84a50746",
   "metadata": {},
   "outputs": [
    {
     "name": "stdout",
     "output_type": "stream",
     "text": [
      "Enter dictionary:{'A':100,'B':200,'C':300}\n"
     ]
    }
   ],
   "source": [
    "d=eval(input(\"Enter dictionary:\")) \n",
    "#{'A':100,'B':200,'C':300}"
   ]
  },
  {
   "cell_type": "code",
   "execution_count": 283,
   "id": "e8f6a180",
   "metadata": {},
   "outputs": [
    {
     "data": {
      "text/plain": [
       "{'A': 100, 'B': 200, 'C': 300}"
      ]
     },
     "execution_count": 283,
     "metadata": {},
     "output_type": "execute_result"
    }
   ],
   "source": [
    "d"
   ]
  },
  {
   "cell_type": "code",
   "execution_count": 284,
   "id": "e164b009",
   "metadata": {},
   "outputs": [
    {
     "data": {
      "text/plain": [
       "dict_values([100, 200, 300])"
      ]
     },
     "execution_count": 284,
     "metadata": {},
     "output_type": "execute_result"
    }
   ],
   "source": [
    "d.values()"
   ]
  },
  {
   "cell_type": "code",
   "execution_count": 285,
   "id": "9e90e9ed",
   "metadata": {},
   "outputs": [
    {
     "data": {
      "text/plain": [
       "600"
      ]
     },
     "execution_count": 285,
     "metadata": {},
     "output_type": "execute_result"
    }
   ],
   "source": [
    "sum(d.values())"
   ]
  },
  {
   "cell_type": "code",
   "execution_count": null,
   "id": "3d4e961d",
   "metadata": {},
   "outputs": [],
   "source": [
    "min()"
   ]
  },
  {
   "cell_type": "code",
   "execution_count": null,
   "id": "d01e52ce",
   "metadata": {},
   "outputs": [],
   "source": [
    "max()\n",
    "sum()\n",
    "len()"
   ]
  },
  {
   "cell_type": "code",
   "execution_count": 286,
   "id": "c3057985",
   "metadata": {},
   "outputs": [
    {
     "data": {
      "text/plain": [
       "45"
      ]
     },
     "execution_count": 286,
     "metadata": {},
     "output_type": "execute_result"
    }
   ],
   "source": [
    "min(101,45)"
   ]
  },
  {
   "cell_type": "code",
   "execution_count": 287,
   "id": "8139d2ec",
   "metadata": {},
   "outputs": [
    {
     "data": {
      "text/plain": [
       "456"
      ]
     },
     "execution_count": 287,
     "metadata": {},
     "output_type": "execute_result"
    }
   ],
   "source": [
    "max(202,456)"
   ]
  },
  {
   "cell_type": "code",
   "execution_count": 288,
   "id": "1c4804af",
   "metadata": {},
   "outputs": [
    {
     "data": {
      "text/plain": [
       "6"
      ]
     },
     "execution_count": 288,
     "metadata": {},
     "output_type": "execute_result"
    }
   ],
   "source": [
    "sum([1,2,3])"
   ]
  },
  {
   "cell_type": "code",
   "execution_count": 289,
   "id": "eca0f0b3",
   "metadata": {},
   "outputs": [
    {
     "data": {
      "text/plain": [
       "600"
      ]
     },
     "execution_count": 289,
     "metadata": {},
     "output_type": "execute_result"
    }
   ],
   "source": [
    "sum(d.values())"
   ]
  },
  {
   "cell_type": "code",
   "execution_count": 290,
   "id": "5273f1a5",
   "metadata": {},
   "outputs": [],
   "source": [
    "s=sum(d.values()) "
   ]
  },
  {
   "cell_type": "code",
   "execution_count": 291,
   "id": "6f32060a",
   "metadata": {},
   "outputs": [
    {
     "name": "stdout",
     "output_type": "stream",
     "text": [
      "Sum=  600\n"
     ]
    }
   ],
   "source": [
    "print(\"Sum= \",s)"
   ]
  },
  {
   "cell_type": "code",
   "execution_count": 292,
   "id": "16547cf1",
   "metadata": {},
   "outputs": [],
   "source": [
    "d1={\n",
    "    \"A\":\"100\",\n",
    "    \"B\":200\n",
    "}"
   ]
  },
  {
   "cell_type": "code",
   "execution_count": 293,
   "id": "7434e4d1",
   "metadata": {},
   "outputs": [
    {
     "ename": "TypeError",
     "evalue": "unsupported operand type(s) for +: 'int' and 'str'",
     "output_type": "error",
     "traceback": [
      "\u001b[1;31m---------------------------------------------------------------------------\u001b[0m",
      "\u001b[1;31mTypeError\u001b[0m                                 Traceback (most recent call last)",
      "Cell \u001b[1;32mIn[293], line 1\u001b[0m\n\u001b[1;32m----> 1\u001b[0m \u001b[38;5;28msum\u001b[39m(d1\u001b[38;5;241m.\u001b[39mvalues())\n",
      "\u001b[1;31mTypeError\u001b[0m: unsupported operand type(s) for +: 'int' and 'str'"
     ]
    }
   ],
   "source": [
    "sum(d1.values())"
   ]
  },
  {
   "cell_type": "code",
   "execution_count": 294,
   "id": "2c63ebbb",
   "metadata": {},
   "outputs": [],
   "source": [
    "a=10\n",
    "b=20"
   ]
  },
  {
   "cell_type": "code",
   "execution_count": null,
   "id": "17f29721",
   "metadata": {},
   "outputs": [],
   "source": []
  },
  {
   "cell_type": "code",
   "execution_count": 295,
   "id": "86701598",
   "metadata": {},
   "outputs": [
    {
     "name": "stdout",
     "output_type": "stream",
     "text": [
      "[101,202]\n"
     ]
    }
   ],
   "source": [
    "x=eval(input())"
   ]
  },
  {
   "cell_type": "code",
   "execution_count": 296,
   "id": "7e06d6b8",
   "metadata": {},
   "outputs": [
    {
     "data": {
      "text/plain": [
       "[101, 202]"
      ]
     },
     "execution_count": 296,
     "metadata": {},
     "output_type": "execute_result"
    }
   ],
   "source": [
    "x"
   ]
  },
  {
   "cell_type": "code",
   "execution_count": null,
   "id": "38531f26",
   "metadata": {},
   "outputs": [],
   "source": []
  },
  {
   "cell_type": "code",
   "execution_count": null,
   "id": "84e530c9",
   "metadata": {},
   "outputs": [],
   "source": []
  },
  {
   "cell_type": "markdown",
   "id": "5b6cef12",
   "metadata": {},
   "source": [
    "# Q. Write a program to find number of occurrences of each letter present in the given string?"
   ]
  },
  {
   "cell_type": "code",
   "execution_count": 297,
   "id": "280f02b4",
   "metadata": {},
   "outputs": [
    {
     "name": "stdout",
     "output_type": "stream",
     "text": [
      "Enter any word: abracadabra\n"
     ]
    }
   ],
   "source": [
    "word=input(\"Enter any word: \") \n",
    "d={} "
   ]
  },
  {
   "cell_type": "code",
   "execution_count": 298,
   "id": "1e3ce97a",
   "metadata": {},
   "outputs": [
    {
     "data": {
      "text/plain": [
       "'abracadabra'"
      ]
     },
     "execution_count": 298,
     "metadata": {},
     "output_type": "execute_result"
    }
   ],
   "source": [
    "word"
   ]
  },
  {
   "cell_type": "code",
   "execution_count": 299,
   "id": "ce150bc7",
   "metadata": {},
   "outputs": [],
   "source": [
    "for x in word: \n",
    "    d[x]=d.get(x,0)+1 "
   ]
  },
  {
   "cell_type": "code",
   "execution_count": 300,
   "id": "bb6a7dfc",
   "metadata": {},
   "outputs": [
    {
     "data": {
      "text/plain": [
       "{'a': 5, 'b': 2, 'r': 2, 'c': 1, 'd': 1}"
      ]
     },
     "execution_count": 300,
     "metadata": {},
     "output_type": "execute_result"
    }
   ],
   "source": [
    "d"
   ]
  },
  {
   "cell_type": "code",
   "execution_count": 301,
   "id": "108c0f0e",
   "metadata": {},
   "outputs": [
    {
     "name": "stdout",
     "output_type": "stream",
     "text": [
      "a occurred  5  times\n",
      "b occurred  2  times\n",
      "r occurred  2  times\n",
      "c occurred  1  times\n",
      "d occurred  1  times\n"
     ]
    }
   ],
   "source": [
    "for k,v in d.items(): \n",
    "    print(k,\"occurred \",v,\" times\")"
   ]
  },
  {
   "cell_type": "markdown",
   "id": "7077a3f1",
   "metadata": {},
   "source": [
    "# Method 2"
   ]
  },
  {
   "cell_type": "code",
   "execution_count": 302,
   "id": "c39885d0",
   "metadata": {},
   "outputs": [],
   "source": [
    "s=\"abracadabra\""
   ]
  },
  {
   "cell_type": "code",
   "execution_count": 304,
   "id": "c3585128",
   "metadata": {},
   "outputs": [],
   "source": [
    "ds={}"
   ]
  },
  {
   "cell_type": "code",
   "execution_count": 305,
   "id": "e0e1dce5",
   "metadata": {},
   "outputs": [],
   "source": [
    "for i in s:\n",
    "    if i in ds:\n",
    "        ds[i]+=1\n",
    "    else:\n",
    "        ds[i]=1\n",
    "        "
   ]
  },
  {
   "cell_type": "code",
   "execution_count": 306,
   "id": "e6305196",
   "metadata": {},
   "outputs": [
    {
     "data": {
      "text/plain": [
       "{'a': 5, 'b': 2, 'r': 2, 'c': 1, 'd': 1}"
      ]
     },
     "execution_count": 306,
     "metadata": {},
     "output_type": "execute_result"
    }
   ],
   "source": [
    "ds"
   ]
  },
  {
   "cell_type": "code",
   "execution_count": 307,
   "id": "98485db2",
   "metadata": {},
   "outputs": [
    {
     "name": "stdout",
     "output_type": "stream",
     "text": [
      "{'a': 5, 'b': 2, 'r': 2, 'c': 1, 'd': 1}\n"
     ]
    }
   ],
   "source": [
    "print(ds)"
   ]
  },
  {
   "cell_type": "code",
   "execution_count": 308,
   "id": "bafd7229",
   "metadata": {},
   "outputs": [
    {
     "data": {
      "text/plain": [
       "'abracadabra'"
      ]
     },
     "execution_count": 308,
     "metadata": {},
     "output_type": "execute_result"
    }
   ],
   "source": [
    "s"
   ]
  },
  {
   "cell_type": "code",
   "execution_count": 309,
   "id": "cdeede18",
   "metadata": {},
   "outputs": [
    {
     "data": {
      "text/plain": [
       "5"
      ]
     },
     "execution_count": 309,
     "metadata": {},
     "output_type": "execute_result"
    }
   ],
   "source": [
    "s.count(\"a\")"
   ]
  },
  {
   "cell_type": "code",
   "execution_count": 310,
   "id": "d6952bea",
   "metadata": {},
   "outputs": [
    {
     "data": {
      "text/plain": [
       "2"
      ]
     },
     "execution_count": 310,
     "metadata": {},
     "output_type": "execute_result"
    }
   ],
   "source": [
    "s.count(\"b\")"
   ]
  },
  {
   "cell_type": "code",
   "execution_count": 311,
   "id": "5ecf760f",
   "metadata": {},
   "outputs": [
    {
     "data": {
      "text/plain": [
       "2"
      ]
     },
     "execution_count": 311,
     "metadata": {},
     "output_type": "execute_result"
    }
   ],
   "source": [
    "s.count(\"r\")"
   ]
  },
  {
   "cell_type": "markdown",
   "id": "88bd6ee5",
   "metadata": {},
   "source": [
    "# Method 3"
   ]
  },
  {
   "cell_type": "code",
   "execution_count": 312,
   "id": "b04eeca7",
   "metadata": {},
   "outputs": [],
   "source": [
    "from collections import Counter"
   ]
  },
  {
   "cell_type": "code",
   "execution_count": 313,
   "id": "5860ec15",
   "metadata": {},
   "outputs": [],
   "source": [
    "s=\"abracadabra\""
   ]
  },
  {
   "cell_type": "code",
   "execution_count": 314,
   "id": "544d38a8",
   "metadata": {},
   "outputs": [
    {
     "data": {
      "text/plain": [
       "Counter({'a': 5, 'b': 2, 'r': 2, 'c': 1, 'd': 1})"
      ]
     },
     "execution_count": 314,
     "metadata": {},
     "output_type": "execute_result"
    }
   ],
   "source": [
    "Counter(s)"
   ]
  },
  {
   "cell_type": "code",
   "execution_count": 315,
   "id": "f7a5b43b",
   "metadata": {},
   "outputs": [
    {
     "data": {
      "text/plain": [
       "{'a': 5, 'b': 2, 'r': 2, 'c': 1, 'd': 1}"
      ]
     },
     "execution_count": 315,
     "metadata": {},
     "output_type": "execute_result"
    }
   ],
   "source": [
    "dict(Counter(s))"
   ]
  },
  {
   "cell_type": "markdown",
   "id": "5df61761",
   "metadata": {},
   "source": [
    "# Q. Write a program to find number of occurrences of each vowel present in the given string?"
   ]
  },
  {
   "cell_type": "code",
   "execution_count": 316,
   "id": "4e3252b2",
   "metadata": {},
   "outputs": [
    {
     "name": "stdout",
     "output_type": "stream",
     "text": [
      "Enter any word: india\n"
     ]
    }
   ],
   "source": [
    "word=input(\"Enter any word: \") \n",
    "vowels={'a','e','i','o','u'} "
   ]
  },
  {
   "cell_type": "code",
   "execution_count": 317,
   "id": "a80615e0",
   "metadata": {},
   "outputs": [],
   "source": [
    "d={} \n",
    "for x in word: \n",
    "    if x in vowels: \n",
    "        d[x]=d.get(x,0)+1"
   ]
  },
  {
   "cell_type": "code",
   "execution_count": 318,
   "id": "089eda86",
   "metadata": {},
   "outputs": [
    {
     "name": "stdout",
     "output_type": "stream",
     "text": [
      "a occurred  1  times\n",
      "i occurred  2  times\n"
     ]
    }
   ],
   "source": [
    " \n",
    "for k,v in sorted(d.items()): \n",
    "    print(k,\"occurred \",v,\" times\")"
   ]
  },
  {
   "cell_type": "code",
   "execution_count": 319,
   "id": "044638b0",
   "metadata": {},
   "outputs": [],
   "source": [
    "list_c=[ i*i for i in range(1,11)]"
   ]
  },
  {
   "cell_type": "code",
   "execution_count": 320,
   "id": "6ef202b1",
   "metadata": {},
   "outputs": [
    {
     "data": {
      "text/plain": [
       "[1, 4, 9, 16, 25, 36, 49, 64, 81, 100]"
      ]
     },
     "execution_count": 320,
     "metadata": {},
     "output_type": "execute_result"
    }
   ],
   "source": [
    "list_c"
   ]
  },
  {
   "cell_type": "markdown",
   "id": "8c8867a4",
   "metadata": {},
   "source": [
    "# Dictionary Comprehension:"
   ]
  },
  {
   "cell_type": "raw",
   "id": "269e8dd7",
   "metadata": {},
   "source": [
    "Comprehension concept applicable for dictionaries also."
   ]
  },
  {
   "cell_type": "code",
   "execution_count": 321,
   "id": "51f7d868",
   "metadata": {},
   "outputs": [
    {
     "data": {
      "text/plain": [
       "{1: 1, 2: 4, 3: 9, 4: 16, 5: 25, 6: 36, 7: 49, 8: 64, 9: 81, 10: 100}"
      ]
     },
     "execution_count": 321,
     "metadata": {},
     "output_type": "execute_result"
    }
   ],
   "source": [
    "{i:i*i for i in range(1,11)}"
   ]
  },
  {
   "cell_type": "code",
   "execution_count": null,
   "id": "559da0f4",
   "metadata": {},
   "outputs": [],
   "source": [
    "# {num:num*num}\n",
    "# {1:1,2:4,3:9.......10:100}"
   ]
  },
  {
   "cell_type": "code",
   "execution_count": 322,
   "id": "ca59f18e",
   "metadata": {},
   "outputs": [
    {
     "data": {
      "text/plain": [
       "{1: 1,\n",
       " 2: 4,\n",
       " 3: 27,\n",
       " 4: 256,\n",
       " 5: 3125,\n",
       " 6: 46656,\n",
       " 7: 823543,\n",
       " 8: 16777216,\n",
       " 9: 387420489,\n",
       " 10: 10000000000}"
      ]
     },
     "execution_count": 322,
     "metadata": {},
     "output_type": "execute_result"
    }
   ],
   "source": [
    "{i:i**i for i in range(1,11)}"
   ]
  },
  {
   "cell_type": "code",
   "execution_count": 323,
   "id": "f02ba203",
   "metadata": {},
   "outputs": [
    {
     "data": {
      "text/plain": [
       "{1: 1.0,\n",
       " 2: 1.4142135623730951,\n",
       " 3: 1.7320508075688772,\n",
       " 4: 2.0,\n",
       " 5: 2.23606797749979,\n",
       " 6: 2.449489742783178,\n",
       " 7: 2.6457513110645907,\n",
       " 8: 2.8284271247461903,\n",
       " 9: 3.0,\n",
       " 10: 3.1622776601683795}"
      ]
     },
     "execution_count": 323,
     "metadata": {},
     "output_type": "execute_result"
    }
   ],
   "source": [
    "{i:i**0.5 for i in range(1,11)}"
   ]
  },
  {
   "cell_type": "code",
   "execution_count": 324,
   "id": "4336f116",
   "metadata": {},
   "outputs": [
    {
     "name": "stdout",
     "output_type": "stream",
     "text": [
      "{1: 1, 2: 4, 3: 9, 4: 16, 5: 25}\n"
     ]
    }
   ],
   "source": [
    "squares={x:x*x for x in range(1,6)} \n",
    "print(squares) "
   ]
  },
  {
   "cell_type": "code",
   "execution_count": 325,
   "id": "4e85add5",
   "metadata": {},
   "outputs": [
    {
     "name": "stdout",
     "output_type": "stream",
     "text": [
      "{1: 2, 2: 4, 3: 8, 4: 16, 5: 32}\n"
     ]
    }
   ],
   "source": [
    "x_raise_to_the_power={x:2**x for x in range(1,6)} \n",
    "print(x_raise_to_the_power)"
   ]
  }
 ],
 "metadata": {
  "kernelspec": {
   "display_name": "Python 3 (ipykernel)",
   "language": "python",
   "name": "python3"
  },
  "language_info": {
   "codemirror_mode": {
    "name": "ipython",
    "version": 3
   },
   "file_extension": ".py",
   "mimetype": "text/x-python",
   "name": "python",
   "nbconvert_exporter": "python",
   "pygments_lexer": "ipython3",
   "version": "3.11.5"
  }
 },
 "nbformat": 4,
 "nbformat_minor": 5
}
