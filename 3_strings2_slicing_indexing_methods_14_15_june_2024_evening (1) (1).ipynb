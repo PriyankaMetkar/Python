{
 "cells": [
  {
   "cell_type": "markdown",
   "id": "7ec1bb0c",
   "metadata": {},
   "source": [
    "# Data Types in Python"
   ]
  },
  {
   "cell_type": "raw",
   "id": "d1d49548",
   "metadata": {},
   "source": [
    "1.int\n",
    "2.float\n",
    "3.str\n",
    "4.bool\n",
    "5.complex\n",
    "\n",
    "-----------------\n",
    "6.list\n",
    "7.tuple\n",
    "8.set\n",
    "9.dict\n",
    "10.range\n",
    "\n",
    "----------------\n",
    "11.bytes\n",
    "12.bytearray\n",
    "13.frozenset\n",
    "14.None\n",
    "\n"
   ]
  },
  {
   "cell_type": "code",
   "execution_count": null,
   "id": "cc21d89e",
   "metadata": {},
   "outputs": [],
   "source": []
  },
  {
   "cell_type": "code",
   "execution_count": 3,
   "id": "55164689",
   "metadata": {
    "id": "ae048881",
    "outputId": "51168ebf-0532-4a5d-a98c-2b907eb83b22"
   },
   "outputs": [],
   "source": [
    "str1 = 'ABCDEFGH'"
   ]
  },
  {
   "cell_type": "code",
   "execution_count": 4,
   "id": "ae048881",
   "metadata": {
    "id": "ae048881",
    "outputId": "51168ebf-0532-4a5d-a98c-2b907eb83b22"
   },
   "outputs": [
    {
     "data": {
      "text/plain": [
       "8"
      ]
     },
     "execution_count": 4,
     "metadata": {},
     "output_type": "execute_result"
    }
   ],
   "source": [
    "len(str1)"
   ]
  },
  {
   "cell_type": "code",
   "execution_count": 5,
   "id": "b94e983c",
   "metadata": {
    "id": "b94e983c",
    "outputId": "daf25f87-c467-4116-c9b4-117b3d00d8d9"
   },
   "outputs": [
    {
     "data": {
      "text/plain": [
       "'A'"
      ]
     },
     "execution_count": 5,
     "metadata": {},
     "output_type": "execute_result"
    }
   ],
   "source": [
    "str1[0]"
   ]
  },
  {
   "cell_type": "code",
   "execution_count": 6,
   "id": "2af6b8ba",
   "metadata": {
    "id": "2af6b8ba",
    "outputId": "c13a038a-09c2-44df-b695-8542513e9feb"
   },
   "outputs": [
    {
     "data": {
      "text/plain": [
       "'E'"
      ]
     },
     "execution_count": 6,
     "metadata": {},
     "output_type": "execute_result"
    }
   ],
   "source": [
    "str1[4]"
   ]
  },
  {
   "cell_type": "code",
   "execution_count": 7,
   "id": "fe1cd915",
   "metadata": {
    "id": "fe1cd915",
    "outputId": "622b677e-49fd-436d-df80-2a9096bbe66f"
   },
   "outputs": [
    {
     "data": {
      "text/plain": [
       "'F'"
      ]
     },
     "execution_count": 7,
     "metadata": {},
     "output_type": "execute_result"
    }
   ],
   "source": [
    "str1[5]"
   ]
  },
  {
   "cell_type": "code",
   "execution_count": 8,
   "id": "0c027fec",
   "metadata": {},
   "outputs": [
    {
     "ename": "IndexError",
     "evalue": "string index out of range",
     "output_type": "error",
     "traceback": [
      "\u001b[1;31m---------------------------------------------------------------------------\u001b[0m",
      "\u001b[1;31mIndexError\u001b[0m                                Traceback (most recent call last)",
      "Cell \u001b[1;32mIn[8], line 1\u001b[0m\n\u001b[1;32m----> 1\u001b[0m str1[\u001b[38;5;241m8\u001b[39m]\n",
      "\u001b[1;31mIndexError\u001b[0m: string index out of range"
     ]
    }
   ],
   "source": [
    "str1[8]"
   ]
  },
  {
   "cell_type": "code",
   "execution_count": 9,
   "id": "d5e8c132",
   "metadata": {
    "id": "d5e8c132",
    "outputId": "2d9e6a2d-e2c9-4538-cb81-f43633c8a3c5"
   },
   "outputs": [
    {
     "data": {
      "text/plain": [
       "'ABCDEFGH'"
      ]
     },
     "execution_count": 9,
     "metadata": {},
     "output_type": "execute_result"
    }
   ],
   "source": [
    "str1"
   ]
  },
  {
   "cell_type": "code",
   "execution_count": 10,
   "id": "b272de82",
   "metadata": {
    "id": "b272de82",
    "outputId": "c0a0ed58-f6fa-4916-d37d-20b044d4189a"
   },
   "outputs": [
    {
     "data": {
      "text/plain": [
       "'D'"
      ]
     },
     "execution_count": 10,
     "metadata": {},
     "output_type": "execute_result"
    }
   ],
   "source": [
    "str1[3]"
   ]
  },
  {
   "cell_type": "code",
   "execution_count": 11,
   "id": "edb3371e",
   "metadata": {
    "id": "edb3371e",
    "outputId": "40384a0d-3096-4161-8591-fef8b2a4f02c"
   },
   "outputs": [
    {
     "data": {
      "text/plain": [
       "'H'"
      ]
     },
     "execution_count": 11,
     "metadata": {},
     "output_type": "execute_result"
    }
   ],
   "source": [
    "str1[-1]"
   ]
  },
  {
   "cell_type": "code",
   "execution_count": 12,
   "id": "2382a61f",
   "metadata": {
    "id": "2382a61f",
    "outputId": "74e665ec-d181-4836-d895-b53cab00053f"
   },
   "outputs": [
    {
     "data": {
      "text/plain": [
       "'G'"
      ]
     },
     "execution_count": 12,
     "metadata": {},
     "output_type": "execute_result"
    }
   ],
   "source": [
    "str1[-2]"
   ]
  },
  {
   "cell_type": "code",
   "execution_count": 13,
   "id": "131d1fc2",
   "metadata": {
    "id": "131d1fc2",
    "outputId": "d833962d-6f08-4e17-dd93-09e058f41e35"
   },
   "outputs": [
    {
     "data": {
      "text/plain": [
       "'F'"
      ]
     },
     "execution_count": 13,
     "metadata": {},
     "output_type": "execute_result"
    }
   ],
   "source": [
    "str1[-3]"
   ]
  },
  {
   "cell_type": "code",
   "execution_count": 14,
   "id": "111734e6",
   "metadata": {
    "id": "111734e6",
    "outputId": "d9cf2ca3-7806-4a0e-ef38-930a05292514"
   },
   "outputs": [
    {
     "data": {
      "text/plain": [
       "'C'"
      ]
     },
     "execution_count": 14,
     "metadata": {},
     "output_type": "execute_result"
    }
   ],
   "source": [
    "str1[-6]"
   ]
  },
  {
   "cell_type": "code",
   "execution_count": 15,
   "id": "cac2baeb",
   "metadata": {},
   "outputs": [
    {
     "data": {
      "text/plain": [
       "'A'"
      ]
     },
     "execution_count": 15,
     "metadata": {},
     "output_type": "execute_result"
    }
   ],
   "source": [
    "str1[-8]"
   ]
  },
  {
   "cell_type": "code",
   "execution_count": 16,
   "id": "2557df2f",
   "metadata": {},
   "outputs": [
    {
     "ename": "IndexError",
     "evalue": "string index out of range",
     "output_type": "error",
     "traceback": [
      "\u001b[1;31m---------------------------------------------------------------------------\u001b[0m",
      "\u001b[1;31mIndexError\u001b[0m                                Traceback (most recent call last)",
      "Cell \u001b[1;32mIn[16], line 1\u001b[0m\n\u001b[1;32m----> 1\u001b[0m str1[\u001b[38;5;241m-\u001b[39m\u001b[38;5;241m9\u001b[39m]\n",
      "\u001b[1;31mIndexError\u001b[0m: string index out of range"
     ]
    }
   ],
   "source": [
    "str1[-9]"
   ]
  },
  {
   "cell_type": "code",
   "execution_count": 17,
   "id": "52ea4c0f",
   "metadata": {},
   "outputs": [
    {
     "name": "stdout",
     "output_type": "stream",
     "text": [
      "<class 'str'>\n"
     ]
    }
   ],
   "source": [
    "print(type(str1))"
   ]
  },
  {
   "cell_type": "code",
   "execution_count": 18,
   "id": "ae736def",
   "metadata": {
    "id": "ae736def"
   },
   "outputs": [],
   "source": [
    "str2 = 'MAHABHARATH'"
   ]
  },
  {
   "cell_type": "code",
   "execution_count": 19,
   "id": "fd15091c",
   "metadata": {
    "id": "fd15091c",
    "outputId": "57f2d3f6-dc56-402c-81cc-14961f6aa5e1"
   },
   "outputs": [
    {
     "data": {
      "text/plain": [
       "11"
      ]
     },
     "execution_count": 19,
     "metadata": {},
     "output_type": "execute_result"
    }
   ],
   "source": [
    "len(str2)\n"
   ]
  },
  {
   "cell_type": "code",
   "execution_count": 20,
   "id": "86fa457e",
   "metadata": {
    "id": "86fa457e",
    "outputId": "89055873-c733-4ae5-8feb-45412d291a60"
   },
   "outputs": [
    {
     "data": {
      "text/plain": [
       "'B'"
      ]
     },
     "execution_count": 20,
     "metadata": {},
     "output_type": "execute_result"
    }
   ],
   "source": [
    "str2[4]"
   ]
  },
  {
   "cell_type": "code",
   "execution_count": 21,
   "id": "1d1c7ac1",
   "metadata": {
    "id": "1d1c7ac1",
    "outputId": "fe5d65fa-20d0-49df-b58a-c0403762cb89"
   },
   "outputs": [
    {
     "data": {
      "text/plain": [
       "'H'"
      ]
     },
     "execution_count": 21,
     "metadata": {},
     "output_type": "execute_result"
    }
   ],
   "source": [
    "str2[-1]"
   ]
  },
  {
   "cell_type": "code",
   "execution_count": 22,
   "id": "9084fa88",
   "metadata": {
    "id": "56f39a35",
    "outputId": "daaafa6d-1a36-4df3-813f-afcebf48f545"
   },
   "outputs": [
    {
     "data": {
      "text/plain": [
       "'H'"
      ]
     },
     "execution_count": 22,
     "metadata": {},
     "output_type": "execute_result"
    }
   ],
   "source": [
    "str2[len(str2)-1]"
   ]
  },
  {
   "cell_type": "code",
   "execution_count": 23,
   "id": "081b6342",
   "metadata": {
    "id": "081b6342",
    "outputId": "4bb95e6a-5181-4cbb-bb02-09fd82317c8f"
   },
   "outputs": [
    {
     "data": {
      "text/plain": [
       "'MAHABHARATH'"
      ]
     },
     "execution_count": 23,
     "metadata": {},
     "output_type": "execute_result"
    }
   ],
   "source": [
    "str2"
   ]
  },
  {
   "cell_type": "code",
   "execution_count": 24,
   "id": "00b25f8b-5bd0-4e26-840f-9fe2326f5448",
   "metadata": {},
   "outputs": [
    {
     "data": {
      "text/plain": [
       "'MAHABH'"
      ]
     },
     "execution_count": 24,
     "metadata": {},
     "output_type": "execute_result"
    }
   ],
   "source": [
    "str2[0:6:1]"
   ]
  },
  {
   "cell_type": "code",
   "execution_count": 25,
   "id": "7a406681",
   "metadata": {},
   "outputs": [
    {
     "data": {
      "text/plain": [
       "'MHB'"
      ]
     },
     "execution_count": 25,
     "metadata": {},
     "output_type": "execute_result"
    }
   ],
   "source": [
    "str2[0:6:2]"
   ]
  },
  {
   "cell_type": "code",
   "execution_count": 26,
   "id": "7c6fcfba-1c78-4471-9a15-ac6b4b8050b0",
   "metadata": {},
   "outputs": [
    {
     "data": {
      "text/plain": [
       "'MAAT'"
      ]
     },
     "execution_count": 26,
     "metadata": {},
     "output_type": "execute_result"
    }
   ],
   "source": [
    "str2[0:11:3]"
   ]
  },
  {
   "cell_type": "code",
   "execution_count": 27,
   "id": "6103ee1a",
   "metadata": {
    "id": "9595a4d0",
    "outputId": "4ccdf3f6-06ae-4937-e969-02becf58a1de"
   },
   "outputs": [
    {
     "data": {
      "text/plain": [
       "'HABHA'"
      ]
     },
     "execution_count": 27,
     "metadata": {},
     "output_type": "execute_result"
    }
   ],
   "source": [
    "str2[2:7:1]"
   ]
  },
  {
   "cell_type": "code",
   "execution_count": 28,
   "id": "fd591baf",
   "metadata": {
    "id": "9595a4d0",
    "outputId": "4ccdf3f6-06ae-4937-e969-02becf58a1de"
   },
   "outputs": [
    {
     "data": {
      "text/plain": [
       "'TARAH'"
      ]
     },
     "execution_count": 28,
     "metadata": {},
     "output_type": "execute_result"
    }
   ],
   "source": [
    "str2[-2:-7:-1]"
   ]
  },
  {
   "cell_type": "code",
   "execution_count": 29,
   "id": "d5075e19",
   "metadata": {
    "id": "9595a4d0",
    "outputId": "4ccdf3f6-06ae-4937-e969-02becf58a1de"
   },
   "outputs": [
    {
     "data": {
      "text/plain": [
       "'HBA'"
      ]
     },
     "execution_count": 29,
     "metadata": {},
     "output_type": "execute_result"
    }
   ],
   "source": [
    "str2[2:7:2]"
   ]
  },
  {
   "cell_type": "code",
   "execution_count": 30,
   "id": "1488c5fc",
   "metadata": {
    "id": "9595a4d0",
    "outputId": "4ccdf3f6-06ae-4937-e969-02becf58a1de"
   },
   "outputs": [
    {
     "data": {
      "text/plain": [
       "'R'"
      ]
     },
     "execution_count": 30,
     "metadata": {},
     "output_type": "execute_result"
    }
   ],
   "source": [
    "str2[-4:-5:-5]"
   ]
  },
  {
   "cell_type": "code",
   "execution_count": 31,
   "id": "adc2f1f2",
   "metadata": {
    "id": "9595a4d0",
    "outputId": "4ccdf3f6-06ae-4937-e969-02becf58a1de"
   },
   "outputs": [
    {
     "data": {
      "text/plain": [
       "''"
      ]
     },
     "execution_count": 31,
     "metadata": {},
     "output_type": "execute_result"
    }
   ],
   "source": [
    "str2[4:7:-1]   #'MAHABHARATH'"
   ]
  },
  {
   "cell_type": "code",
   "execution_count": 32,
   "id": "7c2bf3fc",
   "metadata": {
    "id": "9595a4d0",
    "outputId": "4ccdf3f6-06ae-4937-e969-02becf58a1de"
   },
   "outputs": [
    {
     "data": {
      "text/plain": [
       "''"
      ]
     },
     "execution_count": 32,
     "metadata": {},
     "output_type": "execute_result"
    }
   ],
   "source": [
    "str2[-4:-6:1]"
   ]
  },
  {
   "cell_type": "code",
   "execution_count": 33,
   "id": "fbb5ced8",
   "metadata": {
    "id": "9595a4d0",
    "outputId": "4ccdf3f6-06ae-4937-e969-02becf58a1de"
   },
   "outputs": [
    {
     "data": {
      "text/plain": [
       "''"
      ]
     },
     "execution_count": 33,
     "metadata": {},
     "output_type": "execute_result"
    }
   ],
   "source": [
    "str2[7:2:1]"
   ]
  },
  {
   "cell_type": "code",
   "execution_count": 34,
   "id": "63c8e76e",
   "metadata": {
    "id": "9595a4d0",
    "outputId": "4ccdf3f6-06ae-4937-e969-02becf58a1de"
   },
   "outputs": [
    {
     "data": {
      "text/plain": [
       "'ABHA'"
      ]
     },
     "execution_count": 34,
     "metadata": {},
     "output_type": "execute_result"
    }
   ],
   "source": [
    "str2[-8:7:1] #M A H A B H A R A T H"
   ]
  },
  {
   "cell_type": "code",
   "execution_count": 35,
   "id": "231096e5",
   "metadata": {
    "id": "9595a4d0",
    "outputId": "4ccdf3f6-06ae-4937-e969-02becf58a1de"
   },
   "outputs": [
    {
     "data": {
      "text/plain": [
       "'ABHA'"
      ]
     },
     "execution_count": 35,
     "metadata": {},
     "output_type": "execute_result"
    }
   ],
   "source": [
    "str2[3:7:1]"
   ]
  },
  {
   "cell_type": "code",
   "execution_count": 36,
   "id": "dd74c956",
   "metadata": {
    "id": "9595a4d0",
    "outputId": "4ccdf3f6-06ae-4937-e969-02becf58a1de"
   },
   "outputs": [
    {
     "data": {
      "text/plain": [
       "'ABHA'"
      ]
     },
     "execution_count": 36,
     "metadata": {},
     "output_type": "execute_result"
    }
   ],
   "source": [
    "str2[-8:-4:1]"
   ]
  },
  {
   "cell_type": "code",
   "execution_count": 37,
   "id": "af213ed8",
   "metadata": {
    "id": "9595a4d0",
    "outputId": "4ccdf3f6-06ae-4937-e969-02becf58a1de"
   },
   "outputs": [
    {
     "data": {
      "text/plain": [
       "'ABHA'"
      ]
     },
     "execution_count": 37,
     "metadata": {},
     "output_type": "execute_result"
    }
   ],
   "source": [
    "str2[3:-4:1]"
   ]
  },
  {
   "cell_type": "code",
   "execution_count": 38,
   "id": "3dea601c",
   "metadata": {
    "id": "9595a4d0",
    "outputId": "4ccdf3f6-06ae-4937-e969-02becf58a1de"
   },
   "outputs": [
    {
     "data": {
      "text/plain": [
       "'RHA'"
      ]
     },
     "execution_count": 38,
     "metadata": {},
     "output_type": "execute_result"
    }
   ],
   "source": [
    "str2[7:-9:-2]"
   ]
  },
  {
   "cell_type": "code",
   "execution_count": 39,
   "id": "d53e3467",
   "metadata": {
    "id": "9595a4d0",
    "outputId": "4ccdf3f6-06ae-4937-e969-02becf58a1de"
   },
   "outputs": [
    {
     "data": {
      "text/plain": [
       "''"
      ]
     },
     "execution_count": 39,
     "metadata": {},
     "output_type": "execute_result"
    }
   ],
   "source": [
    "str2[-8:8:-1]"
   ]
  },
  {
   "cell_type": "code",
   "execution_count": 40,
   "id": "9595a4d0",
   "metadata": {
    "id": "9595a4d0",
    "outputId": "4ccdf3f6-06ae-4937-e969-02becf58a1de"
   },
   "outputs": [
    {
     "data": {
      "text/plain": [
       "'RATH'"
      ]
     },
     "execution_count": 40,
     "metadata": {},
     "output_type": "execute_result"
    }
   ],
   "source": [
    "str2[7:15:1]"
   ]
  },
  {
   "cell_type": "code",
   "execution_count": 41,
   "id": "61d521db",
   "metadata": {
    "id": "4786bbc1",
    "outputId": "e480a268-d62f-4448-92f1-fd2f41de314a"
   },
   "outputs": [
    {
     "ename": "IndexError",
     "evalue": "string index out of range",
     "output_type": "error",
     "traceback": [
      "\u001b[1;31m---------------------------------------------------------------------------\u001b[0m",
      "\u001b[1;31mIndexError\u001b[0m                                Traceback (most recent call last)",
      "Cell \u001b[1;32mIn[41], line 1\u001b[0m\n\u001b[1;32m----> 1\u001b[0m str2[\u001b[38;5;241m14\u001b[39m]\n",
      "\u001b[1;31mIndexError\u001b[0m: string index out of range"
     ]
    }
   ],
   "source": [
    "str2[14]"
   ]
  },
  {
   "cell_type": "code",
   "execution_count": 42,
   "id": "f9b205e3",
   "metadata": {
    "id": "4786bbc1",
    "outputId": "e480a268-d62f-4448-92f1-fd2f41de314a"
   },
   "outputs": [
    {
     "data": {
      "text/plain": [
       "'AR'"
      ]
     },
     "execution_count": 42,
     "metadata": {},
     "output_type": "execute_result"
    }
   ],
   "source": [
    "str2[6:8:]"
   ]
  },
  {
   "cell_type": "code",
   "execution_count": 43,
   "id": "3ebdc145",
   "metadata": {
    "id": "4786bbc1",
    "outputId": "e480a268-d62f-4448-92f1-fd2f41de314a"
   },
   "outputs": [
    {
     "data": {
      "text/plain": [
       "'MAHA'"
      ]
     },
     "execution_count": 43,
     "metadata": {},
     "output_type": "execute_result"
    }
   ],
   "source": [
    "str2[:4:1]"
   ]
  },
  {
   "cell_type": "code",
   "execution_count": 44,
   "id": "6de9162e",
   "metadata": {
    "id": "4786bbc1",
    "outputId": "e480a268-d62f-4448-92f1-fd2f41de314a"
   },
   "outputs": [
    {
     "data": {
      "text/plain": [
       "'ARATH'"
      ]
     },
     "execution_count": 44,
     "metadata": {},
     "output_type": "execute_result"
    }
   ],
   "source": [
    "str2[6: :1]"
   ]
  },
  {
   "cell_type": "code",
   "execution_count": 45,
   "id": "e69decf4",
   "metadata": {
    "id": "4786bbc1",
    "outputId": "e480a268-d62f-4448-92f1-fd2f41de314a"
   },
   "outputs": [
    {
     "data": {
      "text/plain": [
       "'HARATH'"
      ]
     },
     "execution_count": 45,
     "metadata": {},
     "output_type": "execute_result"
    }
   ],
   "source": [
    "str2[5::]"
   ]
  },
  {
   "cell_type": "code",
   "execution_count": 46,
   "id": "fe5473ca",
   "metadata": {
    "id": "4786bbc1",
    "outputId": "e480a268-d62f-4448-92f1-fd2f41de314a"
   },
   "outputs": [
    {
     "data": {
      "text/plain": [
       "'MBA'"
      ]
     },
     "execution_count": 46,
     "metadata": {},
     "output_type": "execute_result"
    }
   ],
   "source": [
    "str2[::4]"
   ]
  },
  {
   "cell_type": "code",
   "execution_count": 47,
   "id": "aa3c0797",
   "metadata": {},
   "outputs": [
    {
     "data": {
      "text/plain": [
       "'HTARAHBAHAM'"
      ]
     },
     "execution_count": 47,
     "metadata": {},
     "output_type": "execute_result"
    }
   ],
   "source": [
    "str2[::-1]"
   ]
  },
  {
   "cell_type": "code",
   "execution_count": 48,
   "id": "edf1188e",
   "metadata": {},
   "outputs": [
    {
     "data": {
      "text/plain": [
       "'HTARAHBAHAM'"
      ]
     },
     "execution_count": 48,
     "metadata": {},
     "output_type": "execute_result"
    }
   ],
   "source": [
    "str2[-1:-12:-1]"
   ]
  },
  {
   "cell_type": "code",
   "execution_count": 49,
   "id": "0d4374f7",
   "metadata": {},
   "outputs": [
    {
     "data": {
      "text/plain": [
       "'HTARAHBAHAM'"
      ]
     },
     "execution_count": 49,
     "metadata": {},
     "output_type": "execute_result"
    }
   ],
   "source": [
    "str2[-1::-1]"
   ]
  },
  {
   "cell_type": "code",
   "execution_count": 50,
   "id": "55155a07",
   "metadata": {},
   "outputs": [
    {
     "data": {
      "text/plain": [
       "'HTARAHBAHAM'"
      ]
     },
     "execution_count": 50,
     "metadata": {},
     "output_type": "execute_result"
    }
   ],
   "source": [
    "str2[:-12:-1]"
   ]
  },
  {
   "cell_type": "code",
   "execution_count": 51,
   "id": "4786bbc1",
   "metadata": {
    "id": "4786bbc1",
    "outputId": "e480a268-d62f-4448-92f1-fd2f41de314a"
   },
   "outputs": [],
   "source": [
    "str3 = 'NANDED'"
   ]
  },
  {
   "cell_type": "code",
   "execution_count": 52,
   "id": "882793f6",
   "metadata": {
    "id": "882793f6",
    "outputId": "ed00c349-7acf-46cb-aa6a-50747bbdc716"
   },
   "outputs": [
    {
     "data": {
      "text/plain": [
       "'D'"
      ]
     },
     "execution_count": 52,
     "metadata": {},
     "output_type": "execute_result"
    }
   ],
   "source": [
    "str3[:-2:-1]"
   ]
  },
  {
   "cell_type": "code",
   "execution_count": 53,
   "id": "f15bc2ee",
   "metadata": {
    "id": "f15bc2ee",
    "outputId": "d7f3877c-45d2-42e1-acf5-1bddf7343bc5"
   },
   "outputs": [
    {
     "data": {
      "text/plain": [
       "'ED'"
      ]
     },
     "execution_count": 53,
     "metadata": {},
     "output_type": "execute_result"
    }
   ],
   "source": [
    "str3[-2::]"
   ]
  },
  {
   "cell_type": "code",
   "execution_count": 54,
   "id": "1ff32c3d",
   "metadata": {
    "id": "1ff32c3d",
    "outputId": "e2f46088-4ea5-4728-85f6-f678b56569a8"
   },
   "outputs": [
    {
     "data": {
      "text/plain": [
       "'DEDNAN'"
      ]
     },
     "execution_count": 54,
     "metadata": {},
     "output_type": "execute_result"
    }
   ],
   "source": [
    "str3[::-1]"
   ]
  },
  {
   "cell_type": "markdown",
   "id": "40857f69",
   "metadata": {
    "id": "40857f69"
   },
   "source": [
    "# String methods\n"
   ]
  },
  {
   "cell_type": "code",
   "execution_count": 8,
   "id": "458a6573",
   "metadata": {
    "id": "458a6573"
   },
   "outputs": [],
   "source": [
    "s1 = 'python'"
   ]
  },
  {
   "cell_type": "code",
   "execution_count": 9,
   "id": "afa86fbc",
   "metadata": {},
   "outputs": [],
   "source": [
    "s2 =\"I love python\""
   ]
  },
  {
   "cell_type": "code",
   "execution_count": 10,
   "id": "8033c64c",
   "metadata": {},
   "outputs": [],
   "source": [
    "s3 = ''' I Love Data science'''"
   ]
  },
  {
   "cell_type": "code",
   "execution_count": 11,
   "id": "91ea4b17",
   "metadata": {},
   "outputs": [],
   "source": [
    "s4 = \"\"\" I love D A\"\"\""
   ]
  },
  {
   "cell_type": "code",
   "execution_count": null,
   "id": "55424387",
   "metadata": {},
   "outputs": [],
   "source": []
  },
  {
   "cell_type": "code",
   "execution_count": null,
   "id": "89335bce",
   "metadata": {},
   "outputs": [],
   "source": []
  },
  {
   "cell_type": "code",
   "execution_count": 12,
   "id": "bfaa989a",
   "metadata": {},
   "outputs": [],
   "source": [
    "str1 = 'Pune'"
   ]
  },
  {
   "cell_type": "code",
   "execution_count": 13,
   "id": "9f09ff7c",
   "metadata": {},
   "outputs": [
    {
     "name": "stdout",
     "output_type": "stream",
     "text": [
      "<class 'str'>\n"
     ]
    }
   ],
   "source": [
    "print(type(str1))"
   ]
  },
  {
   "cell_type": "code",
   "execution_count": 14,
   "id": "54245584",
   "metadata": {},
   "outputs": [
    {
     "data": {
      "text/plain": [
       "'PYTHON'"
      ]
     },
     "execution_count": 14,
     "metadata": {},
     "output_type": "execute_result"
    }
   ],
   "source": [
    "\"python\".upper()"
   ]
  },
  {
   "cell_type": "code",
   "execution_count": 15,
   "id": "245580d6",
   "metadata": {},
   "outputs": [
    {
     "data": {
      "text/plain": [
       "'Pune'"
      ]
     },
     "execution_count": 15,
     "metadata": {},
     "output_type": "execute_result"
    }
   ],
   "source": [
    "str1"
   ]
  },
  {
   "cell_type": "code",
   "execution_count": 16,
   "id": "375f8a26",
   "metadata": {},
   "outputs": [
    {
     "data": {
      "text/plain": [
       "'PUNE'"
      ]
     },
     "execution_count": 16,
     "metadata": {},
     "output_type": "execute_result"
    }
   ],
   "source": [
    "str1.upper()"
   ]
  },
  {
   "cell_type": "code",
   "execution_count": 6,
   "id": "0de4f98c",
   "metadata": {
    "id": "0de4f98c",
    "outputId": "89894d60-99c5-48d8-ca10-7fc01c47f6d0"
   },
   "outputs": [
    {
     "data": {
      "text/plain": [
       "'Pune'"
      ]
     },
     "execution_count": 6,
     "metadata": {},
     "output_type": "execute_result"
    }
   ],
   "source": [
    "str1"
   ]
  },
  {
   "cell_type": "code",
   "execution_count": 17,
   "id": "6e415f24",
   "metadata": {
    "id": "6e415f24",
    "outputId": "ab18fb9a-8b62-46f6-e5ea-21695f77438b"
   },
   "outputs": [
    {
     "data": {
      "text/plain": [
       "'pune'"
      ]
     },
     "execution_count": 17,
     "metadata": {},
     "output_type": "execute_result"
    }
   ],
   "source": [
    "str1.lower()"
   ]
  },
  {
   "cell_type": "code",
   "execution_count": 23,
   "id": "c0ce9cab",
   "metadata": {},
   "outputs": [
    {
     "data": {
      "text/plain": [
       "'pune'"
      ]
     },
     "execution_count": 23,
     "metadata": {},
     "output_type": "execute_result"
    }
   ],
   "source": [
    "str1=\"pune\"\n",
    "str1"
   ]
  },
  {
   "cell_type": "code",
   "execution_count": 24,
   "id": "bac48afe",
   "metadata": {
    "id": "bac48afe",
    "outputId": "4633b03f-071c-48bc-e25e-cff6adc20c16"
   },
   "outputs": [
    {
     "data": {
      "text/plain": [
       "'Pune'"
      ]
     },
     "execution_count": 24,
     "metadata": {},
     "output_type": "execute_result"
    }
   ],
   "source": [
    "str1.title()"
   ]
  },
  {
   "cell_type": "code",
   "execution_count": 25,
   "id": "6f97a14c",
   "metadata": {},
   "outputs": [],
   "source": [
    "str2=\"India is my country and all Indians are my brothers and sisters\""
   ]
  },
  {
   "cell_type": "code",
   "execution_count": 26,
   "id": "d5bf1712",
   "metadata": {},
   "outputs": [
    {
     "data": {
      "text/plain": [
       "'India is my country and all Indians are my brothers and sisters'"
      ]
     },
     "execution_count": 26,
     "metadata": {},
     "output_type": "execute_result"
    }
   ],
   "source": [
    "str2"
   ]
  },
  {
   "cell_type": "code",
   "execution_count": 27,
   "id": "a8ee63c6",
   "metadata": {
    "id": "a8ee63c6",
    "outputId": "b7f7aaca-8e8f-4c4d-e21d-1def1472325b"
   },
   "outputs": [
    {
     "data": {
      "text/plain": [
       "'India Is My Country And All Indians Are My Brothers And Sisters'"
      ]
     },
     "execution_count": 27,
     "metadata": {},
     "output_type": "execute_result"
    }
   ],
   "source": [
    "str2.title()"
   ]
  },
  {
   "cell_type": "code",
   "execution_count": 38,
   "id": "617ba87a",
   "metadata": {
    "id": "617ba87a",
    "outputId": "c9b638f3-8f63-464b-d656-410c2586863c"
   },
   "outputs": [],
   "source": [
    "str2=\"india is my country and all Indians are my brothers and sisters\".title()"
   ]
  },
  {
   "cell_type": "code",
   "execution_count": 39,
   "id": "cc7b7139",
   "metadata": {},
   "outputs": [],
   "source": [
    "#str2=\"1india is my country and all Indians are my brothers and sisters\".title()"
   ]
  },
  {
   "cell_type": "code",
   "execution_count": 40,
   "id": "4188a362",
   "metadata": {},
   "outputs": [],
   "source": [
    "str2='India Is My Country And All Indians Are My brothers and sisters'"
   ]
  },
  {
   "cell_type": "code",
   "execution_count": 41,
   "id": "2bf3a925",
   "metadata": {},
   "outputs": [
    {
     "data": {
      "text/plain": [
       "'India Is My Country And All Indians Are My brothers and sisters'"
      ]
     },
     "execution_count": 41,
     "metadata": {},
     "output_type": "execute_result"
    }
   ],
   "source": [
    "str2"
   ]
  },
  {
   "cell_type": "code",
   "execution_count": 42,
   "id": "03bd9590",
   "metadata": {},
   "outputs": [
    {
     "data": {
      "text/plain": [
       "'India is my country and all indians are my brothers and sisters'"
      ]
     },
     "execution_count": 42,
     "metadata": {},
     "output_type": "execute_result"
    }
   ],
   "source": [
    "str2.capitalize()"
   ]
  },
  {
   "cell_type": "code",
   "execution_count": 43,
   "id": "306aad3d",
   "metadata": {},
   "outputs": [
    {
     "data": {
      "text/plain": [
       "'India Is My Country And All Indians Are My brothers and sisters'"
      ]
     },
     "execution_count": 43,
     "metadata": {},
     "output_type": "execute_result"
    }
   ],
   "source": [
    "str2"
   ]
  },
  {
   "cell_type": "raw",
   "id": "25c787bb",
   "metadata": {},
   "source": [
    "1.upper()---will convert to upper\n",
    "2.lower()---will convert to lower\n",
    "3.title()---will convert first letter to upper (all words)\n",
    "4.capitalize()--will convert only first letter to upper of first word\n",
    "5.count()"
   ]
  },
  {
   "cell_type": "code",
   "execution_count": 44,
   "id": "2a5443d0",
   "metadata": {},
   "outputs": [
    {
     "data": {
      "text/plain": [
       "'India Is My Country And All Indians Are My brothers and sisters'"
      ]
     },
     "execution_count": 44,
     "metadata": {},
     "output_type": "execute_result"
    }
   ],
   "source": [
    "str2"
   ]
  },
  {
   "cell_type": "code",
   "execution_count": 45,
   "id": "145cb491",
   "metadata": {},
   "outputs": [
    {
     "data": {
      "text/plain": [
       "3"
      ]
     },
     "execution_count": 45,
     "metadata": {},
     "output_type": "execute_result"
    }
   ],
   "source": [
    "str2.count(\"a\")"
   ]
  },
  {
   "cell_type": "code",
   "execution_count": 46,
   "id": "f36a5e59",
   "metadata": {},
   "outputs": [
    {
     "data": {
      "text/plain": [
       "2"
      ]
     },
     "execution_count": 46,
     "metadata": {},
     "output_type": "execute_result"
    }
   ],
   "source": [
    "str2.count(\"India\")"
   ]
  },
  {
   "cell_type": "code",
   "execution_count": 47,
   "id": "edd2c98c",
   "metadata": {
    "id": "edd2c98c",
    "outputId": "ab837e39-85b5-4db3-bfd6-754749a57a86"
   },
   "outputs": [
    {
     "data": {
      "text/plain": [
       "3"
      ]
     },
     "execution_count": 47,
     "metadata": {},
     "output_type": "execute_result"
    }
   ],
   "source": [
    "str2.count('I')"
   ]
  },
  {
   "cell_type": "code",
   "execution_count": 48,
   "id": "e9ceaa79",
   "metadata": {},
   "outputs": [
    {
     "data": {
      "text/plain": [
       "2"
      ]
     },
     "execution_count": 48,
     "metadata": {},
     "output_type": "execute_result"
    }
   ],
   "source": [
    "str2.count(\"India\")"
   ]
  },
  {
   "cell_type": "code",
   "execution_count": 49,
   "id": "4c57e957",
   "metadata": {
    "id": "4c57e957",
    "outputId": "34332f29-2060-4702-a958-2386309646e7"
   },
   "outputs": [
    {
     "data": {
      "text/plain": [
       "3"
      ]
     },
     "execution_count": 49,
     "metadata": {},
     "output_type": "execute_result"
    }
   ],
   "source": [
    "str2.count('A')"
   ]
  },
  {
   "cell_type": "code",
   "execution_count": 50,
   "id": "8334dd64",
   "metadata": {},
   "outputs": [
    {
     "data": {
      "text/plain": [
       "'India Is My Country And All Indians Are My brothers and sisters'"
      ]
     },
     "execution_count": 50,
     "metadata": {},
     "output_type": "execute_result"
    }
   ],
   "source": [
    "str2"
   ]
  },
  {
   "cell_type": "code",
   "execution_count": 51,
   "id": "2f3b83f6",
   "metadata": {},
   "outputs": [
    {
     "data": {
      "text/plain": [
       "3"
      ]
     },
     "execution_count": 51,
     "metadata": {},
     "output_type": "execute_result"
    }
   ],
   "source": [
    "str2.count('a')"
   ]
  },
  {
   "cell_type": "code",
   "execution_count": 52,
   "id": "8928c77b",
   "metadata": {
    "id": "8928c77b",
    "outputId": "b04fe1f8-b101-4c12-c22a-473a97fda5fd"
   },
   "outputs": [
    {
     "data": {
      "text/plain": [
       "2"
      ]
     },
     "execution_count": 52,
     "metadata": {},
     "output_type": "execute_result"
    }
   ],
   "source": [
    "s1 = 'well begin is Half done'\n",
    "s1.count('i')"
   ]
  },
  {
   "cell_type": "code",
   "execution_count": 55,
   "id": "b7be249d",
   "metadata": {},
   "outputs": [],
   "source": [
    "s=\"pune is my favourite city. i love pune\""
   ]
  },
  {
   "cell_type": "code",
   "execution_count": 56,
   "id": "49ec0930",
   "metadata": {},
   "outputs": [
    {
     "data": {
      "text/plain": [
       "'Pune is my favourite city. i love pune'"
      ]
     },
     "execution_count": 56,
     "metadata": {},
     "output_type": "execute_result"
    }
   ],
   "source": [
    "s.capitalize()"
   ]
  },
  {
   "cell_type": "code",
   "execution_count": 57,
   "id": "d80ac687",
   "metadata": {
    "id": "d80ac687",
    "outputId": "8a9baa4f-54bb-43b5-c240-e05e14a20de6"
   },
   "outputs": [
    {
     "data": {
      "text/plain": [
       "'well begin is Half done'"
      ]
     },
     "execution_count": 57,
     "metadata": {},
     "output_type": "execute_result"
    }
   ],
   "source": [
    "s1\n"
   ]
  },
  {
   "cell_type": "code",
   "execution_count": 59,
   "id": "4e703998",
   "metadata": {
    "id": "4e703998",
    "outputId": "bf2352b3-902e-4328-ae04-c69524566405"
   },
   "outputs": [
    {
     "data": {
      "text/plain": [
       "True"
      ]
     },
     "execution_count": 59,
     "metadata": {},
     "output_type": "execute_result"
    }
   ],
   "source": [
    "s1.endswith('done')"
   ]
  },
  {
   "cell_type": "code",
   "execution_count": 60,
   "id": "77442840",
   "metadata": {
    "id": "77442840",
    "outputId": "bfe1940f-e94c-4a76-842f-4c9e2d15941d"
   },
   "outputs": [
    {
     "data": {
      "text/plain": [
       "True"
      ]
     },
     "execution_count": 60,
     "metadata": {},
     "output_type": "execute_result"
    }
   ],
   "source": [
    "s1.endswith('ne')"
   ]
  },
  {
   "cell_type": "code",
   "execution_count": 61,
   "id": "b95831d8",
   "metadata": {},
   "outputs": [
    {
     "data": {
      "text/plain": [
       "True"
      ]
     },
     "execution_count": 61,
     "metadata": {},
     "output_type": "execute_result"
    }
   ],
   "source": [
    "s1.endswith('e')"
   ]
  },
  {
   "cell_type": "code",
   "execution_count": 62,
   "id": "47e5cadf",
   "metadata": {},
   "outputs": [
    {
     "data": {
      "text/plain": [
       "'well begin is Half done'"
      ]
     },
     "execution_count": 62,
     "metadata": {},
     "output_type": "execute_result"
    }
   ],
   "source": [
    "s1"
   ]
  },
  {
   "cell_type": "code",
   "execution_count": 64,
   "id": "dc39cf4d",
   "metadata": {},
   "outputs": [
    {
     "data": {
      "text/plain": [
       "False"
      ]
     },
     "execution_count": 64,
     "metadata": {},
     "output_type": "execute_result"
    }
   ],
   "source": [
    "s1.startswith('e')"
   ]
  },
  {
   "cell_type": "code",
   "execution_count": 65,
   "id": "f6ea63ef",
   "metadata": {
    "id": "f6ea63ef",
    "outputId": "68563009-35e7-4447-a5c6-253f502af949"
   },
   "outputs": [
    {
     "data": {
      "text/plain": [
       "False"
      ]
     },
     "execution_count": 65,
     "metadata": {},
     "output_type": "execute_result"
    }
   ],
   "source": [
    "s1.startswith('Pune')"
   ]
  },
  {
   "cell_type": "code",
   "execution_count": 68,
   "id": "30839993",
   "metadata": {},
   "outputs": [
    {
     "data": {
      "text/plain": [
       "True"
      ]
     },
     "execution_count": 68,
     "metadata": {},
     "output_type": "execute_result"
    }
   ],
   "source": [
    "s1.startswith('well')"
   ]
  },
  {
   "cell_type": "code",
   "execution_count": 67,
   "id": "0552f921",
   "metadata": {},
   "outputs": [
    {
     "data": {
      "text/plain": [
       "datetime.date(2024, 6, 16)"
      ]
     },
     "execution_count": 67,
     "metadata": {},
     "output_type": "execute_result"
    }
   ],
   "source": [
    "'''from datetime import date\n",
    "todays_date=date.today()\n",
    "todays_date'''"
   ]
  },
  {
   "cell_type": "code",
   "execution_count": 73,
   "id": "5543b74e",
   "metadata": {},
   "outputs": [],
   "source": [
    "todays_date=\"2023/12/02\""
   ]
  },
  {
   "cell_type": "code",
   "execution_count": 71,
   "id": "e5a5a19f",
   "metadata": {},
   "outputs": [],
   "source": [
    "todays_date=\"2023/12/16\""
   ]
  },
  {
   "cell_type": "code",
   "execution_count": 72,
   "id": "7e2bc727",
   "metadata": {},
   "outputs": [
    {
     "data": {
      "text/plain": [
       "True"
      ]
     },
     "execution_count": 72,
     "metadata": {},
     "output_type": "execute_result"
    }
   ],
   "source": [
    "todays_date.endswith('16')"
   ]
  },
  {
   "cell_type": "code",
   "execution_count": 74,
   "id": "7a9c6e46",
   "metadata": {
    "id": "7a9c6e46",
    "outputId": "e624c607-7fdb-491a-a32e-e50defdde1bb"
   },
   "outputs": [
    {
     "data": {
      "text/plain": [
       "True"
      ]
     },
     "execution_count": 74,
     "metadata": {},
     "output_type": "execute_result"
    }
   ],
   "source": [
    "todays_date.endswith('02')"
   ]
  },
  {
   "cell_type": "raw",
   "id": "e29c7770",
   "metadata": {},
   "source": [
    "1.upper()\n",
    "2.lower()\n",
    "3.title()\n",
    "4.capitalize()\n",
    "5.count()\n",
    "6.startswith()\n",
    "7.endswith()"
   ]
  },
  {
   "cell_type": "code",
   "execution_count": 75,
   "id": "45ca6844",
   "metadata": {
    "id": "45ca6844",
    "outputId": "509ede3e-3665-4e5d-d351-ad5bb98f4c9a"
   },
   "outputs": [],
   "source": [
    "s1=\"pune is my favourite city. i love pune\""
   ]
  },
  {
   "cell_type": "raw",
   "id": "d58407a8",
   "metadata": {},
   "source": [
    "find() method \n",
    "\n",
    "will give us index of the first char\n",
    "if substring not found then it will give us -1\n",
    "\n",
    "it wont throw an error"
   ]
  },
  {
   "cell_type": "code",
   "execution_count": 249,
   "id": "20a14144",
   "metadata": {},
   "outputs": [
    {
     "data": {
      "text/plain": [
       "0"
      ]
     },
     "execution_count": 249,
     "metadata": {},
     "output_type": "execute_result"
    }
   ],
   "source": [
    "s1.find(\"p\")"
   ]
  },
  {
   "cell_type": "code",
   "execution_count": 77,
   "id": "041a7590",
   "metadata": {},
   "outputs": [
    {
     "data": {
      "text/plain": [
       "'pune is my favourite city. i love pune'"
      ]
     },
     "execution_count": 77,
     "metadata": {},
     "output_type": "execute_result"
    }
   ],
   "source": [
    "s1"
   ]
  },
  {
   "cell_type": "code",
   "execution_count": 78,
   "id": "a8849056",
   "metadata": {},
   "outputs": [
    {
     "data": {
      "text/plain": [
       "14"
      ]
     },
     "execution_count": 78,
     "metadata": {},
     "output_type": "execute_result"
    }
   ],
   "source": [
    "s1.find(\"o\")"
   ]
  },
  {
   "cell_type": "code",
   "execution_count": 79,
   "id": "bbeedddb",
   "metadata": {},
   "outputs": [
    {
     "data": {
      "text/plain": [
       "11"
      ]
     },
     "execution_count": 79,
     "metadata": {},
     "output_type": "execute_result"
    }
   ],
   "source": [
    "s1.find(\"f\")"
   ]
  },
  {
   "cell_type": "code",
   "execution_count": 80,
   "id": "87fdba56",
   "metadata": {},
   "outputs": [
    {
     "data": {
      "text/plain": [
       "0"
      ]
     },
     "execution_count": 80,
     "metadata": {},
     "output_type": "execute_result"
    }
   ],
   "source": [
    "s1.find(\"pu\")"
   ]
  },
  {
   "cell_type": "code",
   "execution_count": 81,
   "id": "195dc8c8",
   "metadata": {},
   "outputs": [
    {
     "data": {
      "text/plain": [
       "4"
      ]
     },
     "execution_count": 81,
     "metadata": {},
     "output_type": "execute_result"
    }
   ],
   "source": [
    "s1.find(\" \") #space"
   ]
  },
  {
   "cell_type": "code",
   "execution_count": 250,
   "id": "5193f07e",
   "metadata": {},
   "outputs": [
    {
     "data": {
      "text/plain": [
       "0"
      ]
     },
     "execution_count": 250,
     "metadata": {},
     "output_type": "execute_result"
    }
   ],
   "source": [
    "s1.find(\"\") #empty"
   ]
  },
  {
   "cell_type": "code",
   "execution_count": 83,
   "id": "96b0122e",
   "metadata": {
    "id": "96b0122e",
    "outputId": "b6c399c3-9eac-4730-8e81-21b24aa58f94"
   },
   "outputs": [
    {
     "data": {
      "text/plain": [
       "0"
      ]
     },
     "execution_count": 83,
     "metadata": {},
     "output_type": "execute_result"
    }
   ],
   "source": [
    "s1.find('pune')"
   ]
  },
  {
   "cell_type": "code",
   "execution_count": 84,
   "id": "94fdb3ea",
   "metadata": {},
   "outputs": [
    {
     "data": {
      "text/plain": [
       "'pune is my favourite city. i love pune'"
      ]
     },
     "execution_count": 84,
     "metadata": {},
     "output_type": "execute_result"
    }
   ],
   "source": [
    "s1"
   ]
  },
  {
   "cell_type": "code",
   "execution_count": 85,
   "id": "cdc47889",
   "metadata": {
    "id": "cdc47889",
    "outputId": "be4effc0-e52e-48f4-9251-99a1cb4b6480"
   },
   "outputs": [
    {
     "data": {
      "text/plain": [
       "-1"
      ]
     },
     "execution_count": 85,
     "metadata": {},
     "output_type": "execute_result"
    }
   ],
   "source": [
    "s1.find('Delhi')"
   ]
  },
  {
   "cell_type": "code",
   "execution_count": 86,
   "id": "7a33684a",
   "metadata": {
    "id": "7a33684a",
    "outputId": "e285f139-b643-4394-9ed6-cf72341461e9"
   },
   "outputs": [
    {
     "data": {
      "text/plain": [
       "-1"
      ]
     },
     "execution_count": 86,
     "metadata": {},
     "output_type": "execute_result"
    }
   ],
   "source": [
    "s1.find('Mumbai')  # In find not present e then give -1"
   ]
  },
  {
   "cell_type": "code",
   "execution_count": 87,
   "id": "5a845283",
   "metadata": {},
   "outputs": [
    {
     "data": {
      "text/plain": [
       "'pune is my favourite city. i love pune'"
      ]
     },
     "execution_count": 87,
     "metadata": {},
     "output_type": "execute_result"
    }
   ],
   "source": [
    "s1"
   ]
  },
  {
   "cell_type": "code",
   "execution_count": 88,
   "id": "7f892ecf",
   "metadata": {},
   "outputs": [
    {
     "data": {
      "text/plain": [
       "0"
      ]
     },
     "execution_count": 88,
     "metadata": {},
     "output_type": "execute_result"
    }
   ],
   "source": [
    "s1.index(\"pune\")"
   ]
  },
  {
   "cell_type": "code",
   "execution_count": 89,
   "id": "1ca68585",
   "metadata": {},
   "outputs": [
    {
     "data": {
      "text/plain": [
       "4"
      ]
     },
     "execution_count": 89,
     "metadata": {},
     "output_type": "execute_result"
    }
   ],
   "source": [
    "s1.index(\" \")"
   ]
  },
  {
   "cell_type": "code",
   "execution_count": 90,
   "id": "be5d04d0",
   "metadata": {},
   "outputs": [
    {
     "data": {
      "text/plain": [
       "'pune is my favourite city. i love pune'"
      ]
     },
     "execution_count": 90,
     "metadata": {},
     "output_type": "execute_result"
    }
   ],
   "source": [
    "s1"
   ]
  },
  {
   "cell_type": "code",
   "execution_count": 91,
   "id": "aabb5c5b",
   "metadata": {},
   "outputs": [
    {
     "ename": "ValueError",
     "evalue": "substring not found",
     "output_type": "error",
     "traceback": [
      "\u001b[1;31m---------------------------------------------------------------------------\u001b[0m",
      "\u001b[1;31mValueError\u001b[0m                                Traceback (most recent call last)",
      "Cell \u001b[1;32mIn[91], line 1\u001b[0m\n\u001b[1;32m----> 1\u001b[0m s1\u001b[38;5;241m.\u001b[39mindex(\u001b[38;5;124m\"\u001b[39m\u001b[38;5;124mHyderabad\u001b[39m\u001b[38;5;124m\"\u001b[39m)\n",
      "\u001b[1;31mValueError\u001b[0m: substring not found"
     ]
    }
   ],
   "source": [
    "s1.index(\"Hyderabad\") # in index spelling e presernt then in string not present charater then error"
   ]
  },
  {
   "cell_type": "code",
   "execution_count": null,
   "id": "ad1830f1",
   "metadata": {
    "id": "ad1830f1",
    "outputId": "f7084525-6cd4-4dfe-97f6-4451894218a3"
   },
   "outputs": [],
   "source": [
    "s1.index('Hyderabad')"
   ]
  },
  {
   "cell_type": "raw",
   "id": "15d658c1",
   "metadata": {},
   "source": [
    "index() method will give us index of the first character of the substring\n",
    "if substring not found then \n",
    "\n",
    "it will throw an error\n",
    "\n",
    "ValueError: substring not found"
   ]
  },
  {
   "cell_type": "code",
   "execution_count": 96,
   "id": "7c217f1f",
   "metadata": {
    "id": "7c217f1f",
    "outputId": "2b51800d-dfee-4e03-d989-2a65cfc34305"
   },
   "outputs": [
    {
     "data": {
      "text/plain": [
       "0"
      ]
     },
     "execution_count": 96,
     "metadata": {},
     "output_type": "execute_result"
    }
   ],
   "source": [
    "s1.index('pune')"
   ]
  },
  {
   "cell_type": "code",
   "execution_count": 97,
   "id": "ab50b513",
   "metadata": {
    "id": "ab50b513",
    "outputId": "a74802b3-ed30-4b56-947b-c737b04376e0"
   },
   "outputs": [
    {
     "ename": "ValueError",
     "evalue": "substring not found",
     "output_type": "error",
     "traceback": [
      "\u001b[1;31m---------------------------------------------------------------------------\u001b[0m",
      "\u001b[1;31mValueError\u001b[0m                                Traceback (most recent call last)",
      "Cell \u001b[1;32mIn[97], line 1\u001b[0m\n\u001b[1;32m----> 1\u001b[0m s1\u001b[38;5;241m.\u001b[39mindex(\u001b[38;5;124m'\u001b[39m\u001b[38;5;124mMumbai\u001b[39m\u001b[38;5;124m'\u001b[39m)\n",
      "\u001b[1;31mValueError\u001b[0m: substring not found"
     ]
    }
   ],
   "source": [
    "s1.index('Mumbai')"
   ]
  },
  {
   "cell_type": "code",
   "execution_count": 103,
   "id": "2e176380",
   "metadata": {
    "id": "2e176380",
    "outputId": "833d923f-b9ca-4225-e391-ad3051b7d938"
   },
   "outputs": [
    {
     "data": {
      "text/plain": [
       "'pune is my favourite city. i love pune'"
      ]
     },
     "execution_count": 103,
     "metadata": {},
     "output_type": "execute_result"
    }
   ],
   "source": [
    "s1"
   ]
  },
  {
   "cell_type": "code",
   "execution_count": 104,
   "id": "732f77be",
   "metadata": {
    "id": "732f77be"
   },
   "outputs": [],
   "source": [
    "A = 'abc' \n",
    "B = '123'\n",
    "C = 'abc123'\n",
    "D = 'abc 123'"
   ]
  },
  {
   "cell_type": "code",
   "execution_count": 106,
   "id": "533c0c50",
   "metadata": {
    "id": "86bd9a3b",
    "outputId": "a9afc274-3637-48f9-a885-d6ee80d91d8c"
   },
   "outputs": [
    {
     "name": "stdout",
     "output_type": "stream",
     "text": [
      "True\n"
     ]
    }
   ],
   "source": [
    "print(A.isalpha())"
   ]
  },
  {
   "cell_type": "code",
   "execution_count": 107,
   "id": "bc75b5b9",
   "metadata": {
    "id": "86bd9a3b",
    "outputId": "a9afc274-3637-48f9-a885-d6ee80d91d8c"
   },
   "outputs": [
    {
     "name": "stdout",
     "output_type": "stream",
     "text": [
      "False\n"
     ]
    }
   ],
   "source": [
    "print(B.isalpha())"
   ]
  },
  {
   "cell_type": "code",
   "execution_count": 108,
   "id": "1de572d4",
   "metadata": {
    "id": "86bd9a3b",
    "outputId": "a9afc274-3637-48f9-a885-d6ee80d91d8c"
   },
   "outputs": [
    {
     "name": "stdout",
     "output_type": "stream",
     "text": [
      "False\n"
     ]
    }
   ],
   "source": [
    "print(C.isalpha()) # Only alpha"
   ]
  },
  {
   "cell_type": "code",
   "execution_count": 109,
   "id": "75010c5b",
   "metadata": {
    "id": "86bd9a3b",
    "outputId": "a9afc274-3637-48f9-a885-d6ee80d91d8c"
   },
   "outputs": [
    {
     "name": "stdout",
     "output_type": "stream",
     "text": [
      "False\n"
     ]
    }
   ],
   "source": [
    "print(D.isalpha())"
   ]
  },
  {
   "cell_type": "code",
   "execution_count": 110,
   "id": "bde912b2",
   "metadata": {},
   "outputs": [],
   "source": [
    "A = 'abc' \n",
    "B = '123'\n",
    "C = 'abc123'\n",
    "D = 'abc 123'"
   ]
  },
  {
   "cell_type": "code",
   "execution_count": 111,
   "id": "25c0ee73",
   "metadata": {
    "id": "1e1faee7",
    "outputId": "58ea583d-3322-4b2e-880a-a909002d2a5e"
   },
   "outputs": [
    {
     "name": "stdout",
     "output_type": "stream",
     "text": [
      "True\n",
      "True\n",
      "True\n",
      "False\n"
     ]
    }
   ],
   "source": [
    "print(A.isalnum())\n",
    "print(B.isalnum())\n",
    "print(C.isalnum())\n",
    "print(D.isalnum())"
   ]
  },
  {
   "cell_type": "code",
   "execution_count": 113,
   "id": "0ec9b151",
   "metadata": {},
   "outputs": [],
   "source": [
    "A = 'abc' \n",
    "B = '123'\n",
    "C = 'abc123'\n",
    "D = 'abc 123'"
   ]
  },
  {
   "cell_type": "code",
   "execution_count": 114,
   "id": "5f1f3f0f",
   "metadata": {
    "id": "c4678928",
    "outputId": "8e130164-9e0e-4025-dcbe-76e395763314"
   },
   "outputs": [
    {
     "name": "stdout",
     "output_type": "stream",
     "text": [
      "False\n",
      "True\n",
      "False\n",
      "False\n"
     ]
    }
   ],
   "source": [
    "print(A.isdigit())\n",
    "print(B.isdigit())\n",
    "print(C.isdigit())\n",
    "print(D.isdigit())"
   ]
  },
  {
   "cell_type": "code",
   "execution_count": 115,
   "id": "06532bf7",
   "metadata": {
    "id": "06532bf7",
    "outputId": "fce8c753-c64a-451c-f64e-28f98d525060"
   },
   "outputs": [
    {
     "data": {
      "text/plain": [
       "'abc'"
      ]
     },
     "execution_count": 115,
     "metadata": {},
     "output_type": "execute_result"
    }
   ],
   "source": [
    "A"
   ]
  },
  {
   "cell_type": "code",
   "execution_count": 116,
   "id": "9d7d5095",
   "metadata": {
    "id": "9d7d5095",
    "outputId": "879d44b4-e077-41b1-a1da-3c0b22037dfa"
   },
   "outputs": [
    {
     "data": {
      "text/plain": [
       "False"
      ]
     },
     "execution_count": 116,
     "metadata": {},
     "output_type": "execute_result"
    }
   ],
   "source": [
    "A.isupper()  # is method give always only true or false"
   ]
  },
  {
   "cell_type": "code",
   "execution_count": 118,
   "id": "e9a8e375",
   "metadata": {
    "id": "e9a8e375",
    "outputId": "e8766721-3768-4b73-898c-fa4cd3926f92"
   },
   "outputs": [
    {
     "data": {
      "text/plain": [
       "True"
      ]
     },
     "execution_count": 118,
     "metadata": {},
     "output_type": "execute_result"
    }
   ],
   "source": [
    "A.islower()"
   ]
  },
  {
   "cell_type": "code",
   "execution_count": 119,
   "id": "3a250c70",
   "metadata": {
    "id": "3a250c70",
    "outputId": "8291295d-e675-495f-c012-5d596b003404"
   },
   "outputs": [
    {
     "data": {
      "text/plain": [
       "'pune'"
      ]
     },
     "execution_count": 119,
     "metadata": {},
     "output_type": "execute_result"
    }
   ],
   "source": [
    "str1"
   ]
  },
  {
   "cell_type": "code",
   "execution_count": 120,
   "id": "60af5baf",
   "metadata": {
    "id": "60af5baf",
    "outputId": "fe591043-83cc-4020-d8aa-f7793b03247e"
   },
   "outputs": [
    {
     "data": {
      "text/plain": [
       "(False, True)"
      ]
     },
     "execution_count": 120,
     "metadata": {},
     "output_type": "execute_result"
    }
   ],
   "source": [
    "str1.isupper(), str1.islower()"
   ]
  },
  {
   "cell_type": "code",
   "execution_count": 121,
   "id": "b45aa1b2",
   "metadata": {
    "id": "b45aa1b2",
    "outputId": "0bbe1f6e-3bd3-4cd6-c29a-33a8723e2e35"
   },
   "outputs": [
    {
     "name": "stdout",
     "output_type": "stream",
     "text": [
      "string is having u and l chars\n"
     ]
    }
   ],
   "source": [
    "str1='ABc1'\n",
    "if str1.isupper()==False and str1.islower()==False:\n",
    "    print('string is having u and l chars')"
   ]
  },
  {
   "cell_type": "code",
   "execution_count": 251,
   "id": "8b7f4606",
   "metadata": {
    "id": "8b7f4606"
   },
   "outputs": [],
   "source": [
    "str1 = \"-------Fusion   Software++++++++++++++++\""
   ]
  },
  {
   "cell_type": "code",
   "execution_count": 252,
   "id": "53e5ee70",
   "metadata": {},
   "outputs": [
    {
     "data": {
      "text/plain": [
       "'Fusion   Software++++++++++++++++'"
      ]
     },
     "execution_count": 252,
     "metadata": {},
     "output_type": "execute_result"
    }
   ],
   "source": [
    "str1.lstrip(\"-\")"
   ]
  },
  {
   "cell_type": "code",
   "execution_count": 253,
   "id": "0e8b5105",
   "metadata": {},
   "outputs": [
    {
     "data": {
      "text/plain": [
       "'-------Fusion   Software'"
      ]
     },
     "execution_count": 253,
     "metadata": {},
     "output_type": "execute_result"
    }
   ],
   "source": [
    "str1.rstrip(\"+\")"
   ]
  },
  {
   "cell_type": "code",
   "execution_count": 254,
   "id": "c2ca8b3d",
   "metadata": {},
   "outputs": [
    {
     "data": {
      "text/plain": [
       "'Fusion   Software++++++++++++++++'"
      ]
     },
     "execution_count": 254,
     "metadata": {},
     "output_type": "execute_result"
    }
   ],
   "source": [
    "str1.lstrip(\"-\")"
   ]
  },
  {
   "cell_type": "code",
   "execution_count": 255,
   "id": "8489a0c0",
   "metadata": {},
   "outputs": [
    {
     "data": {
      "text/plain": [
       "'-------Fusion   Software'"
      ]
     },
     "execution_count": 255,
     "metadata": {},
     "output_type": "execute_result"
    }
   ],
   "source": [
    "str1.rstrip(\"+\")"
   ]
  },
  {
   "cell_type": "code",
   "execution_count": 257,
   "id": "d6973123",
   "metadata": {},
   "outputs": [
    {
     "data": {
      "text/plain": [
       "'-------Fusion   Software'"
      ]
     },
     "execution_count": 257,
     "metadata": {},
     "output_type": "execute_result"
    }
   ],
   "source": [
    "str1.lstrip(\"-\")\n",
    "str1.rstrip(\"+\")"
   ]
  },
  {
   "cell_type": "code",
   "execution_count": 258,
   "id": "29aba28a",
   "metadata": {},
   "outputs": [
    {
     "data": {
      "text/plain": [
       "'Fusion   Software'"
      ]
     },
     "execution_count": 258,
     "metadata": {},
     "output_type": "execute_result"
    }
   ],
   "source": [
    "str1.lstrip(\"-\").rstrip(\"+\")"
   ]
  },
  {
   "cell_type": "code",
   "execution_count": 261,
   "id": "9d1cdceb",
   "metadata": {},
   "outputs": [],
   "source": [
    "str1 = \"       Fusion Software        \""
   ]
  },
  {
   "cell_type": "code",
   "execution_count": 262,
   "id": "04903ee5",
   "metadata": {},
   "outputs": [
    {
     "data": {
      "text/plain": [
       "'       Fusion Software        '"
      ]
     },
     "execution_count": 262,
     "metadata": {},
     "output_type": "execute_result"
    }
   ],
   "source": [
    "str1"
   ]
  },
  {
   "cell_type": "code",
   "execution_count": 263,
   "id": "df5ff416",
   "metadata": {},
   "outputs": [
    {
     "data": {
      "text/plain": [
       "'Fusion Software'"
      ]
     },
     "execution_count": 263,
     "metadata": {},
     "output_type": "execute_result"
    }
   ],
   "source": [
    "str1.strip(\" \")"
   ]
  },
  {
   "cell_type": "code",
   "execution_count": 264,
   "id": "99c27e7d",
   "metadata": {},
   "outputs": [
    {
     "data": {
      "text/plain": [
       "'Fusion Software'"
      ]
     },
     "execution_count": 264,
     "metadata": {},
     "output_type": "execute_result"
    }
   ],
   "source": [
    "str1.strip(\" \")"
   ]
  },
  {
   "cell_type": "code",
   "execution_count": 265,
   "id": "bdd1307d",
   "metadata": {},
   "outputs": [],
   "source": [
    "str1=\"********* python ********\""
   ]
  },
  {
   "cell_type": "code",
   "execution_count": 150,
   "id": "f3a3cdfb",
   "metadata": {
    "id": "f3a3cdfb",
    "outputId": "42a2ef0b-8ece-4ab3-f8e9-4a612622ffeb"
   },
   "outputs": [
    {
     "data": {
      "text/plain": [
       "' python ********'"
      ]
     },
     "execution_count": 150,
     "metadata": {},
     "output_type": "execute_result"
    }
   ],
   "source": [
    "str1.lstrip('*')"
   ]
  },
  {
   "cell_type": "code",
   "execution_count": 151,
   "id": "02f1f96e",
   "metadata": {
    "id": "02f1f96e",
    "outputId": "ea01f047-f976-4217-bb3f-5c7d9d7f082c"
   },
   "outputs": [
    {
     "data": {
      "text/plain": [
       "'********* python '"
      ]
     },
     "execution_count": 151,
     "metadata": {},
     "output_type": "execute_result"
    }
   ],
   "source": [
    "str1.rstrip('*')"
   ]
  },
  {
   "cell_type": "code",
   "execution_count": 152,
   "id": "5cd39c1e",
   "metadata": {
    "id": "5cd39c1e",
    "outputId": "c3869588-c875-41e2-c6bb-40d055776450"
   },
   "outputs": [
    {
     "data": {
      "text/plain": [
       "' python '"
      ]
     },
     "execution_count": 152,
     "metadata": {},
     "output_type": "execute_result"
    }
   ],
   "source": [
    "str1.strip(\"*\")"
   ]
  },
  {
   "cell_type": "code",
   "execution_count": 153,
   "id": "2dd76a14",
   "metadata": {
    "id": "2dd76a14",
    "outputId": "2bb5ac3d-77b2-4ad0-e4ca-811f8bce88fd"
   },
   "outputs": [
    {
     "data": {
      "text/plain": [
       "' python '"
      ]
     },
     "execution_count": 153,
     "metadata": {},
     "output_type": "execute_result"
    }
   ],
   "source": [
    "str1.strip('*')"
   ]
  },
  {
   "cell_type": "code",
   "execution_count": 157,
   "id": "6d38205c",
   "metadata": {
    "id": "6526efd2",
    "outputId": "8c3b6e30-fe50-42e5-ce04-cce3ed6d0a9c"
   },
   "outputs": [],
   "source": [
    "email = '  Amey@google.com    '"
   ]
  },
  {
   "cell_type": "code",
   "execution_count": 158,
   "id": "6526efd2",
   "metadata": {
    "id": "6526efd2",
    "outputId": "8c3b6e30-fe50-42e5-ce04-cce3ed6d0a9c"
   },
   "outputs": [
    {
     "data": {
      "text/plain": [
       "'Amey@google.com'"
      ]
     },
     "execution_count": 158,
     "metadata": {},
     "output_type": "execute_result"
    }
   ],
   "source": [
    "email.strip(' ')"
   ]
  },
  {
   "cell_type": "code",
   "execution_count": 159,
   "id": "71151771",
   "metadata": {
    "id": "71151771",
    "outputId": "3090250a-1ee2-425d-f269-ed64b0f6b2ed"
   },
   "outputs": [
    {
     "data": {
      "text/plain": [
       "'********* python ********'"
      ]
     },
     "execution_count": 159,
     "metadata": {},
     "output_type": "execute_result"
    }
   ],
   "source": [
    "str1"
   ]
  },
  {
   "cell_type": "code",
   "execution_count": 160,
   "id": "f5dd7fa5",
   "metadata": {
    "id": "f5dd7fa5",
    "outputId": "9a6af864-849a-40d7-99ef-3ad1abcfe7c7"
   },
   "outputs": [
    {
     "data": {
      "text/plain": [
       "'India Is My Country And All Indians Are My brothers and sisters'"
      ]
     },
     "execution_count": 160,
     "metadata": {},
     "output_type": "execute_result"
    }
   ],
   "source": [
    "str2"
   ]
  },
  {
   "cell_type": "code",
   "execution_count": 163,
   "id": "00ac1938",
   "metadata": {
    "id": "00ac1938",
    "outputId": "e7c2ac54-21e5-47cd-8bbb-b97787864e6e"
   },
   "outputs": [
    {
     "data": {
      "text/plain": [
       "'India Is My Country And All Indians Are My brothers and elder sisters'"
      ]
     },
     "execution_count": 163,
     "metadata": {},
     "output_type": "execute_result"
    }
   ],
   "source": [
    "str2.replace('sisters','elder sisters')    #replace(\"old\",\"new\",count=-1)"
   ]
  },
  {
   "cell_type": "code",
   "execution_count": 164,
   "id": "fbae8d91",
   "metadata": {},
   "outputs": [
    {
     "name": "stdout",
     "output_type": "stream",
     "text": [
      "2751075872880\n"
     ]
    }
   ],
   "source": [
    "s3=\"Saurav\"\n",
    "print(id(s3))"
   ]
  },
  {
   "cell_type": "code",
   "execution_count": 171,
   "id": "6efd01f7",
   "metadata": {},
   "outputs": [
    {
     "name": "stdout",
     "output_type": "stream",
     "text": [
      "2751055718832\n"
     ]
    }
   ],
   "source": [
    "s3 =\"100RABH\"\n",
    "print(id(s3))"
   ]
  },
  {
   "cell_type": "code",
   "execution_count": 172,
   "id": "af8cc02d",
   "metadata": {},
   "outputs": [
    {
     "data": {
      "text/plain": [
       "'SAURABH'"
      ]
     },
     "execution_count": 172,
     "metadata": {},
     "output_type": "execute_result"
    }
   ],
   "source": [
    "s3.replace(\"100\",\"SAU\")"
   ]
  },
  {
   "cell_type": "code",
   "execution_count": 173,
   "id": "5130cc99",
   "metadata": {},
   "outputs": [],
   "source": [
    "s3=s3.replace(\"100\",\"SAU\")"
   ]
  },
  {
   "cell_type": "code",
   "execution_count": 174,
   "id": "a432e5bb",
   "metadata": {},
   "outputs": [
    {
     "name": "stdout",
     "output_type": "stream",
     "text": [
      "2751075764848\n"
     ]
    }
   ],
   "source": [
    "print(id(s3))"
   ]
  },
  {
   "cell_type": "code",
   "execution_count": 175,
   "id": "7877fde8",
   "metadata": {},
   "outputs": [
    {
     "data": {
      "text/plain": [
       "'SAURABH'"
      ]
     },
     "execution_count": 175,
     "metadata": {},
     "output_type": "execute_result"
    }
   ],
   "source": [
    "s3"
   ]
  },
  {
   "cell_type": "code",
   "execution_count": 176,
   "id": "549f48d2",
   "metadata": {
    "id": "549f48d2",
    "outputId": "828f879a-6313-4e41-b8e9-117c3d857c7a"
   },
   "outputs": [
    {
     "data": {
      "text/plain": [
       "'India Is My Country And All Indians Are My brothers and sisters'"
      ]
     },
     "execution_count": 176,
     "metadata": {},
     "output_type": "execute_result"
    }
   ],
   "source": [
    "str2"
   ]
  },
  {
   "cell_type": "code",
   "execution_count": 177,
   "id": "dd940383",
   "metadata": {
    "id": "dd940383",
    "outputId": "94069ec6-1bca-4338-f638-d1e19f313a20"
   },
   "outputs": [
    {
     "data": {
      "text/plain": [
       "4"
      ]
     },
     "execution_count": 177,
     "metadata": {},
     "output_type": "execute_result"
    }
   ],
   "source": [
    "str2.find('a')"
   ]
  },
  {
   "cell_type": "code",
   "execution_count": 178,
   "id": "17df4b31",
   "metadata": {},
   "outputs": [
    {
     "data": {
      "text/plain": [
       "52"
      ]
     },
     "execution_count": 178,
     "metadata": {},
     "output_type": "execute_result"
    }
   ],
   "source": [
    "str2.rfind('a')"
   ]
  },
  {
   "cell_type": "code",
   "execution_count": 179,
   "id": "af9f3a97",
   "metadata": {},
   "outputs": [
    {
     "data": {
      "text/plain": [
       "'India Is My Country And All Indians Are My brothers and sisters'"
      ]
     },
     "execution_count": 179,
     "metadata": {},
     "output_type": "execute_result"
    }
   ],
   "source": [
    "str2"
   ]
  },
  {
   "cell_type": "code",
   "execution_count": 180,
   "id": "1ab2cadc",
   "metadata": {},
   "outputs": [],
   "source": [
    "strr=\"Shubham Patil\""
   ]
  },
  {
   "cell_type": "code",
   "execution_count": 181,
   "id": "37132104",
   "metadata": {},
   "outputs": [
    {
     "data": {
      "text/plain": [
       "13"
      ]
     },
     "execution_count": 181,
     "metadata": {},
     "output_type": "execute_result"
    }
   ],
   "source": [
    "len(strr)"
   ]
  },
  {
   "cell_type": "code",
   "execution_count": 186,
   "id": "624016e4",
   "metadata": {},
   "outputs": [
    {
     "data": {
      "text/plain": [
       "63"
      ]
     },
     "execution_count": 186,
     "metadata": {},
     "output_type": "execute_result"
    }
   ],
   "source": [
    "len(str2)"
   ]
  },
  {
   "cell_type": "code",
   "execution_count": 191,
   "id": "4f8f0719",
   "metadata": {},
   "outputs": [
    {
     "data": {
      "text/plain": [
       "'u'"
      ]
     },
     "execution_count": 191,
     "metadata": {},
     "output_type": "execute_result"
    }
   ],
   "source": [
    "str2[14]"
   ]
  },
  {
   "cell_type": "code",
   "execution_count": 189,
   "id": "2c88167d",
   "metadata": {},
   "outputs": [
    {
     "data": {
      "text/plain": [
       "11"
      ]
     },
     "execution_count": 189,
     "metadata": {},
     "output_type": "execute_result"
    }
   ],
   "source": [
    "strr.rfind(\"i\")"
   ]
  },
  {
   "cell_type": "code",
   "execution_count": 188,
   "id": "72a18fef",
   "metadata": {
    "id": "72a18fef",
    "outputId": "0ee3ff0b-b62d-40cf-861f-b21d4b967a3d"
   },
   "outputs": [
    {
     "data": {
      "text/plain": [
       "52"
      ]
     },
     "execution_count": 188,
     "metadata": {},
     "output_type": "execute_result"
    }
   ],
   "source": [
    "str2.rfind('a')"
   ]
  },
  {
   "cell_type": "code",
   "execution_count": null,
   "id": "74136fe6",
   "metadata": {},
   "outputs": [],
   "source": []
  },
  {
   "cell_type": "code",
   "execution_count": null,
   "id": "d01a63ae",
   "metadata": {},
   "outputs": [],
   "source": []
  },
  {
   "cell_type": "code",
   "execution_count": null,
   "id": "72644a41",
   "metadata": {},
   "outputs": [],
   "source": []
  },
  {
   "cell_type": "code",
   "execution_count": null,
   "id": "a6a77d81",
   "metadata": {},
   "outputs": [],
   "source": []
  },
  {
   "cell_type": "code",
   "execution_count": null,
   "id": "e7e68015",
   "metadata": {},
   "outputs": [],
   "source": []
  },
  {
   "cell_type": "markdown",
   "id": "3a3ebc0e",
   "metadata": {},
   "source": [
    "# string split method"
   ]
  },
  {
   "cell_type": "code",
   "execution_count": 192,
   "id": "18ff1ed8",
   "metadata": {
    "id": "18ff1ed8",
    "outputId": "a437e188-ce51-42c4-f6a4-5b6e9fc7ef62"
   },
   "outputs": [],
   "source": [
    "date=\"04/12/2023\"   # split output always on list"
   ]
  },
  {
   "cell_type": "code",
   "execution_count": 195,
   "id": "1ca8d604",
   "metadata": {},
   "outputs": [],
   "source": [
    "d1=date.split(\"/\")"
   ]
  },
  {
   "cell_type": "code",
   "execution_count": 196,
   "id": "7f8e2394",
   "metadata": {},
   "outputs": [
    {
     "data": {
      "text/plain": [
       "['04', '12', '2023']"
      ]
     },
     "execution_count": 196,
     "metadata": {},
     "output_type": "execute_result"
    }
   ],
   "source": [
    "d1"
   ]
  },
  {
   "cell_type": "code",
   "execution_count": 197,
   "id": "bbbb8707",
   "metadata": {},
   "outputs": [
    {
     "data": {
      "text/plain": [
       "list"
      ]
     },
     "execution_count": 197,
     "metadata": {},
     "output_type": "execute_result"
    }
   ],
   "source": [
    "type(d1)"
   ]
  },
  {
   "cell_type": "code",
   "execution_count": 198,
   "id": "7558636b",
   "metadata": {},
   "outputs": [
    {
     "data": {
      "text/plain": [
       "['04', '12', '2023']"
      ]
     },
     "execution_count": 198,
     "metadata": {},
     "output_type": "execute_result"
    }
   ],
   "source": [
    "d1"
   ]
  },
  {
   "cell_type": "code",
   "execution_count": 199,
   "id": "b60bea7c",
   "metadata": {},
   "outputs": [
    {
     "data": {
      "text/plain": [
       "'04'"
      ]
     },
     "execution_count": 199,
     "metadata": {},
     "output_type": "execute_result"
    }
   ],
   "source": [
    "d1[0]"
   ]
  },
  {
   "cell_type": "code",
   "execution_count": 200,
   "id": "0648e175",
   "metadata": {},
   "outputs": [
    {
     "data": {
      "text/plain": [
       "'12'"
      ]
     },
     "execution_count": 200,
     "metadata": {},
     "output_type": "execute_result"
    }
   ],
   "source": [
    "d1[1]"
   ]
  },
  {
   "cell_type": "code",
   "execution_count": 201,
   "id": "ab7272bd",
   "metadata": {},
   "outputs": [
    {
     "data": {
      "text/plain": [
       "'2023'"
      ]
     },
     "execution_count": 201,
     "metadata": {},
     "output_type": "execute_result"
    }
   ],
   "source": [
    "d1[2]"
   ]
  },
  {
   "cell_type": "code",
   "execution_count": 202,
   "id": "ca3e72ca",
   "metadata": {
    "id": "ca3e72ca",
    "outputId": "59083e20-388c-4ea4-cef3-1aded5450e11"
   },
   "outputs": [
    {
     "data": {
      "text/plain": [
       "['04', '12', '2023']"
      ]
     },
     "execution_count": 202,
     "metadata": {},
     "output_type": "execute_result"
    }
   ],
   "source": [
    "A = date.split('/')\n",
    "A"
   ]
  },
  {
   "cell_type": "code",
   "execution_count": 203,
   "id": "e63ccfaf",
   "metadata": {
    "id": "e63ccfaf"
   },
   "outputs": [],
   "source": [
    "day = A[0]\n",
    "month = A[1]\n",
    "year = A[2]"
   ]
  },
  {
   "cell_type": "code",
   "execution_count": 204,
   "id": "5a5619de",
   "metadata": {
    "id": "5a5619de",
    "outputId": "03a503d8-f147-4472-8744-68b103185e80"
   },
   "outputs": [
    {
     "name": "stdout",
     "output_type": "stream",
     "text": [
      "04 12 2023\n"
     ]
    }
   ],
   "source": [
    "print(day, month,year)"
   ]
  },
  {
   "cell_type": "code",
   "execution_count": 205,
   "id": "590ae569",
   "metadata": {
    "id": "23d79f1a",
    "outputId": "9d04ae20-be17-46ca-9d5f-adbb085f9ab4"
   },
   "outputs": [],
   "source": [
    "full_name = 'Fusion Software  Solutions Pune Maharashtra    India'"
   ]
  },
  {
   "cell_type": "code",
   "execution_count": 207,
   "id": "12b0a6fe",
   "metadata": {},
   "outputs": [
    {
     "data": {
      "text/plain": [
       "['Fusion', 'Software', 'Solutions', 'Pune', 'Maharashtra', 'India']"
      ]
     },
     "execution_count": 207,
     "metadata": {},
     "output_type": "execute_result"
    }
   ],
   "source": [
    "full_name.split()"
   ]
  },
  {
   "cell_type": "code",
   "execution_count": 269,
   "id": "4922f21d",
   "metadata": {},
   "outputs": [],
   "source": [
    "full_name = 'Fusion  Software  Solutions Pune Maharashtra India'"
   ]
  },
  {
   "cell_type": "code",
   "execution_count": 270,
   "id": "678ef773",
   "metadata": {},
   "outputs": [
    {
     "data": {
      "text/plain": [
       "['Fusion', 'Software', 'Solutions', 'Pune', 'Maharashtra', 'India']"
      ]
     },
     "execution_count": 270,
     "metadata": {},
     "output_type": "execute_result"
    }
   ],
   "source": [
    "full_name.split()"
   ]
  },
  {
   "cell_type": "code",
   "execution_count": 271,
   "id": "3aa7c055",
   "metadata": {},
   "outputs": [
    {
     "data": {
      "text/plain": [
       "['Fusion', 'Software', 'Solutions Pune Maharashtra India']"
      ]
     },
     "execution_count": 271,
     "metadata": {},
     "output_type": "execute_result"
    }
   ],
   "source": [
    "full_name.split(\"  \")     "
   ]
  },
  {
   "cell_type": "code",
   "execution_count": 215,
   "id": "f5a4dee3",
   "metadata": {
    "id": "b29428d8"
   },
   "outputs": [],
   "source": [
    "email1 = 'amey@google.com'"
   ]
  },
  {
   "cell_type": "code",
   "execution_count": 216,
   "id": "cfa0b1f1",
   "metadata": {},
   "outputs": [
    {
     "data": {
      "text/plain": [
       "['google', 'com']"
      ]
     },
     "execution_count": 216,
     "metadata": {},
     "output_type": "execute_result"
    }
   ],
   "source": [
    "email1.split(\"@\")[1].split(\".\")"
   ]
  },
  {
   "cell_type": "code",
   "execution_count": 217,
   "id": "0fcc5246",
   "metadata": {},
   "outputs": [
    {
     "data": {
      "text/plain": [
       "['amey', 'google.com']"
      ]
     },
     "execution_count": 217,
     "metadata": {},
     "output_type": "execute_result"
    }
   ],
   "source": [
    "e1=email1.split(\"@\")\n",
    "e1"
   ]
  },
  {
   "cell_type": "code",
   "execution_count": 243,
   "id": "3f010413",
   "metadata": {},
   "outputs": [],
   "source": [
    "email2 = \"priyanka@gmail.com\""
   ]
  },
  {
   "cell_type": "code",
   "execution_count": 244,
   "id": "09f557b4",
   "metadata": {},
   "outputs": [
    {
     "data": {
      "text/plain": [
       "['priyanka', 'gmail.com']"
      ]
     },
     "execution_count": 244,
     "metadata": {},
     "output_type": "execute_result"
    }
   ],
   "source": [
    "email2.split(\"@\")"
   ]
  },
  {
   "cell_type": "code",
   "execution_count": 245,
   "id": "9b57885e",
   "metadata": {},
   "outputs": [
    {
     "data": {
      "text/plain": [
       "'priyanka'"
      ]
     },
     "execution_count": 245,
     "metadata": {},
     "output_type": "execute_result"
    }
   ],
   "source": [
    "email2.split(\"@\")[0]"
   ]
  },
  {
   "cell_type": "code",
   "execution_count": 246,
   "id": "532d4fff",
   "metadata": {},
   "outputs": [
    {
     "data": {
      "text/plain": [
       "'gmail.com'"
      ]
     },
     "execution_count": 246,
     "metadata": {},
     "output_type": "execute_result"
    }
   ],
   "source": [
    "email2.split(\"@\")[1]"
   ]
  },
  {
   "cell_type": "code",
   "execution_count": 274,
   "id": "3b40a6ce",
   "metadata": {},
   "outputs": [
    {
     "data": {
      "text/plain": [
       "['gmail', 'com']"
      ]
     },
     "execution_count": 274,
     "metadata": {},
     "output_type": "execute_result"
    }
   ],
   "source": [
    "email2.split(\"@\")[1].split(\".\") #gamil.com"
   ]
  },
  {
   "cell_type": "code",
   "execution_count": 275,
   "id": "ca4d135c",
   "metadata": {},
   "outputs": [
    {
     "data": {
      "text/plain": [
       "'com'"
      ]
     },
     "execution_count": 275,
     "metadata": {},
     "output_type": "execute_result"
    }
   ],
   "source": [
    "email2.split(\"@\")[1].split(\".\")[1]"
   ]
  },
  {
   "cell_type": "code",
   "execution_count": null,
   "id": "ecc17b8c",
   "metadata": {},
   "outputs": [],
   "source": [
    "# user_name=e1[0]\n",
    "\n",
    "# domain_name=e1[1]\n",
    "\n",
    "# # print(user_name,domain_name)"
   ]
  },
  {
   "cell_type": "code",
   "execution_count": 276,
   "id": "dfaea94e",
   "metadata": {},
   "outputs": [
    {
     "name": "stdout",
     "output_type": "stream",
     "text": [
      "user name is amey domain name is google.com\n"
     ]
    }
   ],
   "source": [
    "user_name=e1[0]\n",
    "domain_name=e1[1]\n",
    "\n",
    "print(\"user name is \"+user_name,\"domain name is \"+domain_name)"
   ]
  },
  {
   "cell_type": "code",
   "execution_count": 277,
   "id": "91247066",
   "metadata": {
    "id": "b29428d8"
   },
   "outputs": [
    {
     "name": "stdout",
     "output_type": "stream",
     "text": [
      "user name is amreen domain name is infosys.in\n"
     ]
    }
   ],
   "source": [
    "email2 = 'amreen@infosys.in'\n",
    "e2=email2.split(\"@\")\n",
    "\n",
    "\n",
    "user_name=e2[0]\n",
    "domain_name=e2[1]\n",
    "\n",
    "print(\"user name is \"+user_name,\"domain name is \"+domain_name)"
   ]
  },
  {
   "cell_type": "code",
   "execution_count": 278,
   "id": "b29428d8",
   "metadata": {
    "id": "b29428d8"
   },
   "outputs": [],
   "source": [
    "email3 = 'nilesh@tcs.com'"
   ]
  },
  {
   "cell_type": "code",
   "execution_count": 279,
   "id": "daadf0c2",
   "metadata": {},
   "outputs": [
    {
     "name": "stdout",
     "output_type": "stream",
     "text": [
      "user name is nilesh domain name istcs.com\n"
     ]
    }
   ],
   "source": [
    "e3=email3.split(\"@\")\n",
    "\n",
    "user_name=e3[0]\n",
    "domain_name=e3[1]\n",
    "\n",
    "print(\"user name is \"+user_name,\"domain name is\"+domain_name)"
   ]
  },
  {
   "cell_type": "raw",
   "id": "c31b3c0e",
   "metadata": {},
   "source": [
    "1.upper()\n",
    "2.lower()\n",
    "3.title()\n",
    "4.capitalize()\n",
    "5.count()\n",
    "6.startswith()\n",
    "7.endswith()\n",
    "\n",
    "8.find()\n",
    "9.index()\n",
    "\n",
    "10.isalpha()\n",
    "11.isalnum()\n",
    "12.isdigit()\n",
    "13.isupper()\n",
    "14.islower()\n",
    "15.lstrip()\n",
    "16.rstrip()\n",
    "17.strip()\n",
    "18.replace()\n",
    "19.rfind()\n",
    "20.split()"
   ]
  },
  {
   "cell_type": "code",
   "execution_count": 2,
   "id": "0ddc641e",
   "metadata": {
    "id": "e8ecff2f",
    "outputId": "730d279a-55a4-4045-d0b4-f37e5c24e1d4"
   },
   "outputs": [
    {
     "name": "stdout",
     "output_type": "stream",
     "text": [
      "Enter your Email ID:priyanka@gmail.com\n"
     ]
    },
    {
     "data": {
      "text/plain": [
       "['priyanka', 'gmail.com']"
      ]
     },
     "execution_count": 2,
     "metadata": {},
     "output_type": "execute_result"
    }
   ],
   "source": [
    "email = input('Enter your Email ID:')\n",
    "A = email.split('@')\n",
    "A"
   ]
  },
  {
   "cell_type": "code",
   "execution_count": 3,
   "id": "3c7a1338",
   "metadata": {
    "id": "e8ecff2f",
    "outputId": "730d279a-55a4-4045-d0b4-f37e5c24e1d4"
   },
   "outputs": [
    {
     "data": {
      "text/plain": [
       "'gmail.com'"
      ]
     },
     "execution_count": 3,
     "metadata": {},
     "output_type": "execute_result"
    }
   ],
   "source": [
    "domain = A[1]\n",
    "domain"
   ]
  },
  {
   "cell_type": "code",
   "execution_count": 4,
   "id": "95cc5739",
   "metadata": {
    "id": "e8ecff2f",
    "outputId": "730d279a-55a4-4045-d0b4-f37e5c24e1d4"
   },
   "outputs": [
    {
     "data": {
      "text/plain": [
       "['gmail', 'com']"
      ]
     },
     "execution_count": 4,
     "metadata": {},
     "output_type": "execute_result"
    }
   ],
   "source": [
    "B = domain.split('.')\n",
    "B"
   ]
  },
  {
   "cell_type": "code",
   "execution_count": 5,
   "id": "e8ecff2f",
   "metadata": {
    "id": "e8ecff2f",
    "outputId": "730d279a-55a4-4045-d0b4-f37e5c24e1d4"
   },
   "outputs": [
    {
     "name": "stdout",
     "output_type": "stream",
     "text": [
      "gmail\n"
     ]
    }
   ],
   "source": [
    "print(B[0])"
   ]
  },
  {
   "cell_type": "code",
   "execution_count": 6,
   "id": "43a5da76",
   "metadata": {
    "id": "43a5da76",
    "outputId": "60d08b1c-9b7c-461f-cc97-cdc1d4e4238f"
   },
   "outputs": [
    {
     "data": {
      "text/plain": [
       "str"
      ]
     },
     "execution_count": 6,
     "metadata": {},
     "output_type": "execute_result"
    }
   ],
   "source": [
    "str1 = '123'\n",
    "type(str1)"
   ]
  },
  {
   "cell_type": "code",
   "execution_count": 7,
   "id": "ea7cc5da",
   "metadata": {
    "id": "ea7cc5da",
    "outputId": "f6639f56-b146-47c7-d26c-6fa27e7574aa"
   },
   "outputs": [
    {
     "data": {
      "text/plain": [
       "int"
      ]
     },
     "execution_count": 7,
     "metadata": {},
     "output_type": "execute_result"
    }
   ],
   "source": [
    "type(int(str1))"
   ]
  },
  {
   "cell_type": "code",
   "execution_count": null,
   "id": "86a57ae7",
   "metadata": {
    "id": "86a57ae7",
    "outputId": "84702917-dd60-4ae8-b6c3-2e7c4ce0c4b4"
   },
   "outputs": [],
   "source": [
    "name = input('Enter Name with title:')\n",
    "name = name.upper()\n",
    "title = name.split('.')[0]\n",
    "if title == 'MR':\n",
    "    print('Male')\n",
    "elif title=='MISS' or title=='MRS':\n",
    "    print('Female')\n",
    "else:\n",
    "    print('Unknown Title')"
   ]
  },
  {
   "cell_type": "code",
   "execution_count": null,
   "id": "41ae3bc1",
   "metadata": {
    "id": "41ae3bc1",
    "outputId": "8119596e-11e3-4811-d220-0b5fed850d1f"
   },
   "outputs": [],
   "source": [
    "'.' in name # membership"
   ]
  },
  {
   "cell_type": "code",
   "execution_count": null,
   "id": "904f0622",
   "metadata": {
    "id": "904f0622",
    "outputId": "3fe4664b-22e5-42fb-e4b3-8d8ca470734b"
   },
   "outputs": [],
   "source": [
    "name.find('.')"
   ]
  },
  {
   "cell_type": "code",
   "execution_count": 1,
   "id": "c2f2bb0d",
   "metadata": {
    "id": "c2f2bb0d"
   },
   "outputs": [
    {
     "data": {
      "text/plain": [
       "2426004346416"
      ]
     },
     "execution_count": 1,
     "metadata": {},
     "output_type": "execute_result"
    }
   ],
   "source": [
    "s1=\"priyanka\"\n",
    "id(s1)"
   ]
  },
  {
   "cell_type": "code",
   "execution_count": 4,
   "id": "26121d35",
   "metadata": {},
   "outputs": [],
   "source": [
    "s2=s1.upper()"
   ]
  },
  {
   "cell_type": "code",
   "execution_count": 6,
   "id": "37396314",
   "metadata": {},
   "outputs": [
    {
     "data": {
      "text/plain": [
       "(2426004702576, 2426004346416)"
      ]
     },
     "execution_count": 6,
     "metadata": {},
     "output_type": "execute_result"
    }
   ],
   "source": [
    "id(s2),id(s1)"
   ]
  },
  {
   "cell_type": "code",
   "execution_count": 3,
   "id": "21d6cf8c",
   "metadata": {},
   "outputs": [
    {
     "name": "stdout",
     "output_type": "stream",
     "text": [
      "value of priyanka priyanka value of b 20\n"
     ]
    }
   ],
   "source": [
    "#comma(,)\n",
    "\n",
    "a=\"priyanka\"\n",
    "b=20\n",
    "print(\"value of priyanka\",a,\"value of b\",b)"
   ]
  },
  {
   "cell_type": "code",
   "execution_count": null,
   "id": "49ba57b8",
   "metadata": {},
   "outputs": [],
   "source": []
  }
 ],
 "metadata": {
  "colab": {
   "provenance": []
  },
  "kernelspec": {
   "display_name": "Python 3 (ipykernel)",
   "language": "python",
   "name": "python3"
  },
  "language_info": {
   "codemirror_mode": {
    "name": "ipython",
    "version": 3
   },
   "file_extension": ".py",
   "mimetype": "text/x-python",
   "name": "python",
   "nbconvert_exporter": "python",
   "pygments_lexer": "ipython3",
   "version": "3.11.5"
  }
 },
 "nbformat": 4,
 "nbformat_minor": 5
}
