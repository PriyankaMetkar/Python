{
 "cells": [
  {
   "cell_type": "raw",
   "metadata": {
    "id": "C3XMWWMHjrfW"
   },
   "source": [
    "()---parenthesis\n",
    "[]---brackets\n",
    "{}---braces"
   ]
  },
  {
   "cell_type": "code",
   "execution_count": 1,
   "metadata": {
    "id": "SISBfTUjjrfY"
   },
   "outputs": [],
   "source": [
    "# data={key:value}\n",
    "klr={\"name\":\"KL Rahul\",\n",
    "    \"age\":32,\n",
    "    \"Runs\":4000,\n",
    "    \"new_Address\":\"Bnglr\",\n",
    "   \"IPL Team\":\"LSG\",\n",
    "   \"No_of_cetnturies\":8,\n",
    "     \"old_Address\":\"Bnglr\"\n",
    "  }\n"
   ]
  },
  {
   "cell_type": "code",
   "execution_count": 2,
   "metadata": {
    "id": "hC83xbtojrfn"
   },
   "outputs": [
    {
     "data": {
      "text/plain": [
       "{'name': 'KL Rahul',\n",
       " 'age': 32,\n",
       " 'Runs': 4000,\n",
       " 'new_Address': 'Bnglr',\n",
       " 'IPL Team': 'LSG',\n",
       " 'No_of_cetnturies': 8,\n",
       " 'old_Address': 'Bnglr'}"
      ]
     },
     "execution_count": 2,
     "metadata": {},
     "output_type": "execute_result"
    }
   ],
   "source": [
    "klr"
   ]
  },
  {
   "cell_type": "code",
   "execution_count": 3,
   "metadata": {
    "id": "kQry74wZjrfo"
   },
   "outputs": [],
   "source": [
    "# data={key:value}\n",
    "batsmen={\"name\":\"Virat Kohli\",\n",
    "        \"name\":\"MS Dhoni\",\n",
    "        \"name\":\"Sachin\",\n",
    "        \"age\":32,\n",
    "        \"Runs\":4000,\n",
    "        \"new_Address\":\"Bnglr\",\n",
    "        \"IPL Team\":\"LSG\",\n",
    "        \"No_of_cetnturies\":8,\n",
    "        \"old_Address\":\"Bnglr\"\n",
    "  }\n"
   ]
  },
  {
   "cell_type": "code",
   "execution_count": 4,
   "metadata": {
    "id": "bdtP6vgqjrfo"
   },
   "outputs": [
    {
     "data": {
      "text/plain": [
       "{'name': 'Sachin',\n",
       " 'age': 32,\n",
       " 'Runs': 4000,\n",
       " 'new_Address': 'Bnglr',\n",
       " 'IPL Team': 'LSG',\n",
       " 'No_of_cetnturies': 8,\n",
       " 'old_Address': 'Bnglr'}"
      ]
     },
     "execution_count": 4,
     "metadata": {},
     "output_type": "execute_result"
    }
   ],
   "source": [
    "batsmen"
   ]
  },
  {
   "cell_type": "code",
   "execution_count": 5,
   "metadata": {
    "id": "ZM9EYy4Kjrfo"
   },
   "outputs": [
    {
     "data": {
      "text/plain": [
       "dict_keys(['name', 'age', 'Runs', 'new_Address', 'IPL Team', 'No_of_cetnturies', 'old_Address'])"
      ]
     },
     "execution_count": 5,
     "metadata": {},
     "output_type": "execute_result"
    }
   ],
   "source": [
    "batsmen.keys()"
   ]
  },
  {
   "cell_type": "code",
   "execution_count": 6,
   "metadata": {
    "id": "owGk3S0ejrfo"
   },
   "outputs": [
    {
     "data": {
      "text/plain": [
       "{'name': 'Sachin',\n",
       " 'age': 32,\n",
       " 'Runs': 4000,\n",
       " 'new_Address': 'Bnglr',\n",
       " 'IPL Team': 'LSG',\n",
       " 'No_of_cetnturies': 8,\n",
       " 'old_Address': 'Bnglr'}"
      ]
     },
     "execution_count": 6,
     "metadata": {},
     "output_type": "execute_result"
    }
   ],
   "source": [
    "batsmen"
   ]
  },
  {
   "cell_type": "code",
   "execution_count": 7,
   "metadata": {
    "id": "CjFXFPnyjrfo"
   },
   "outputs": [
    {
     "data": {
      "text/plain": [
       "dict_values(['Sachin', 32, 4000, 'Bnglr', 'LSG', 8, 'Bnglr'])"
      ]
     },
     "execution_count": 7,
     "metadata": {},
     "output_type": "execute_result"
    }
   ],
   "source": [
    "batsmen.values()"
   ]
  },
  {
   "cell_type": "code",
   "execution_count": 8,
   "metadata": {
    "id": "2jPTR796jrfo"
   },
   "outputs": [],
   "source": [
    "a=10\n",
    "b=10\n",
    "c=10"
   ]
  },
  {
   "cell_type": "code",
   "execution_count": 9,
   "metadata": {
    "id": "zZquNg47jrfp"
   },
   "outputs": [],
   "source": [
    "x=10\n",
    "x=20\n",
    "x=-99"
   ]
  },
  {
   "cell_type": "code",
   "execution_count": 10,
   "metadata": {
    "id": "Muk-A_hajrfp"
   },
   "outputs": [
    {
     "name": "stdout",
     "output_type": "stream",
     "text": [
      "-99\n"
     ]
    }
   ],
   "source": [
    "print(x)"
   ]
  },
  {
   "cell_type": "code",
   "execution_count": 11,
   "metadata": {
    "id": "TC6avouXjrfp"
   },
   "outputs": [
    {
     "name": "stdout",
     "output_type": "stream",
     "text": [
      "10 140703752098888\n",
      "20 140703752099208\n",
      "30 140703752099528\n"
     ]
    }
   ],
   "source": [
    "x=10\n",
    "print(x,id(x))\n",
    "x=20\n",
    "print(x,id(x))\n",
    "x=30\n",
    "print(x,id(x))"
   ]
  },
  {
   "cell_type": "code",
   "execution_count": 12,
   "metadata": {
    "id": "TDNnULUhjrfp"
   },
   "outputs": [
    {
     "data": {
      "text/plain": [
       "30"
      ]
     },
     "execution_count": 12,
     "metadata": {},
     "output_type": "execute_result"
    }
   ],
   "source": [
    "x"
   ]
  },
  {
   "cell_type": "markdown",
   "metadata": {
    "id": "Vxlutzb8jrfq"
   },
   "source": [
    "# Operators in Python\n"
   ]
  },
  {
   "cell_type": "code",
   "execution_count": 13,
   "metadata": {
    "id": "wNCXDmzljrfr"
   },
   "outputs": [],
   "source": [
    "# 1. Arithmetic Operators\n",
    "\n",
    "# 2. Relational Operators or Comparison Operators\n",
    "\n",
    "# 3. Logical operators\n",
    "\n",
    "# 4. Bitwise oeprators\n",
    "\n",
    "# 5. Assignment operators\n",
    "\n",
    "# 6. Special operators"
   ]
  },
  {
   "cell_type": "markdown",
   "metadata": {
    "id": "3bNmEKlqjrfr"
   },
   "source": [
    "# 1. Arithmetic Operators:"
   ]
  },
  {
   "cell_type": "code",
   "execution_count": 14,
   "metadata": {
    "id": "lAt8Cazrjrfr"
   },
   "outputs": [],
   "source": [
    "# + ==>Addition\n",
    "\n",
    "# - ==>Subtraction\n",
    "\n",
    "# * ==>Multiplication\n",
    "\n",
    "# / ==>Division operator\n",
    "\n",
    "# % ===>Modulo operator\n",
    "\n",
    "# // ==>Floor Division operator\n",
    "\n",
    "# ** ==>Exponent operator or power operator"
   ]
  },
  {
   "cell_type": "code",
   "execution_count": 15,
   "metadata": {
    "id": "Vr92humGjrfs"
   },
   "outputs": [],
   "source": [
    "a=10"
   ]
  },
  {
   "cell_type": "code",
   "execution_count": 16,
   "metadata": {
    "id": "SSE7N4OqlOSx"
   },
   "outputs": [],
   "source": [
    "b=3"
   ]
  },
  {
   "cell_type": "code",
   "execution_count": 17,
   "metadata": {
    "id": "lDX7P41wjrfs"
   },
   "outputs": [
    {
     "name": "stdout",
     "output_type": "stream",
     "text": [
      "13\n"
     ]
    }
   ],
   "source": [
    "print(a+b)# + ==>Addition"
   ]
  },
  {
   "cell_type": "code",
   "execution_count": 18,
   "metadata": {
    "id": "RtcX4FJajrfu"
   },
   "outputs": [
    {
     "name": "stdout",
     "output_type": "stream",
     "text": [
      "7\n"
     ]
    }
   ],
   "source": [
    "print(a-b)# - ==>Subtraction"
   ]
  },
  {
   "cell_type": "code",
   "execution_count": 19,
   "metadata": {
    "id": "wzznP8CLjrfu"
   },
   "outputs": [
    {
     "name": "stdout",
     "output_type": "stream",
     "text": [
      "30\n"
     ]
    }
   ],
   "source": [
    "print(a*b)# * ==>Multiplication"
   ]
  },
  {
   "cell_type": "code",
   "execution_count": 20,
   "metadata": {
    "id": "oUYWLljHjrfu"
   },
   "outputs": [
    {
     "data": {
      "text/plain": [
       "3.3333333333333335"
      ]
     },
     "execution_count": 20,
     "metadata": {},
     "output_type": "execute_result"
    }
   ],
   "source": [
    "10/3"
   ]
  },
  {
   "cell_type": "code",
   "execution_count": 21,
   "metadata": {
    "id": "YcU0lSdHjrfu"
   },
   "outputs": [
    {
     "name": "stdout",
     "output_type": "stream",
     "text": [
      "3.3333333333333335\n"
     ]
    }
   ],
   "source": [
    "print(a/b)# / ==>Division operator"
   ]
  },
  {
   "cell_type": "code",
   "execution_count": 22,
   "metadata": {
    "id": "7W68fp8Jjrfv"
   },
   "outputs": [
    {
     "data": {
      "text/plain": [
       "1"
      ]
     },
     "execution_count": 22,
     "metadata": {},
     "output_type": "execute_result"
    }
   ],
   "source": [
    "10%3"
   ]
  },
  {
   "cell_type": "code",
   "execution_count": 23,
   "metadata": {
    "id": "zigzKplHjrfv"
   },
   "outputs": [
    {
     "data": {
      "text/plain": [
       "3"
      ]
     },
     "execution_count": 23,
     "metadata": {},
     "output_type": "execute_result"
    }
   ],
   "source": [
    "45%7"
   ]
  },
  {
   "cell_type": "code",
   "execution_count": 24,
   "metadata": {
    "id": "71Yt5d-djrfv"
   },
   "outputs": [
    {
     "name": "stdout",
     "output_type": "stream",
     "text": [
      "1\n"
     ]
    }
   ],
   "source": [
    "print(a%b)# % ===>Modulo operator"
   ]
  },
  {
   "cell_type": "code",
   "execution_count": 25,
   "metadata": {
    "id": "z2qUusAWjrfv"
   },
   "outputs": [
    {
     "data": {
      "text/plain": [
       "3.3333333333333335"
      ]
     },
     "execution_count": 25,
     "metadata": {},
     "output_type": "execute_result"
    }
   ],
   "source": [
    "10/3"
   ]
  },
  {
   "cell_type": "code",
   "execution_count": 26,
   "metadata": {
    "id": "U2TASh36jrfv"
   },
   "outputs": [
    {
     "data": {
      "text/plain": [
       "3"
      ]
     },
     "execution_count": 26,
     "metadata": {},
     "output_type": "execute_result"
    }
   ],
   "source": [
    "10//3"
   ]
  },
  {
   "cell_type": "code",
   "execution_count": 27,
   "metadata": {
    "id": "KBACw5U-jrfw"
   },
   "outputs": [
    {
     "data": {
      "text/plain": [
       "6.428571428571429"
      ]
     },
     "execution_count": 27,
     "metadata": {},
     "output_type": "execute_result"
    }
   ],
   "source": [
    "45/7"
   ]
  },
  {
   "cell_type": "code",
   "execution_count": 28,
   "metadata": {
    "id": "5sPEloWWjrfw"
   },
   "outputs": [
    {
     "data": {
      "text/plain": [
       "6"
      ]
     },
     "execution_count": 28,
     "metadata": {},
     "output_type": "execute_result"
    }
   ],
   "source": [
    "45//7"
   ]
  },
  {
   "cell_type": "code",
   "execution_count": 29,
   "metadata": {
    "id": "TggDdQqajrfw"
   },
   "outputs": [
    {
     "data": {
      "text/plain": [
       "3.3333333333333335"
      ]
     },
     "execution_count": 29,
     "metadata": {},
     "output_type": "execute_result"
    }
   ],
   "source": [
    "a/b"
   ]
  },
  {
   "cell_type": "code",
   "execution_count": 30,
   "metadata": {
    "id": "xs-mqzKMjrfw"
   },
   "outputs": [
    {
     "name": "stdout",
     "output_type": "stream",
     "text": [
      "3\n"
     ]
    }
   ],
   "source": [
    "print(a//b)# // ==>Floor Division operator"
   ]
  },
  {
   "cell_type": "code",
   "execution_count": 31,
   "metadata": {
    "id": "G6jY2IV0jrfw"
   },
   "outputs": [
    {
     "data": {
      "text/plain": [
       "1000"
      ]
     },
     "execution_count": 31,
     "metadata": {},
     "output_type": "execute_result"
    }
   ],
   "source": [
    "10**3"
   ]
  },
  {
   "cell_type": "code",
   "execution_count": 32,
   "metadata": {
    "id": "BA0xpT15jrfx"
   },
   "outputs": [
    {
     "name": "stdout",
     "output_type": "stream",
     "text": [
      "1000\n"
     ]
    }
   ],
   "source": [
    "print(a**b)# ** ==>Exponent operator or power operator"
   ]
  },
  {
   "cell_type": "code",
   "execution_count": 33,
   "metadata": {
    "id": "0tEulsJtjrfx"
   },
   "outputs": [
    {
     "ename": "ZeroDivisionError",
     "evalue": "division by zero",
     "output_type": "error",
     "traceback": [
      "\u001b[1;31m---------------------------------------------------------------------------\u001b[0m",
      "\u001b[1;31mZeroDivisionError\u001b[0m                         Traceback (most recent call last)",
      "Cell \u001b[1;32mIn[33], line 1\u001b[0m\n\u001b[1;32m----> 1\u001b[0m \u001b[38;5;241m100\u001b[39m\u001b[38;5;241m/\u001b[39m\u001b[38;5;241m0\u001b[39m\n",
      "\u001b[1;31mZeroDivisionError\u001b[0m: division by zero"
     ]
    }
   ],
   "source": [
    "100/0"
   ]
  },
  {
   "cell_type": "code",
   "execution_count": 35,
   "metadata": {
    "id": "2lFaR3W2jrfx"
   },
   "outputs": [
    {
     "ename": "ZeroDivisionError",
     "evalue": "float division by zero",
     "output_type": "error",
     "traceback": [
      "\u001b[1;31m---------------------------------------------------------------------------\u001b[0m",
      "\u001b[1;31mZeroDivisionError\u001b[0m                         Traceback (most recent call last)",
      "Cell \u001b[1;32mIn[35], line 1\u001b[0m\n\u001b[1;32m----> 1\u001b[0m \u001b[38;5;241m3.142\u001b[39m\u001b[38;5;241m/\u001b[39m\u001b[38;5;241m0\u001b[39m\n",
      "\u001b[1;31mZeroDivisionError\u001b[0m: float division by zero"
     ]
    }
   ],
   "source": [
    "3.142/0"
   ]
  },
  {
   "cell_type": "code",
   "execution_count": 36,
   "metadata": {
    "id": "nR34YX0ijrfx"
   },
   "outputs": [],
   "source": [
    "# Note: / operator always performs floating point arithmetic. Hence it will always returns\n",
    "# float value.\n",
    "# But Floor division (//) can perform both floating point and integral arithmetic. If\n",
    "# arguments are int type then result is int type. If atleast one argument is float type then\n",
    "# result is float type."
   ]
  },
  {
   "cell_type": "code",
   "execution_count": 37,
   "metadata": {
    "id": "1viuYLGVjrfx"
   },
   "outputs": [
    {
     "data": {
      "text/plain": [
       "22.0"
      ]
     },
     "execution_count": 37,
     "metadata": {},
     "output_type": "execute_result"
    }
   ],
   "source": [
    "45.3//2"
   ]
  },
  {
   "cell_type": "markdown",
   "metadata": {
    "id": "F3ATXyTpjrfy"
   },
   "source": [
    "# We can use  +, *  operators for str type"
   ]
  },
  {
   "cell_type": "code",
   "execution_count": null,
   "metadata": {
    "id": "run4QjMKjrfy"
   },
   "outputs": [],
   "source": [
    "# Note:\n",
    "# We can use +,* operators for str type also.\n",
    "# If we want to use + operator for str type then compulsory both arguments should be str\n",
    "# type only otherwise we will get error."
   ]
  },
  {
   "cell_type": "markdown",
   "metadata": {
    "id": "k-mXvotzjrfy"
   },
   "source": [
    "# Concatenation"
   ]
  },
  {
   "cell_type": "code",
   "execution_count": 38,
   "metadata": {
    "colab": {
     "base_uri": "https://localhost:8080/",
     "height": 35
    },
    "id": "eXuxAms2jrfz",
    "outputId": "848cbee2-cd6c-48ca-d329-bd4a1ef92db4"
   },
   "outputs": [
    {
     "data": {
      "text/plain": [
       "'pythonis easy'"
      ]
     },
     "execution_count": 38,
     "metadata": {},
     "output_type": "execute_result"
    }
   ],
   "source": [
    "\"python\" + \"is easy\"  # Concatenation"
   ]
  },
  {
   "cell_type": "code",
   "execution_count": 39,
   "metadata": {
    "colab": {
     "base_uri": "https://localhost:8080/",
     "height": 35
    },
    "id": "bHKhM3kKjrfz",
    "outputId": "f07c18a0-fbba-4c9b-dde8-818516f8c586"
   },
   "outputs": [
    {
     "data": {
      "text/plain": [
       "'fusionsoftware'"
      ]
     },
     "execution_count": 39,
     "metadata": {},
     "output_type": "execute_result"
    }
   ],
   "source": [
    "'fusion'+'software'"
   ]
  },
  {
   "cell_type": "code",
   "execution_count": 40,
   "metadata": {
    "colab": {
     "base_uri": "https://localhost:8080/",
     "height": 35
    },
    "id": "Q_2FhWrjjrfz",
    "outputId": "6148c501-ad5b-4300-be00-fb61602dbf8a"
   },
   "outputs": [
    {
     "data": {
      "text/plain": [
       "'fusionfusionfusionfusionfusionfusionfusionfusionfusionfusionfusion'"
      ]
     },
     "execution_count": 40,
     "metadata": {},
     "output_type": "execute_result"
    }
   ],
   "source": [
    "\"fusion\"*11 # Only for int # does not for float and zero and negative value"
   ]
  },
  {
   "cell_type": "code",
   "execution_count": 41,
   "metadata": {
    "colab": {
     "base_uri": "https://localhost:8080/",
     "height": 104
    },
    "id": "rrh51MVdjrf0",
    "outputId": "2df77742-2770-44db-a8cd-a63d664aa093",
    "scrolled": true
   },
   "outputs": [
    {
     "data": {
      "text/plain": [
       "'fusionfusionfusionfusionfusionfusionfusionfusionfusionfusionfusionfusionfusionfusionfusionfusionfusionfusionfusionfusionfusionfusionfusionfusionfusionfusionfusionfusionfusionfusionfusionfusionfusionfusionfusionfusionfusionfusionfusionfusionfusionfusionfusionfusionfusionfusionfusionfusionfusionfusionfusionfusionfusionfusionfusionfusionfusionfusionfusionfusionfusionfusionfusionfusionfusionfusionfusionfusionfusionfusionfusionfusionfusionfusionfusionfusionfusionfusionfusionfusionfusionfusionfusionfusionfusionfusionfusionfusionfusionfusionfusionfusionfusionfusionfusionfusionfusionfusionfusionfusion'"
      ]
     },
     "execution_count": 41,
     "metadata": {},
     "output_type": "execute_result"
    }
   ],
   "source": [
    "'fusion'*100"
   ]
  },
  {
   "cell_type": "code",
   "execution_count": 42,
   "metadata": {
    "colab": {
     "base_uri": "https://localhost:8080/",
     "height": 141
    },
    "id": "2Z24ZgHrjrf0",
    "outputId": "082f4b51-ae22-4e72-c7a5-2cc7e2002e0f"
   },
   "outputs": [
    {
     "ename": "TypeError",
     "evalue": "can't multiply sequence by non-int of type 'float'",
     "output_type": "error",
     "traceback": [
      "\u001b[1;31m---------------------------------------------------------------------------\u001b[0m",
      "\u001b[1;31mTypeError\u001b[0m                                 Traceback (most recent call last)",
      "Cell \u001b[1;32mIn[42], line 1\u001b[0m\n\u001b[1;32m----> 1\u001b[0m \u001b[38;5;124m'\u001b[39m\u001b[38;5;124mfusion\u001b[39m\u001b[38;5;124m'\u001b[39m\u001b[38;5;241m*\u001b[39m\u001b[38;5;241m3.142\u001b[39m\n",
      "\u001b[1;31mTypeError\u001b[0m: can't multiply sequence by non-int of type 'float'"
     ]
    }
   ],
   "source": [
    "'fusion'*3.142"
   ]
  },
  {
   "cell_type": "code",
   "execution_count": 43,
   "metadata": {
    "colab": {
     "base_uri": "https://localhost:8080/",
     "height": 35
    },
    "id": "4mhsuJssoIGH",
    "outputId": "1e8ddfef-40e7-4ea2-8b89-2f6ae731a53f"
   },
   "outputs": [
    {
     "data": {
      "text/plain": [
       "''"
      ]
     },
     "execution_count": 43,
     "metadata": {},
     "output_type": "execute_result"
    }
   ],
   "source": [
    "'fusion'*-11 # empty output for negative value multiply"
   ]
  },
  {
   "cell_type": "code",
   "execution_count": 44,
   "metadata": {
    "colab": {
     "base_uri": "https://localhost:8080/",
     "height": 35
    },
    "id": "ZTNJQ7UVoa1B",
    "outputId": "a09bba59-fabb-4d92-d878-daa2a2172fe9"
   },
   "outputs": [
    {
     "data": {
      "text/plain": [
       "''"
      ]
     },
     "execution_count": 44,
     "metadata": {},
     "output_type": "execute_result"
    }
   ],
   "source": [
    "'hardik'*0 #empty output for zero value multiply"
   ]
  },
  {
   "cell_type": "code",
   "execution_count": 46,
   "metadata": {
    "colab": {
     "base_uri": "https://localhost:8080/",
     "height": 141
    },
    "id": "lww37SG-jrf0",
    "outputId": "d479a7ce-ea4a-4f51-9923-0c8d0f26f74b"
   },
   "outputs": [
    {
     "ename": "TypeError",
     "evalue": "can't multiply sequence by non-int of type 'str'",
     "output_type": "error",
     "traceback": [
      "\u001b[1;31m---------------------------------------------------------------------------\u001b[0m",
      "\u001b[1;31mTypeError\u001b[0m                                 Traceback (most recent call last)",
      "Cell \u001b[1;32mIn[46], line 1\u001b[0m\n\u001b[1;32m----> 1\u001b[0m \u001b[38;5;124m'\u001b[39m\u001b[38;5;124mfusion\u001b[39m\u001b[38;5;124m'\u001b[39m\u001b[38;5;241m*\u001b[39m\u001b[38;5;124m'\u001b[39m\u001b[38;5;124msoftware\u001b[39m\u001b[38;5;124m'\u001b[39m\n",
      "\u001b[1;31mTypeError\u001b[0m: can't multiply sequence by non-int of type 'str'"
     ]
    }
   ],
   "source": [
    "'fusion'*'software'"
   ]
  },
  {
   "cell_type": "code",
   "execution_count": 47,
   "metadata": {
    "colab": {
     "base_uri": "https://localhost:8080/",
     "height": 141
    },
    "id": "xQlPoJL4jrf0",
    "outputId": "dcf0e19d-143d-4009-a0b8-3f844c9e50f1"
   },
   "outputs": [
    {
     "ename": "TypeError",
     "evalue": "can only concatenate str (not \"int\") to str",
     "output_type": "error",
     "traceback": [
      "\u001b[1;31m---------------------------------------------------------------------------\u001b[0m",
      "\u001b[1;31mTypeError\u001b[0m                                 Traceback (most recent call last)",
      "Cell \u001b[1;32mIn[47], line 1\u001b[0m\n\u001b[1;32m----> 1\u001b[0m \u001b[38;5;124m\"\u001b[39m\u001b[38;5;124mfusion\u001b[39m\u001b[38;5;124m\"\u001b[39m\u001b[38;5;241m+\u001b[39m\u001b[38;5;241m100\u001b[39m\n",
      "\u001b[1;31mTypeError\u001b[0m: can only concatenate str (not \"int\") to str"
     ]
    }
   ],
   "source": [
    "\"fusion\"+100"
   ]
  },
  {
   "cell_type": "code",
   "execution_count": 48,
   "metadata": {
    "colab": {
     "base_uri": "https://localhost:8080/",
     "height": 35
    },
    "id": "VeFGkxebjrf0",
    "outputId": "e4787ce9-7d4a-4445-ecf7-b0c19966fdcf"
   },
   "outputs": [
    {
     "data": {
      "text/plain": [
       "'fusion 100'"
      ]
     },
     "execution_count": 48,
     "metadata": {},
     "output_type": "execute_result"
    }
   ],
   "source": [
    "\"fusion\"+\" 100\""
   ]
  },
  {
   "cell_type": "code",
   "execution_count": null,
   "metadata": {
    "id": "hram97RVjrf0"
   },
   "outputs": [],
   "source": [
    "# If we use * operator for str type then compulsory one argument should be int and other\n",
    "# argument should be str type."
   ]
  },
  {
   "cell_type": "code",
   "execution_count": 49,
   "metadata": {
    "colab": {
     "base_uri": "https://localhost:8080/",
     "height": 104
    },
    "id": "r4gva9kNjrf1",
    "outputId": "ac5d95a5-bece-4f08-81fe-f20e3b151c8e"
   },
   "outputs": [
    {
     "data": {
      "text/plain": [
       "'fusionfusionfusionfusionfusionfusionfusionfusionfusionfusionfusionfusionfusionfusionfusionfusionfusionfusionfusionfusionfusionfusionfusionfusionfusionfusionfusionfusionfusionfusionfusionfusionfusionfusionfusionfusionfusionfusionfusionfusionfusionfusionfusionfusionfusionfusionfusionfusionfusionfusionfusionfusionfusionfusionfusionfusionfusionfusionfusionfusionfusionfusionfusionfusionfusionfusionfusionfusionfusionfusionfusionfusionfusionfusionfusionfusionfusionfusionfusionfusionfusionfusionfusionfusionfusionfusionfusionfusionfusionfusionfusionfusionfusionfusionfusionfusionfusionfusionfusionfusion'"
      ]
     },
     "execution_count": 49,
     "metadata": {},
     "output_type": "execute_result"
    }
   ],
   "source": [
    "100*'fusion'"
   ]
  },
  {
   "cell_type": "code",
   "execution_count": 50,
   "metadata": {
    "colab": {
     "base_uri": "https://localhost:8080/",
     "height": 139
    },
    "id": "yB9Gw0T8jrf1",
    "outputId": "3445dda0-ff45-4308-e14e-de136b9ae1bb"
   },
   "outputs": [
    {
     "data": {
      "text/plain": [
       "'fusion software solutionsfusion software solutionsfusion software solutionsfusion software solutionsfusion software solutionsfusion software solutionsfusion software solutionsfusion software solutionsfusion software solutionsfusion software solutionsfusion software solutionsfusion software solutionsfusion software solutionsfusion software solutionsfusion software solutionsfusion software solutionsfusion software solutionsfusion software solutionsfusion software solutionsfusion software solutionsfusion software solutionsfusion software solutionsfusion software solutionsfusion software solutionsfusion software solutionsfusion software solutionsfusion software solutionsfusion software solutionsfusion software solutionsfusion software solutionsfusion software solutionsfusion software solutionsfusion software solutionsfusion software solutionsfusion software solutionsfusion software solutionsfusion software solutionsfusion software solutionsfusion software solutionsfusion software solutionsfusion software solutionsfusion software solutionsfusion software solutionsfusion software solutionsfusion software solutionsfusion software solutionsfusion software solutionsfusion software solutionsfusion software solutionsfusion software solutionsfusion software solutionsfusion software solutionsfusion software solutionsfusion software solutionsfusion software solutionsfusion software solutionsfusion software solutionsfusion software solutionsfusion software solutionsfusion software solutionsfusion software solutionsfusion software solutionsfusion software solutionsfusion software solutionsfusion software solutionsfusion software solutionsfusion software solutionsfusion software solutionsfusion software solutionsfusion software solutionsfusion software solutionsfusion software solutionsfusion software solutionsfusion software solutionsfusion software solutionsfusion software solutionsfusion software solutionsfusion software solutionsfusion software solutionsfusion software solutionsfusion software solutionsfusion software solutionsfusion software solutionsfusion software solutionsfusion software solutionsfusion software solutionsfusion software solutionsfusion software solutionsfusion software solutionsfusion software solutionsfusion software solutionsfusion software solutionsfusion software solutionsfusion software solutionsfusion software solutionsfusion software solutionsfusion software solutionsfusion software solutionsfusion software solutionsfusion software solutions'"
      ]
     },
     "execution_count": 50,
     "metadata": {},
     "output_type": "execute_result"
    }
   ],
   "source": [
    "'fusion software solutions'*100"
   ]
  },
  {
   "cell_type": "code",
   "execution_count": null,
   "metadata": {
    "id": "RBgRWsrKjrf1"
   },
   "outputs": [],
   "source": [
    "# +====>String concatenation operator\n",
    "# * ===>String multiplication operator"
   ]
  },
  {
   "cell_type": "markdown",
   "metadata": {
    "id": "8ClnK-oPjrf1"
   },
   "source": [
    "# 2.Relational Operators or Comparison Operators"
   ]
  },
  {
   "cell_type": "code",
   "execution_count": 51,
   "metadata": {
    "id": "09SkLhPWjrf2"
   },
   "outputs": [],
   "source": [
    "#  >, >=, <, <=\n",
    "# Comparison operators compare two values/variables and\n",
    "#return a boolean result: True or False."
   ]
  },
  {
   "cell_type": "code",
   "execution_count": 52,
   "metadata": {
    "id": "ECDgxfv3jrf2"
   },
   "outputs": [],
   "source": [
    "a = 5\n",
    "b =2"
   ]
  },
  {
   "cell_type": "code",
   "execution_count": 53,
   "metadata": {
    "colab": {
     "base_uri": "https://localhost:8080/"
    },
    "id": "k1C4S27Kjrf2",
    "outputId": "a0d14fff-200a-474f-8e5e-334f18c35de9"
   },
   "outputs": [
    {
     "data": {
      "text/plain": [
       "True"
      ]
     },
     "execution_count": 53,
     "metadata": {},
     "output_type": "execute_result"
    }
   ],
   "source": [
    "5>2"
   ]
  },
  {
   "cell_type": "code",
   "execution_count": 54,
   "metadata": {
    "colab": {
     "base_uri": "https://localhost:8080/"
    },
    "id": "9ZGwLimhjrf2",
    "outputId": "e1926a6a-bb1a-4358-c4b2-ef27cea971cf"
   },
   "outputs": [
    {
     "data": {
      "text/plain": [
       "False"
      ]
     },
     "execution_count": 54,
     "metadata": {},
     "output_type": "execute_result"
    }
   ],
   "source": [
    "5<2"
   ]
  },
  {
   "cell_type": "code",
   "execution_count": 55,
   "metadata": {
    "colab": {
     "base_uri": "https://localhost:8080/"
    },
    "id": "mOxw31hnjrf2",
    "outputId": "c820c78e-3717-496b-dd8f-03259a6e3f85"
   },
   "outputs": [
    {
     "name": "stdout",
     "output_type": "stream",
     "text": [
      "True\n"
     ]
    }
   ],
   "source": [
    "print (a > b)"
   ]
  },
  {
   "cell_type": "code",
   "execution_count": 56,
   "metadata": {
    "colab": {
     "base_uri": "https://localhost:8080/"
    },
    "id": "zVObRz5Kjrf2",
    "outputId": "932b2e24-1c7a-439f-faaf-0500844215bd"
   },
   "outputs": [
    {
     "name": "stdout",
     "output_type": "stream",
     "text": [
      "False\n"
     ]
    }
   ],
   "source": [
    "print(a<b)"
   ]
  },
  {
   "cell_type": "code",
   "execution_count": 57,
   "metadata": {
    "colab": {
     "base_uri": "https://localhost:8080/"
    },
    "id": "i_vjylMdjrf3",
    "outputId": "2eee959e-1ef1-4815-9afb-8ea6b27c3f04"
   },
   "outputs": [
    {
     "data": {
      "text/plain": [
       "False"
      ]
     },
     "execution_count": 57,
     "metadata": {},
     "output_type": "execute_result"
    }
   ],
   "source": [
    "5==2"
   ]
  },
  {
   "cell_type": "code",
   "execution_count": 58,
   "metadata": {
    "colab": {
     "base_uri": "https://localhost:8080/"
    },
    "id": "cKPMenK-jrf3",
    "outputId": "ef8ee25f-3d9b-4f6b-ee70-45eebbdbd8e6"
   },
   "outputs": [
    {
     "data": {
      "text/plain": [
       "True"
      ]
     },
     "execution_count": 58,
     "metadata": {},
     "output_type": "execute_result"
    }
   ],
   "source": [
    "5==5"
   ]
  },
  {
   "cell_type": "code",
   "execution_count": 59,
   "metadata": {
    "colab": {
     "base_uri": "https://localhost:8080/"
    },
    "id": "DcnCR7pPjrf3",
    "outputId": "e2a6d71d-5851-4971-95ac-7def8f75c5c1"
   },
   "outputs": [
    {
     "name": "stdout",
     "output_type": "stream",
     "text": [
      "False\n"
     ]
    }
   ],
   "source": [
    "print(a==b)"
   ]
  },
  {
   "cell_type": "code",
   "execution_count": 60,
   "metadata": {
    "colab": {
     "base_uri": "https://localhost:8080/"
    },
    "id": "mpcuuNPtjrf3",
    "outputId": "79395bde-0b83-42ca-c057-0283a9c8cb09"
   },
   "outputs": [
    {
     "data": {
      "text/plain": [
       "True"
      ]
     },
     "execution_count": 60,
     "metadata": {},
     "output_type": "execute_result"
    }
   ],
   "source": [
    "5!=2"
   ]
  },
  {
   "cell_type": "code",
   "execution_count": 61,
   "metadata": {
    "colab": {
     "base_uri": "https://localhost:8080/"
    },
    "id": "iTlKcPGijrf3",
    "outputId": "73b5620b-22fb-4aca-cc30-13bf143b1216"
   },
   "outputs": [
    {
     "name": "stdout",
     "output_type": "stream",
     "text": [
      "True\n"
     ]
    }
   ],
   "source": [
    "print(a!=b)"
   ]
  },
  {
   "cell_type": "code",
   "execution_count": 62,
   "metadata": {
    "colab": {
     "base_uri": "https://localhost:8080/"
    },
    "id": "05HjNMSwjrf3",
    "outputId": "3bd79060-493f-4581-8cd7-c50b51784d1a"
   },
   "outputs": [
    {
     "data": {
      "text/plain": [
       "True"
      ]
     },
     "execution_count": 62,
     "metadata": {},
     "output_type": "execute_result"
    }
   ],
   "source": [
    "5>=2"
   ]
  },
  {
   "cell_type": "code",
   "execution_count": 63,
   "metadata": {
    "colab": {
     "base_uri": "https://localhost:8080/"
    },
    "id": "SRrlut4Jjrf4",
    "outputId": "c7fd0e1d-1107-438d-e356-23a2671b2e01"
   },
   "outputs": [
    {
     "name": "stdout",
     "output_type": "stream",
     "text": [
      "True\n"
     ]
    }
   ],
   "source": [
    "print (a >= b)"
   ]
  },
  {
   "cell_type": "code",
   "execution_count": 64,
   "metadata": {
    "colab": {
     "base_uri": "https://localhost:8080/"
    },
    "id": "fLzq18lyjrf4",
    "outputId": "fd16b9e0-2361-4593-99b6-320bada5f0f7"
   },
   "outputs": [
    {
     "data": {
      "text/plain": [
       "False"
      ]
     },
     "execution_count": 64,
     "metadata": {},
     "output_type": "execute_result"
    }
   ],
   "source": [
    "5<=2"
   ]
  },
  {
   "cell_type": "code",
   "execution_count": 65,
   "metadata": {
    "colab": {
     "base_uri": "https://localhost:8080/"
    },
    "id": "IyQOCR7Ajrf4",
    "outputId": "8fbda184-96d4-4f52-eda0-7baf17b560f4"
   },
   "outputs": [
    {
     "name": "stdout",
     "output_type": "stream",
     "text": [
      "False\n"
     ]
    }
   ],
   "source": [
    "print(a<=b)"
   ]
  },
  {
   "cell_type": "raw",
   "metadata": {
    "id": "02V4Ao97jrf4"
   },
   "source": [
    "Operator     Meaning                       Example\n",
    "==          Is Equal To                 3 == 5 gives us False\n",
    "!=          Not Equal To                3 != 5 gives us True\n",
    ">           Greater Than                3 > 5 gives us False\n",
    "<           Less Than                   3 < 5 gives us True\n",
    ">=          Greater Than or Equal To    3 >= 5 give us False\n",
    "<=          Less Than or Equal To       3 <= 5 gives us True"
   ]
  },
  {
   "cell_type": "code",
   "execution_count": 66,
   "metadata": {
    "id": "qEY4cEEbjrf4"
   },
   "outputs": [],
   "source": [
    "a = 50\n",
    "b = 20"
   ]
  },
  {
   "cell_type": "code",
   "execution_count": 67,
   "metadata": {
    "id": "w8lxnTwijrf4"
   },
   "outputs": [
    {
     "name": "stdout",
     "output_type": "stream",
     "text": [
      "a == b = False\n"
     ]
    }
   ],
   "source": [
    "# equal to operator\n",
    "print('a == b =', a == b)"
   ]
  },
  {
   "cell_type": "code",
   "execution_count": 68,
   "metadata": {
    "id": "889V5GEKjrf5"
   },
   "outputs": [
    {
     "name": "stdout",
     "output_type": "stream",
     "text": [
      "a != b = True\n"
     ]
    }
   ],
   "source": [
    "# not equal to operator\n",
    "print('a != b =', a != b)"
   ]
  },
  {
   "cell_type": "code",
   "execution_count": 69,
   "metadata": {
    "id": "yEGuZCq7jrf5"
   },
   "outputs": [
    {
     "name": "stdout",
     "output_type": "stream",
     "text": [
      "a > b = True\n"
     ]
    }
   ],
   "source": [
    "# greater than operator\n",
    "print('a > b =', a > b)"
   ]
  },
  {
   "cell_type": "code",
   "execution_count": 70,
   "metadata": {
    "id": "ZKB1EWJ4jrf5"
   },
   "outputs": [
    {
     "name": "stdout",
     "output_type": "stream",
     "text": [
      "a < b = False\n"
     ]
    }
   ],
   "source": [
    "# less than operator\n",
    "print('a < b =', a < b)"
   ]
  },
  {
   "cell_type": "code",
   "execution_count": 71,
   "metadata": {
    "id": "TLOZ03c6jrf5"
   },
   "outputs": [
    {
     "name": "stdout",
     "output_type": "stream",
     "text": [
      "a >= b = True\n"
     ]
    }
   ],
   "source": [
    "# greater than or equal to operator\n",
    "print('a >= b =', a >= b)"
   ]
  },
  {
   "cell_type": "code",
   "execution_count": 72,
   "metadata": {
    "id": "GSqXKrNXjrf5"
   },
   "outputs": [
    {
     "name": "stdout",
     "output_type": "stream",
     "text": [
      "a <= b = False\n"
     ]
    }
   ],
   "source": [
    "# less than or equal to operator\n",
    "print('a <= b =', a <= b)"
   ]
  },
  {
   "cell_type": "code",
   "execution_count": 73,
   "metadata": {
    "colab": {
     "base_uri": "https://localhost:8080/"
    },
    "id": "Pgr6LMhvjrf6",
    "outputId": "f6bddd34-26c0-4938-e019-dc3dd340c0c2"
   },
   "outputs": [
    {
     "name": "stdout",
     "output_type": "stream",
     "text": [
      "a == b = True\n"
     ]
    }
   ],
   "source": [
    "a='fusion'\n",
    "b='fusion'\n",
    "# equal to operator\n",
    "print('a == b =', a == b)"
   ]
  },
  {
   "cell_type": "code",
   "execution_count": 74,
   "metadata": {
    "colab": {
     "base_uri": "https://localhost:8080/"
    },
    "id": "4CEs2ArPjrf6",
    "outputId": "1219032c-47dd-4a7c-d2b2-150627843e99"
   },
   "outputs": [
    {
     "name": "stdout",
     "output_type": "stream",
     "text": [
      "a != b = False\n"
     ]
    }
   ],
   "source": [
    "# not equal to operator\n",
    "print('a != b =', a != b)"
   ]
  },
  {
   "cell_type": "code",
   "execution_count": 75,
   "metadata": {
    "id": "s0WcCB83qljt"
   },
   "outputs": [],
   "source": [
    "s1='Fusion'\n",
    "s2='fusion'"
   ]
  },
  {
   "cell_type": "code",
   "execution_count": 76,
   "metadata": {
    "colab": {
     "base_uri": "https://localhost:8080/"
    },
    "id": "e_m47OLYrK_W",
    "outputId": "ed02cf07-fed9-441b-d964-460215301738"
   },
   "outputs": [
    {
     "data": {
      "text/plain": [
       "(65, 90, 97, 122)"
      ]
     },
     "execution_count": 76,
     "metadata": {},
     "output_type": "execute_result"
    }
   ],
   "source": [
    "ord('A'),ord('Z'),ord('a'),ord('z')"
   ]
  },
  {
   "cell_type": "code",
   "execution_count": 77,
   "metadata": {
    "colab": {
     "base_uri": "https://localhost:8080/"
    },
    "id": "Ma-aY4zxqxoe",
    "outputId": "7e37e026-e0b5-4c68-ea28-fa65da19bd38"
   },
   "outputs": [
    {
     "data": {
      "text/plain": [
       "False"
      ]
     },
     "execution_count": 77,
     "metadata": {},
     "output_type": "execute_result"
    }
   ],
   "source": [
    "s1>s2"
   ]
  },
  {
   "cell_type": "code",
   "execution_count": 78,
   "metadata": {
    "colab": {
     "base_uri": "https://localhost:8080/"
    },
    "id": "6AXmFNY4sDXT",
    "outputId": "b8a62531-fc00-4c97-82e9-f057c146111b"
   },
   "outputs": [
    {
     "data": {
      "text/plain": [
       "True"
      ]
     },
     "execution_count": 78,
     "metadata": {},
     "output_type": "execute_result"
    }
   ],
   "source": [
    "s1<s2"
   ]
  },
  {
   "cell_type": "code",
   "execution_count": 79,
   "metadata": {
    "id": "uQYgzu41jrf6"
   },
   "outputs": [
    {
     "data": {
      "text/plain": [
       "False"
      ]
     },
     "execution_count": 79,
     "metadata": {},
     "output_type": "execute_result"
    }
   ],
   "source": [
    "5>5"
   ]
  },
  {
   "cell_type": "code",
   "execution_count": 80,
   "metadata": {
    "id": "dothfCZdjrf6"
   },
   "outputs": [
    {
     "data": {
      "text/plain": [
       "('fusion', 'fusion')"
      ]
     },
     "execution_count": 80,
     "metadata": {},
     "output_type": "execute_result"
    }
   ],
   "source": [
    "a,b"
   ]
  },
  {
   "cell_type": "code",
   "execution_count": 81,
   "metadata": {
    "id": "dPWVO0jhjrf6"
   },
   "outputs": [
    {
     "name": "stdout",
     "output_type": "stream",
     "text": [
      "a > b = False\n"
     ]
    }
   ],
   "source": [
    "# greater than operator\n",
    "print('a > b =', a > b)"
   ]
  },
  {
   "cell_type": "code",
   "execution_count": 82,
   "metadata": {
    "id": "D2zRq13ejrf6"
   },
   "outputs": [
    {
     "name": "stdout",
     "output_type": "stream",
     "text": [
      "a < b = False\n"
     ]
    }
   ],
   "source": [
    "# less than operator\n",
    "print('a < b =', a < b)"
   ]
  },
  {
   "cell_type": "code",
   "execution_count": 83,
   "metadata": {
    "id": "ICdm3foFjrf7"
   },
   "outputs": [
    {
     "name": "stdout",
     "output_type": "stream",
     "text": [
      "a >= b = True\n"
     ]
    }
   ],
   "source": [
    "# greater than or equal to operator\n",
    "print('a >= b =', a >= b)"
   ]
  },
  {
   "cell_type": "code",
   "execution_count": 84,
   "metadata": {
    "id": "kDUfTwWjjrf7"
   },
   "outputs": [
    {
     "name": "stdout",
     "output_type": "stream",
     "text": [
      "a <= b = True\n"
     ]
    }
   ],
   "source": [
    "# less than or equal to operator\n",
    "print('a <= b =', a <= b)"
   ]
  },
  {
   "cell_type": "code",
   "execution_count": 85,
   "metadata": {
    "colab": {
     "base_uri": "https://localhost:8080/"
    },
    "id": "DeePp5igjrf7",
    "outputId": "18efde13-c68d-478e-cf64-5e884ad3a891"
   },
   "outputs": [
    {
     "data": {
      "text/plain": [
       "True"
      ]
     },
     "execution_count": 85,
     "metadata": {},
     "output_type": "execute_result"
    }
   ],
   "source": [
    "'fusion'=='fusion'=='fusion'=='fusion'"
   ]
  },
  {
   "cell_type": "code",
   "execution_count": 86,
   "metadata": {
    "colab": {
     "base_uri": "https://localhost:8080/"
    },
    "id": "tC_HIGQ5jrf7",
    "outputId": "9a2a4694-4f04-423a-8620-80e5ec00b18f"
   },
   "outputs": [
    {
     "data": {
      "text/plain": [
       "True"
      ]
     },
     "execution_count": 86,
     "metadata": {},
     "output_type": "execute_result"
    }
   ],
   "source": [
    "999==999==999==999==999==999"
   ]
  },
  {
   "cell_type": "code",
   "execution_count": 87,
   "metadata": {
    "colab": {
     "base_uri": "https://localhost:8080/"
    },
    "id": "x3zO85wjjrf7",
    "outputId": "d69cfe1f-245d-4c32-9c12-2aca4a8a01a6"
   },
   "outputs": [
    {
     "data": {
      "text/plain": [
       "True"
      ]
     },
     "execution_count": 87,
     "metadata": {},
     "output_type": "execute_result"
    }
   ],
   "source": [
    "20<50"
   ]
  },
  {
   "cell_type": "code",
   "execution_count": 88,
   "metadata": {
    "colab": {
     "base_uri": "https://localhost:8080/"
    },
    "id": "HzSsnD6Kjrf8",
    "outputId": "0e9ee1d7-aeb2-4a42-ce8b-1a4500779163"
   },
   "outputs": [
    {
     "data": {
      "text/plain": [
       "True"
      ]
     },
     "execution_count": 88,
     "metadata": {},
     "output_type": "execute_result"
    }
   ],
   "source": [
    "20<50<60"
   ]
  },
  {
   "cell_type": "code",
   "execution_count": 89,
   "metadata": {
    "colab": {
     "base_uri": "https://localhost:8080/"
    },
    "id": "_Sc9oS5Jjrf8",
    "outputId": "5cdab4fc-d7f0-476a-d332-5411bad3d40c"
   },
   "outputs": [
    {
     "data": {
      "text/plain": [
       "True"
      ]
     },
     "execution_count": 89,
     "metadata": {},
     "output_type": "execute_result"
    }
   ],
   "source": [
    "20<50<60<80"
   ]
  },
  {
   "cell_type": "code",
   "execution_count": 90,
   "metadata": {
    "colab": {
     "base_uri": "https://localhost:8080/"
    },
    "id": "SErz7V0Fjrf8",
    "outputId": "bdfdd157-eb4b-4d49-a584-6b792293b630"
   },
   "outputs": [
    {
     "data": {
      "text/plain": [
       "False"
      ]
     },
     "execution_count": 90,
     "metadata": {},
     "output_type": "execute_result"
    }
   ],
   "source": [
    "20<50<60<80>90"
   ]
  },
  {
   "cell_type": "markdown",
   "metadata": {
    "id": "uGv32zP8jrf8"
   },
   "source": [
    "# 3. Logical operators\n"
   ]
  },
  {
   "cell_type": "raw",
   "metadata": {
    "id": "SpYJqHYijrf9"
   },
   "source": [
    "Logical Operators\n",
    "Logical operators are used to check whether an expression is True or False. They are used in decision-making. For example,"
   ]
  },
  {
   "cell_type": "code",
   "execution_count": 91,
   "metadata": {
    "colab": {
     "base_uri": "https://localhost:8080/"
    },
    "id": "c1-CgJGqjrf9",
    "outputId": "4bb2ed12-d453-4117-8860-12cc61fd9548"
   },
   "outputs": [
    {
     "name": "stdout",
     "output_type": "stream",
     "text": [
      "True\n"
     ]
    }
   ],
   "source": [
    "# logical AND\n",
    "print(True and True)"
   ]
  },
  {
   "cell_type": "code",
   "execution_count": 92,
   "metadata": {},
   "outputs": [
    {
     "name": "stdout",
     "output_type": "stream",
     "text": [
      "Yes\n"
     ]
    }
   ],
   "source": [
    "status = \"pass\"\n",
    "neet = 700\n",
    "if status==\"pass\" and neet > 600:\n",
    " print(\"Yes\")"
   ]
  },
  {
   "cell_type": "code",
   "execution_count": 93,
   "metadata": {
    "colab": {
     "base_uri": "https://localhost:8080/"
    },
    "id": "XE26BoTijrf9",
    "outputId": "04c5ce55-0c05-445a-8397-3ee9ee3ec141"
   },
   "outputs": [
    {
     "name": "stdout",
     "output_type": "stream",
     "text": [
      "False\n"
     ]
    }
   ],
   "source": [
    "print(True and False)"
   ]
  },
  {
   "cell_type": "code",
   "execution_count": 94,
   "metadata": {
    "colab": {
     "base_uri": "https://localhost:8080/"
    },
    "id": "RlWpE6nqjrf-",
    "outputId": "f59f35f8-512b-4e94-9b8a-21c53cdac55a"
   },
   "outputs": [
    {
     "name": "stdout",
     "output_type": "stream",
     "text": [
      "False\n"
     ]
    }
   ],
   "source": [
    "print(False and True)"
   ]
  },
  {
   "cell_type": "code",
   "execution_count": 95,
   "metadata": {
    "colab": {
     "base_uri": "https://localhost:8080/"
    },
    "id": "GQNQ06Pcjrf-",
    "outputId": "3378d735-e454-49f8-a359-fd1223265fff"
   },
   "outputs": [
    {
     "name": "stdout",
     "output_type": "stream",
     "text": [
      "False\n"
     ]
    }
   ],
   "source": [
    "print(False and False)"
   ]
  },
  {
   "cell_type": "code",
   "execution_count": 96,
   "metadata": {
    "colab": {
     "base_uri": "https://localhost:8080/"
    },
    "id": "ZPemB7K2jrf-",
    "outputId": "1ffc3768-2d31-4f9c-ea0c-2456de120332"
   },
   "outputs": [
    {
     "name": "stdout",
     "output_type": "stream",
     "text": [
      "True\n"
     ]
    }
   ],
   "source": [
    "# logical OR\n",
    "print(True or True)"
   ]
  },
  {
   "cell_type": "code",
   "execution_count": 97,
   "metadata": {
    "colab": {
     "base_uri": "https://localhost:8080/"
    },
    "id": "Ql_Wdc-Ljrf-",
    "outputId": "7b511c3e-a636-4545-d77b-3964089f40db"
   },
   "outputs": [
    {
     "name": "stdout",
     "output_type": "stream",
     "text": [
      "True\n"
     ]
    }
   ],
   "source": [
    "\n",
    "print(True or False)"
   ]
  },
  {
   "cell_type": "code",
   "execution_count": 98,
   "metadata": {
    "colab": {
     "base_uri": "https://localhost:8080/"
    },
    "id": "k_C3l_ucjrf-",
    "outputId": "46e6edd8-359b-4208-8d4d-c061593048f1"
   },
   "outputs": [
    {
     "name": "stdout",
     "output_type": "stream",
     "text": [
      "True\n"
     ]
    }
   ],
   "source": [
    "print(False or True)"
   ]
  },
  {
   "cell_type": "code",
   "execution_count": 99,
   "metadata": {
    "colab": {
     "base_uri": "https://localhost:8080/"
    },
    "id": "iU7sL0T9jrf_",
    "outputId": "ba44ffe1-7903-45d8-de23-ec0fec4351a2"
   },
   "outputs": [
    {
     "name": "stdout",
     "output_type": "stream",
     "text": [
      "False\n"
     ]
    }
   ],
   "source": [
    "\n",
    "print(False or False)"
   ]
  },
  {
   "cell_type": "code",
   "execution_count": 100,
   "metadata": {
    "colab": {
     "base_uri": "https://localhost:8080/"
    },
    "id": "RNcJTGU6jrf_",
    "outputId": "52e771d0-703f-4d6d-eb78-934566b66048"
   },
   "outputs": [
    {
     "name": "stdout",
     "output_type": "stream",
     "text": [
      "False\n"
     ]
    }
   ],
   "source": [
    "# logical NOT\n",
    "print(not True)"
   ]
  },
  {
   "cell_type": "code",
   "execution_count": 101,
   "metadata": {
    "colab": {
     "base_uri": "https://localhost:8080/"
    },
    "id": "JtHQoNetjrf_",
    "outputId": "f802fc4a-44b9-4c84-c0be-10643157507f"
   },
   "outputs": [
    {
     "name": "stdout",
     "output_type": "stream",
     "text": [
      "True\n"
     ]
    }
   ],
   "source": [
    "# logical NOT\n",
    "print(not False)"
   ]
  },
  {
   "cell_type": "code",
   "execution_count": 102,
   "metadata": {
    "colab": {
     "base_uri": "https://localhost:8080/"
    },
    "id": "6WowFajMuXU5",
    "outputId": "3792e488-0783-4245-a828-567fa2954e88"
   },
   "outputs": [
    {
     "data": {
      "text/plain": [
       "True"
      ]
     },
     "execution_count": 102,
     "metadata": {},
     "output_type": "execute_result"
    }
   ],
   "source": [
    "bool(100)"
   ]
  },
  {
   "cell_type": "code",
   "execution_count": 103,
   "metadata": {
    "colab": {
     "base_uri": "https://localhost:8080/"
    },
    "id": "zmYH4BJVudsk",
    "outputId": "22ffe8ce-f3eb-4fe6-cc9c-ee3dc271a804"
   },
   "outputs": [
    {
     "data": {
      "text/plain": [
       "True"
      ]
     },
     "execution_count": 103,
     "metadata": {},
     "output_type": "execute_result"
    }
   ],
   "source": [
    "bool(-99)"
   ]
  },
  {
   "cell_type": "code",
   "execution_count": 104,
   "metadata": {
    "colab": {
     "base_uri": "https://localhost:8080/"
    },
    "id": "BRZUu1gIulpP",
    "outputId": "0ec4196e-0e4b-4cbe-daac-cb81dcb87bc5"
   },
   "outputs": [
    {
     "data": {
      "text/plain": [
       "False"
      ]
     },
     "execution_count": 104,
     "metadata": {},
     "output_type": "execute_result"
    }
   ],
   "source": [
    "bool(0)"
   ]
  },
  {
   "cell_type": "code",
   "execution_count": 105,
   "metadata": {
    "colab": {
     "base_uri": "https://localhost:8080/"
    },
    "id": "EQTZr3SWjrgA",
    "outputId": "85b1c642-7dff-4911-f447-32495c9fd83e"
   },
   "outputs": [
    {
     "data": {
      "text/plain": [
       "200"
      ]
     },
     "execution_count": 105,
     "metadata": {},
     "output_type": "execute_result"
    }
   ],
   "source": [
    "100 and 200"
   ]
  },
  {
   "cell_type": "code",
   "execution_count": 106,
   "metadata": {
    "colab": {
     "base_uri": "https://localhost:8080/"
    },
    "id": "I2znwRuCvm8Q",
    "outputId": "9be6fe4a-9b19-4f83-9db5-be3daae8ed39"
   },
   "outputs": [
    {
     "data": {
      "text/plain": [
       "100"
      ]
     },
     "execution_count": 106,
     "metadata": {},
     "output_type": "execute_result"
    }
   ],
   "source": [
    "200 and 100"
   ]
  },
  {
   "cell_type": "code",
   "execution_count": 107,
   "metadata": {
    "colab": {
     "base_uri": "https://localhost:8080/"
    },
    "id": "KaTYynPUjrgA",
    "outputId": "f180a065-419f-4b3b-c117-c3cc3a900ec5"
   },
   "outputs": [
    {
     "data": {
      "text/plain": [
       "0"
      ]
     },
     "execution_count": 107,
     "metadata": {},
     "output_type": "execute_result"
    }
   ],
   "source": [
    "0 and 200"
   ]
  },
  {
   "cell_type": "code",
   "execution_count": 108,
   "metadata": {
    "colab": {
     "base_uri": "https://localhost:8080/"
    },
    "id": "siGC8RzGjrgA",
    "outputId": "3b7fa7c5-29e4-434c-e777-026c3bfe762e"
   },
   "outputs": [
    {
     "data": {
      "text/plain": [
       "0"
      ]
     },
     "execution_count": 108,
     "metadata": {},
     "output_type": "execute_result"
    }
   ],
   "source": [
    "1 and 0"
   ]
  },
  {
   "cell_type": "code",
   "execution_count": 109,
   "metadata": {
    "colab": {
     "base_uri": "https://localhost:8080/"
    },
    "id": "7EMLeNV0jrgA",
    "outputId": "ca1e6058-b1c7-408c-a116-1e2a2b62093a"
   },
   "outputs": [
    {
     "data": {
      "text/plain": [
       "0"
      ]
     },
     "execution_count": 109,
     "metadata": {},
     "output_type": "execute_result"
    }
   ],
   "source": [
    "0 and 1"
   ]
  },
  {
   "cell_type": "code",
   "execution_count": 110,
   "metadata": {
    "colab": {
     "base_uri": "https://localhost:8080/"
    },
    "id": "yip-VBmmjrgA",
    "outputId": "26de5736-ee8e-47b6-f26a-b77f41ea7a6c"
   },
   "outputs": [
    {
     "data": {
      "text/plain": [
       "100"
      ]
     },
     "execution_count": 110,
     "metadata": {},
     "output_type": "execute_result"
    }
   ],
   "source": [
    "100 or 200    #False or False --->False"
   ]
  },
  {
   "cell_type": "code",
   "execution_count": 111,
   "metadata": {
    "colab": {
     "base_uri": "https://localhost:8080/"
    },
    "id": "S3V-SPr3jrgB",
    "outputId": "ae79543d-9fb9-4f01-c3c4-7bf74b6cf906"
   },
   "outputs": [
    {
     "data": {
      "text/plain": [
       "200"
      ]
     },
     "execution_count": 111,
     "metadata": {},
     "output_type": "execute_result"
    }
   ],
   "source": [
    "0 or 200   #False or False --->False"
   ]
  },
  {
   "cell_type": "code",
   "execution_count": 112,
   "metadata": {},
   "outputs": [
    {
     "data": {
      "text/plain": [
       "100"
      ]
     },
     "execution_count": 112,
     "metadata": {},
     "output_type": "execute_result"
    }
   ],
   "source": [
    "100 or 200"
   ]
  },
  {
   "cell_type": "code",
   "execution_count": 113,
   "metadata": {
    "colab": {
     "base_uri": "https://localhost:8080/"
    },
    "id": "9BIEDEqXjrgB",
    "outputId": "98a6210e-69d0-4d70-b667-e06cbd2e410b"
   },
   "outputs": [
    {
     "data": {
      "text/plain": [
       "25"
      ]
     },
     "execution_count": 113,
     "metadata": {},
     "output_type": "execute_result"
    }
   ],
   "source": [
    "10 and 25"
   ]
  },
  {
   "cell_type": "code",
   "execution_count": 114,
   "metadata": {
    "colab": {
     "base_uri": "https://localhost:8080/"
    },
    "id": "M21zqwLTjrgB",
    "outputId": "c96f81b2-4746-42c3-8810-3b9756425c4d"
   },
   "outputs": [
    {
     "data": {
      "text/plain": [
       "0"
      ]
     },
     "execution_count": 114,
     "metadata": {},
     "output_type": "execute_result"
    }
   ],
   "source": [
    "10 and 0"
   ]
  },
  {
   "cell_type": "code",
   "execution_count": 115,
   "metadata": {
    "colab": {
     "base_uri": "https://localhost:8080/"
    },
    "id": "L0oSVxddjrgB",
    "outputId": "1a52fd69-4979-420d-f010-7b29f45bae4c"
   },
   "outputs": [
    {
     "data": {
      "text/plain": [
       "0"
      ]
     },
     "execution_count": 115,
     "metadata": {},
     "output_type": "execute_result"
    }
   ],
   "source": [
    "0 and 10"
   ]
  },
  {
   "cell_type": "code",
   "execution_count": 116,
   "metadata": {
    "colab": {
     "base_uri": "https://localhost:8080/"
    },
    "id": "gTgiKbv7jrgB",
    "outputId": "77a6628a-769c-4112-b713-52f62a9bf0e0"
   },
   "outputs": [
    {
     "data": {
      "text/plain": [
       "0"
      ]
     },
     "execution_count": 116,
     "metadata": {},
     "output_type": "execute_result"
    }
   ],
   "source": [
    "0 and 0"
   ]
  },
  {
   "cell_type": "code",
   "execution_count": 117,
   "metadata": {
    "colab": {
     "base_uri": "https://localhost:8080/"
    },
    "id": "HEDDL1Q4jrgB",
    "outputId": "1680bce3-6830-4dc6-c144-9e91f2636826"
   },
   "outputs": [
    {
     "data": {
      "text/plain": [
       "1"
      ]
     },
     "execution_count": 117,
     "metadata": {},
     "output_type": "execute_result"
    }
   ],
   "source": [
    "1 or 0"
   ]
  },
  {
   "cell_type": "code",
   "execution_count": 118,
   "metadata": {
    "colab": {
     "base_uri": "https://localhost:8080/"
    },
    "id": "0WmL5oF7jrgB",
    "outputId": "6b1b74a8-31f7-42ac-9cd7-2e161764047d"
   },
   "outputs": [
    {
     "data": {
      "text/plain": [
       "0"
      ]
     },
     "execution_count": 118,
     "metadata": {},
     "output_type": "execute_result"
    }
   ],
   "source": [
    "0 or 0"
   ]
  },
  {
   "cell_type": "code",
   "execution_count": 119,
   "metadata": {
    "colab": {
     "base_uri": "https://localhost:8080/"
    },
    "id": "Bxl09NdyjrgC",
    "outputId": "ef3cc1e0-8327-410e-9b19-dc5672e9cf80"
   },
   "outputs": [
    {
     "data": {
      "text/plain": [
       "False"
      ]
     },
     "execution_count": 119,
     "metadata": {},
     "output_type": "execute_result"
    }
   ],
   "source": [
    "not 100"
   ]
  },
  {
   "cell_type": "code",
   "execution_count": 120,
   "metadata": {
    "colab": {
     "base_uri": "https://localhost:8080/"
    },
    "id": "ciW39K_4jrgC",
    "outputId": "7ed0bc7e-2095-4737-93bc-580c34f208f8"
   },
   "outputs": [
    {
     "data": {
      "text/plain": [
       "False"
      ]
     },
     "execution_count": 120,
     "metadata": {},
     "output_type": "execute_result"
    }
   ],
   "source": [
    "not 200"
   ]
  },
  {
   "cell_type": "code",
   "execution_count": 121,
   "metadata": {
    "colab": {
     "base_uri": "https://localhost:8080/"
    },
    "id": "t-CGJW8rjrgC",
    "outputId": "065d97d0-4820-4c0c-f3b1-128447f307ce"
   },
   "outputs": [
    {
     "data": {
      "text/plain": [
       "True"
      ]
     },
     "execution_count": 121,
     "metadata": {},
     "output_type": "execute_result"
    }
   ],
   "source": [
    "not 0"
   ]
  },
  {
   "cell_type": "code",
   "execution_count": 122,
   "metadata": {
    "colab": {
     "base_uri": "https://localhost:8080/"
    },
    "id": "KFSu2TWHjrgC",
    "outputId": "55f6aa64-c629-425e-b145-2afb0454480b"
   },
   "outputs": [
    {
     "data": {
      "text/plain": [
       "True"
      ]
     },
     "execution_count": 122,
     "metadata": {},
     "output_type": "execute_result"
    }
   ],
   "source": [
    "bool(10000000000000000000000)"
   ]
  },
  {
   "cell_type": "code",
   "execution_count": 123,
   "metadata": {
    "colab": {
     "base_uri": "https://localhost:8080/"
    },
    "id": "nzY-D2JBjrgC",
    "outputId": "f094c106-4063-4b0b-e887-33350ac3ebf3"
   },
   "outputs": [
    {
     "data": {
      "text/plain": [
       "True"
      ]
     },
     "execution_count": 123,
     "metadata": {},
     "output_type": "execute_result"
    }
   ],
   "source": [
    "bool(-1)"
   ]
  },
  {
   "cell_type": "code",
   "execution_count": 124,
   "metadata": {
    "colab": {
     "base_uri": "https://localhost:8080/"
    },
    "id": "KaHdK0WpjrgC",
    "outputId": "b35990cd-0666-457e-c561-6a5b7ab0e91c"
   },
   "outputs": [
    {
     "data": {
      "text/plain": [
       "False"
      ]
     },
     "execution_count": 124,
     "metadata": {},
     "output_type": "execute_result"
    }
   ],
   "source": [
    "bool(0)"
   ]
  },
  {
   "cell_type": "code",
   "execution_count": 125,
   "metadata": {
    "colab": {
     "base_uri": "https://localhost:8080/"
    },
    "id": "pIGa6_yHjrgC",
    "outputId": "91843f4a-6fca-425b-cf87-9b9471f598ca"
   },
   "outputs": [
    {
     "data": {
      "text/plain": [
       "False"
      ]
     },
     "execution_count": 125,
     "metadata": {},
     "output_type": "execute_result"
    }
   ],
   "source": [
    " bool(\"\") # empty string is always consider as false"
   ]
  },
  {
   "cell_type": "code",
   "execution_count": 126,
   "metadata": {
    "colab": {
     "base_uri": "https://localhost:8080/"
    },
    "id": "mJaQTJdKjrgD",
    "outputId": "0f256886-9ffe-4341-d8ab-a7c29bc9098b"
   },
   "outputs": [
    {
     "data": {
      "text/plain": [
       "True"
      ]
     },
     "execution_count": 126,
     "metadata": {},
     "output_type": "execute_result"
    }
   ],
   "source": [
    "bool(\"fusion\") # non empty string is consdier as true"
   ]
  },
  {
   "cell_type": "code",
   "execution_count": 127,
   "metadata": {
    "colab": {
     "base_uri": "https://localhost:8080/"
    },
    "id": "jOBlcs8LjrgD",
    "outputId": "9c5cb0a8-25f8-4c41-f1b7-79005b183f18"
   },
   "outputs": [
    {
     "name": "stdout",
     "output_type": "stream",
     "text": [
      "fusion software solutions\n"
     ]
    }
   ],
   "source": [
    "print(\"fusion\" and \"fusion software solutions\")"
   ]
  },
  {
   "cell_type": "code",
   "execution_count": 128,
   "metadata": {
    "colab": {
     "base_uri": "https://localhost:8080/"
    },
    "id": "9GBL3uoTjrgD",
    "outputId": "bdcce832-c7e4-471c-f545-ec36a7f2062f"
   },
   "outputs": [
    {
     "name": "stdout",
     "output_type": "stream",
     "text": [
      "fusion\n"
     ]
    }
   ],
   "source": [
    "print(\"fusion software solutions\" and \"fusion\")"
   ]
  },
  {
   "cell_type": "code",
   "execution_count": 129,
   "metadata": {
    "colab": {
     "base_uri": "https://localhost:8080/"
    },
    "id": "bDXyba-sjrgD",
    "outputId": "8cde1f41-f37a-4008-ad2a-09c49cc922e9"
   },
   "outputs": [
    {
     "name": "stdout",
     "output_type": "stream",
     "text": [
      "\n"
     ]
    }
   ],
   "source": [
    "print(\"\" and \"fusion software solutions\")"
   ]
  },
  {
   "cell_type": "code",
   "execution_count": 130,
   "metadata": {
    "colab": {
     "base_uri": "https://localhost:8080/"
    },
    "id": "HoyH8kubjrgD",
    "outputId": "a601cf76-dee5-4f44-9b2a-dff0d3dc4703"
   },
   "outputs": [
    {
     "name": "stdout",
     "output_type": "stream",
     "text": [
      "\n"
     ]
    }
   ],
   "source": [
    "print(\"fusion software solutions\" and \"\")"
   ]
  },
  {
   "cell_type": "code",
   "execution_count": 131,
   "metadata": {
    "colab": {
     "base_uri": "https://localhost:8080/"
    },
    "id": "5CEz78UZjrgE",
    "outputId": "6e4da948-2ec3-432d-8c35-787e33be257c"
   },
   "outputs": [
    {
     "name": "stdout",
     "output_type": "stream",
     "text": [
      "fusion\n"
     ]
    }
   ],
   "source": [
    "print(\"fusion\" or \"fusion software solutions\") #False or False--->False"
   ]
  },
  {
   "cell_type": "code",
   "execution_count": 132,
   "metadata": {
    "colab": {
     "base_uri": "https://localhost:8080/"
    },
    "id": "wMjgQlOxjrgE",
    "outputId": "19da4b10-1fac-4ae2-baa2-0ad8e2d2dedd"
   },
   "outputs": [
    {
     "name": "stdout",
     "output_type": "stream",
     "text": [
      "fusion software solutions\n"
     ]
    }
   ],
   "source": [
    "print(\"fusion software solutions\" or \"fusion\")"
   ]
  },
  {
   "cell_type": "code",
   "execution_count": 133,
   "metadata": {
    "colab": {
     "base_uri": "https://localhost:8080/"
    },
    "id": "qgE5UU-zjrgE",
    "outputId": "3ed75282-c5bd-447b-beb9-4234b255caab"
   },
   "outputs": [
    {
     "name": "stdout",
     "output_type": "stream",
     "text": [
      "fusion software solutions\n"
     ]
    }
   ],
   "source": [
    "print(\"\" or \"fusion software solutions\")"
   ]
  },
  {
   "cell_type": "code",
   "execution_count": 134,
   "metadata": {
    "colab": {
     "base_uri": "https://localhost:8080/"
    },
    "id": "ds5QShzsjrgE",
    "outputId": "1815a413-6121-4234-cb1b-0c9a9988b94c"
   },
   "outputs": [
    {
     "name": "stdout",
     "output_type": "stream",
     "text": [
      "fusion software solutions\n"
     ]
    }
   ],
   "source": [
    " print(\"fusion software solutions\" or \"\")"
   ]
  },
  {
   "cell_type": "code",
   "execution_count": 135,
   "metadata": {
    "colab": {
     "base_uri": "https://localhost:8080/"
    },
    "id": "D-PC9DzcjrgE",
    "outputId": "40abd3ce-667b-432c-dd73-c3ca0a986490"
   },
   "outputs": [
    {
     "data": {
      "text/plain": [
       "True"
      ]
     },
     "execution_count": 135,
     "metadata": {},
     "output_type": "execute_result"
    }
   ],
   "source": [
    "not \"\""
   ]
  },
  {
   "cell_type": "code",
   "execution_count": 136,
   "metadata": {
    "colab": {
     "base_uri": "https://localhost:8080/"
    },
    "id": "N29h1iSijrgE",
    "outputId": "07f6eda2-e637-48bd-db1f-4967a4f74315"
   },
   "outputs": [
    {
     "data": {
      "text/plain": [
       "False"
      ]
     },
     "execution_count": 136,
     "metadata": {},
     "output_type": "execute_result"
    }
   ],
   "source": [
    "not  \"fusion software solutions\""
   ]
  },
  {
   "cell_type": "markdown",
   "metadata": {
    "id": "TsZAaMgOjrgF"
   },
   "source": [
    "# 4. Bitwise oeprators"
   ]
  },
  {
   "cell_type": "raw",
   "metadata": {
    "id": "zjenAOgjjrgF"
   },
   "source": [
    "4. Python Bitwise operators\n",
    "Bitwise operators act on operands as if they were strings of binary digits. They operate bit by bit, hence the name.\n",
    "\n",
    "For example, 2 is 10 in binary and 7 is 111.\n",
    "\n",
    "In the table below: Let x = 10 (0000 1010 in binary) and y = 4 (0000 0100 in binary)\n",
    "\n",
    "Operator                        Meaning                              Example\n",
    "&                              Bitwise AND                           x & y = 0 (0000 0000)\n",
    "|                              Bitwise OR                            x | y = 14 (0000 1110)"
   ]
  },
  {
   "cell_type": "code",
   "execution_count": 137,
   "metadata": {
    "id": "yCPL1c9WjrgF",
    "scrolled": true
   },
   "outputs": [
    {
     "data": {
      "text/plain": [
       "'0b11'"
      ]
     },
     "execution_count": 137,
     "metadata": {},
     "output_type": "execute_result"
    }
   ],
   "source": [
    "bin(3)"
   ]
  },
  {
   "cell_type": "code",
   "execution_count": 138,
   "metadata": {
    "id": "z-lhOz0ajrgF"
   },
   "outputs": [
    {
     "data": {
      "text/plain": [
       "'0b111'"
      ]
     },
     "execution_count": 138,
     "metadata": {},
     "output_type": "execute_result"
    }
   ],
   "source": [
    "bin(7)"
   ]
  },
  {
   "cell_type": "code",
   "execution_count": 139,
   "metadata": {
    "id": "XW-Jh4JujrgF"
   },
   "outputs": [
    {
     "data": {
      "text/plain": [
       "'0b1000000'"
      ]
     },
     "execution_count": 139,
     "metadata": {},
     "output_type": "execute_result"
    }
   ],
   "source": [
    "bin(64)    # 128   64   32  16  8  4  2  1"
   ]
  },
  {
   "cell_type": "code",
   "execution_count": 140,
   "metadata": {
    "id": "ZllP6Az-jrgF"
   },
   "outputs": [
    {
     "name": "stdout",
     "output_type": "stream",
     "text": [
      "0b1010 0b100\n"
     ]
    }
   ],
   "source": [
    "x=bin(10)\n",
    "y=bin(4)\n",
    "print(x,y)\n",
    "# print(type(x),type(y))"
   ]
  },
  {
   "cell_type": "code",
   "execution_count": 141,
   "metadata": {
    "id": "ljR10PMPjrgG"
   },
   "outputs": [
    {
     "data": {
      "text/plain": [
       "'0b1010'"
      ]
     },
     "execution_count": 141,
     "metadata": {},
     "output_type": "execute_result"
    }
   ],
   "source": [
    "bin(10)"
   ]
  },
  {
   "cell_type": "code",
   "execution_count": 142,
   "metadata": {
    "id": "qQKLTYrJjrgG"
   },
   "outputs": [
    {
     "data": {
      "text/plain": [
       "'0b100'"
      ]
     },
     "execution_count": 142,
     "metadata": {},
     "output_type": "execute_result"
    }
   ],
   "source": [
    "bin(4)"
   ]
  },
  {
   "cell_type": "code",
   "execution_count": 144,
   "metadata": {
    "id": "jAGRQ7-7jrgG"
   },
   "outputs": [
    {
     "data": {
      "text/plain": [
       "0"
      ]
     },
     "execution_count": 144,
     "metadata": {},
     "output_type": "execute_result"
    }
   ],
   "source": [
    "10 & 4   #1010\n",
    "         #0100\n",
    "         #=0000"
   ]
  },
  {
   "cell_type": "code",
   "execution_count": 145,
   "metadata": {
    "id": "YErWa-qUjrgG"
   },
   "outputs": [
    {
     "data": {
      "text/plain": [
       "0"
      ]
     },
     "execution_count": 145,
     "metadata": {},
     "output_type": "execute_result"
    }
   ],
   "source": [
    "0b1010 & 0b100"
   ]
  },
  {
   "cell_type": "code",
   "execution_count": 146,
   "metadata": {
    "id": "RrP5DqAUjrgG"
   },
   "outputs": [
    {
     "data": {
      "text/plain": [
       "'0b0'"
      ]
     },
     "execution_count": 146,
     "metadata": {},
     "output_type": "execute_result"
    }
   ],
   "source": [
    "x=10\n",
    "y=4\n",
    "bin(x & y)"
   ]
  },
  {
   "cell_type": "raw",
   "metadata": {
    "id": "YW-osIGWjrgG"
   },
   "source": [
    "0000 1010 &\n",
    "0000 0100\n",
    "__________\n",
    "0000 0000\n",
    "in bitwise & if both i/p are 1 then 1 otherwise 0        # 0|0=0 \n",
    "\n"
   ]
  },
  {
   "cell_type": "raw",
   "metadata": {
    "id": "fd3o3t8XjrgG"
   },
   "source": [
    "0000 1010 |\n",
    "0000 0100\n",
    "__________\n",
    "     1110\n"
   ]
  },
  {
   "cell_type": "code",
   "execution_count": 147,
   "metadata": {
    "id": "OtJk4CxpjrgG"
   },
   "outputs": [
    {
     "data": {
      "text/plain": [
       "14"
      ]
     },
     "execution_count": 147,
     "metadata": {},
     "output_type": "execute_result"
    }
   ],
   "source": [
    "10 | 4"
   ]
  },
  {
   "cell_type": "code",
   "execution_count": 148,
   "metadata": {
    "id": "NvO53wOdjrgH"
   },
   "outputs": [
    {
     "data": {
      "text/plain": [
       "'0b1110'"
      ]
     },
     "execution_count": 148,
     "metadata": {},
     "output_type": "execute_result"
    }
   ],
   "source": [
    "x=10\n",
    "y=4\n",
    "bin(x | y)"
   ]
  },
  {
   "cell_type": "code",
   "execution_count": 149,
   "metadata": {
    "id": "ARk8y_QkjrgH"
   },
   "outputs": [
    {
     "data": {
      "text/plain": [
       "14"
      ]
     },
     "execution_count": 149,
     "metadata": {},
     "output_type": "execute_result"
    }
   ],
   "source": [
    "int(0b1110)"
   ]
  },
  {
   "cell_type": "code",
   "execution_count": 150,
   "metadata": {},
   "outputs": [
    {
     "data": {
      "text/plain": [
       "'0b1100011'"
      ]
     },
     "execution_count": 150,
     "metadata": {},
     "output_type": "execute_result"
    }
   ],
   "source": [
    "bin(99)"
   ]
  },
  {
   "cell_type": "code",
   "execution_count": 151,
   "metadata": {},
   "outputs": [
    {
     "data": {
      "text/plain": [
       "'0b10011'"
      ]
     },
     "execution_count": 151,
     "metadata": {},
     "output_type": "execute_result"
    }
   ],
   "source": [
    "bin(19)"
   ]
  },
  {
   "cell_type": "code",
   "execution_count": 152,
   "metadata": {},
   "outputs": [
    {
     "data": {
      "text/plain": [
       "'0b111'"
      ]
     },
     "execution_count": 152,
     "metadata": {},
     "output_type": "execute_result"
    }
   ],
   "source": [
    "bin(7)"
   ]
  },
  {
   "cell_type": "code",
   "execution_count": 153,
   "metadata": {},
   "outputs": [
    {
     "data": {
      "text/plain": [
       "3"
      ]
     },
     "execution_count": 153,
     "metadata": {},
     "output_type": "execute_result"
    }
   ],
   "source": [
    " 19 & 7"
   ]
  },
  {
   "cell_type": "code",
   "execution_count": 154,
   "metadata": {},
   "outputs": [
    {
     "data": {
      "text/plain": [
       "23"
      ]
     },
     "execution_count": 154,
     "metadata": {},
     "output_type": "execute_result"
    }
   ],
   "source": [
    "19|7       # 128   64   32  16  8  4  2  1"
   ]
  },
  {
   "cell_type": "code",
   "execution_count": 155,
   "metadata": {},
   "outputs": [
    {
     "data": {
      "text/plain": [
       "'0b10111'"
      ]
     },
     "execution_count": 155,
     "metadata": {},
     "output_type": "execute_result"
    }
   ],
   "source": [
    "bin(23)"
   ]
  },
  {
   "cell_type": "code",
   "execution_count": 156,
   "metadata": {
    "id": "Je7h1StcjrgH"
   },
   "outputs": [
    {
     "data": {
      "text/plain": [
       "14"
      ]
     },
     "execution_count": 156,
     "metadata": {},
     "output_type": "execute_result"
    }
   ],
   "source": [
    "0b1010 | 0b100"
   ]
  },
  {
   "cell_type": "code",
   "execution_count": 157,
   "metadata": {
    "id": "wgjOL_-tjrgH"
   },
   "outputs": [
    {
     "data": {
      "text/plain": [
       "-11"
      ]
     },
     "execution_count": 157,
     "metadata": {},
     "output_type": "execute_result"
    }
   ],
   "source": [
    "~10"
   ]
  },
  {
   "cell_type": "code",
   "execution_count": 158,
   "metadata": {
    "id": "IVGV3YkdjrgH"
   },
   "outputs": [
    {
     "data": {
      "text/plain": [
       "-11"
      ]
     },
     "execution_count": 158,
     "metadata": {},
     "output_type": "execute_result"
    }
   ],
   "source": [
    "~0b1010"
   ]
  },
  {
   "cell_type": "code",
   "execution_count": 159,
   "metadata": {
    "id": "bZTrVYhyjrgI"
   },
   "outputs": [
    {
     "data": {
      "text/plain": [
       "-5"
      ]
     },
     "execution_count": 159,
     "metadata": {},
     "output_type": "execute_result"
    }
   ],
   "source": [
    "~0b100"
   ]
  },
  {
   "cell_type": "code",
   "execution_count": 160,
   "metadata": {
    "id": "NV2_VeGEjrgI"
   },
   "outputs": [
    {
     "data": {
      "text/plain": [
       "-101"
      ]
     },
     "execution_count": 160,
     "metadata": {},
     "output_type": "execute_result"
    }
   ],
   "source": [
    "~100"
   ]
  },
  {
   "cell_type": "code",
   "execution_count": 161,
   "metadata": {
    "id": "gZorYmNKjrgI"
   },
   "outputs": [
    {
     "data": {
      "text/plain": [
       "-1000"
      ]
     },
     "execution_count": 161,
     "metadata": {},
     "output_type": "execute_result"
    }
   ],
   "source": [
    "~999"
   ]
  },
  {
   "cell_type": "code",
   "execution_count": 162,
   "metadata": {
    "id": "YEplxBAOjrgI"
   },
   "outputs": [
    {
     "name": "stdout",
     "output_type": "stream",
     "text": [
      "0b1010 0b100\n"
     ]
    }
   ],
   "source": [
    "x=bin(10)\n",
    "y=bin(4)\n",
    "print(x,y)"
   ]
  },
  {
   "cell_type": "code",
   "execution_count": 163,
   "metadata": {
    "id": "sUaTvPaFjrgI"
   },
   "outputs": [
    {
     "data": {
      "text/plain": [
       "14"
      ]
     },
     "execution_count": 163,
     "metadata": {},
     "output_type": "execute_result"
    }
   ],
   "source": [
    "0b1110"
   ]
  },
  {
   "cell_type": "code",
   "execution_count": null,
   "metadata": {
    "id": "UFwv0ILejrgI"
   },
   "outputs": [],
   "source": []
  },
  {
   "cell_type": "code",
   "execution_count": 164,
   "metadata": {
    "id": "AGpepIc9jrgI"
   },
   "outputs": [
    {
     "data": {
      "text/plain": [
       "40"
      ]
     },
     "execution_count": 164,
     "metadata": {},
     "output_type": "execute_result"
    }
   ],
   "source": [
    "int(0b101000)"
   ]
  },
  {
   "cell_type": "code",
   "execution_count": 165,
   "metadata": {
    "id": "ElSSTU_DjrgI"
   },
   "outputs": [
    {
     "data": {
      "text/plain": [
       "40"
      ]
     },
     "execution_count": 165,
     "metadata": {},
     "output_type": "execute_result"
    }
   ],
   "source": [
    "int(0b101000)"
   ]
  },
  {
   "cell_type": "code",
   "execution_count": null,
   "metadata": {
    "id": "wbJypbYujrgJ"
   },
   "outputs": [],
   "source": [
    "# 5. Assignment operators"
   ]
  },
  {
   "cell_type": "raw",
   "metadata": {
    "id": "rGymDdpSjrgJ"
   },
   "source": [
    "Assignment Operators:\n",
    "We can use assignment operator to assign value to the variable.\n",
    "Eg:\n",
    "x=100\n",
    "We can combine asignment operator with some other operator to form compound\n",
    "assignment operator.\n",
    "Eg: x+=100 ====> x = x+100"
   ]
  },
  {
   "cell_type": "code",
   "execution_count": 166,
   "metadata": {
    "id": "177cM1iljrgJ"
   },
   "outputs": [
    {
     "name": "stdout",
     "output_type": "stream",
     "text": [
      "100\n"
     ]
    }
   ],
   "source": [
    "x=100\n",
    "print(x)"
   ]
  },
  {
   "cell_type": "code",
   "execution_count": 167,
   "metadata": {
    "id": "0Ie19nynjrgJ"
   },
   "outputs": [
    {
     "name": "stdout",
     "output_type": "stream",
     "text": [
      "101\n"
     ]
    }
   ],
   "source": [
    "x=x+1\n",
    "print(x)"
   ]
  },
  {
   "cell_type": "code",
   "execution_count": 168,
   "metadata": {
    "id": "4PTky0PFjrgJ"
   },
   "outputs": [
    {
     "name": "stdout",
     "output_type": "stream",
     "text": [
      "102\n"
     ]
    }
   ],
   "source": [
    "x+=1\n",
    "print(x)"
   ]
  },
  {
   "cell_type": "code",
   "execution_count": 169,
   "metadata": {
    "id": "icea3MYvjrgJ"
   },
   "outputs": [
    {
     "name": "stdout",
     "output_type": "stream",
     "text": [
      "97\n"
     ]
    }
   ],
   "source": [
    "x=x-5\n",
    "print(x)"
   ]
  },
  {
   "cell_type": "code",
   "execution_count": 170,
   "metadata": {
    "id": "LBoyGwkdjrgK"
   },
   "outputs": [
    {
     "name": "stdout",
     "output_type": "stream",
     "text": [
      "90\n"
     ]
    }
   ],
   "source": [
    "x-=7\n",
    "print(x)"
   ]
  },
  {
   "cell_type": "code",
   "execution_count": 171,
   "metadata": {
    "id": "U9_hO2xgjrgK"
   },
   "outputs": [
    {
     "name": "stdout",
     "output_type": "stream",
     "text": [
      "180\n"
     ]
    }
   ],
   "source": [
    "x*=2\n",
    "print(x)"
   ]
  },
  {
   "cell_type": "code",
   "execution_count": 172,
   "metadata": {
    "id": "cXoJc3Q9jrgK"
   },
   "outputs": [
    {
     "name": "stdout",
     "output_type": "stream",
     "text": [
      "60.0\n"
     ]
    }
   ],
   "source": [
    "x/=3\n",
    "print(x)"
   ]
  },
  {
   "cell_type": "raw",
   "metadata": {
    "id": "N_gay8tRjrgK"
   },
   "source": [
    "The following is the list of all possible compound assignment operators in Python\n",
    "+=\n",
    "-=\n",
    "*=\n",
    "/=\n",
    "%=\n",
    "//=\n",
    "**=\n",
    "&=\n",
    "|=\n",
    "^=\n",
    ">>=\n",
    "<<="
   ]
  },
  {
   "cell_type": "code",
   "execution_count": 173,
   "metadata": {
    "id": "YZw6BdRajrgL"
   },
   "outputs": [
    {
     "name": "stdout",
     "output_type": "stream",
     "text": [
      "110\n"
     ]
    }
   ],
   "source": [
    "x=100\n",
    "x+=10 # x=x+10\n",
    "print(x)"
   ]
  },
  {
   "cell_type": "code",
   "execution_count": 174,
   "metadata": {
    "id": "HxRPi_9JjrgL"
   },
   "outputs": [
    {
     "name": "stdout",
     "output_type": "stream",
     "text": [
      "90\n"
     ]
    }
   ],
   "source": [
    "x=100\n",
    "x-=10 # x=x-10\n",
    "print(x)"
   ]
  },
  {
   "cell_type": "code",
   "execution_count": 175,
   "metadata": {
    "id": "LbJvSOJDjrgL"
   },
   "outputs": [
    {
     "name": "stdout",
     "output_type": "stream",
     "text": [
      "1000\n"
     ]
    }
   ],
   "source": [
    "x=100\n",
    "x*=10 # x=x*10\n",
    "print(x)"
   ]
  },
  {
   "cell_type": "code",
   "execution_count": 176,
   "metadata": {
    "id": "ZpKkMHhkjrgL"
   },
   "outputs": [
    {
     "name": "stdout",
     "output_type": "stream",
     "text": [
      "10.0\n"
     ]
    }
   ],
   "source": [
    "x=100\n",
    "x/=10 # x=x/10\n",
    "print(x)"
   ]
  },
  {
   "cell_type": "code",
   "execution_count": 177,
   "metadata": {
    "id": "JX9r5VOLjrgL"
   },
   "outputs": [
    {
     "name": "stdout",
     "output_type": "stream",
     "text": [
      "0\n"
     ]
    }
   ],
   "source": [
    "x=100\n",
    "x%=10 # x=x%10\n",
    "print(x)"
   ]
  },
  {
   "cell_type": "code",
   "execution_count": 178,
   "metadata": {
    "id": "t83Vbn3BjrgL"
   },
   "outputs": [
    {
     "name": "stdout",
     "output_type": "stream",
     "text": [
      "49\n"
     ]
    }
   ],
   "source": [
    "x=7\n",
    "x**=2 # x=x**2\n",
    "print(x)"
   ]
  },
  {
   "cell_type": "code",
   "execution_count": 179,
   "metadata": {
    "id": "5NIxDtcXjrgM"
   },
   "outputs": [
    {
     "name": "stdout",
     "output_type": "stream",
     "text": [
      "2\n"
     ]
    }
   ],
   "source": [
    "x=7\n",
    "x&=2 # x=x&2\n",
    "print(x)"
   ]
  },
  {
   "cell_type": "code",
   "execution_count": 180,
   "metadata": {
    "id": "kxeWo5lTjrgM"
   },
   "outputs": [
    {
     "name": "stdout",
     "output_type": "stream",
     "text": [
      "7\n"
     ]
    }
   ],
   "source": [
    "x=7\n",
    "x|=2 # x=x|2\n",
    "print(x)"
   ]
  },
  {
   "cell_type": "code",
   "execution_count": 182,
   "metadata": {},
   "outputs": [
    {
     "name": "stdout",
     "output_type": "stream",
     "text": [
      "10\n"
     ]
    }
   ],
   "source": [
    "x=100\n",
    "x//=10 # x=x/10\n",
    "print(x)"
   ]
  },
  {
   "cell_type": "code",
   "execution_count": 187,
   "metadata": {},
   "outputs": [
    {
     "name": "stdout",
     "output_type": "stream",
     "text": [
      "1\n"
     ]
    }
   ],
   "source": [
    "x=7\n",
    "x>>=2          #111=001=1\n",
    "print(x)      "
   ]
  },
  {
   "cell_type": "code",
   "execution_count": 184,
   "metadata": {},
   "outputs": [
    {
     "name": "stdout",
     "output_type": "stream",
     "text": [
      "28\n"
     ]
    }
   ],
   "source": [
    "x=7\n",
    "x<<=2       #111=11100\n",
    "print(x)    #Left shit does not remove element "
   ]
  },
  {
   "cell_type": "code",
   "execution_count": 189,
   "metadata": {},
   "outputs": [
    {
     "data": {
      "text/plain": [
       "'0b111'"
      ]
     },
     "execution_count": 189,
     "metadata": {},
     "output_type": "execute_result"
    }
   ],
   "source": [
    "bin(7)"
   ]
  },
  {
   "cell_type": "code",
   "execution_count": 190,
   "metadata": {},
   "outputs": [
    {
     "data": {
      "text/plain": [
       "'0b10'"
      ]
     },
     "execution_count": 190,
     "metadata": {},
     "output_type": "execute_result"
    }
   ],
   "source": [
    "bin(2)"
   ]
  },
  {
   "cell_type": "code",
   "execution_count": 192,
   "metadata": {},
   "outputs": [
    {
     "name": "stdout",
     "output_type": "stream",
     "text": [
      "5\n"
     ]
    }
   ],
   "source": [
    "x=7     #(^)xor operator  111^010=101    1^1=0,0^0=0,1^0=1,0^1=1\n",
    "x^=2\n",
    "print(x)"
   ]
  },
  {
   "cell_type": "code",
   "execution_count": null,
   "metadata": {
    "id": "cFaM-uihjrgM"
   },
   "outputs": [],
   "source": [
    "# 6. Special operators\n",
    "# Python defines the following 2 special operators\n",
    "# 1. Identity Operators\n",
    "# 2. Membership operators"
   ]
  },
  {
   "cell_type": "raw",
   "metadata": {
    "id": "GHuGVmRSjrgM"
   },
   "source": [
    "python language offers some special types of operators like the\n",
    "identity operator\n",
    "and the membership operator.\n",
    "They are described below with examples."
   ]
  },
  {
   "cell_type": "raw",
   "metadata": {
    "id": "WDzzGAksjrgM"
   },
   "source": [
    "Identity operators\n",
    "In Python, is and is not are used to check if two values are located on the same part of the memory.\n",
    "Two variables that are equal does not simply that they are identical."
   ]
  },
  {
   "cell_type": "code",
   "execution_count": null,
   "metadata": {
    "id": "xbW-TcjNjrgM"
   },
   "outputs": [],
   "source": [
    "# 1. Identity Operators"
   ]
  },
  {
   "cell_type": "raw",
   "metadata": {
    "id": "41QJwYGcjrgM"
   },
   "source": [
    "Operator                 Meaning                                                        Example\n",
    "is         True if the operands are identical (refer to the same object)               x is True\n",
    "is not     True if the operands are not identical (do not refer to the same object)    x is not True"
   ]
  },
  {
   "cell_type": "code",
   "execution_count": 193,
   "metadata": {
    "id": "Oqn7PNZPjrgM"
   },
   "outputs": [],
   "source": [
    "x1 = 100\n",
    "y1 = 100         "
   ]
  },
  {
   "cell_type": "code",
   "execution_count": 194,
   "metadata": {
    "id": "D8c2p-DdjrgN"
   },
   "outputs": [
    {
     "name": "stdout",
     "output_type": "stream",
     "text": [
      "140703752101768 140703752101768\n"
     ]
    }
   ],
   "source": [
    "print(id(x1),id(y1))"
   ]
  },
  {
   "cell_type": "code",
   "execution_count": 195,
   "metadata": {
    "id": "NeWE_RcrjrgN"
   },
   "outputs": [
    {
     "name": "stdout",
     "output_type": "stream",
     "text": [
      "True\n"
     ]
    }
   ],
   "source": [
    "print(x1 is y1)"
   ]
  },
  {
   "cell_type": "code",
   "execution_count": 196,
   "metadata": {
    "id": "5qAw106mjrgN"
   },
   "outputs": [
    {
     "name": "stdout",
     "output_type": "stream",
     "text": [
      "False\n"
     ]
    }
   ],
   "source": [
    "print(x1 is not y1)"
   ]
  },
  {
   "cell_type": "code",
   "execution_count": 197,
   "metadata": {
    "id": "C2qEEtIMjrgN"
   },
   "outputs": [],
   "source": [
    "a=1000\n",
    "b=1000"
   ]
  },
  {
   "cell_type": "code",
   "execution_count": 198,
   "metadata": {
    "id": "7qoNtfkEjrgN"
   },
   "outputs": [
    {
     "name": "stdout",
     "output_type": "stream",
     "text": [
      "2333622695664 2333622696848\n"
     ]
    }
   ],
   "source": [
    "print(id(a),id(b))"
   ]
  },
  {
   "cell_type": "code",
   "execution_count": 199,
   "metadata": {
    "id": "imDwYtDvjrgN"
   },
   "outputs": [
    {
     "data": {
      "text/plain": [
       "False"
      ]
     },
     "execution_count": 199,
     "metadata": {},
     "output_type": "execute_result"
    }
   ],
   "source": [
    "a is b"
   ]
  },
  {
   "cell_type": "code",
   "execution_count": 200,
   "metadata": {
    "id": "DoDx3KCQjrgN"
   },
   "outputs": [
    {
     "data": {
      "text/plain": [
       "True"
      ]
     },
     "execution_count": 200,
     "metadata": {},
     "output_type": "execute_result"
    }
   ],
   "source": [
    "a is not b"
   ]
  },
  {
   "cell_type": "code",
   "execution_count": 3,
   "metadata": {},
   "outputs": [
    {
     "name": "stdout",
     "output_type": "stream",
     "text": [
      "140704114127624 140704114127624\n"
     ]
    }
   ],
   "source": [
    "a=256\n",
    "b=256          # id is  same 0 to 256\n",
    "print(id(a),id(b))"
   ]
  },
  {
   "cell_type": "code",
   "execution_count": 201,
   "metadata": {
    "id": "jtHmaliGjrgN"
   },
   "outputs": [],
   "source": [
    "f1='fusion software solutions'\n",
    "f2='fusion software solutions'"
   ]
  },
  {
   "cell_type": "code",
   "execution_count": 202,
   "metadata": {
    "id": "V4Xq_yiTjrgO"
   },
   "outputs": [
    {
     "name": "stdout",
     "output_type": "stream",
     "text": [
      "2333565184288 2333608407600\n"
     ]
    }
   ],
   "source": [
    "print(id(f1),id(f2))"
   ]
  },
  {
   "cell_type": "code",
   "execution_count": 203,
   "metadata": {
    "id": "TdTI640ljrgO"
   },
   "outputs": [
    {
     "name": "stdout",
     "output_type": "stream",
     "text": [
      "False\n"
     ]
    }
   ],
   "source": [
    "print(f1 is f2)"
   ]
  },
  {
   "cell_type": "code",
   "execution_count": 204,
   "metadata": {
    "id": "Vh0BoC6BjrgO"
   },
   "outputs": [
    {
     "name": "stdout",
     "output_type": "stream",
     "text": [
      "True\n"
     ]
    }
   ],
   "source": [
    "print(f1 is not f2)"
   ]
  },
  {
   "cell_type": "code",
   "execution_count": 205,
   "metadata": {
    "id": "wZ2ee6sMjrgO"
   },
   "outputs": [
    {
     "name": "stdout",
     "output_type": "stream",
     "text": [
      "2333623663472 2333623663472\n"
     ]
    }
   ],
   "source": [
    "x2 = 'Hello'\n",
    "y2 = 'Hello'\n",
    "print(id(x2),id(y2))"
   ]
  },
  {
   "cell_type": "code",
   "execution_count": null,
   "metadata": {
    "id": "cXzUsXbHjrgO"
   },
   "outputs": [],
   "source": []
  },
  {
   "cell_type": "code",
   "execution_count": 206,
   "metadata": {
    "id": "9yyrWDZkjrgP"
   },
   "outputs": [
    {
     "name": "stdout",
     "output_type": "stream",
     "text": [
      "True\n"
     ]
    }
   ],
   "source": [
    "print(x2 is  y2)"
   ]
  },
  {
   "cell_type": "code",
   "execution_count": 207,
   "metadata": {
    "id": "7xtmIq1hjrgP"
   },
   "outputs": [
    {
     "name": "stdout",
     "output_type": "stream",
     "text": [
      "False\n"
     ]
    }
   ],
   "source": [
    "print(x2 is not y2)"
   ]
  },
  {
   "cell_type": "code",
   "execution_count": 208,
   "metadata": {
    "id": "I4HCpdwujrgP"
   },
   "outputs": [
    {
     "name": "stdout",
     "output_type": "stream",
     "text": [
      "2333623160448 2333623162048\n"
     ]
    }
   ],
   "source": [
    "x3 = [1,2,3]\n",
    "y3 = [1,2,3]\n",
    "print(id(x3),id(y3))"
   ]
  },
  {
   "cell_type": "code",
   "execution_count": 209,
   "metadata": {
    "id": "CpE0FdTwjrgP"
   },
   "outputs": [
    {
     "name": "stdout",
     "output_type": "stream",
     "text": [
      "False\n"
     ]
    }
   ],
   "source": [
    "print(x3 is y3)"
   ]
  },
  {
   "cell_type": "code",
   "execution_count": 210,
   "metadata": {
    "id": "HGbFUCZNjrgP"
   },
   "outputs": [
    {
     "name": "stdout",
     "output_type": "stream",
     "text": [
      "True\n"
     ]
    }
   ],
   "source": [
    "print(x3 is not y3)"
   ]
  },
  {
   "cell_type": "code",
   "execution_count": 211,
   "metadata": {
    "id": "btu2b-HdjrgP"
   },
   "outputs": [
    {
     "name": "stdout",
     "output_type": "stream",
     "text": [
      "2333623115584 2333623164160\n",
      "False\n",
      "True\n"
     ]
    }
   ],
   "source": [
    "x3 = [1]\n",
    "y3 = [1]\n",
    "print(id(x3),id(y3))\n",
    "print(x3 is y3)  # prints False\n",
    "print(x3 is not y3)  # prints True"
   ]
  },
  {
   "cell_type": "code",
   "execution_count": null,
   "metadata": {
    "id": "QqR3eBw4jrgP"
   },
   "outputs": [],
   "source": []
  },
  {
   "cell_type": "code",
   "execution_count": 212,
   "metadata": {
    "id": "IopNz7RkjrgP"
   },
   "outputs": [
    {
     "name": "stdout",
     "output_type": "stream",
     "text": [
      "2333623111232 2333623754816\n"
     ]
    }
   ],
   "source": [
    "x3 = []\n",
    "y3 = []\n",
    "print(id(x3),id(y3))"
   ]
  },
  {
   "cell_type": "code",
   "execution_count": 213,
   "metadata": {
    "id": "V4nljF0XjrgQ"
   },
   "outputs": [
    {
     "name": "stdout",
     "output_type": "stream",
     "text": [
      "False\n",
      "True\n"
     ]
    }
   ],
   "source": [
    "print(x3 is y3)  # prints False\n",
    "print(x3 is not y3)  # prints True"
   ]
  },
  {
   "cell_type": "code",
   "execution_count": 214,
   "metadata": {
    "id": "-CSTrW5WjrgQ"
   },
   "outputs": [
    {
     "name": "stdout",
     "output_type": "stream",
     "text": [
      "140703752156632 140703752156632\n"
     ]
    }
   ],
   "source": [
    "x31 = ()\n",
    "y31 = ()\n",
    "print(id(x31),id(y31))"
   ]
  },
  {
   "cell_type": "code",
   "execution_count": 215,
   "metadata": {
    "id": "D1cuAOLFjrgQ"
   },
   "outputs": [
    {
     "name": "stdout",
     "output_type": "stream",
     "text": [
      "2333623184384 2333623180864\n"
     ]
    }
   ],
   "source": [
    "x31 = ('fusion','Data science','morning','9 am','19-08-2023')\n",
    "y31 = ('fusion','Data science','morning','9 am','19-08-2023')\n",
    "print(id(x31),id(y31))"
   ]
  },
  {
   "cell_type": "code",
   "execution_count": 216,
   "metadata": {
    "id": "fbY6DkXFjrgQ"
   },
   "outputs": [],
   "source": [
    "# 2. Membership operators"
   ]
  },
  {
   "cell_type": "raw",
   "metadata": {
    "id": "80Zk50aSjrgQ"
   },
   "source": [
    "Membership operators\n",
    "In Python, in and not in are the membership operators. They are used to test whether a value or variable is found in a sequence (string, list, tuple, set and dictionary).\n",
    "\n",
    "In a dictionary we can only test for presence of key, not the value.\n",
    "\n",
    "Operator\t                  Meaning\t                                                      Example\n",
    "in\t                   True if value/variable is found in the sequence\t                      5 in x\n",
    "not in\t               True if value/variable is not found in the sequence\t                  5 not in x"
   ]
  },
  {
   "cell_type": "code",
   "execution_count": 217,
   "metadata": {
    "id": "WJqCK7lqjrgQ"
   },
   "outputs": [],
   "source": [
    "x = 'Hello world'"
   ]
  },
  {
   "cell_type": "code",
   "execution_count": 218,
   "metadata": {
    "id": "youXM0TdjrgR"
   },
   "outputs": [
    {
     "name": "stdout",
     "output_type": "stream",
     "text": [
      "True\n"
     ]
    }
   ],
   "source": [
    "# check if 'H' is present in x string\n",
    "print('H' in x)  # prints True"
   ]
  },
  {
   "cell_type": "code",
   "execution_count": 219,
   "metadata": {
    "id": "WjH3n8KJjrgR"
   },
   "outputs": [
    {
     "name": "stdout",
     "output_type": "stream",
     "text": [
      "True\n"
     ]
    }
   ],
   "source": [
    "print('Hello' in x)"
   ]
  },
  {
   "cell_type": "code",
   "execution_count": 220,
   "metadata": {
    "id": "DVbszix-jrgR"
   },
   "outputs": [
    {
     "name": "stdout",
     "output_type": "stream",
     "text": [
      "False\n"
     ]
    }
   ],
   "source": [
    "print('Hello' not in x)"
   ]
  },
  {
   "cell_type": "code",
   "execution_count": 221,
   "metadata": {
    "id": "195YNuJgjrgR"
   },
   "outputs": [
    {
     "name": "stdout",
     "output_type": "stream",
     "text": [
      "True\n"
     ]
    }
   ],
   "source": [
    "# check if 'hello' is present in x string\n",
    "print('hello' not in x)  # prints True"
   ]
  },
  {
   "cell_type": "code",
   "execution_count": 222,
   "metadata": {
    "id": "JePyyaGvjrgS"
   },
   "outputs": [
    {
     "data": {
      "text/plain": [
       "148.0"
      ]
     },
     "execution_count": 222,
     "metadata": {},
     "output_type": "execute_result"
    }
   ],
   "source": [
    "(10*30/2-2)"
   ]
  },
  {
   "cell_type": "markdown",
   "metadata": {
    "id": "lzrK4zpwjrgS"
   },
   "source": [
    "# Operator Precedence:"
   ]
  },
  {
   "cell_type": "raw",
   "metadata": {
    "id": "M07McU5ejrgS"
   },
   "source": [
    "If multiple operators present then which operator will be evaluated first is decided by\n",
    "operator precedence."
   ]
  },
  {
   "cell_type": "code",
   "execution_count": null,
   "metadata": {
    "id": "4tNo8eKRjrgS"
   },
   "outputs": [],
   "source": [
    "print(3+10*2) #23\n",
    "print((3+10)*2) #26"
   ]
  },
  {
   "cell_type": "raw",
   "metadata": {
    "id": "VqppzZyZjrgS"
   },
   "source": [
    "The following list describes operator precedence in Python\n",
    "() ------------------> Parenthesis\n",
    "** ------------------> exponential operator\n",
    "~, -------------------> Bitwise complement operator,unary minus operator\n",
    "*,/,%,// -------------> multiplication,division,modulo,floor division\n",
    "+,- ------------------> addition,subtraction\n",
    "<<,>> --------------> Left and Right Shift\n",
    "& ------------------> bitwise And\n",
    "^ ------------------> Bitwise X-OR\n",
    "| ------------------> Bitwise OR\n",
    ">,>=,<,<=, ==, != ---> Relational or Comparison operators\n",
    "=,+=,-=,*=        --->Assignment operators\n",
    "is , is not --------> Identity Operators\n",
    "in , not in --------> Membership operators\n",
    "not ----------------> Logical not\n",
    "and ----------------> Logical and\n",
    "or -----------------> Logical or"
   ]
  },
  {
   "cell_type": "raw",
   "metadata": {
    "id": "4rJQ8dMWjrgS"
   },
   "source": [
    "Operators\t                   Meaning\n",
    "()\t                     Parentheses\n",
    "**\t                     Exponent\n",
    "+x, -x, ~x\t             Unary plus, Unary minus, Bitwise NOT\n",
    "*, /, //, %\t             Multiplication, Division, Floor division, Modulus\n",
    "+, -\t                 Addition, Subtraction\n",
    "<<, >>\t                 Bitwise shift operators\n",
    "&\t                     Bitwise AND\n",
    "^\t                     Bitwise XOR\n",
    "|\t                     Bitwise OR\n",
    "==, !=, >, >=, <, <=, is, is not, in, not in\tComparisons, Identity, Membership operators\n",
    "not\t                    Logical NOT\n",
    "and\t                    Logical AND\n",
    "or\t                    Logical OR"
   ]
  },
  {
   "cell_type": "code",
   "execution_count": null,
   "metadata": {
    "id": "WGltmLQejrgS"
   },
   "outputs": [],
   "source": []
  },
  {
   "cell_type": "code",
   "execution_count": null,
   "metadata": {
    "id": "RlapxxFsjrgT"
   },
   "outputs": [],
   "source": [
    "* only have int value float-give error and -,0 - give empty output(''), and string multiply - give error"
   ]
  },
  {
   "cell_type": "code",
   "execution_count": null,
   "metadata": {
    "id": "QPKZuLnYjrgT"
   },
   "outputs": [],
   "source": [
    "bool(0) and bool(\"\")-output falseotherwise true"
   ]
  },
  {
   "cell_type": "code",
   "execution_count": null,
   "metadata": {
    "id": "55C_fWk4jrgT"
   },
   "outputs": [],
   "source": []
  }
 ],
 "metadata": {
  "colab": {
   "provenance": []
  },
  "kernelspec": {
   "display_name": "Python 3 (ipykernel)",
   "language": "python",
   "name": "python3"
  },
  "language_info": {
   "codemirror_mode": {
    "name": "ipython",
    "version": 3
   },
   "file_extension": ".py",
   "mimetype": "text/x-python",
   "name": "python",
   "nbconvert_exporter": "python",
   "pygments_lexer": "ipython3",
   "version": "3.11.5"
  }
 },
 "nbformat": 4,
 "nbformat_minor": 1
}
